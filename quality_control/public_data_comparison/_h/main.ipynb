{
 "cells": [
  {
   "cell_type": "markdown",
   "metadata": {},
   "source": [
    "# Quality control comparison between LIBD and public RNA-seq data\n",
    "- CMC\n",
    "- GTEx brain regions"
   ]
  },
  {
   "cell_type": "code",
   "execution_count": null,
   "metadata": {},
   "outputs": [],
   "source": [
    "library(tidyverse)\n",
    "library(synapser)\n",
    "library(ggpubr)"
   ]
  },
  {
   "cell_type": "markdown",
   "metadata": {},
   "source": [
    "## Load metrics"
   ]
  },
  {
   "cell_type": "markdown",
   "metadata": {},
   "source": [
    "### Load Lieber RNA-seq metrics"
   ]
  },
  {
   "cell_type": "code",
   "execution_count": null,
   "metadata": {},
   "outputs": [],
   "source": [
    "libd = data.table::fread(\"/ceph/projects/v4_phase3_paper/inputs/phenotypes/_m/merged_phenotypes.csv\") %>%\n",
    "    select(-starts_with(\"snp\"), -c(\"antipsychotics\", \"lifetime_antipsych\")) %>%\n",
    "    rename(\"Percent_Aligned\"=\"overallMapRate\", \"rRNA_Rate\"=\"rRNA_rate\", \"Brain_Region\"=\"Region\", \n",
    "           \"SampleID\"=\"RNum\")\n",
    "libd %>% head(2)"
   ]
  },
  {
   "cell_type": "code",
   "execution_count": null,
   "metadata": {},
   "outputs": [],
   "source": [
    "libd_filter = libd %>% filter(!(Brain_Region == \"HIPPO\" & Protocol != \"RiboZeroHMR\"))\n",
    "libd_filter %>% head(2)"
   ]
  },
  {
   "cell_type": "markdown",
   "metadata": {},
   "source": [
    "### Load CMC RNA-seq metrics"
   ]
  },
  {
   "cell_type": "code",
   "execution_count": null,
   "metadata": {},
   "outputs": [],
   "source": [
    "# Process functions\n",
    "downloadFile_version <- function(id , version){\n",
    "  data.table::fread(synGet(id, version = version)$path, data.table = F)\n",
    "}\n",
    "synLogin()\n",
    "\n",
    "# Download clinical metadata \n",
    "CLINICAL_ID = 'syn3354385'\n",
    "clinical = downloadFile_version(CLINICAL_ID, version = 4)\n",
    "\n",
    "# Download RNASeq metadata\n",
    "METADATA_QC_DLPFC_ID = 'syn18358379' \n",
    "metadata = downloadFile_version(METADATA_QC_DLPFC_ID, version = 3)\n",
    "\n",
    "# Join clinical and RNASeq metadata \n",
    "md = right_join(clinical, metadata, by = c(\"Individual ID\" = \"Individual_ID\")) %>% \n",
    "    mutate(Dx = fct_recode(Dx, AFF_BP = \"BP\", AFF_BP = \"AFF\", Other = \"undetermined\", \n",
    "                           Control = \"Control\", SCZ = \"SCZ\"))\n",
    "\n",
    "# Compute read pair metrics and add Institution-Dx variable\n",
    "md <- md %>%\n",
    "    select(c(\"SampleID\", \"Dx\", \"Reported Gender\", \"Sex\", \"Ethnicity\", \"pH\", \"Age of Death\",\n",
    "             \"Study\", \"Brain_Region\", \"Brodmann_Area\", \"RIN\", \"rRNA_Rate\", \"Percent_Aligned\"))\n",
    "colnames(md) <- gsub(' ', '_', colnames(md))\n",
    "print(dim(md))\n",
    "md %>% head(2)"
   ]
  },
  {
   "cell_type": "markdown",
   "metadata": {},
   "source": [
    "### Load GTEx metrics and "
   ]
  },
  {
   "cell_type": "code",
   "execution_count": null,
   "metadata": {},
   "outputs": [],
   "source": [
    "gtex = data.table::fread(paste0(\"https://storage.googleapis.com/gtex_analysis_v8/annotations/\",\n",
    "                                \"GTEx_Analysis_v8_Annotations_SampleAttributesDS.txt\")) %>%\n",
    "    select(c(\"SAMPID\", \"SMRIN\", \"SMTS\", \"SMTSD\", \"SMMAPRT\", \"SMRRNART\")) %>%\n",
    "    filter(SMTS == \"Brain\") %>% \n",
    "    rename(\"RIN\"=\"SMRIN\", \"Percent_Aligned\"=\"SMMAPRT\", \"rRNA_Rate\"=\"SMRRNART\", \"Brain_Region\"=\"SMTSD\", \n",
    "           \"SampleID\"=\"SAMPID\")\n",
    "gtex %>% head()"
   ]
  },
  {
   "cell_type": "markdown",
   "metadata": {},
   "source": [
    "## Clean and organize data"
   ]
  },
  {
   "cell_type": "code",
   "execution_count": null,
   "metadata": {},
   "outputs": [],
   "source": [
    "gtex = gtex %>% mutate(\"Dataset\"=\"GTEx\", \"Dx\"=\"Control\", \n",
    "                       \"Brain_Region\"=gsub(\"Brain - \", \"\", str_replace(gtex$Brain_Region, \"\\\\(.*\", \"\"))) %>% \n",
    "    select(\"SampleID\", \"Dx\", \"Brain_Region\", \"RIN\", \"rRNA_Rate\", \"Percent_Aligned\", \"Dataset\")\n",
    "gtex$Brain_Region = gsub(\" $\", \"\", str_replace(gtex$Brain_Region, \"Frontal Cortex\", \"DLPFC\"))\n",
    "gtex %>% head(2)"
   ]
  },
  {
   "cell_type": "code",
   "execution_count": null,
   "metadata": {},
   "outputs": [],
   "source": [
    "cmc = md %>% select(\"SampleID\", \"Dx\", \"Brain_Region\", \"RIN\", \"rRNA_Rate\", \"Percent_Aligned\") %>%\n",
    "    mutate(\"Dataset\"=\"CMC\")\n",
    "cmc %>% head(2)"
   ]
  },
  {
   "cell_type": "code",
   "execution_count": null,
   "metadata": {},
   "outputs": [],
   "source": [
    "libd = libd %>% select(\"SampleID\", \"Dx\", \"Brain_Region\", \"RIN\", \"rRNA_Rate\", \"Percent_Aligned\") %>%\n",
    "    mutate(\"Dataset\"=\"LIBD\", \"Dx\"=gsub(\"CTL\", \"Control\", libd$Dx), \n",
    "           \"Brain_Region\"=gsub(\"HIPPO\", \"Hippocampus\", libd$Brain_Region))\n",
    "libd %>% head(2)"
   ]
  },
  {
   "cell_type": "code",
   "execution_count": null,
   "metadata": {},
   "outputs": [],
   "source": [
    "df = bind_rows(libd, gtex, cmc) #%>% mutate_if(is.character, as.factor)\n",
    "df %>% head(2)"
   ]
  },
  {
   "cell_type": "code",
   "execution_count": null,
   "metadata": {},
   "outputs": [],
   "source": [
    "df$Brain_Region %>% unique"
   ]
  },
  {
   "cell_type": "markdown",
   "metadata": {},
   "source": [
    "## Descriptive analysis"
   ]
  },
  {
   "cell_type": "markdown",
   "metadata": {},
   "source": [
    "### Check if NA present"
   ]
  },
  {
   "cell_type": "markdown",
   "metadata": {},
   "source": [
    "#### RIN"
   ]
  },
  {
   "cell_type": "code",
   "execution_count": null,
   "metadata": {},
   "outputs": [],
   "source": [
    "rin = df %>% group_by(Dataset, Brain_Region) %>% count(is.na(RIN)) %>%\n",
    "    pivot_wider(names_from=`is.na(RIN)`, values_from=\"n\") %>%\n",
    "    mutate(\"TRUE\"=replace_na(`TRUE`,0), `RIN (%na)`=`TRUE`/(`FALSE`+`TRUE`))\n",
    "rin %>% head(2)"
   ]
  },
  {
   "cell_type": "markdown",
   "metadata": {},
   "source": [
    "#### rRNA Rate"
   ]
  },
  {
   "cell_type": "code",
   "execution_count": null,
   "metadata": {},
   "outputs": [],
   "source": [
    "rrna = df %>% group_by(Dataset, Brain_Region) %>% count(is.na(rRNA_Rate)) %>%\n",
    "    pivot_wider(names_from=`is.na(rRNA_Rate)`, values_from=\"n\") %>%\n",
    "    mutate(\"TRUE\"=replace_na(`TRUE`,0), `rRNA Rate (%na)`=`TRUE`/(`FALSE`+`TRUE`))\n",
    "rrna %>% head(2)"
   ]
  },
  {
   "cell_type": "markdown",
   "metadata": {},
   "source": [
    "#### Percent Alignment"
   ]
  },
  {
   "cell_type": "code",
   "execution_count": null,
   "metadata": {},
   "outputs": [],
   "source": [
    "palign = df %>% group_by(Dataset, Brain_Region) %>% count(is.na(Percent_Aligned)) %>%\n",
    "    pivot_wider(names_from=`is.na(Percent_Aligned)`, values_from=\"n\") %>%\n",
    "    mutate(\"TRUE\"=replace_na(`TRUE`,0), `Percent Aligned (%na)`=`TRUE`/(`FALSE`+`TRUE`))\n",
    "palign %>% head(2)"
   ]
  },
  {
   "cell_type": "markdown",
   "metadata": {},
   "source": [
    "#### Combined summary"
   ]
  },
  {
   "cell_type": "code",
   "execution_count": null,
   "metadata": {},
   "outputs": [],
   "source": [
    "tbl = rin %>% select(-c(`FALSE`, `TRUE`)) %>%\n",
    "    inner_join(select(rrna, -c(`FALSE`, `TRUE`)), by=c(\"Dataset\", \"Brain_Region\")) %>%\n",
    "    inner_join(select(palign, -c(`FALSE`, `TRUE`)), by=c(\"Dataset\", \"Brain_Region\"))\n",
    "tbl %>% as.data.frame %>% data.table::fwrite(\"qc_metric_NAs_libd_gtex_cmc.csv\")\n",
    "tbl"
   ]
  },
  {
   "cell_type": "markdown",
   "metadata": {},
   "source": [
    "### Summarize data"
   ]
  },
  {
   "cell_type": "code",
   "execution_count": null,
   "metadata": {},
   "outputs": [],
   "source": [
    "tbl = df %>% group_by(Dataset, Brain_Region) %>%\n",
    "    summarise(RIN_mean=mean(RIN, na.rm=TRUE), RIN_sd=sd(RIN, na.rm=TRUE), \n",
    "              rRNA_mean=mean(rRNA_Rate, na.rm=TRUE), rRNA_sd=sd(rRNA_Rate, na.rm=TRUE), \n",
    "              PercentAligned_mean=mean(Percent_Aligned, na.rm=TRUE), \n",
    "              PercentAligned_sd=sd(Percent_Aligned, na.rm=TRUE))\n",
    "tbl %>% as.data.frame %>% data.table::fwrite(\"qc_metric_summary_libd_gtex_cmc.csv\")\n",
    "tbl"
   ]
  },
  {
   "cell_type": "markdown",
   "metadata": {},
   "source": [
    "## Plot metrics"
   ]
  },
  {
   "cell_type": "code",
   "execution_count": null,
   "metadata": {},
   "outputs": [],
   "source": [
    "save_ggplots <- function(fn, p, w, h){\n",
    "    for(ext in c('.pdf', '.png', '.svg')){\n",
    "        ggsave(paste0(fn, ext), plot=p, width=w, height=h)\n",
    "    }\n",
    "}"
   ]
  },
  {
   "cell_type": "code",
   "execution_count": null,
   "metadata": {},
   "outputs": [],
   "source": [
    "set.seed(20210723)\n",
    "bxp = df %>% ggboxplot(x=\"Brain_Region\", y=\"RIN\", color=\"Dataset\", add='jitter', \n",
    "                       panel.labs.font=list(face='bold', size = 14), palette=\"npg\", \n",
    "                       outlier.shape=NA, ylab='RIN', add.params=list(alpha=0.5), \n",
    "                       legend=\"bottom\", xlab=\"Brain Region\", \n",
    "                       ggtheme=theme_pubr(base_size=20)) +\n",
    "    font(\"xy.title\", face=\"bold\") + font(\"legend.title\", face=\"bold\") + \n",
    "    rotate_x_text(45)\n",
    "save_ggplots(\"boxplot_brain_region_comparison_rin\", bxp, 12, 8)\n",
    "bxp"
   ]
  },
  {
   "cell_type": "code",
   "execution_count": null,
   "metadata": {},
   "outputs": [],
   "source": [
    "set.seed(20210723)\n",
    "bxp = df %>% ggboxplot(x=\"Brain_Region\", y=\"rRNA_Rate\", color=\"Dataset\", add='jitter', \n",
    "                       panel.labs.font=list(face='bold', size = 14), palette=\"npg\", \n",
    "                       outlier.shape=NA, ylab='rRNA Rate', add.params=list(alpha=0.5), \n",
    "                       legend=\"bottom\", xlab=\"Brain Region\", ggtheme=theme_pubr(base_size=20)) +\n",
    "    font(\"xy.title\", face=\"bold\") + font(\"legend.title\", face=\"bold\") + rotate_x_text(45)\n",
    "save_ggplots(\"boxplot_brain_region_comparison_rRNA_rate\", bxp, 12, 8)\n",
    "bxp"
   ]
  },
  {
   "cell_type": "code",
   "execution_count": null,
   "metadata": {},
   "outputs": [],
   "source": [
    "set.seed(20210723)\n",
    "bxp = df %>% ggboxplot(x=\"Brain_Region\", y=\"Percent_Aligned\", color=\"Dataset\", add='jitter', \n",
    "                       panel.labs.font=list(face='bold', size = 14), palette=\"npg\", \n",
    "                       outlier.shape=NA, ylab='Percent Aligned', add.params=list(alpha=0.5), \n",
    "                       legend=\"bottom\", xlab=\"Brain Region\", ggtheme=theme_pubr(base_size=20)) +\n",
    "    font(\"xy.title\", face=\"bold\") + font(\"legend.title\", face=\"bold\") + rotate_x_text(45)\n",
    "save_ggplots(\"boxplot_brain_region_comparison_Percent_Aligned\", bxp, 12, 8)\n",
    "bxp"
   ]
  },
  {
   "cell_type": "markdown",
   "metadata": {},
   "source": [
    "## Session Info"
   ]
  },
  {
   "cell_type": "code",
   "execution_count": null,
   "metadata": {},
   "outputs": [],
   "source": [
    "Sys.time()\n",
    "proc.time()\n",
    "options(width = 120)\n",
    "sessioninfo::session_info()"
   ]
  }
 ],
 "metadata": {
  "kernelspec": {
   "display_name": "R",
   "language": "R",
   "name": "ir"
  },
  "language_info": {
   "codemirror_mode": "r",
   "file_extension": ".r",
   "mimetype": "text/x-r-source",
   "name": "R",
   "pygments_lexer": "r",
   "version": "4.1.2"
  }
 },
 "nbformat": 4,
 "nbformat_minor": 4
}
