{
 "cells": [
  {
   "cell_type": "markdown",
   "metadata": {},
   "source": [
    "# Generate cross-validation fold structure for the data \n",
    "## Fold alldata contains all data points"
   ]
  },
  {
   "cell_type": "code",
   "execution_count": 1,
   "metadata": {
    "execution": {
     "iopub.execute_input": "2021-08-30T21:29:49.302978Z",
     "iopub.status.busy": "2021-08-30T21:29:49.297419Z",
     "iopub.status.idle": "2021-08-30T21:29:58.088068Z",
     "shell.execute_reply": "2021-08-30T21:29:58.086268Z"
    }
   },
   "outputs": [],
   "source": [
    "import pandas as pd\n",
    "from sklearn.model_selection import KFold\n",
    "import os\n"
   ]
  },
  {
   "cell_type": "code",
   "execution_count": 2,
   "metadata": {
    "execution": {
     "iopub.execute_input": "2021-08-30T21:29:58.098628Z",
     "iopub.status.busy": "2021-08-30T21:29:58.097321Z",
     "iopub.status.idle": "2021-08-30T21:30:00.275310Z",
     "shell.execute_reply": "2021-08-30T21:30:00.274197Z"
    }
   },
   "outputs": [],
   "source": [
    "df = pd.read_csv(\"../../_m/log2rpkm.csv\", index_col=0)"
   ]
  },
  {
   "cell_type": "code",
   "execution_count": 3,
   "metadata": {
    "execution": {
     "iopub.execute_input": "2021-08-30T21:30:00.282154Z",
     "iopub.status.busy": "2021-08-30T21:30:00.280704Z",
     "iopub.status.idle": "2021-08-30T21:30:00.283468Z",
     "shell.execute_reply": "2021-08-30T21:30:00.284524Z"
    }
   },
   "outputs": [],
   "source": [
    "#If doing zscore:\n",
    "#from scipy.stats import zscore\n",
    "#dfz = df.transpose().apply(zscore).transpose()\n",
    "dfz = df"
   ]
  },
  {
   "cell_type": "code",
   "execution_count": 4,
   "metadata": {
    "execution": {
     "iopub.execute_input": "2021-08-30T21:30:00.290882Z",
     "iopub.status.busy": "2021-08-30T21:30:00.289685Z",
     "iopub.status.idle": "2021-08-30T21:30:00.294070Z",
     "shell.execute_reply": "2021-08-30T21:30:00.292981Z"
    }
   },
   "outputs": [],
   "source": [
    "def save_data(fold, train_indices, test_indices):\n",
    "    mydir = 'Fold-%s' % fold\n",
    "    os.makedirs(mydir, exist_ok=True)\n",
    "    dfz.iloc[train_indices].to_csv(mydir + '/X_train.csv')\n",
    "    dfz.iloc[test_indices].to_csv(mydir + '/X_test.csv')"
   ]
  },
  {
   "cell_type": "code",
   "execution_count": 5,
   "metadata": {
    "execution": {
     "iopub.execute_input": "2021-08-30T21:30:00.300493Z",
     "iopub.status.busy": "2021-08-30T21:30:00.299150Z",
     "iopub.status.idle": "2021-08-30T21:30:11.811340Z",
     "shell.execute_reply": "2021-08-30T21:30:11.810138Z"
    }
   },
   "outputs": [],
   "source": [
    "save_data(\"alldata\", range(len(dfz)), [])"
   ]
  },
  {
   "cell_type": "code",
   "execution_count": 6,
   "metadata": {
    "execution": {
     "iopub.execute_input": "2021-08-30T21:30:11.819939Z",
     "iopub.status.busy": "2021-08-30T21:30:11.818643Z",
     "iopub.status.idle": "2021-08-30T21:32:11.490441Z",
     "shell.execute_reply": "2021-08-30T21:32:11.491591Z"
    }
   },
   "outputs": [],
   "source": [
    "kf = KFold(n_splits=10, shuffle=True)\n",
    "for (fold, (train_indices, test_indices)) in enumerate(kf.split(dfz)):\n",
    "    save_data(str(fold), train_indices, test_indices)\n"
   ]
  }
 ],
 "metadata": {
  "kernelspec": {
   "display_name": "Python 3",
   "language": "python",
   "name": "python3"
  },
  "language_info": {
   "codemirror_mode": {
    "name": "ipython",
    "version": 3
   },
   "file_extension": ".py",
   "mimetype": "text/x-python",
   "name": "python",
   "nbconvert_exporter": "python",
   "pygments_lexer": "ipython3",
   "version": "3.9.6"
  }
 },
 "nbformat": 4,
 "nbformat_minor": 4
}
