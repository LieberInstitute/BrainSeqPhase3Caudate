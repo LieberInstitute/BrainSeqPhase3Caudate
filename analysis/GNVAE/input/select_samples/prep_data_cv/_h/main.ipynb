{
 "cells": [
  {
   "cell_type": "markdown",
   "metadata": {},
   "source": [
    "# Generate cross-validation fold structure for the data \n",
    "## Fold alldata contains all data points"
   ]
  },
  {
   "cell_type": "code",
   "execution_count": 1,
   "metadata": {},
   "outputs": [],
   "source": [
    "import pandas as pd\n",
    "from sklearn.model_selection import KFold\n",
    "import os\n"
   ]
  },
  {
   "cell_type": "code",
   "execution_count": 2,
   "metadata": {},
   "outputs": [],
   "source": [
    "df = pd.read_csv(\"../../_m/log2rpkm.csv\", index_col=0)"
   ]
  },
  {
   "cell_type": "code",
   "execution_count": 3,
   "metadata": {},
   "outputs": [],
   "source": [
    "#If doing zscore:\n",
    "#from scipy.stats import zscore\n",
    "#dfz = df.transpose().apply(zscore).transpose()\n",
    "dfz = df"
   ]
  },
  {
   "cell_type": "code",
   "execution_count": 4,
   "metadata": {},
   "outputs": [],
   "source": [
    "def save_data(fold, train_indices, test_indices):\n",
    "    mydir = 'Fold-%s' % fold\n",
    "    os.makedirs(mydir, exist_ok=True)\n",
    "    dfz.iloc[train_indices].to_csv(mydir + '/X_train.csv')\n",
    "    dfz.iloc[test_indices].to_csv(mydir + '/X_test.csv')"
   ]
  },
  {
   "cell_type": "code",
   "execution_count": 5,
   "metadata": {},
   "outputs": [],
   "source": [
    "save_data(\"alldata\", range(len(dfz)), [])"
   ]
  },
  {
   "cell_type": "code",
   "execution_count": 6,
   "metadata": {},
   "outputs": [],
   "source": [
    "kf = KFold(n_splits=10, shuffle=True)\n",
    "for (fold, (train_indices, test_indices)) in enumerate(kf.split(dfz)):\n",
    "    save_data(str(fold), train_indices, test_indices)\n"
   ]
  }
 ],
 "metadata": {
  "kernelspec": {
   "display_name": "Python 3",
   "language": "python",
   "name": "python3"
  },
  "language_info": {
   "codemirror_mode": {
    "name": "ipython",
    "version": 3
   },
   "file_extension": ".py",
   "mimetype": "text/x-python",
   "name": "python",
   "nbconvert_exporter": "python",
   "pygments_lexer": "ipython3",
   "version": "3.8.2"
  }
 },
 "nbformat": 4,
 "nbformat_minor": 4
}
