{
 "cells": [
  {
   "cell_type": "code",
   "execution_count": 1,
   "metadata": {
    "execution": {
     "iopub.execute_input": "2021-08-30T21:27:22.833321Z",
     "iopub.status.busy": "2021-08-30T21:27:22.826621Z",
     "iopub.status.idle": "2021-08-30T21:27:23.147354Z",
     "shell.execute_reply": "2021-08-30T21:27:23.148425Z"
    }
   },
   "outputs": [],
   "source": [
    "import pandas as pd\n"
   ]
  },
  {
   "cell_type": "code",
   "execution_count": 2,
   "metadata": {
    "execution": {
     "iopub.execute_input": "2021-08-30T21:27:23.154909Z",
     "iopub.status.busy": "2021-08-30T21:27:23.153690Z",
     "iopub.status.idle": "2021-08-30T21:27:23.326977Z",
     "shell.execute_reply": "2021-08-30T21:27:23.328334Z"
    }
   },
   "outputs": [
    {
     "data": {
      "text/plain": [
       "(0, 393)"
      ]
     },
     "execution_count": 2,
     "metadata": {},
     "output_type": "execute_result"
    }
   ],
   "source": [
    "df0 = pd.read_csv(\"/ceph/projects/v4_phase3_paper/analysis/differential_expression/_m/genes/residualized_expression.tsv\", nrows=0, sep=\"\\t\")\n",
    "df0.shape"
   ]
  },
  {
   "cell_type": "code",
   "execution_count": 3,
   "metadata": {
    "execution": {
     "iopub.execute_input": "2021-08-30T21:27:23.336333Z",
     "iopub.status.busy": "2021-08-30T21:27:23.333870Z",
     "iopub.status.idle": "2021-08-30T21:27:25.705280Z",
     "shell.execute_reply": "2021-08-30T21:27:25.704186Z"
    }
   },
   "outputs": [],
   "source": [
    "df = pd.read_csv(\"../../_m/log2rpkm.csv\", index_col=0)"
   ]
  },
  {
   "cell_type": "code",
   "execution_count": 4,
   "metadata": {
    "execution": {
     "iopub.execute_input": "2021-08-30T21:27:25.711965Z",
     "iopub.status.busy": "2021-08-30T21:27:25.710742Z",
     "iopub.status.idle": "2021-08-30T21:27:25.715170Z",
     "shell.execute_reply": "2021-08-30T21:27:25.716222Z"
    }
   },
   "outputs": [
    {
     "data": {
      "text/plain": [
       "(26513, 464)"
      ]
     },
     "execution_count": 4,
     "metadata": {},
     "output_type": "execute_result"
    }
   ],
   "source": [
    "df.shape"
   ]
  },
  {
   "cell_type": "code",
   "execution_count": 5,
   "metadata": {
    "execution": {
     "iopub.execute_input": "2021-08-30T21:27:25.758855Z",
     "iopub.status.busy": "2021-08-30T21:27:25.757626Z",
     "iopub.status.idle": "2021-08-30T21:27:25.760143Z",
     "shell.execute_reply": "2021-08-30T21:27:25.761190Z"
    }
   },
   "outputs": [],
   "source": [
    "df1 = df[df0.columns]"
   ]
  },
  {
   "cell_type": "code",
   "execution_count": 6,
   "metadata": {
    "execution": {
     "iopub.execute_input": "2021-08-30T21:27:25.767849Z",
     "iopub.status.busy": "2021-08-30T21:27:25.766629Z",
     "iopub.status.idle": "2021-08-30T21:27:25.770830Z",
     "shell.execute_reply": "2021-08-30T21:27:25.771902Z"
    }
   },
   "outputs": [
    {
     "data": {
      "text/plain": [
       "(26513, 393)"
      ]
     },
     "execution_count": 6,
     "metadata": {},
     "output_type": "execute_result"
    }
   ],
   "source": [
    "df1.shape"
   ]
  },
  {
   "cell_type": "code",
   "execution_count": 7,
   "metadata": {
    "execution": {
     "iopub.execute_input": "2021-08-30T21:27:25.784698Z",
     "iopub.status.busy": "2021-08-30T21:27:25.778045Z",
     "iopub.status.idle": "2021-08-30T21:27:25.798668Z",
     "shell.execute_reply": "2021-08-30T21:27:25.797615Z"
    }
   },
   "outputs": [
    {
     "data": {
      "text/html": [
       "<div>\n",
       "<style scoped>\n",
       "    .dataframe tbody tr th:only-of-type {\n",
       "        vertical-align: middle;\n",
       "    }\n",
       "\n",
       "    .dataframe tbody tr th {\n",
       "        vertical-align: top;\n",
       "    }\n",
       "\n",
       "    .dataframe thead th {\n",
       "        text-align: right;\n",
       "    }\n",
       "</style>\n",
       "<table border=\"1\" class=\"dataframe\">\n",
       "  <thead>\n",
       "    <tr style=\"text-align: right;\">\n",
       "      <th></th>\n",
       "      <th>R12864</th>\n",
       "      <th>R12865</th>\n",
       "      <th>R12866</th>\n",
       "      <th>R12867</th>\n",
       "      <th>R12868</th>\n",
       "      <th>R12869</th>\n",
       "      <th>R12870</th>\n",
       "      <th>R12871</th>\n",
       "      <th>R12872</th>\n",
       "      <th>R12873</th>\n",
       "      <th>...</th>\n",
       "      <th>R13494</th>\n",
       "      <th>R13495</th>\n",
       "      <th>R13496</th>\n",
       "      <th>R13497</th>\n",
       "      <th>R13498</th>\n",
       "      <th>R13499</th>\n",
       "      <th>R13500</th>\n",
       "      <th>R13502</th>\n",
       "      <th>R13503</th>\n",
       "      <th>R13504</th>\n",
       "    </tr>\n",
       "  </thead>\n",
       "  <tbody>\n",
       "    <tr>\n",
       "      <th>chr11:113412884-113415420(-)</th>\n",
       "      <td>2.752362</td>\n",
       "      <td>1.505707</td>\n",
       "      <td>2.355274</td>\n",
       "      <td>2.765649</td>\n",
       "      <td>1.130827</td>\n",
       "      <td>1.878251</td>\n",
       "      <td>2.352640</td>\n",
       "      <td>3.169749</td>\n",
       "      <td>0.818275</td>\n",
       "      <td>2.412886</td>\n",
       "      <td>...</td>\n",
       "      <td>2.969492</td>\n",
       "      <td>2.842186</td>\n",
       "      <td>2.110025</td>\n",
       "      <td>2.903338</td>\n",
       "      <td>2.441719</td>\n",
       "      <td>1.823469</td>\n",
       "      <td>1.645416</td>\n",
       "      <td>2.480872</td>\n",
       "      <td>3.007023</td>\n",
       "      <td>0.804141</td>\n",
       "    </tr>\n",
       "    <tr>\n",
       "      <th>chr11:113414462-113415420(-)</th>\n",
       "      <td>5.629759</td>\n",
       "      <td>5.645501</td>\n",
       "      <td>5.510959</td>\n",
       "      <td>6.009961</td>\n",
       "      <td>6.153820</td>\n",
       "      <td>4.884945</td>\n",
       "      <td>5.171337</td>\n",
       "      <td>5.302717</td>\n",
       "      <td>5.001834</td>\n",
       "      <td>5.758635</td>\n",
       "      <td>...</td>\n",
       "      <td>6.304429</td>\n",
       "      <td>5.934701</td>\n",
       "      <td>5.196041</td>\n",
       "      <td>5.890787</td>\n",
       "      <td>5.267976</td>\n",
       "      <td>5.474126</td>\n",
       "      <td>5.695301</td>\n",
       "      <td>5.217252</td>\n",
       "      <td>5.787293</td>\n",
       "      <td>4.622151</td>\n",
       "    </tr>\n",
       "    <tr>\n",
       "      <th>chr11:113412884-113414374(-)</th>\n",
       "      <td>5.188736</td>\n",
       "      <td>4.656605</td>\n",
       "      <td>5.210350</td>\n",
       "      <td>5.791295</td>\n",
       "      <td>6.066870</td>\n",
       "      <td>4.747968</td>\n",
       "      <td>4.810531</td>\n",
       "      <td>5.156312</td>\n",
       "      <td>4.416473</td>\n",
       "      <td>5.467732</td>\n",
       "      <td>...</td>\n",
       "      <td>5.741552</td>\n",
       "      <td>5.431920</td>\n",
       "      <td>4.708950</td>\n",
       "      <td>5.579278</td>\n",
       "      <td>5.364275</td>\n",
       "      <td>5.135028</td>\n",
       "      <td>5.453968</td>\n",
       "      <td>4.944168</td>\n",
       "      <td>5.502072</td>\n",
       "      <td>4.825644</td>\n",
       "    </tr>\n",
       "    <tr>\n",
       "      <th>ENSG00000227232.5</th>\n",
       "      <td>1.634304</td>\n",
       "      <td>1.647687</td>\n",
       "      <td>1.792123</td>\n",
       "      <td>1.760548</td>\n",
       "      <td>2.090392</td>\n",
       "      <td>2.291577</td>\n",
       "      <td>1.516020</td>\n",
       "      <td>2.239275</td>\n",
       "      <td>1.671118</td>\n",
       "      <td>1.404111</td>\n",
       "      <td>...</td>\n",
       "      <td>1.670244</td>\n",
       "      <td>1.646912</td>\n",
       "      <td>1.645170</td>\n",
       "      <td>1.707318</td>\n",
       "      <td>2.006727</td>\n",
       "      <td>1.877030</td>\n",
       "      <td>1.598528</td>\n",
       "      <td>1.151245</td>\n",
       "      <td>1.660512</td>\n",
       "      <td>1.730966</td>\n",
       "    </tr>\n",
       "    <tr>\n",
       "      <th>ENSG00000278267.1</th>\n",
       "      <td>2.486155</td>\n",
       "      <td>2.055280</td>\n",
       "      <td>3.259560</td>\n",
       "      <td>2.069986</td>\n",
       "      <td>2.426110</td>\n",
       "      <td>3.149169</td>\n",
       "      <td>0.438641</td>\n",
       "      <td>2.454486</td>\n",
       "      <td>2.245389</td>\n",
       "      <td>2.212500</td>\n",
       "      <td>...</td>\n",
       "      <td>2.977263</td>\n",
       "      <td>2.008999</td>\n",
       "      <td>2.088124</td>\n",
       "      <td>2.234738</td>\n",
       "      <td>1.851031</td>\n",
       "      <td>2.364349</td>\n",
       "      <td>2.176712</td>\n",
       "      <td>1.231279</td>\n",
       "      <td>1.341166</td>\n",
       "      <td>2.429980</td>\n",
       "    </tr>\n",
       "  </tbody>\n",
       "</table>\n",
       "<p>5 rows × 393 columns</p>\n",
       "</div>"
      ],
      "text/plain": [
       "                                R12864    R12865    R12866    R12867  \\\n",
       "chr11:113412884-113415420(-)  2.752362  1.505707  2.355274  2.765649   \n",
       "chr11:113414462-113415420(-)  5.629759  5.645501  5.510959  6.009961   \n",
       "chr11:113412884-113414374(-)  5.188736  4.656605  5.210350  5.791295   \n",
       "ENSG00000227232.5             1.634304  1.647687  1.792123  1.760548   \n",
       "ENSG00000278267.1             2.486155  2.055280  3.259560  2.069986   \n",
       "\n",
       "                                R12868    R12869    R12870    R12871  \\\n",
       "chr11:113412884-113415420(-)  1.130827  1.878251  2.352640  3.169749   \n",
       "chr11:113414462-113415420(-)  6.153820  4.884945  5.171337  5.302717   \n",
       "chr11:113412884-113414374(-)  6.066870  4.747968  4.810531  5.156312   \n",
       "ENSG00000227232.5             2.090392  2.291577  1.516020  2.239275   \n",
       "ENSG00000278267.1             2.426110  3.149169  0.438641  2.454486   \n",
       "\n",
       "                                R12872    R12873  ...    R13494    R13495  \\\n",
       "chr11:113412884-113415420(-)  0.818275  2.412886  ...  2.969492  2.842186   \n",
       "chr11:113414462-113415420(-)  5.001834  5.758635  ...  6.304429  5.934701   \n",
       "chr11:113412884-113414374(-)  4.416473  5.467732  ...  5.741552  5.431920   \n",
       "ENSG00000227232.5             1.671118  1.404111  ...  1.670244  1.646912   \n",
       "ENSG00000278267.1             2.245389  2.212500  ...  2.977263  2.008999   \n",
       "\n",
       "                                R13496    R13497    R13498    R13499  \\\n",
       "chr11:113412884-113415420(-)  2.110025  2.903338  2.441719  1.823469   \n",
       "chr11:113414462-113415420(-)  5.196041  5.890787  5.267976  5.474126   \n",
       "chr11:113412884-113414374(-)  4.708950  5.579278  5.364275  5.135028   \n",
       "ENSG00000227232.5             1.645170  1.707318  2.006727  1.877030   \n",
       "ENSG00000278267.1             2.088124  2.234738  1.851031  2.364349   \n",
       "\n",
       "                                R13500    R13502    R13503    R13504  \n",
       "chr11:113412884-113415420(-)  1.645416  2.480872  3.007023  0.804141  \n",
       "chr11:113414462-113415420(-)  5.695301  5.217252  5.787293  4.622151  \n",
       "chr11:113412884-113414374(-)  5.453968  4.944168  5.502072  4.825644  \n",
       "ENSG00000227232.5             1.598528  1.151245  1.660512  1.730966  \n",
       "ENSG00000278267.1             2.176712  1.231279  1.341166  2.429980  \n",
       "\n",
       "[5 rows x 393 columns]"
      ]
     },
     "execution_count": 7,
     "metadata": {},
     "output_type": "execute_result"
    }
   ],
   "source": [
    "df1.head()"
   ]
  },
  {
   "cell_type": "code",
   "execution_count": 8,
   "metadata": {
    "execution": {
     "iopub.execute_input": "2021-08-30T21:27:25.804705Z",
     "iopub.status.busy": "2021-08-30T21:27:25.803467Z",
     "iopub.status.idle": "2021-08-30T21:27:38.088505Z",
     "shell.execute_reply": "2021-08-30T21:27:38.089606Z"
    }
   },
   "outputs": [],
   "source": [
    "df1.to_csv('log2rpkm.csv')"
   ]
  }
 ],
 "metadata": {
  "kernelspec": {
   "display_name": "Python 3 (ipykernel)",
   "language": "python",
   "name": "python3"
  },
  "language_info": {
   "codemirror_mode": {
    "name": "ipython",
    "version": 3
   },
   "file_extension": ".py",
   "mimetype": "text/x-python",
   "name": "python",
   "nbconvert_exporter": "python",
   "pygments_lexer": "ipython3",
   "version": "3.9.6"
  }
 },
 "nbformat": 4,
 "nbformat_minor": 4
}
