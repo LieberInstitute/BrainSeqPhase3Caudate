{
 "cells": [
  {
   "cell_type": "code",
   "execution_count": 1,
   "metadata": {},
   "outputs": [],
   "source": [
    "suppressMessages(library(SummarizedExperiment))\n",
    "suppressMessages(library(limma))\n",
    "suppressMessages(library(jaffelab))"
   ]
  },
  {
   "cell_type": "code",
   "execution_count": 2,
   "metadata": {},
   "outputs": [],
   "source": [
    "load(\"/ceph/projects/v4_phase3_paper/inputs/counts/_m/caudate_brainseq_phase3_hg38_rseGene_merged_n464.rda\")"
   ]
  },
  {
   "cell_type": "code",
   "execution_count": 3,
   "metadata": {},
   "outputs": [],
   "source": [
    "load(\"/ceph/projects/v4_phase3_paper/inputs/counts/_m/caudate_brainseq_phase3_hg38_rseJxn_merged_n464.rda\")"
   ]
  },
  {
   "cell_type": "code",
   "execution_count": 4,
   "metadata": {},
   "outputs": [
    {
     "data": {
      "text/html": [
       "<style>\n",
       ".list-inline {list-style: none; margin:0; padding: 0}\n",
       ".list-inline>li {display: inline-block}\n",
       ".list-inline>li:not(:last-child)::after {content: \"\\00b7\"; padding: 0 .5ex}\n",
       "</style>\n",
       "<ol class=list-inline><li>'rse_gene'</li><li>'rse_jxn'</li></ol>\n"
      ],
      "text/latex": [
       "\\begin{enumerate*}\n",
       "\\item 'rse\\_gene'\n",
       "\\item 'rse\\_jxn'\n",
       "\\end{enumerate*}\n"
      ],
      "text/markdown": [
       "1. 'rse_gene'\n",
       "2. 'rse_jxn'\n",
       "\n",
       "\n"
      ],
      "text/plain": [
       "[1] \"rse_gene\" \"rse_jxn\" "
      ]
     },
     "metadata": {},
     "output_type": "display_data"
    }
   ],
   "source": [
    "ls()"
   ]
  },
  {
   "cell_type": "code",
   "execution_count": 5,
   "metadata": {},
   "outputs": [
    {
     "data": {
      "text/html": [
       "TRUE"
      ],
      "text/latex": [
       "TRUE"
      ],
      "text/markdown": [
       "TRUE"
      ],
      "text/plain": [
       "[1] TRUE"
      ]
     },
     "metadata": {},
     "output_type": "display_data"
    }
   ],
   "source": [
    "all(colnames(rse_jxn) == colnames(rse_gene))"
   ]
  },
  {
   "cell_type": "code",
   "execution_count": 6,
   "metadata": {},
   "outputs": [],
   "source": [
    "rowData(rse_jxn)$Length <- 100"
   ]
  },
  {
   "cell_type": "code",
   "execution_count": 7,
   "metadata": {},
   "outputs": [],
   "source": [
    "rse_genes_and_drd2junctions = rbind(rse_jxn[c('chr11:113412884-113415420(-)', 'chr11:113414462-113415420(-)', 'chr11:113412884-113414374(-)'),],\n",
    "      rse_gene)\n",
    "\n"
   ]
  },
  {
   "cell_type": "code",
   "execution_count": 8,
   "metadata": {},
   "outputs": [
    {
     "data": {
      "text/plain": [
       "DataFrame with 58040 rows and 21 columns\n",
       "                             inGencode inGencodeStart inGencodeEnd\n",
       "                             <logical>      <logical>    <logical>\n",
       "chr11:113412884-113415420(-)      TRUE           TRUE         TRUE\n",
       "chr11:113414462-113415420(-)      TRUE           TRUE         TRUE\n",
       "chr11:113412884-113414374(-)      TRUE           TRUE         TRUE\n",
       "ENSG00000223972.5                   NA             NA           NA\n",
       "ENSG00000227232.5                   NA             NA           NA\n",
       "...                                ...            ...          ...\n",
       "ENSG00000198695.2                   NA             NA           NA\n",
       "ENSG00000210194.1                   NA             NA           NA\n",
       "ENSG00000198727.2                   NA             NA           NA\n",
       "ENSG00000210195.2                   NA             NA           NA\n",
       "ENSG00000210196.2                   NA             NA           NA\n",
       "                                  gencodeGeneID       ensemblID      Symbol\n",
       "                                    <character>     <character> <character>\n",
       "chr11:113412884-113415420(-) ENSG00000149295.13 ENSG00000149295        DRD2\n",
       "chr11:113414462-113415420(-) ENSG00000149295.13 ENSG00000149295        DRD2\n",
       "chr11:113412884-113414374(-) ENSG00000149295.13 ENSG00000149295        DRD2\n",
       "ENSG00000223972.5                            NA ENSG00000223972     DDX11L1\n",
       "ENSG00000227232.5                            NA ENSG00000227232      WASH7P\n",
       "...                                         ...             ...         ...\n",
       "ENSG00000198695.2                            NA ENSG00000198695      MT-ND6\n",
       "ENSG00000210194.1                            NA ENSG00000210194       MT-TE\n",
       "ENSG00000198727.2                            NA ENSG00000198727      MT-CYB\n",
       "ENSG00000210195.2                            NA ENSG00000210195       MT-TT\n",
       "ENSG00000210196.2                            NA ENSG00000210196       MT-TP\n",
       "                             gencodeStrand\n",
       "                               <character>\n",
       "chr11:113412884-113415420(-)             -\n",
       "chr11:113414462-113415420(-)             -\n",
       "chr11:113412884-113414374(-)             -\n",
       "ENSG00000223972.5                       NA\n",
       "ENSG00000227232.5                       NA\n",
       "...                                    ...\n",
       "ENSG00000198695.2                       NA\n",
       "ENSG00000210194.1                       NA\n",
       "ENSG00000198727.2                       NA\n",
       "ENSG00000210195.2                       NA\n",
       "ENSG00000210196.2                       NA\n",
       "                                                                             gencodeTx\n",
       "                                                                       <CharacterList>\n",
       "chr11:113412884-113415420(-)                                         ENST00000346454.7\n",
       "chr11:113414462-113415420(-) ENST00000362072.7,ENST00000544518.5,ENST00000542968.5,...\n",
       "chr11:113412884-113414374(-)     ENST00000362072.7,ENST00000544518.5,ENST00000542968.5\n",
       "ENSG00000223972.5                                  ENST00000456328.2,ENST00000450305.2\n",
       "ENSG00000227232.5                                                    ENST00000488147.1\n",
       "...                                                                                ...\n",
       "ENSG00000198695.2                                                    ENST00000361681.2\n",
       "ENSG00000210194.1                                                    ENST00000387459.1\n",
       "ENSG00000198727.2                                                    ENST00000361789.2\n",
       "ENSG00000210195.2                                                    ENST00000387460.2\n",
       "ENSG00000210196.2                                                    ENST00000387461.2\n",
       "                                 numTx       Class startExon   endExon\n",
       "                             <integer> <character> <integer> <integer>\n",
       "chr11:113412884-113415420(-)         1       InGen    320190    320189\n",
       "chr11:113414462-113415420(-)         6       InGen    320193    320189\n",
       "chr11:113412884-113414374(-)         3       InGen    320190    320193\n",
       "ENSG00000223972.5                   NA       InGen        NA        NA\n",
       "ENSG00000227232.5                   NA       InGen        NA        NA\n",
       "...                                ...         ...       ...       ...\n",
       "ENSG00000198695.2                   NA       InGen        NA        NA\n",
       "ENSG00000210194.1                   NA       InGen        NA        NA\n",
       "ENSG00000198727.2                   NA       InGen        NA        NA\n",
       "ENSG00000210195.2                   NA       InGen        NA        NA\n",
       "ENSG00000210196.2                   NA       InGen        NA        NA\n",
       "                                      newGeneID newGeneSymbol  isFusion\n",
       "                                    <character>   <character> <logical>\n",
       "chr11:113412884-113415420(-) ENSG00000149295.13          DRD2     FALSE\n",
       "chr11:113414462-113415420(-) ENSG00000149295.13          DRD2     FALSE\n",
       "chr11:113412884-113414374(-) ENSG00000149295.13          DRD2     FALSE\n",
       "ENSG00000223972.5                            NA            NA        NA\n",
       "ENSG00000227232.5                            NA            NA        NA\n",
       "...                                         ...           ...       ...\n",
       "ENSG00000198695.2                            NA            NA        NA\n",
       "ENSG00000210194.1                            NA            NA        NA\n",
       "ENSG00000198727.2                            NA            NA        NA\n",
       "ENSG00000210195.2                            NA            NA        NA\n",
       "ENSG00000210196.2                            NA            NA        NA\n",
       "                                Length         gencodeID              gene_type\n",
       "                             <numeric>       <character>            <character>\n",
       "chr11:113412884-113415420(-)       100                NA                     NA\n",
       "chr11:113414462-113415420(-)       100                NA                     NA\n",
       "chr11:113412884-113414374(-)       100                NA                     NA\n",
       "ENSG00000223972.5                 1735 ENSG00000223972.5 transcribed_unproces..\n",
       "ENSG00000227232.5                 1351 ENSG00000227232.5 unprocessed_pseudogene\n",
       "...                                ...               ...                    ...\n",
       "ENSG00000198695.2                  525 ENSG00000198695.2         protein_coding\n",
       "ENSG00000210194.1                   69 ENSG00000210194.1                Mt_tRNA\n",
       "ENSG00000198727.2                 1141 ENSG00000198727.2         protein_coding\n",
       "ENSG00000210195.2                   66 ENSG00000210195.2                Mt_tRNA\n",
       "ENSG00000210196.2                   68 ENSG00000210196.2                Mt_tRNA\n",
       "                              EntrezID  meanExprs     NumTx\n",
       "                             <integer>  <numeric> <integer>\n",
       "chr11:113412884-113415420(-)        NA         NA        NA\n",
       "chr11:113414462-113415420(-)        NA         NA        NA\n",
       "chr11:113412884-113414374(-)        NA         NA        NA\n",
       "ENSG00000223972.5                84771 0.00186396         2\n",
       "ENSG00000227232.5                   NA 1.22336500         1\n",
       "...                                ...        ...       ...\n",
       "ENSG00000198695.2                 4541  109.75770         1\n",
       "ENSG00000210194.1                   NA    8.36876         1\n",
       "ENSG00000198727.2                 4519  570.90682         1\n",
       "ENSG00000210195.2                   NA  157.30261         1\n",
       "ENSG00000210196.2                   NA  213.52484         1"
      ]
     },
     "metadata": {},
     "output_type": "display_data"
    }
   ],
   "source": [
    "rowData(rse_genes_and_drd2junctions)"
   ]
  },
  {
   "cell_type": "code",
   "execution_count": 9,
   "metadata": {},
   "outputs": [
    {
     "name": "stderr",
     "output_type": "stream",
     "text": [
      "Setting options('download.file.method.GEOquery'='auto')\n",
      "\n",
      "Setting options('GEOquery.inmemory.gpl'=FALSE)\n",
      "\n"
     ]
    }
   ],
   "source": [
    "rpkm = recount::getRPKM(rse_genes_and_drd2junctions, 'Length')"
   ]
  },
  {
   "cell_type": "code",
   "execution_count": 10,
   "metadata": {},
   "outputs": [],
   "source": [
    "log2rpkm = log2( rpkm + 1)"
   ]
  },
  {
   "cell_type": "code",
   "execution_count": 11,
   "metadata": {},
   "outputs": [
    {
     "data": {
      "text/plain": [
       "    Min.  1st Qu.   Median     Mean  3rd Qu.     Max. \n",
       "0.00e+00 0.00e+00 9.00e-02 9.18e+00 1.45e+00 2.85e+05 "
      ]
     },
     "metadata": {},
     "output_type": "display_data"
    }
   ],
   "source": [
    "summary(rowMeans(rpkm))\n"
   ]
  },
  {
   "cell_type": "code",
   "execution_count": 12,
   "metadata": {},
   "outputs": [
    {
     "data": {
      "text/plain": [
       "     Min.   1st Qu.    Median      Mean   3rd Qu.      Max. \n",
       " 0.000000  0.004363  0.116758  0.845061  1.221697 18.066738 "
      ]
     },
     "metadata": {},
     "output_type": "display_data"
    }
   ],
   "source": [
    "summary(rowMeans(log2rpkm))\n"
   ]
  },
  {
   "cell_type": "code",
   "execution_count": 13,
   "metadata": {},
   "outputs": [
    {
     "data": {
      "image/png": "[encoded data removed]",
      "text/plain": [
       "Plot with title \"Histogram of rowMeans(log2rpkm)\""
      ]
     },
     "metadata": {
      "image/png": {
       "height": 420,
       "width": 420
      }
     },
     "output_type": "display_data"
    }
   ],
   "source": [
    "hist(rowMeans(log2rpkm))"
   ]
  },
  {
   "cell_type": "code",
   "execution_count": 14,
   "metadata": {},
   "outputs": [
    {
     "data": {
      "text/html": [
       "26513"
      ],
      "text/latex": [
       "26513"
      ],
      "text/markdown": [
       "26513"
      ],
      "text/plain": [
       "[1] 26513"
      ]
     },
     "metadata": {},
     "output_type": "display_data"
    }
   ],
   "source": [
    "sum(rowMeans(log2rpkm) > 0.2)"
   ]
  },
  {
   "cell_type": "code",
   "execution_count": 15,
   "metadata": {},
   "outputs": [
    {
     "data": {
      "text/html": [
       "<style>\n",
       ".dl-inline {width: auto; margin:0; padding: 0}\n",
       ".dl-inline>dt, .dl-inline>dd {float: none; width: auto; display: inline-block}\n",
       ".dl-inline>dt::after {content: \":\\0020\"; padding-right: .5ex}\n",
       ".dl-inline>dt:not(:first-of-type) {padding-left: .5ex}\n",
       "</style><dl class=dl-inline><dt>chr11:113412884-113415420(-)</dt><dd>2.28619688611868</dd><dt>chr11:113414462-113415420(-)</dt><dd>5.43409072729181</dd><dt>chr11:113412884-113414374(-)</dt><dd>5.04089639513039</dd><dt>ENSG00000223972.5</dt><dd>0.00595840349433603</dd><dt>ENSG00000227232.5</dt><dd>1.75797637872393</dd><dt>ENSG00000278267.1</dt><dd>1.98466031706537</dd></dl>\n"
      ],
      "text/latex": [
       "\\begin{description*}\n",
       "\\item[chr11:113412884-113415420(-)] 2.28619688611868\n",
       "\\item[chr11:113414462-113415420(-)] 5.43409072729181\n",
       "\\item[chr11:113412884-113414374(-)] 5.04089639513039\n",
       "\\item[ENSG00000223972.5] 0.00595840349433603\n",
       "\\item[ENSG00000227232.5] 1.75797637872393\n",
       "\\item[ENSG00000278267.1] 1.98466031706537\n",
       "\\end{description*}\n"
      ],
      "text/markdown": [
       "chr11:113412884-113415420(-)\n",
       ":   2.28619688611868chr11:113414462-113415420(-)\n",
       ":   5.43409072729181chr11:113412884-113414374(-)\n",
       ":   5.04089639513039ENSG00000223972.5\n",
       ":   0.00595840349433603ENSG00000227232.5\n",
       ":   1.75797637872393ENSG00000278267.1\n",
       ":   1.98466031706537\n",
       "\n"
      ],
      "text/plain": [
       "chr11:113412884-113415420(-) chr11:113414462-113415420(-) \n",
       "                 2.286196886                  5.434090727 \n",
       "chr11:113412884-113414374(-)            ENSG00000223972.5 \n",
       "                 5.040896395                  0.005958403 \n",
       "           ENSG00000227232.5            ENSG00000278267.1 \n",
       "                 1.757976379                  1.984660317 "
      ]
     },
     "metadata": {},
     "output_type": "display_data"
    }
   ],
   "source": [
    "head(rowMeans(log2rpkm))"
   ]
  },
  {
   "cell_type": "code",
   "execution_count": 16,
   "metadata": {},
   "outputs": [],
   "source": [
    "filtered_log2_rpkm = log2rpkm[rowMeans(log2rpkm) > 0.2,]"
   ]
  },
  {
   "cell_type": "code",
   "execution_count": null,
   "metadata": {},
   "outputs": [],
   "source": [
    "write.csv(filtered_log2_rpkm, file='log2rpkm.csv')"
   ]
  }
 ],
 "metadata": {
  "kernelspec": {
   "display_name": "R",
   "language": "R",
   "name": "ir"
  },
  "language_info": {
   "codemirror_mode": "r",
   "file_extension": ".r",
   "mimetype": "text/x-r-source",
   "name": "R",
   "pygments_lexer": "r",
   "version": "4.1.1"
  }
 },
 "nbformat": 4,
 "nbformat_minor": 4
}
