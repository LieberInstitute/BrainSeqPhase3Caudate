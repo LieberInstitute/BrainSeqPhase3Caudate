{
 "cells": [
  {
   "cell_type": "code",
   "execution_count": 1,
   "metadata": {},
   "outputs": [],
   "source": [
    "import pandas as pd\n",
    "from plotnine import *\n",
    "import subprocess\n",
    "import functools"
   ]
  },
  {
   "cell_type": "code",
   "execution_count": 2,
   "metadata": {},
   "outputs": [],
   "source": [
    "def read_train_log_fold(fold, field, new_field_name):\n",
    "    with subprocess.Popen('''grep ',%s,' ../../_m/results/factor_caudategenes_fc5_fold_%d/train_losses.log | cut -d, -f 1,3''' % (field, fold), \n",
    "                          shell=True, stdout=subprocess.PIPE) as p:\n",
    "        df = pd.read_csv(p.stdout, header=None, names=['epoch',new_field_name])\n",
    "        df['mode'] = 'train'\n",
    "        df['fold'] = str(fold)\n",
    "    return df\n",
    "\n",
    "def train_df_merge(dfx, dfy):\n",
    "    return pd.merge(dfx, dfy, on=['epoch','fold','mode'])\n",
    "\n",
    "def read_train_log_all_folds(field, new_field_name, fold_iter):\n",
    "    return pd.concat(read_train_log_fold(ii, field, new_field_name) for ii in fold_iter)\n",
    "\n",
    "def read_train_log(field_dict, fold_iter):\n",
    "    return functools.reduce(train_df_merge, (read_train_log_all_folds(field, new_field_name, fold_iter) for (field, new_field_name) in field_dict.items()))\n"
   ]
  },
  {
   "cell_type": "code",
   "execution_count": 3,
   "metadata": {},
   "outputs": [],
   "source": [
    "def read_test_log_fold(fold, field, new_field_name):\n",
    "    with subprocess.Popen('''grep '\"%s\"' ../../_m/results/factor_caudategenes_fc5_fold_%d/test_losses.log | perl -ne '/(\\S+),/; print \"$1\\n\"' '''% (field, fold), \n",
    "                          shell=True, stdout=subprocess.PIPE) as p:\n",
    "        df = pd.read_csv(p.stdout, header=None, names=[new_field_name])\n",
    "        df['mode'] = 'test'\n",
    "        df['fold'] = str(fold)\n",
    "    return df\n",
    "\n",
    "def test_df_merge(dfx, dfy):\n",
    "    return pd.merge(dfx, dfy, on=['fold','mode'])\n",
    "\n",
    "def read_test_log_all_folds(field, new_field_name, fold_iter):\n",
    "    return pd.concat(read_test_log_fold(ii, field, new_field_name) for ii in fold_iter)\n",
    "\n",
    "def read_test_log(field_dict, fold_iter):\n",
    "    return functools.reduce(test_df_merge, (read_test_log_all_folds(field, new_field_name, fold_iter) for (field, new_field_name) in field_dict.items()))\n"
   ]
  },
  {
   "cell_type": "code",
   "execution_count": 4,
   "metadata": {},
   "outputs": [],
   "source": [
    "field_dict = {'loss':'total_loss', 'recon_loss':'reconstruction_loss'}"
   ]
  },
  {
   "cell_type": "code",
   "execution_count": 5,
   "metadata": {},
   "outputs": [
    {
     "data": {
      "text/html": [
       "<div>\n",
       "<style scoped>\n",
       "    .dataframe tbody tr th:only-of-type {\n",
       "        vertical-align: middle;\n",
       "    }\n",
       "\n",
       "    .dataframe tbody tr th {\n",
       "        vertical-align: top;\n",
       "    }\n",
       "\n",
       "    .dataframe thead th {\n",
       "        text-align: right;\n",
       "    }\n",
       "</style>\n",
       "<table border=\"1\" class=\"dataframe\">\n",
       "  <thead>\n",
       "    <tr style=\"text-align: right;\">\n",
       "      <th></th>\n",
       "      <th>epoch</th>\n",
       "      <th>total_loss</th>\n",
       "      <th>mode</th>\n",
       "      <th>fold</th>\n",
       "      <th>reconstruction_loss</th>\n",
       "    </tr>\n",
       "  </thead>\n",
       "  <tbody>\n",
       "    <tr>\n",
       "      <th>0</th>\n",
       "      <td>0</td>\n",
       "      <td>2794.477539</td>\n",
       "      <td>train</td>\n",
       "      <td>0</td>\n",
       "      <td>2721.970612</td>\n",
       "    </tr>\n",
       "    <tr>\n",
       "      <th>1</th>\n",
       "      <td>1</td>\n",
       "      <td>813.363785</td>\n",
       "      <td>train</td>\n",
       "      <td>0</td>\n",
       "      <td>778.022842</td>\n",
       "    </tr>\n",
       "    <tr>\n",
       "      <th>2</th>\n",
       "      <td>2</td>\n",
       "      <td>524.966766</td>\n",
       "      <td>train</td>\n",
       "      <td>0</td>\n",
       "      <td>473.254417</td>\n",
       "    </tr>\n",
       "  </tbody>\n",
       "</table>\n",
       "</div>"
      ],
      "text/plain": [
       "   epoch   total_loss   mode fold  reconstruction_loss\n",
       "0      0  2794.477539  train    0          2721.970612\n",
       "1      1   813.363785  train    0           778.022842\n",
       "2      2   524.966766  train    0           473.254417"
      ]
     },
     "execution_count": 5,
     "metadata": {},
     "output_type": "execute_result"
    }
   ],
   "source": [
    "train_log = read_train_log(field_dict, range(10))\n",
    "train_log.head(3)"
   ]
  },
  {
   "cell_type": "code",
   "execution_count": 6,
   "metadata": {},
   "outputs": [
    {
     "data": {
      "text/html": [
       "<div>\n",
       "<style scoped>\n",
       "    .dataframe tbody tr th:only-of-type {\n",
       "        vertical-align: middle;\n",
       "    }\n",
       "\n",
       "    .dataframe tbody tr th {\n",
       "        vertical-align: top;\n",
       "    }\n",
       "\n",
       "    .dataframe thead th {\n",
       "        text-align: right;\n",
       "    }\n",
       "</style>\n",
       "<table border=\"1\" class=\"dataframe\">\n",
       "  <thead>\n",
       "    <tr style=\"text-align: right;\">\n",
       "      <th></th>\n",
       "      <th>total_loss</th>\n",
       "      <th>mode</th>\n",
       "      <th>fold</th>\n",
       "      <th>reconstruction_loss</th>\n",
       "    </tr>\n",
       "  </thead>\n",
       "  <tbody>\n",
       "    <tr>\n",
       "      <th>0</th>\n",
       "      <td>206.515528</td>\n",
       "      <td>test</td>\n",
       "      <td>0</td>\n",
       "      <td>193.803467</td>\n",
       "    </tr>\n",
       "    <tr>\n",
       "      <th>1</th>\n",
       "      <td>206.943186</td>\n",
       "      <td>test</td>\n",
       "      <td>1</td>\n",
       "      <td>194.692546</td>\n",
       "    </tr>\n",
       "    <tr>\n",
       "      <th>2</th>\n",
       "      <td>199.683736</td>\n",
       "      <td>test</td>\n",
       "      <td>2</td>\n",
       "      <td>188.314260</td>\n",
       "    </tr>\n",
       "  </tbody>\n",
       "</table>\n",
       "</div>"
      ],
      "text/plain": [
       "   total_loss  mode fold  reconstruction_loss\n",
       "0  206.515528  test    0           193.803467\n",
       "1  206.943186  test    1           194.692546\n",
       "2  199.683736  test    2           188.314260"
      ]
     },
     "execution_count": 6,
     "metadata": {},
     "output_type": "execute_result"
    }
   ],
   "source": [
    "test_log = read_test_log(field_dict, range(10))\n",
    "test_log.head(3)"
   ]
  },
  {
   "cell_type": "code",
   "execution_count": 7,
   "metadata": {},
   "outputs": [
    {
     "data": {
      "text/html": [
       "<div>\n",
       "<style scoped>\n",
       "    .dataframe tbody tr th:only-of-type {\n",
       "        vertical-align: middle;\n",
       "    }\n",
       "\n",
       "    .dataframe tbody tr th {\n",
       "        vertical-align: top;\n",
       "    }\n",
       "\n",
       "    .dataframe thead th {\n",
       "        text-align: right;\n",
       "    }\n",
       "</style>\n",
       "<table border=\"1\" class=\"dataframe\">\n",
       "  <thead>\n",
       "    <tr style=\"text-align: right;\">\n",
       "      <th></th>\n",
       "      <th>total_loss</th>\n",
       "      <th>reconstruction_loss</th>\n",
       "      <th>fold</th>\n",
       "      <th>mode</th>\n",
       "    </tr>\n",
       "  </thead>\n",
       "  <tbody>\n",
       "    <tr>\n",
       "      <th>159</th>\n",
       "      <td>232.809174</td>\n",
       "      <td>208.475502</td>\n",
       "      <td>0</td>\n",
       "      <td>train</td>\n",
       "    </tr>\n",
       "    <tr>\n",
       "      <th>319</th>\n",
       "      <td>231.564709</td>\n",
       "      <td>205.478989</td>\n",
       "      <td>1</td>\n",
       "      <td>train</td>\n",
       "    </tr>\n",
       "    <tr>\n",
       "      <th>479</th>\n",
       "      <td>223.968380</td>\n",
       "      <td>201.481945</td>\n",
       "      <td>2</td>\n",
       "      <td>train</td>\n",
       "    </tr>\n",
       "    <tr>\n",
       "      <th>639</th>\n",
       "      <td>223.077885</td>\n",
       "      <td>196.432571</td>\n",
       "      <td>3</td>\n",
       "      <td>train</td>\n",
       "    </tr>\n",
       "    <tr>\n",
       "      <th>799</th>\n",
       "      <td>224.552086</td>\n",
       "      <td>199.591541</td>\n",
       "      <td>4</td>\n",
       "      <td>train</td>\n",
       "    </tr>\n",
       "    <tr>\n",
       "      <th>959</th>\n",
       "      <td>229.243099</td>\n",
       "      <td>202.922985</td>\n",
       "      <td>5</td>\n",
       "      <td>train</td>\n",
       "    </tr>\n",
       "    <tr>\n",
       "      <th>1119</th>\n",
       "      <td>216.943714</td>\n",
       "      <td>194.095715</td>\n",
       "      <td>6</td>\n",
       "      <td>train</td>\n",
       "    </tr>\n",
       "    <tr>\n",
       "      <th>1279</th>\n",
       "      <td>219.289551</td>\n",
       "      <td>193.528126</td>\n",
       "      <td>7</td>\n",
       "      <td>train</td>\n",
       "    </tr>\n",
       "    <tr>\n",
       "      <th>1439</th>\n",
       "      <td>211.820335</td>\n",
       "      <td>188.077023</td>\n",
       "      <td>8</td>\n",
       "      <td>train</td>\n",
       "    </tr>\n",
       "    <tr>\n",
       "      <th>1599</th>\n",
       "      <td>213.222710</td>\n",
       "      <td>190.147617</td>\n",
       "      <td>9</td>\n",
       "      <td>train</td>\n",
       "    </tr>\n",
       "    <tr>\n",
       "      <th>0</th>\n",
       "      <td>206.515528</td>\n",
       "      <td>193.803467</td>\n",
       "      <td>0</td>\n",
       "      <td>test</td>\n",
       "    </tr>\n",
       "    <tr>\n",
       "      <th>1</th>\n",
       "      <td>206.943186</td>\n",
       "      <td>194.692546</td>\n",
       "      <td>1</td>\n",
       "      <td>test</td>\n",
       "    </tr>\n",
       "    <tr>\n",
       "      <th>2</th>\n",
       "      <td>199.683736</td>\n",
       "      <td>188.314260</td>\n",
       "      <td>2</td>\n",
       "      <td>test</td>\n",
       "    </tr>\n",
       "    <tr>\n",
       "      <th>3</th>\n",
       "      <td>212.019511</td>\n",
       "      <td>192.245102</td>\n",
       "      <td>3</td>\n",
       "      <td>test</td>\n",
       "    </tr>\n",
       "    <tr>\n",
       "      <th>4</th>\n",
       "      <td>217.805440</td>\n",
       "      <td>198.447800</td>\n",
       "      <td>4</td>\n",
       "      <td>test</td>\n",
       "    </tr>\n",
       "    <tr>\n",
       "      <th>5</th>\n",
       "      <td>215.822535</td>\n",
       "      <td>195.624797</td>\n",
       "      <td>5</td>\n",
       "      <td>test</td>\n",
       "    </tr>\n",
       "    <tr>\n",
       "      <th>6</th>\n",
       "      <td>216.076187</td>\n",
       "      <td>195.194956</td>\n",
       "      <td>6</td>\n",
       "      <td>test</td>\n",
       "    </tr>\n",
       "    <tr>\n",
       "      <th>7</th>\n",
       "      <td>211.497421</td>\n",
       "      <td>190.737340</td>\n",
       "      <td>7</td>\n",
       "      <td>test</td>\n",
       "    </tr>\n",
       "    <tr>\n",
       "      <th>8</th>\n",
       "      <td>218.774658</td>\n",
       "      <td>197.710993</td>\n",
       "      <td>8</td>\n",
       "      <td>test</td>\n",
       "    </tr>\n",
       "    <tr>\n",
       "      <th>9</th>\n",
       "      <td>224.215525</td>\n",
       "      <td>203.157979</td>\n",
       "      <td>9</td>\n",
       "      <td>test</td>\n",
       "    </tr>\n",
       "  </tbody>\n",
       "</table>\n",
       "</div>"
      ],
      "text/plain": [
       "      total_loss  reconstruction_loss fold   mode\n",
       "159   232.809174           208.475502    0  train\n",
       "319   231.564709           205.478989    1  train\n",
       "479   223.968380           201.481945    2  train\n",
       "639   223.077885           196.432571    3  train\n",
       "799   224.552086           199.591541    4  train\n",
       "959   229.243099           202.922985    5  train\n",
       "1119  216.943714           194.095715    6  train\n",
       "1279  219.289551           193.528126    7  train\n",
       "1439  211.820335           188.077023    8  train\n",
       "1599  213.222710           190.147617    9  train\n",
       "0     206.515528           193.803467    0   test\n",
       "1     206.943186           194.692546    1   test\n",
       "2     199.683736           188.314260    2   test\n",
       "3     212.019511           192.245102    3   test\n",
       "4     217.805440           198.447800    4   test\n",
       "5     215.822535           195.624797    5   test\n",
       "6     216.076187           195.194956    6   test\n",
       "7     211.497421           190.737340    7   test\n",
       "8     218.774658           197.710993    8   test\n",
       "9     224.215525           203.157979    9   test"
      ]
     },
     "execution_count": 7,
     "metadata": {},
     "output_type": "execute_result"
    }
   ],
   "source": [
    "df = pd.concat([train_log[train_log['epoch']==159][['total_loss','reconstruction_loss','fold','mode']], test_log])\n",
    "df"
   ]
  },
  {
   "cell_type": "code",
   "execution_count": 20,
   "metadata": {},
   "outputs": [
    {
     "name": "stderr",
     "output_type": "stream",
     "text": [
      "/usr/lib/python3.8/site-packages/plotnine/ggplot.py:727: PlotnineWarning: Saving 6.4 x 4.8 in image.\n",
      "  warn(\"Saving {0} x {1} {2} image.\".format(\n",
      "/usr/lib/python3.8/site-packages/plotnine/ggplot.py:730: PlotnineWarning: Filename: reconstruction_loss_boxplot.svg\n",
      "  warn('Filename: {}'.format(filename), PlotnineWarning)\n"
     ]
    },
    {
     "data": {
      "image/png": "[encoded data removed]",
      "text/plain": [
       "<Figure size 640x480 with 1 Axes>"
      ]
     },
     "metadata": {},
     "output_type": "display_data"
    },
    {
     "data": {
      "text/plain": [
       "<ggplot: (8752119780383)>"
      ]
     },
     "execution_count": 20,
     "metadata": {},
     "output_type": "execute_result"
    }
   ],
   "source": [
    "p = ggplot(df, aes(x='mode', y='reconstruction_loss')) + geom_boxplot(fill='red', alpha=0.4) + geom_jitter() + theme_light()\n",
    "p.save('reconstruction_loss_boxplot.svg')\n",
    "p.save('reconstruction_loss_boxplot.png')\n",
    "p"
   ]
  },
  {
   "cell_type": "code",
   "execution_count": 21,
   "metadata": {},
   "outputs": [
    {
     "name": "stderr",
     "output_type": "stream",
     "text": [
      "/usr/lib/python3.8/site-packages/plotnine/ggplot.py:727: PlotnineWarning: Saving 6.4 x 4.8 in image.\n",
      "  warn(\"Saving {0} x {1} {2} image.\".format(\n",
      "/usr/lib/python3.8/site-packages/plotnine/ggplot.py:730: PlotnineWarning: Filename: total_loss_boxplot.svg\n",
      "  warn('Filename: {}'.format(filename), PlotnineWarning)\n"
     ]
    },
    {
     "data": {
      "image/png": "[encoded data removed]",
      "text/plain": [
       "<Figure size 640x480 with 1 Axes>"
      ]
     },
     "metadata": {},
     "output_type": "display_data"
    },
    {
     "data": {
      "text/plain": [
       "<ggplot: (8752119696761)>"
      ]
     },
     "execution_count": 21,
     "metadata": {},
     "output_type": "execute_result"
    }
   ],
   "source": [
    "p = ggplot(df, aes(x='mode', y='total_loss')) + geom_boxplot(fill='red', alpha=0.4) + geom_jitter() + theme_light()\n",
    "p.save('total_loss_boxplot.svg')\n",
    "p.save('total_loss_boxplot.png')\n",
    "p"
   ]
  },
  {
   "cell_type": "code",
   "execution_count": 14,
   "metadata": {},
   "outputs": [
    {
     "name": "stderr",
     "output_type": "stream",
     "text": [
      "/usr/lib/python3.8/site-packages/plotnine/ggplot.py:727: PlotnineWarning: Saving 6.4 x 4.8 in image.\n",
      "  warn(\"Saving {0} x {1} {2} image.\".format(\n",
      "/usr/lib/python3.8/site-packages/plotnine/ggplot.py:730: PlotnineWarning: Filename: reconstruction_loss_curve.svg\n",
      "  warn('Filename: {}'.format(filename), PlotnineWarning)\n"
     ]
    },
    {
     "data": {
      "image/png": "[encoded data removed]",
      "text/plain": [
       "<Figure size 640x480 with 1 Axes>"
      ]
     },
     "metadata": {},
     "output_type": "display_data"
    },
    {
     "data": {
      "text/plain": [
       "<ggplot: (8752119796318)>"
      ]
     },
     "execution_count": 14,
     "metadata": {},
     "output_type": "execute_result"
    }
   ],
   "source": [
    "p = ggplot(train_log, aes(x='epoch', y='reconstruction_loss', color='fold')) + geom_line() + theme_light()\n",
    "p.save('reconstruction_loss_curve.svg')\n",
    "p"
   ]
  },
  {
   "cell_type": "code",
   "execution_count": 13,
   "metadata": {},
   "outputs": [
    {
     "name": "stderr",
     "output_type": "stream",
     "text": [
      "/usr/lib/python3.8/site-packages/plotnine/ggplot.py:727: PlotnineWarning: Saving 6.4 x 4.8 in image.\n",
      "  warn(\"Saving {0} x {1} {2} image.\".format(\n",
      "/usr/lib/python3.8/site-packages/plotnine/ggplot.py:730: PlotnineWarning: Filename: total_loss_curve.svg\n",
      "  warn('Filename: {}'.format(filename), PlotnineWarning)\n"
     ]
    },
    {
     "data": {
      "image/png": "[encoded data removed]",
      "text/plain": [
       "<Figure size 640x480 with 1 Axes>"
      ]
     },
     "metadata": {},
     "output_type": "display_data"
    },
    {
     "data": {
      "text/plain": [
       "<ggplot: (8752119790894)>"
      ]
     },
     "execution_count": 13,
     "metadata": {},
     "output_type": "execute_result"
    }
   ],
   "source": [
    "p = ggplot(train_log, aes(x='epoch', y='total_loss', color='fold')) + geom_line() + theme_light()\n",
    "p.save('total_loss_curve.svg')\n",
    "p"
   ]
  },
  {
   "cell_type": "code",
   "execution_count": null,
   "metadata": {},
   "outputs": [],
   "source": []
  }
 ],
 "metadata": {
  "kernelspec": {
   "display_name": "Python 3 (ipykernel)",
   "language": "python",
   "name": "python3"
  },
  "language_info": {
   "codemirror_mode": {
    "name": "ipython",
    "version": 3
   },
   "file_extension": ".py",
   "mimetype": "text/x-python",
   "name": "python",
   "nbconvert_exporter": "python",
   "pygments_lexer": "ipython3",
   "version": "3.9.6"
  }
 },
 "nbformat": 4,
 "nbformat_minor": 4
}
