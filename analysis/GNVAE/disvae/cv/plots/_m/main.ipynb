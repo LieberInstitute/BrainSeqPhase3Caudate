{
 "cells": [
  {
   "cell_type": "code",
   "execution_count": 1,
   "metadata": {
    "execution": {
     "iopub.execute_input": "2021-09-03T23:07:47.125091Z",
     "iopub.status.busy": "2021-09-03T23:07:47.123680Z",
     "iopub.status.idle": "2021-09-03T23:07:48.767448Z",
     "shell.execute_reply": "2021-09-03T23:07:48.768480Z"
    }
   },
   "outputs": [],
   "source": [
    "import pandas as pd\n",
    "from plotnine import *\n",
    "import subprocess\n",
    "import functools"
   ]
  },
  {
   "cell_type": "code",
   "execution_count": 2,
   "metadata": {
    "execution": {
     "iopub.execute_input": "2021-09-03T23:07:48.778621Z",
     "iopub.status.busy": "2021-09-03T23:07:48.777229Z",
     "iopub.status.idle": "2021-09-03T23:07:48.779980Z",
     "shell.execute_reply": "2021-09-03T23:07:48.780996Z"
    }
   },
   "outputs": [],
   "source": [
    "def read_train_log_fold(fold, field, new_field_name):\n",
    "    with subprocess.Popen('''grep ',%s,' ../../_m/results/factor_caudategenes_fc5_fold_%d/train_losses.log | cut -d, -f 1,3''' % (field, fold), \n",
    "                          shell=True, stdout=subprocess.PIPE) as p:\n",
    "        df = pd.read_csv(p.stdout, header=None, names=['epoch',new_field_name])\n",
    "        df['mode'] = 'train'\n",
    "        df['fold'] = str(fold)\n",
    "    return df\n",
    "\n",
    "def train_df_merge(dfx, dfy):\n",
    "    return pd.merge(dfx, dfy, on=['epoch','fold','mode'])\n",
    "\n",
    "def read_train_log_all_folds(field, new_field_name, fold_iter):\n",
    "    return pd.concat(read_train_log_fold(ii, field, new_field_name) for ii in fold_iter)\n",
    "\n",
    "def read_train_log(field_dict, fold_iter):\n",
    "    return functools.reduce(train_df_merge, (read_train_log_all_folds(field, new_field_name, fold_iter) for (field, new_field_name) in field_dict.items()))\n"
   ]
  },
  {
   "cell_type": "code",
   "execution_count": 3,
   "metadata": {
    "execution": {
     "iopub.execute_input": "2021-09-03T23:07:48.789165Z",
     "iopub.status.busy": "2021-09-03T23:07:48.787908Z",
     "iopub.status.idle": "2021-09-03T23:07:48.791625Z",
     "shell.execute_reply": "2021-09-03T23:07:48.790631Z"
    }
   },
   "outputs": [],
   "source": [
    "def read_test_log_fold(fold, field, new_field_name):\n",
    "    with subprocess.Popen('''grep '\"%s\"' ../../_m/results/factor_caudategenes_fc5_fold_%d/test_losses.log | perl -ne '/(\\S+),/; print \"$1\\n\"' '''% (field, fold), \n",
    "                          shell=True, stdout=subprocess.PIPE) as p:\n",
    "        df = pd.read_csv(p.stdout, header=None, names=[new_field_name])\n",
    "        df['mode'] = 'test'\n",
    "        df['fold'] = str(fold)\n",
    "    return df\n",
    "\n",
    "def test_df_merge(dfx, dfy):\n",
    "    return pd.merge(dfx, dfy, on=['fold','mode'])\n",
    "\n",
    "def read_test_log_all_folds(field, new_field_name, fold_iter):\n",
    "    return pd.concat(read_test_log_fold(ii, field, new_field_name) for ii in fold_iter)\n",
    "\n",
    "def read_test_log(field_dict, fold_iter):\n",
    "    return functools.reduce(test_df_merge, (read_test_log_all_folds(field, new_field_name, fold_iter) for (field, new_field_name) in field_dict.items()))\n"
   ]
  },
  {
   "cell_type": "code",
   "execution_count": 4,
   "metadata": {
    "execution": {
     "iopub.execute_input": "2021-09-03T23:07:48.798334Z",
     "iopub.status.busy": "2021-09-03T23:07:48.796922Z",
     "iopub.status.idle": "2021-09-03T23:07:48.799612Z",
     "shell.execute_reply": "2021-09-03T23:07:48.800642Z"
    }
   },
   "outputs": [],
   "source": [
    "field_dict = {'loss':'total_loss', 'recon_loss':'reconstruction_loss'}"
   ]
  },
  {
   "cell_type": "code",
   "execution_count": 5,
   "metadata": {
    "execution": {
     "iopub.execute_input": "2021-09-03T23:07:48.816564Z",
     "iopub.status.busy": "2021-09-03T23:07:48.815334Z",
     "iopub.status.idle": "2021-09-03T23:07:50.273535Z",
     "shell.execute_reply": "2021-09-03T23:07:50.274677Z"
    }
   },
   "outputs": [
    {
     "data": {
      "text/html": [
       "<div>\n",
       "<style scoped>\n",
       "    .dataframe tbody tr th:only-of-type {\n",
       "        vertical-align: middle;\n",
       "    }\n",
       "\n",
       "    .dataframe tbody tr th {\n",
       "        vertical-align: top;\n",
       "    }\n",
       "\n",
       "    .dataframe thead th {\n",
       "        text-align: right;\n",
       "    }\n",
       "</style>\n",
       "<table border=\"1\" class=\"dataframe\">\n",
       "  <thead>\n",
       "    <tr style=\"text-align: right;\">\n",
       "      <th></th>\n",
       "      <th>epoch</th>\n",
       "      <th>total_loss</th>\n",
       "      <th>mode</th>\n",
       "      <th>fold</th>\n",
       "      <th>reconstruction_loss</th>\n",
       "    </tr>\n",
       "  </thead>\n",
       "  <tbody>\n",
       "    <tr>\n",
       "      <th>0</th>\n",
       "      <td>0</td>\n",
       "      <td>2592.794067</td>\n",
       "      <td>train</td>\n",
       "      <td>0</td>\n",
       "      <td>2557.712646</td>\n",
       "    </tr>\n",
       "    <tr>\n",
       "      <th>1</th>\n",
       "      <td>1</td>\n",
       "      <td>759.547592</td>\n",
       "      <td>train</td>\n",
       "      <td>0</td>\n",
       "      <td>723.138763</td>\n",
       "    </tr>\n",
       "    <tr>\n",
       "      <th>2</th>\n",
       "      <td>2</td>\n",
       "      <td>534.488922</td>\n",
       "      <td>train</td>\n",
       "      <td>0</td>\n",
       "      <td>484.744431</td>\n",
       "    </tr>\n",
       "  </tbody>\n",
       "</table>\n",
       "</div>"
      ],
      "text/plain": [
       "   epoch   total_loss   mode fold  reconstruction_loss\n",
       "0      0  2592.794067  train    0          2557.712646\n",
       "1      1   759.547592  train    0           723.138763\n",
       "2      2   534.488922  train    0           484.744431"
      ]
     },
     "execution_count": 5,
     "metadata": {},
     "output_type": "execute_result"
    }
   ],
   "source": [
    "train_log = read_train_log(field_dict, range(10))\n",
    "train_log.head(3)"
   ]
  },
  {
   "cell_type": "code",
   "execution_count": 6,
   "metadata": {
    "execution": {
     "iopub.execute_input": "2021-09-03T23:07:50.292663Z",
     "iopub.status.busy": "2021-09-03T23:07:50.290224Z",
     "iopub.status.idle": "2021-09-03T23:07:51.330116Z",
     "shell.execute_reply": "2021-09-03T23:07:51.328694Z"
    }
   },
   "outputs": [
    {
     "data": {
      "text/html": [
       "<div>\n",
       "<style scoped>\n",
       "    .dataframe tbody tr th:only-of-type {\n",
       "        vertical-align: middle;\n",
       "    }\n",
       "\n",
       "    .dataframe tbody tr th {\n",
       "        vertical-align: top;\n",
       "    }\n",
       "\n",
       "    .dataframe thead th {\n",
       "        text-align: right;\n",
       "    }\n",
       "</style>\n",
       "<table border=\"1\" class=\"dataframe\">\n",
       "  <thead>\n",
       "    <tr style=\"text-align: right;\">\n",
       "      <th></th>\n",
       "      <th>total_loss</th>\n",
       "      <th>mode</th>\n",
       "      <th>fold</th>\n",
       "      <th>reconstruction_loss</th>\n",
       "    </tr>\n",
       "  </thead>\n",
       "  <tbody>\n",
       "    <tr>\n",
       "      <th>0</th>\n",
       "      <td>206.968231</td>\n",
       "      <td>test</td>\n",
       "      <td>0</td>\n",
       "      <td>195.592321</td>\n",
       "    </tr>\n",
       "    <tr>\n",
       "      <th>1</th>\n",
       "      <td>202.620758</td>\n",
       "      <td>test</td>\n",
       "      <td>1</td>\n",
       "      <td>192.153941</td>\n",
       "    </tr>\n",
       "    <tr>\n",
       "      <th>2</th>\n",
       "      <td>205.467723</td>\n",
       "      <td>test</td>\n",
       "      <td>2</td>\n",
       "      <td>194.554362</td>\n",
       "    </tr>\n",
       "  </tbody>\n",
       "</table>\n",
       "</div>"
      ],
      "text/plain": [
       "   total_loss  mode fold  reconstruction_loss\n",
       "0  206.968231  test    0           195.592321\n",
       "1  202.620758  test    1           192.153941\n",
       "2  205.467723  test    2           194.554362"
      ]
     },
     "execution_count": 6,
     "metadata": {},
     "output_type": "execute_result"
    }
   ],
   "source": [
    "test_log = read_test_log(field_dict, range(10))\n",
    "test_log.head(3)"
   ]
  },
  {
   "cell_type": "code",
   "execution_count": 7,
   "metadata": {
    "execution": {
     "iopub.execute_input": "2021-09-03T23:07:51.341674Z",
     "iopub.status.busy": "2021-09-03T23:07:51.340416Z",
     "iopub.status.idle": "2021-09-03T23:07:51.363276Z",
     "shell.execute_reply": "2021-09-03T23:07:51.362076Z"
    }
   },
   "outputs": [
    {
     "data": {
      "text/html": [
       "<div>\n",
       "<style scoped>\n",
       "    .dataframe tbody tr th:only-of-type {\n",
       "        vertical-align: middle;\n",
       "    }\n",
       "\n",
       "    .dataframe tbody tr th {\n",
       "        vertical-align: top;\n",
       "    }\n",
       "\n",
       "    .dataframe thead th {\n",
       "        text-align: right;\n",
       "    }\n",
       "</style>\n",
       "<table border=\"1\" class=\"dataframe\">\n",
       "  <thead>\n",
       "    <tr style=\"text-align: right;\">\n",
       "      <th></th>\n",
       "      <th>total_loss</th>\n",
       "      <th>reconstruction_loss</th>\n",
       "      <th>fold</th>\n",
       "      <th>mode</th>\n",
       "    </tr>\n",
       "  </thead>\n",
       "  <tbody>\n",
       "    <tr>\n",
       "      <th>159</th>\n",
       "      <td>216.939705</td>\n",
       "      <td>193.239101</td>\n",
       "      <td>0</td>\n",
       "      <td>train</td>\n",
       "    </tr>\n",
       "    <tr>\n",
       "      <th>319</th>\n",
       "      <td>213.599487</td>\n",
       "      <td>189.792328</td>\n",
       "      <td>1</td>\n",
       "      <td>train</td>\n",
       "    </tr>\n",
       "    <tr>\n",
       "      <th>479</th>\n",
       "      <td>208.381680</td>\n",
       "      <td>184.591995</td>\n",
       "      <td>2</td>\n",
       "      <td>train</td>\n",
       "    </tr>\n",
       "    <tr>\n",
       "      <th>639</th>\n",
       "      <td>221.143719</td>\n",
       "      <td>197.254414</td>\n",
       "      <td>3</td>\n",
       "      <td>train</td>\n",
       "    </tr>\n",
       "    <tr>\n",
       "      <th>799</th>\n",
       "      <td>208.542770</td>\n",
       "      <td>184.555622</td>\n",
       "      <td>4</td>\n",
       "      <td>train</td>\n",
       "    </tr>\n",
       "    <tr>\n",
       "      <th>959</th>\n",
       "      <td>216.492531</td>\n",
       "      <td>191.878162</td>\n",
       "      <td>5</td>\n",
       "      <td>train</td>\n",
       "    </tr>\n",
       "    <tr>\n",
       "      <th>1119</th>\n",
       "      <td>215.202427</td>\n",
       "      <td>192.411461</td>\n",
       "      <td>6</td>\n",
       "      <td>train</td>\n",
       "    </tr>\n",
       "    <tr>\n",
       "      <th>1279</th>\n",
       "      <td>224.256233</td>\n",
       "      <td>200.076836</td>\n",
       "      <td>7</td>\n",
       "      <td>train</td>\n",
       "    </tr>\n",
       "    <tr>\n",
       "      <th>1439</th>\n",
       "      <td>215.819542</td>\n",
       "      <td>190.765354</td>\n",
       "      <td>8</td>\n",
       "      <td>train</td>\n",
       "    </tr>\n",
       "    <tr>\n",
       "      <th>1599</th>\n",
       "      <td>221.865852</td>\n",
       "      <td>196.594383</td>\n",
       "      <td>9</td>\n",
       "      <td>train</td>\n",
       "    </tr>\n",
       "    <tr>\n",
       "      <th>0</th>\n",
       "      <td>206.968231</td>\n",
       "      <td>195.592321</td>\n",
       "      <td>0</td>\n",
       "      <td>test</td>\n",
       "    </tr>\n",
       "    <tr>\n",
       "      <th>1</th>\n",
       "      <td>202.620758</td>\n",
       "      <td>192.153941</td>\n",
       "      <td>1</td>\n",
       "      <td>test</td>\n",
       "    </tr>\n",
       "    <tr>\n",
       "      <th>2</th>\n",
       "      <td>205.467723</td>\n",
       "      <td>194.554362</td>\n",
       "      <td>2</td>\n",
       "      <td>test</td>\n",
       "    </tr>\n",
       "    <tr>\n",
       "      <th>3</th>\n",
       "      <td>215.336400</td>\n",
       "      <td>192.255234</td>\n",
       "      <td>3</td>\n",
       "      <td>test</td>\n",
       "    </tr>\n",
       "    <tr>\n",
       "      <th>4</th>\n",
       "      <td>221.638372</td>\n",
       "      <td>196.060399</td>\n",
       "      <td>4</td>\n",
       "      <td>test</td>\n",
       "    </tr>\n",
       "    <tr>\n",
       "      <th>5</th>\n",
       "      <td>221.659439</td>\n",
       "      <td>195.163981</td>\n",
       "      <td>5</td>\n",
       "      <td>test</td>\n",
       "    </tr>\n",
       "    <tr>\n",
       "      <th>6</th>\n",
       "      <td>220.943995</td>\n",
       "      <td>197.971217</td>\n",
       "      <td>6</td>\n",
       "      <td>test</td>\n",
       "    </tr>\n",
       "    <tr>\n",
       "      <th>7</th>\n",
       "      <td>220.370722</td>\n",
       "      <td>195.574661</td>\n",
       "      <td>7</td>\n",
       "      <td>test</td>\n",
       "    </tr>\n",
       "    <tr>\n",
       "      <th>8</th>\n",
       "      <td>220.770081</td>\n",
       "      <td>195.921097</td>\n",
       "      <td>8</td>\n",
       "      <td>test</td>\n",
       "    </tr>\n",
       "    <tr>\n",
       "      <th>9</th>\n",
       "      <td>214.992101</td>\n",
       "      <td>190.544505</td>\n",
       "      <td>9</td>\n",
       "      <td>test</td>\n",
       "    </tr>\n",
       "  </tbody>\n",
       "</table>\n",
       "</div>"
      ],
      "text/plain": [
       "      total_loss  reconstruction_loss fold   mode\n",
       "159   216.939705           193.239101    0  train\n",
       "319   213.599487           189.792328    1  train\n",
       "479   208.381680           184.591995    2  train\n",
       "639   221.143719           197.254414    3  train\n",
       "799   208.542770           184.555622    4  train\n",
       "959   216.492531           191.878162    5  train\n",
       "1119  215.202427           192.411461    6  train\n",
       "1279  224.256233           200.076836    7  train\n",
       "1439  215.819542           190.765354    8  train\n",
       "1599  221.865852           196.594383    9  train\n",
       "0     206.968231           195.592321    0   test\n",
       "1     202.620758           192.153941    1   test\n",
       "2     205.467723           194.554362    2   test\n",
       "3     215.336400           192.255234    3   test\n",
       "4     221.638372           196.060399    4   test\n",
       "5     221.659439           195.163981    5   test\n",
       "6     220.943995           197.971217    6   test\n",
       "7     220.370722           195.574661    7   test\n",
       "8     220.770081           195.921097    8   test\n",
       "9     214.992101           190.544505    9   test"
      ]
     },
     "execution_count": 7,
     "metadata": {},
     "output_type": "execute_result"
    }
   ],
   "source": [
    "df = pd.concat([train_log[train_log['epoch']==159][['total_loss','reconstruction_loss','fold','mode']], test_log])\n",
    "df"
   ]
  },
  {
   "cell_type": "code",
   "execution_count": 8,
   "metadata": {
    "execution": {
     "iopub.execute_input": "2021-09-03T23:07:51.430702Z",
     "iopub.status.busy": "2021-09-03T23:07:51.423049Z",
     "iopub.status.idle": "2021-09-03T23:07:52.732944Z",
     "shell.execute_reply": "2021-09-03T23:07:52.734017Z"
    }
   },
   "outputs": [
    {
     "name": "stderr",
     "output_type": "stream",
     "text": [
      "/usr/lib/python3.9/site-packages/plotnine/ggplot.py:719: PlotnineWarning: Saving 6.4 x 4.8 in image.\n",
      "/usr/lib/python3.9/site-packages/plotnine/ggplot.py:722: PlotnineWarning: Filename: reconstruction_loss_boxplot.svg\n",
      "/usr/lib/python3.9/site-packages/plotnine/ggplot.py:719: PlotnineWarning: Saving 6.4 x 4.8 in image.\n",
      "/usr/lib/python3.9/site-packages/plotnine/ggplot.py:722: PlotnineWarning: Filename: reconstruction_loss_boxplot.png\n"
     ]
    },
    {
     "data": {
      "image/png": "[encoded data removed]",
      "text/plain": [
       "<Figure size 640x480 with 1 Axes>"
      ]
     },
     "metadata": {},
     "output_type": "display_data"
    },
    {
     "data": {
      "text/plain": [
       "<ggplot: (8748506440629)>"
      ]
     },
     "execution_count": 8,
     "metadata": {},
     "output_type": "execute_result"
    }
   ],
   "source": [
    "p = ggplot(df, aes(x='mode', y='reconstruction_loss')) + geom_boxplot(fill='red', alpha=0.4) + geom_jitter() + theme_light()\n",
    "p.save('reconstruction_loss_boxplot.svg')\n",
    "p.save('reconstruction_loss_boxplot.png')\n",
    "p"
   ]
  },
  {
   "cell_type": "code",
   "execution_count": 9,
   "metadata": {
    "execution": {
     "iopub.execute_input": "2021-09-03T23:07:52.797834Z",
     "iopub.status.busy": "2021-09-03T23:07:52.781034Z",
     "iopub.status.idle": "2021-09-03T23:07:53.867776Z",
     "shell.execute_reply": "2021-09-03T23:07:53.868834Z"
    }
   },
   "outputs": [
    {
     "name": "stderr",
     "output_type": "stream",
     "text": [
      "/usr/lib/python3.9/site-packages/plotnine/ggplot.py:719: PlotnineWarning: Saving 6.4 x 4.8 in image.\n",
      "/usr/lib/python3.9/site-packages/plotnine/ggplot.py:722: PlotnineWarning: Filename: total_loss_boxplot.svg\n",
      "/usr/lib/python3.9/site-packages/plotnine/ggplot.py:719: PlotnineWarning: Saving 6.4 x 4.8 in image.\n",
      "/usr/lib/python3.9/site-packages/plotnine/ggplot.py:722: PlotnineWarning: Filename: total_loss_boxplot.png\n"
     ]
    },
    {
     "data": {
      "image/png": "[encoded data removed]",
      "text/plain": [
       "<Figure size 640x480 with 1 Axes>"
      ]
     },
     "metadata": {},
     "output_type": "display_data"
    },
    {
     "data": {
      "text/plain": [
       "<ggplot: (8748506188487)>"
      ]
     },
     "execution_count": 9,
     "metadata": {},
     "output_type": "execute_result"
    }
   ],
   "source": [
    "p = ggplot(df, aes(x='mode', y='total_loss')) + geom_boxplot(fill='red', alpha=0.4) + geom_jitter() + theme_light()\n",
    "p.save('total_loss_boxplot.svg')\n",
    "p.save('total_loss_boxplot.png')\n",
    "p"
   ]
  },
  {
   "cell_type": "code",
   "execution_count": 10,
   "metadata": {
    "execution": {
     "iopub.execute_input": "2021-09-03T23:07:54.005770Z",
     "iopub.status.busy": "2021-09-03T23:07:54.000492Z",
     "iopub.status.idle": "2021-09-03T23:07:54.730624Z",
     "shell.execute_reply": "2021-09-03T23:07:54.729578Z"
    }
   },
   "outputs": [
    {
     "name": "stderr",
     "output_type": "stream",
     "text": [
      "/usr/lib/python3.9/site-packages/plotnine/ggplot.py:719: PlotnineWarning: Saving 6.4 x 4.8 in image.\n",
      "/usr/lib/python3.9/site-packages/plotnine/ggplot.py:722: PlotnineWarning: Filename: reconstruction_loss_curve.svg\n"
     ]
    },
    {
     "data": {
      "image/png": "[encoded data removed]",
      "text/plain": [
       "<Figure size 640x480 with 1 Axes>"
      ]
     },
     "metadata": {},
     "output_type": "display_data"
    },
    {
     "data": {
      "text/plain": [
       "<ggplot: (8748506168263)>"
      ]
     },
     "execution_count": 10,
     "metadata": {},
     "output_type": "execute_result"
    }
   ],
   "source": [
    "p = ggplot(train_log, aes(x='epoch', y='reconstruction_loss', color='fold')) + geom_line() + theme_light()\n",
    "p.save('reconstruction_loss_curve.svg')\n",
    "p"
   ]
  },
  {
   "cell_type": "code",
   "execution_count": 11,
   "metadata": {
    "execution": {
     "iopub.execute_input": "2021-09-03T23:07:54.749802Z",
     "iopub.status.busy": "2021-09-03T23:07:54.747220Z",
     "iopub.status.idle": "2021-09-03T23:07:55.471435Z",
     "shell.execute_reply": "2021-09-03T23:07:55.472505Z"
    }
   },
   "outputs": [
    {
     "name": "stderr",
     "output_type": "stream",
     "text": [
      "/usr/lib/python3.9/site-packages/plotnine/ggplot.py:719: PlotnineWarning: Saving 6.4 x 4.8 in image.\n",
      "/usr/lib/python3.9/site-packages/plotnine/ggplot.py:722: PlotnineWarning: Filename: total_loss_curve.svg\n"
     ]
    },
    {
     "data": {
      "image/png": "[encoded data removed]",
      "text/plain": [
       "<Figure size 640x480 with 1 Axes>"
      ]
     },
     "metadata": {},
     "output_type": "display_data"
    },
    {
     "data": {
      "text/plain": [
       "<ggplot: (8748506466208)>"
      ]
     },
     "execution_count": 11,
     "metadata": {},
     "output_type": "execute_result"
    }
   ],
   "source": [
    "p = ggplot(train_log, aes(x='epoch', y='total_loss', color='fold')) + geom_line() + theme_light()\n",
    "p.save('total_loss_curve.svg')\n",
    "p"
   ]
  },
  {
   "cell_type": "code",
   "execution_count": null,
   "metadata": {},
   "outputs": [],
   "source": []
  }
 ],
 "metadata": {
  "kernelspec": {
   "display_name": "Python 3 (ipykernel)",
   "language": "python",
   "name": "python3"
  },
  "language_info": {
   "codemirror_mode": {
    "name": "ipython",
    "version": 3
   },
   "file_extension": ".py",
   "mimetype": "text/x-python",
   "name": "python",
   "nbconvert_exporter": "python",
   "pygments_lexer": "ipython3",
   "version": "3.9.6"
  }
 },
 "nbformat": 4,
 "nbformat_minor": 4
}
