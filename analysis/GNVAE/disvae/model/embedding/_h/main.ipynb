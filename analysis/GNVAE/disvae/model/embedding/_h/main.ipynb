{
 "cells": [
  {
   "cell_type": "code",
   "execution_count": null,
   "metadata": {},
   "outputs": [],
   "source": [
    "import sys\n",
    "sys.path.insert(1, '/ceph/projects/v4_phase3_paper/analysis/gnvae/code/_h/disentangling-vae')\n",
    "\n",
    "import pandas as pd\n",
    "import torch\n",
    "from disvae.utils.modelIO import load_model, load_metadata\n",
    "from utils.datasets import get_dataloaders"
   ]
  },
  {
   "cell_type": "code",
   "execution_count": null,
   "metadata": {},
   "outputs": [],
   "source": [
    "dfz = pd.read_csv(\"../../../../input/select_samples/prep_data_cv/_m/Fold-alldata/X_train.csv\", index_col=0)"
   ]
  },
  {
   "cell_type": "code",
   "execution_count": null,
   "metadata": {},
   "outputs": [],
   "source": [
    "model_dir = \"../../_m/results/factor_caudategenes_fc5_fold_alldata/\"\n",
    "model = load_model(model_dir, filename = \"model.pt\")\n",
    "metadata = load_metadata(model_dir)"
   ]
  },
  {
   "cell_type": "code",
   "execution_count": null,
   "metadata": {},
   "outputs": [],
   "source": [
    "dl = get_dataloaders(\"caudategenes\", train_or_test='train', fold='alldata', shuffle=False, batch_size=1)\n"
   ]
  },
  {
   "cell_type": "code",
   "execution_count": null,
   "metadata": {},
   "outputs": [],
   "source": [
    "def latent_mu(dl):\n",
    "    model.eval()\n",
    "    for data, _ in dl:\n",
    "        mu, logvar = model.encoder(data.to(\"cuda\"))\n",
    "        \n",
    "        yield mu.cpu().detach().numpy()[0]\n",
    "\n",
    "df_mu = pd.DataFrame.from_records((latent_mu(dl)), index=dfz.index)\n",
    "df_mu.columns = [\"mu\" + str(x) for x  in df_mu.columns]"
   ]
  },
  {
   "cell_type": "code",
   "execution_count": null,
   "metadata": {},
   "outputs": [],
   "source": [
    "def latent_lv(dl):\n",
    "    model.eval()\n",
    "    i = 0\n",
    "    for data, _ in dl:\n",
    "        mu, logvar = model.encoder(data.to(\"cuda\"))\n",
    "        \n",
    "        yield logvar.cpu().detach().numpy()[0]\n",
    "\n",
    "df_lv = pd.DataFrame.from_records((latent_lv(dl)), index=dfz.index)\n",
    "df_lv.columns = [\"lv\" + str(x) for x  in df_lv.columns]"
   ]
  },
  {
   "cell_type": "code",
   "execution_count": null,
   "metadata": {},
   "outputs": [],
   "source": [
    "dfo = pd.concat([df_mu, df_lv], axis=1)\n",
    "dfo.to_csv('latent_variables.csv')"
   ]
  },
  {
   "cell_type": "code",
   "execution_count": null,
   "metadata": {},
   "outputs": [],
   "source": [
    "df_mu.head(6)"
   ]
  },
  {
   "cell_type": "code",
   "execution_count": null,
   "metadata": {},
   "outputs": [],
   "source": [
    "from plotnine import *"
   ]
  },
  {
   "cell_type": "code",
   "execution_count": null,
   "metadata": {},
   "outputs": [],
   "source": [
    "ggplot(df_mu, aes(x='mu4', y='mu5')) + geom_point(alpha=.01)"
   ]
  },
  {
   "cell_type": "code",
   "execution_count": null,
   "metadata": {},
   "outputs": [],
   "source": [
    "import umap"
   ]
  },
  {
   "cell_type": "code",
   "execution_count": null,
   "metadata": {},
   "outputs": [],
   "source": [
    "embedding = umap.UMAP(n_neighbors=3, min_dist=0.02, metric='euclidean').fit_transform(df_mu.values)\n"
   ]
  },
  {
   "cell_type": "code",
   "execution_count": null,
   "metadata": {},
   "outputs": [],
   "source": [
    "dfe = pd.DataFrame(embedding, columns =['dim1', 'dim2'], index=df_mu.index)\n"
   ]
  },
  {
   "cell_type": "code",
   "execution_count": null,
   "metadata": {},
   "outputs": [],
   "source": [
    "ggplot(dfe, aes(x='dim1', y='dim2')) + geom_point(alpha=.01)"
   ]
  },
  {
   "cell_type": "code",
   "execution_count": null,
   "metadata": {},
   "outputs": [],
   "source": [
    "dfe.head()"
   ]
  },
  {
   "cell_type": "code",
   "execution_count": null,
   "metadata": {},
   "outputs": [],
   "source": [
    "dfe.shape"
   ]
  },
  {
   "cell_type": "code",
   "execution_count": null,
   "metadata": {},
   "outputs": [],
   "source": [
    "#dfe.to_csv('umap_embedding.csv')"
   ]
  },
  {
   "cell_type": "code",
   "execution_count": null,
   "metadata": {},
   "outputs": [],
   "source": [
    "dfp = dfo.copy()\n",
    "dfp['mean_expr'] = dfz.mean(axis=1)\n"
   ]
  },
  {
   "cell_type": "code",
   "execution_count": null,
   "metadata": {},
   "outputs": [],
   "source": [
    "for var in dfo.columns:\n",
    "    p = ggplot(dfp, aes(x='mean_expr', y=var)) + geom_point(alpha=.01)\n",
    "    print(p)"
   ]
  },
  {
   "cell_type": "code",
   "execution_count": null,
   "metadata": {},
   "outputs": [],
   "source": [
    "1"
   ]
  },
  {
   "cell_type": "code",
   "execution_count": null,
   "metadata": {},
   "outputs": [],
   "source": []
  }
 ],
 "metadata": {
  "kernelspec": {
   "display_name": "Python 3 (ipykernel)",
   "language": "python",
   "name": "python3"
  },
  "language_info": {
   "codemirror_mode": {
    "name": "ipython",
    "version": 3
   },
   "file_extension": ".py",
   "mimetype": "text/x-python",
   "name": "python",
   "nbconvert_exporter": "python",
   "pygments_lexer": "ipython3",
   "version": "3.9.6"
  }
 },
 "nbformat": 4,
 "nbformat_minor": 4
}
