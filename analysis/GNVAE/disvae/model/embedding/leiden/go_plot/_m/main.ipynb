{
 "cells": [
  {
   "cell_type": "code",
   "execution_count": 1,
   "metadata": {
    "execution": {
     "iopub.execute_input": "2021-09-10T13:46:17.363476Z",
     "iopub.status.busy": "2021-09-10T13:46:17.361412Z",
     "iopub.status.idle": "2021-09-10T13:46:17.918282Z",
     "shell.execute_reply": "2021-09-10T13:46:17.919311Z"
    }
   },
   "outputs": [],
   "source": [
    "import pandas as pd\n",
    "import re\n",
    "import numpy as np\n",
    "import rpy2.robjects as ro\n",
    "from rpy2.robjects import pandas2ri\n",
    "from rpy2.robjects.conversion import localconverter\n",
    "import glob"
   ]
  },
  {
   "cell_type": "code",
   "execution_count": 2,
   "metadata": {
    "execution": {
     "iopub.execute_input": "2021-09-10T13:46:17.930964Z",
     "iopub.status.busy": "2021-09-10T13:46:17.929734Z",
     "iopub.status.idle": "2021-09-10T13:46:17.932292Z",
     "shell.execute_reply": "2021-09-10T13:46:17.933287Z"
    }
   },
   "outputs": [],
   "source": [
    "def limit_go_name(s, maxlen=45):\n",
    "    if len(s) > maxlen:\n",
    "        return s[:maxlen - 3] + '...'\n",
    "    else: \n",
    "        return s\n",
    "      \n",
    "    #m = re.search(\"^(([a-zA-Z0-9]+[^a-zA-Z0-9]){0,5})\")\n",
    "    #return m.groups(1)\n",
    "\n",
    "def go_df_for_plotting(df, name):\n",
    "\n",
    "    df = df[df['enrichment']=='e'].copy()\n",
    "    df['Log10'] = -np.log10(df['p_fdr_bh'])\n",
    "    df['Feature'] = name\n",
    "    df['prettyname'] = df['name'].apply(limit_go_name)\n",
    "\n",
    "    fac = []\n",
    "    for ii in range(df.shape[0]):\n",
    "        xx, yy = df[['ratio_in_study']].iloc[ii, 0].split('/')\n",
    "        zz, tt = df[['ratio_in_pop']].iloc[ii, 0].split('/')\n",
    "        \n",
    "        fac.append((int(xx) / int(yy)) / (int(zz) / int(tt)))\n",
    "\n",
    "    df['OddsRatio'] = fac\n",
    "    return df.drop(columns=['study_items']).sort_values('p_uncorrected')\n",
    "    \n",
    "\n",
    "\n",
    "def plot_go(df, name, filename):\n",
    "    \n",
    "    godf = go_df_for_plotting(df, name).sort_values('p_uncorrected').head(15)\n",
    "    \n",
    "    with localconverter(ro.default_converter + pandas2ri.converter):\n",
    "        r_godf = ro.conversion.py2rpy(godf)\n",
    "    \n",
    "    ro.globalenv['r_godf'] = r_godf\n",
    "    ro.globalenv['r_filename'] = filename\n",
    "    \n",
    "    \n",
    "    ro.r(\"\"\"\n",
    "    \n",
    "library(ggplot2)\n",
    "df1 = r_godf\n",
    "#df1$fac1 = -log2(df1[, 'OddsRatio'])\n",
    "\n",
    "df1$prettyname <- factor(df1$prettyname, levels = df1$prettyname[order(df1$Log10, df1$p_uncorrected, df1$name, decreasing=FALSE)])\n",
    "\n",
    "gg1 = (ggplot(df1, aes(x=Log10, y=prettyname, size=OddsRatio)) + \n",
    "       geom_point(shape=18, col='#f8766d') + \n",
    "       labs(y='', x='-log10(FDR)') + theme_bw() +\n",
    "       facet_grid('.~Feature') +\n",
    "       geom_vline(xintercept = -log10(0.05), linetype = \"dotted\") +\n",
    "       theme(axis.text=element_text(size=14),\n",
    "             axis.title=element_text(size=18, face='bold'),\n",
    "             strip.text=element_text(size=18, face='bold'), \n",
    "             ))\n",
    "\n",
    "print(r_filename)\n",
    "\n",
    "ggsave(file=paste(sep='', r_filename, '.pdf'), plot=gg1, width=10, height=6)\n",
    "ggsave(file=paste(sep='', r_filename, '.svg'), plot=gg1, width=10, height=6)\n",
    "ggsave(file=paste(sep='', r_filename, '.png'), plot=gg1, width=10, height=6)\n",
    "\n",
    "    \"\"\")\n",
    "    \n"
   ]
  },
  {
   "cell_type": "code",
   "execution_count": 3,
   "metadata": {
    "execution": {
     "iopub.execute_input": "2021-09-10T13:46:17.940198Z",
     "iopub.status.busy": "2021-09-10T13:46:17.939030Z",
     "iopub.status.idle": "2021-09-10T13:46:31.508157Z",
     "shell.execute_reply": "2021-09-10T13:46:31.509227Z"
    }
   },
   "outputs": [
    {
     "name": "stdout",
     "output_type": "stream",
     "text": [
      "[1] \"module7_go_enrichment\"\n",
      "module7_go_enrichment\n",
      "[1] \"module12_go_enrichment\"\n",
      "module12_go_enrichment\n",
      "[1] \"module14_go_enrichment\"\n",
      "module14_go_enrichment\n",
      "[1] \"module5_go_enrichment\"\n",
      "module5_go_enrichment\n",
      "[1] \"module17_go_enrichment\"\n",
      "module17_go_enrichment\n",
      "[1] \"module6_go_enrichment\"\n",
      "module6_go_enrichment\n",
      "[1] \"module19_go_enrichment\"\n",
      "module19_go_enrichment\n",
      "[1] \"module2_go_enrichment\"\n",
      "module2_go_enrichment\n",
      "[1] \"module3_go_enrichment\"\n",
      "module3_go_enrichment\n",
      "[1] \"module1_go_enrichment\"\n",
      "module1_go_enrichment\n",
      "[1] \"module9_go_enrichment\"\n",
      "module9_go_enrichment\n",
      "[1] \"module4_go_enrichment\"\n",
      "module4_go_enrichment\n",
      "[1] \"module8_go_enrichment\"\n",
      "module8_go_enrichment\n",
      "[1] \"module0_go_enrichment\"\n",
      "module0_go_enrichment\n",
      "[1] \"module16_go_enrichment\"\n",
      "module16_go_enrichment\n"
     ]
    }
   ],
   "source": [
    "for fn in glob.glob('../../_m/module*_go_enrichment.tsv'):\n",
    "    m = re.search('module(\\d+)', fn)\n",
    "    module_number = m.groups(1)\n",
    "    name = \"Module %s\" % module_number\n",
    "    filename = 'module%s_go_enrichment' % module_number\n",
    "    df = pd.read_csv(fn, sep=\"\\t\")\n",
    "    plot_go(df, name, filename)\n",
    "    print(filename)"
   ]
  },
  {
   "cell_type": "code",
   "execution_count": null,
   "metadata": {},
   "outputs": [],
   "source": []
  }
 ],
 "metadata": {
  "kernelspec": {
   "display_name": "Python 3 (ipykernel)",
   "language": "python",
   "name": "python3"
  },
  "language_info": {
   "codemirror_mode": {
    "name": "ipython",
    "version": 3
   },
   "file_extension": ".py",
   "mimetype": "text/x-python",
   "name": "python",
   "nbconvert_exporter": "python",
   "pygments_lexer": "ipython3",
   "version": "3.9.6"
  }
 },
 "nbformat": 4,
 "nbformat_minor": 4
}
