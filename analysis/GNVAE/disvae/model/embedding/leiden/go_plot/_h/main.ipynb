{
 "cells": [
  {
   "cell_type": "code",
   "execution_count": null,
   "metadata": {},
   "outputs": [],
   "source": [
    "import pandas as pd\n",
    "import re\n",
    "import numpy as np\n",
    "import rpy2.robjects as ro\n",
    "from rpy2.robjects import pandas2ri\n",
    "from rpy2.robjects.conversion import localconverter\n",
    "import glob"
   ]
  },
  {
   "cell_type": "code",
   "execution_count": null,
   "metadata": {},
   "outputs": [],
   "source": [
    "def limit_go_name(s, maxlen=45):\n",
    "    if len(s) > maxlen:\n",
    "        return s[:maxlen - 3] + '...'\n",
    "    else: \n",
    "        return s\n",
    "      \n",
    "    #m = re.search(\"^(([a-zA-Z0-9]+[^a-zA-Z0-9]){0,5})\")\n",
    "    #return m.groups(1)\n",
    "\n",
    "def go_df_for_plotting(df, name):\n",
    "    df = df[(df['enrichment']=='e')].copy()\n",
    "    df['Log10'] = -np.log10(df['p_fdr_bh'])\n",
    "    df['Feature'] = name\n",
    "    df['prettyname'] = df['name'].apply(limit_go_name)\n",
    "    fac = []\n",
    "    for ii in range(df.shape[0]):\n",
    "        xx, yy = df[['ratio_in_study']].iloc[ii, 0].split('/')\n",
    "        zz, tt = df[['ratio_in_pop']].iloc[ii, 0].split('/')    \n",
    "        fac.append((int(xx) / int(yy)) / (int(zz) / int(tt)))\n",
    "    df['OddsRatio'] = fac\n",
    "    return df.drop(columns=['study_items']).sort_values('p_uncorrected')\n",
    "    \n",
    "\n",
    "\n",
    "def plot_go(df, name, filename):\n",
    "    godf = go_df_for_plotting(df, name).sort_values(['NS', 'p_uncorrected']).head(15)\n",
    "    with localconverter(ro.default_converter + pandas2ri.converter):\n",
    "        r_godf = ro.conversion.py2rpy(godf)\n",
    "    ro.globalenv['r_godf'] = r_godf\n",
    "    ro.globalenv['r_filename'] = filename\n",
    "    ro.r(\"\"\"\n",
    "    \n",
    "library(ggplot2)\n",
    "df1 = r_godf\n",
    "#df1$fac1 = -log2(df1[, 'OddsRatio'])\n",
    "\n",
    "df1$prettyname <- factor(df1$prettyname, levels = df1$prettyname[order(df1$Log10, df1$p_uncorrected, df1$name, decreasing=FALSE)])\n",
    "\n",
    "gg1 = (ggplot(df1, aes(x=Log10, y=prettyname, size=OddsRatio)) + \n",
    "       geom_point(shape=18, col='#f8766d') + \n",
    "       labs(y='', x='-log10(FDR)') + theme_bw() +\n",
    "       facet_grid('.~Feature') +\n",
    "       geom_vline(xintercept = -log10(0.05), linetype = \"dotted\") +\n",
    "       theme(axis.text=element_text(size=14),\n",
    "             axis.title=element_text(size=18, face='bold'),\n",
    "             strip.text=element_text(size=18, face='bold'), \n",
    "             ))\n",
    "\n",
    "print(r_filename)\n",
    "\n",
    "ggsave(file=paste(sep='', r_filename, '.pdf'), plot=gg1, width=10, height=6)\n",
    "ggsave(file=paste(sep='', r_filename, '.svg'), plot=gg1, width=10, height=6)\n",
    "ggsave(file=paste(sep='', r_filename, '.png'), plot=gg1, width=10, height=6)\n",
    "\n",
    "    \"\"\")\n",
    "    \n"
   ]
  },
  {
   "cell_type": "code",
   "execution_count": null,
   "metadata": {},
   "outputs": [],
   "source": [
    "for fn in glob.glob('../../_m/module*_go_enrichment.tsv'):\n",
    "    m = re.search('module(\\d+)', fn)\n",
    "    module_number = m.groups(1)\n",
    "    name = \"Module %s\" % module_number\n",
    "    filename = 'module%s_go_enrichment' % module_number\n",
    "    df = pd.read_csv(fn, sep=\"\\t\")\n",
    "    plot_go(df, name, filename)\n",
    "    print(filename)"
   ]
  },
  {
   "cell_type": "code",
   "execution_count": null,
   "metadata": {},
   "outputs": [],
   "source": []
  }
 ],
 "metadata": {
  "kernelspec": {
   "display_name": "Python 3 (ipykernel)",
   "language": "python",
   "name": "python3"
  },
  "language_info": {
   "codemirror_mode": {
    "name": "ipython",
    "version": 3
   },
   "file_extension": ".py",
   "mimetype": "text/x-python",
   "name": "python",
   "nbconvert_exporter": "python",
   "pygments_lexer": "ipython3",
   "version": "3.9.7"
  }
 },
 "nbformat": 4,
 "nbformat_minor": 4
}
