{
 "cells": [
  {
   "cell_type": "code",
   "execution_count": null,
   "metadata": {},
   "outputs": [],
   "source": [
    "import numpy as np\n",
    "import pandas as pd\n",
    "import seaborn as sns"
   ]
  },
  {
   "cell_type": "code",
   "execution_count": null,
   "metadata": {},
   "outputs": [],
   "source": [
    "df = pd.read_csv('../../_m/module_enrichment.csv')\n",
    "err = 0.1\n",
    "df2 = np.log2(df[['gwas_or', 'twas_or', 'smr_or', 'de_or']])\\\n",
    "        .replace([np.inf, -np.inf], np.log2(err))\n",
    "df2.columns = ['GWAS', 'TWAS', 'SMR', 'DE']\n",
    "df2.index = [\"Module %d (%d genes)\" % (x,y) for x,y in zip(df2.index, df['n_genes'])]\n",
    "df3 = df[['gwas_fdr_bh', 'twas_fdr_bh', 'smr_fdr_bh', 'de_fdr_bh']]\n",
    "\n",
    "sns.set(rc = {'figure.figsize':(7,6)})\n",
    "p = sns.heatmap(df2, cmap='coolwarm', annot=df3,cbar_kws={'label': 'log2(enrichment ratio)'}, \n",
    "                center=0)\n",
    "p.set_title(\"Enrichment/depletion GWAS, TWAS, SMR, and DE genes\\n in GNVAE modules (FDR values)\",\n",
    "            weight='bold')\n",
    "p.set_xticklabels(p.get_xticklabels(), weight=\"bold\")\n",
    "p.set_yticklabels(p.get_yticklabels(), weight=\"bold\")\n",
    "p.get_figure().savefig('module_enrichment.pdf', bbox_inches='tight')\n",
    "p.get_figure().savefig('module_enrichment.svg', bbox_inches='tight')\n",
    "p.get_figure().savefig('module_enrichment.png', bbox_inches='tight')\n",
    "p"
   ]
  },
  {
   "cell_type": "code",
   "execution_count": null,
   "metadata": {},
   "outputs": [],
   "source": [
    "df = pd.read_csv('../../_m/module_enrichment_excluding_mhc_region.csv')\n",
    "err = 0.1\n",
    "df2 = np.log2(df[['gwas_or', 'twas_or', 'smr_or', 'de_or']])\\\n",
    "        .replace([np.inf, -np.inf], np.log2(err))\n",
    "df2.columns = ['GWAS', 'TWAS', 'SMR', 'DE']\n",
    "df2.index = [\"Module %d (%d genes)\" % (x,y) for x,y in zip(df2.index, df['n_genes'])]\n",
    "df3 = df[['gwas_fdr_bh', 'twas_fdr_bh', 'smr_fdr_bh', 'de_fdr_bh']]\n",
    "\n",
    "sns.set(rc = {'figure.figsize':(7,6)})\n",
    "p = sns.heatmap(df2, cmap='coolwarm', annot=df3,cbar_kws={'label': 'log2(enrichment ratio)'}, \n",
    "                center=0)\n",
    "p.set_title(\"Enrichment/depletion GWAS, TWAS, SMR, and DE genes in GNVAE modules\\n(FDR values, MHC region excluded)\", \n",
    "            weight=\"bold\")\n",
    "p.set_xticklabels(p.get_xticklabels(), weight=\"bold\")\n",
    "p.set_yticklabels(p.get_yticklabels(), weight=\"bold\")\n",
    "p.get_figure().savefig('module_enrichment_excluding_mhc_region.pdf', bbox_inches='tight')\n",
    "p.get_figure().savefig('module_enrichment_excluding_mhc_region.svg', bbox_inches='tight')\n",
    "p.get_figure().savefig('module_enrichment_excluding_mhc_region.png', bbox_inches='tight')\n",
    "p"
   ]
  },
  {
   "cell_type": "code",
   "execution_count": null,
   "metadata": {},
   "outputs": [],
   "source": []
  }
 ],
 "metadata": {
  "kernelspec": {
   "display_name": "Python 3 (ipykernel)",
   "language": "python",
   "name": "python3"
  },
  "language_info": {
   "codemirror_mode": {
    "name": "ipython",
    "version": 3
   },
   "file_extension": ".py",
   "mimetype": "text/x-python",
   "name": "python",
   "nbconvert_exporter": "python",
   "pygments_lexer": "ipython3",
   "version": "3.9.7"
  }
 },
 "nbformat": 4,
 "nbformat_minor": 4
}
