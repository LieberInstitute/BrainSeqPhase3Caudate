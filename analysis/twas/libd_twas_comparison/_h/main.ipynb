{
 "cells": [
  {
   "cell_type": "markdown",
   "metadata": {},
   "source": [
    "# TWAS tissue comparison"
   ]
  },
  {
   "cell_type": "code",
   "execution_count": null,
   "metadata": {},
   "outputs": [],
   "source": [
    "import numpy as np\n",
    "import pandas as pd\n",
    "from matplotlib import pyplot as plt\n",
    "from matplotlib_venn import venn3, venn3_circles"
   ]
  },
  {
   "cell_type": "markdown",
   "metadata": {},
   "source": [
    "## Prepare data"
   ]
  },
  {
   "cell_type": "code",
   "execution_count": null,
   "metadata": {},
   "outputs": [],
   "source": [
    "def limiting_features(set_dict, f1, f2):\n",
    "    xx = len(set_dict[f1] & set_dict[f2]) / len(set_dict[f2]) * 100\n",
    "    print(\"Comparing %s with %s: %0.2f%%\" % (f1, f2, xx))\n",
    "    print(\"Features in common: %d\" % len(set_dict[f1] & set_dict[f2]))"
   ]
  },
  {
   "cell_type": "markdown",
   "metadata": {},
   "source": [
    "### Load PGC2+CLOZUK"
   ]
  },
  {
   "cell_type": "code",
   "execution_count": null,
   "metadata": {},
   "outputs": [],
   "source": [
    "pgc2_file = '/ceph/projects/v4_phase3_paper/inputs/sz_gwas/pgc2_clozuk/map_phase3/_m/libd_hg38_pgc2sz_snps.tsv'\n",
    "pgc2_df = pd.read_csv(pgc2_file, sep='\\t', low_memory=False, index_col=0)"
   ]
  },
  {
   "cell_type": "markdown",
   "metadata": {},
   "source": [
    "### Load TWAS associations"
   ]
  },
  {
   "cell_type": "code",
   "execution_count": null,
   "metadata": {},
   "outputs": [],
   "source": [
    "caudate_file = '/ceph/projects/v4_phase3_paper/analysis/twas_ea/'+\\\n",
    "              'gene_weights/fusion_pgc2/summary_stats/_m/fusion_associations.txt'\n",
    "caudate0 = pd.read_csv(caudate_file, sep='\\t')\n",
    "caudate = caudate0[(caudate0['FDR'] <= 0.05)].copy()\n",
    "print(caudate.shape[0])"
   ]
  },
  {
   "cell_type": "code",
   "execution_count": null,
   "metadata": {},
   "outputs": [],
   "source": [
    "dlpfc_file = '/ceph/users/jbenja13/phase3_paper/phase2/twas/extract_twas/_m/dlpfc_twas_assocations_fusion.csv'\n",
    "dlpfc0 = pd.read_csv(dlpfc_file, low_memory=False)\n",
    "dlpfc0 = dlpfc0[(dlpfc0['feature'] == 'gene') & (dlpfc0['region'] == 'DLPFC')].drop('FILE', axis=1).copy()\n",
    "dlpfc0 = dlpfc0.loc[:, ['ID', 'genesymbol', 'CHR', 'P0', 'P1', 'HSQ', 'BEST.GWAS.ID', 'BEST.GWAS.Z', \n",
    "                        'EQTL.ID', 'EQTL.R2', 'EQTL.Z', 'EQTL.GWAS.Z', 'NSNP', 'NWGT', 'MODEL', \n",
    "                        'MODELCV.R2', 'MODELCV.PV', 'TWAS.Z', 'TWAS.P', 'TWAS.FDR', 'TWAS.Bonf',\n",
    "                        'BEST.GWAS.pos_hg19', 'BEST.GWAS.pos_hg38']]\\\n",
    "               .rename(columns={'ID': 'FILE', 'genesymbol': 'ID', 'TWAS.FDR': 'FDR'})\n",
    "dlpfc0.FILE = dlpfc0.FILE.str.replace('\\\\..*', '', regex=True)\n",
    "dlpfc = dlpfc0[(dlpfc0['FDR'] <= 0.05)]\n",
    "print(dlpfc.shape[0])"
   ]
  },
  {
   "cell_type": "code",
   "execution_count": null,
   "metadata": {},
   "outputs": [],
   "source": [
    "hippo_file = '/ceph/users/jbenja13/phase3_paper/phase2/twas/extract_twas/_m/hippo_twas_assocations_fusion.csv'\n",
    "hippo0 = pd.read_csv(hippo_file, low_memory=False)\n",
    "hippo0 = hippo0[(hippo0['feature'] == 'gene') & (hippo0['region'] == 'HIPPO')].drop('FILE', axis=1).copy()\n",
    "hippo0 = hippo0.loc[:, ['ID', 'genesymbol', 'CHR', 'P0', 'P1', 'HSQ', 'BEST.GWAS.ID', 'BEST.GWAS.Z', \n",
    "                        'EQTL.ID', 'EQTL.R2', 'EQTL.Z', 'EQTL.GWAS.Z', 'NSNP', 'NWGT', 'MODEL', \n",
    "                        'MODELCV.R2', 'MODELCV.PV', 'TWAS.Z', 'TWAS.P', 'TWAS.FDR', 'TWAS.Bonf',\n",
    "                        'BEST.GWAS.pos_hg19', 'BEST.GWAS.pos_hg38']]\\\n",
    "               .rename(columns={'ID': 'FILE', 'genesymbol': 'ID', 'TWAS.FDR': 'FDR'})\n",
    "hippo0.FILE = hippo0.FILE.str.replace('\\\\..*', '', regex=True)\n",
    "hippo = hippo0[(hippo0['FDR'] <= 0.05)]\n",
    "print(hippo.shape[0])"
   ]
  },
  {
   "cell_type": "code",
   "execution_count": null,
   "metadata": {},
   "outputs": [],
   "source": [
    "## Caudate\n",
    "new_caudate0 = pd.merge(caudate0, pgc2_df, left_on='BEST.GWAS.ID', right_on='our_snp_id', suffixes=['_TWAS', '_PGC2'])\n",
    "new_caudate0['GWAS.SNP'] = ['Risk SNP' if x <= 5e-8 else 'Other' for x in new_caudate0['P']]\n",
    "## DLPFC\n",
    "new_dlpfc0 = pd.merge(dlpfc0, pgc2_df, left_on='BEST.GWAS.ID', right_on='rsid', suffixes=['_TWAS', '_PGC2'])\n",
    "new_dlpfc0['GWAS.SNP'] = ['Risk SNP' if x <= 5e-8 else 'Other' for x in new_dlpfc0['P']]\n",
    "## Hippocampus\n",
    "new_hippo0 = pd.merge(hippo0, pgc2_df, left_on='BEST.GWAS.ID', right_on='rsid', suffixes=['_TWAS', '_PGC2'])\n",
    "new_hippo0['GWAS.SNP'] = ['Risk SNP' if x <= 5e-8 else 'Other' for x in new_hippo0['P']]"
   ]
  },
  {
   "cell_type": "code",
   "execution_count": null,
   "metadata": {},
   "outputs": [],
   "source": [
    "tt = pd.merge(new_caudate0[['FILE', 'ID', 'TWAS.Z', 'FDR', 'GWAS.SNP']].set_index(['FILE', 'ID']).add_prefix('Caudate_'), \n",
    "              new_dlpfc0[['FILE', 'ID', 'TWAS.Z', 'FDR', 'GWAS.SNP']].set_index(['FILE', 'ID']).add_prefix('DLPFC_'), \n",
    "              left_index=True, right_index=True, how='outer')\\\n",
    "       .merge(new_hippo0[['FILE', 'ID', 'TWAS.Z', 'FDR', 'GWAS.SNP']].set_index(['FILE', 'ID']).add_prefix('HIPPO_'),\n",
    "              left_index=True, right_index=True, how='outer')\\\n",
    "       .reset_index().rename(columns={'FILE': 'Geneid', 'ID': 'Symbol'})\n",
    "tt.sort_values(\"Caudate_FDR\").to_csv('TWAS_gene_tissue_summary.csv', index=False, header=True)\n",
    "tt.head(2)"
   ]
  },
  {
   "cell_type": "markdown",
   "metadata": {},
   "source": [
    "## Plot Venn"
   ]
  },
  {
   "cell_type": "markdown",
   "metadata": {},
   "source": [
    "### Genes"
   ]
  },
  {
   "cell_type": "markdown",
   "metadata": {},
   "source": [
    "#### Heritable comparison"
   ]
  },
  {
   "cell_type": "code",
   "execution_count": null,
   "metadata": {},
   "outputs": [],
   "source": [
    "tissues = {\n",
    "    'Caudate': set(caudate0.FILE),\n",
    "    'DLPFC': set(dlpfc0.FILE),\n",
    "    'Hippocampus': set(hippo0.FILE),\n",
    "}"
   ]
  },
  {
   "cell_type": "code",
   "execution_count": null,
   "metadata": {},
   "outputs": [],
   "source": [
    "plt.rcParams.update({'font.size': 32, 'font.weight': 'normal'})\n",
    "plt.figure(figsize=(12,12))\n",
    "\n",
    "v = venn3([tissues['Caudate'], tissues['DLPFC'], tissues['Hippocampus']], \n",
    "          ('Caudate', 'DLPFC', 'Hippocampus'))\n",
    "\n",
    "v.get_patch_by_id('100').set_alpha(0.7)\n",
    "v.get_patch_by_id('010').set_alpha(0.7)\n",
    "v.get_patch_by_id('001').set_alpha(0.7)\n",
    "\n",
    "plt.savefig('twas_tissue_comparison_allFeatures.png')\n",
    "plt.savefig('twas_tissue_comparison_allFeatures.pdf')\n",
    "plt.savefig('twas_tissue_comparison_allFeatures.svg')\n",
    "plt.show()"
   ]
  },
  {
   "cell_type": "code",
   "execution_count": null,
   "metadata": {},
   "outputs": [],
   "source": [
    "limiting_features(tissues, 'Caudate', 'Hippocampus')\n",
    "limiting_features(tissues, 'DLPFC', 'Caudate')\n",
    "limiting_features(tissues, 'DLPFC', 'Hippocampus')"
   ]
  },
  {
   "cell_type": "markdown",
   "metadata": {},
   "source": [
    "#### TWAS significant"
   ]
  },
  {
   "cell_type": "code",
   "execution_count": null,
   "metadata": {},
   "outputs": [],
   "source": [
    "tissues = {\n",
    "    'Caudate': set(caudate.FILE),\n",
    "    'DLPFC': set(dlpfc.FILE),\n",
    "    'Hippocampus': set(hippo.FILE),\n",
    "}"
   ]
  },
  {
   "cell_type": "code",
   "execution_count": null,
   "metadata": {},
   "outputs": [],
   "source": [
    "plt.rcParams.update({'font.size': 32, 'font.weight': 'normal'})\n",
    "plt.figure(figsize=(12,12))\n",
    "\n",
    "v = venn3([tissues['Caudate'], tissues['DLPFC'], tissues['Hippocampus']], \n",
    "          ('Caudate', 'DLPFC', 'Hippocampus'))\n",
    "\n",
    "v.get_patch_by_id('100').set_alpha(0.7)\n",
    "v.get_patch_by_id('010').set_alpha(0.7)\n",
    "v.get_patch_by_id('001').set_alpha(0.7)\n",
    "\n",
    "plt.savefig('twas_tissue_comparison_fdr05.png')\n",
    "plt.savefig('twas_tissue_comparison_fdr05.pdf')\n",
    "plt.savefig('twas_tissue_comparison_fdr05.svg')\n",
    "plt.show()"
   ]
  },
  {
   "cell_type": "code",
   "execution_count": null,
   "metadata": {},
   "outputs": [],
   "source": [
    "overlapping_twas = new_caudate0.set_index('FILE').loc[set(caudate.FILE) & set(dlpfc.FILE) & set(hippo.FILE), :]\n",
    "overlapping_twas.to_csv('overlapping_tissue_twasList.txt', sep='\\t')"
   ]
  },
  {
   "cell_type": "code",
   "execution_count": null,
   "metadata": {},
   "outputs": [],
   "source": [
    "overlapping_twas2 = caudate0.set_index('FILE').loc[set(caudate0.FILE) & set(dlpfc0.FILE) & set(hippo0.FILE), :]\n",
    "overlapping_twas2.to_csv('overlapping_tissue_twasList_allFeatures.txt', sep='\\t')\n",
    "overlapping_twas2.shape"
   ]
  },
  {
   "cell_type": "code",
   "execution_count": null,
   "metadata": {},
   "outputs": [],
   "source": [
    "limiting_features(tissues, 'Caudate', 'Hippocampus')\n",
    "limiting_features(tissues, 'DLPFC', 'Caudate')\n",
    "limiting_features(tissues, 'DLPFC', 'Hippocampus')"
   ]
  },
  {
   "cell_type": "code",
   "execution_count": null,
   "metadata": {},
   "outputs": [],
   "source": [
    "caudate_only_genes = new_caudate0.set_index('FILE')\\\n",
    "                                 .loc[tissues['Caudate'] - tissues['DLPFC'] - tissues['Hippocampus'], :]\n",
    "caudate_only_genes.to_csv('caudate_only_twasList_genes.txt', sep='\\t')\n",
    "print(caudate_only_genes.shape)\n",
    "caudate_only_genes.head()"
   ]
  },
  {
   "cell_type": "markdown",
   "metadata": {},
   "source": [
    "## Z score comparison"
   ]
  },
  {
   "cell_type": "code",
   "execution_count": null,
   "metadata": {},
   "outputs": [],
   "source": [
    "import warnings\n",
    "warnings.filterwarnings('ignore')\n",
    "\n",
    "from plotnine import *\n",
    "from scipy.stats import spearmanr"
   ]
  },
  {
   "cell_type": "code",
   "execution_count": null,
   "metadata": {},
   "outputs": [],
   "source": [
    "def save_plot(p, fn):\n",
    "    for ext in ['png', 'pdf', 'svg']:\n",
    "        p.save(fn + '.' + ext)"
   ]
  },
  {
   "cell_type": "markdown",
   "metadata": {},
   "source": [
    "### DLPFC and Caudate"
   ]
  },
  {
   "cell_type": "code",
   "execution_count": null,
   "metadata": {},
   "outputs": [],
   "source": [
    "df1 = dlpfc0.merge(caudate0, on=['FILE'], \n",
    "                   suffixes=['_dlpfc', '_caudate'], \n",
    "                   how='outer').fillna(0)\n",
    "\n",
    "pp = (ggplot(df1, aes(x='TWAS.Z_caudate', y='TWAS.Z_dlpfc')) + geom_point(alpha=0.5, size=1.25) + \n",
    "      labs(x='TWAS Zscore Caudate', y='TWAS Zscore DLPFC') + theme_light() + \n",
    "      theme(axis_text=element_text(size=14), axis_title=element_text(size=16, face='bold')))\n",
    "pp"
   ]
  },
  {
   "cell_type": "code",
   "execution_count": null,
   "metadata": {},
   "outputs": [],
   "source": [
    "save_plot(pp, 'twas_zscore_comparison_dlpfc_caudate_allFeatures')"
   ]
  },
  {
   "cell_type": "code",
   "execution_count": null,
   "metadata": {},
   "outputs": [],
   "source": [
    "df1 = dlpfc0.merge(caudate0, on=['FILE'], \n",
    "                   suffixes=['_dlpfc', '_caudate'], \n",
    "                   how='inner')\n",
    "spearmanr(df1['TWAS.Z_caudate'], df1['TWAS.Z_dlpfc'])"
   ]
  },
  {
   "cell_type": "code",
   "execution_count": null,
   "metadata": {},
   "outputs": [],
   "source": [
    "pp = (ggplot(df1, aes(x='TWAS.Z_caudate', y='TWAS.Z_dlpfc')) + geom_point() + \n",
    "      labs(x='TWAS Zscore Caudate', y='TWAS Zscore DLPFC') + theme_light() + \n",
    "      theme(axis_text=element_text(size=14), axis_title=element_text(size=16, face='bold')))\n",
    "pp"
   ]
  },
  {
   "cell_type": "code",
   "execution_count": null,
   "metadata": {},
   "outputs": [],
   "source": [
    "save_plot(pp, 'twas_zscore_comparison_dlpfc_caudate')"
   ]
  },
  {
   "cell_type": "markdown",
   "metadata": {},
   "source": [
    "#### Significant TWAS"
   ]
  },
  {
   "cell_type": "code",
   "execution_count": null,
   "metadata": {},
   "outputs": [],
   "source": [
    "df1 = dlpfc.merge(caudate, on=['FILE'], suffixes=['_dlpfc', '_caudate'])\n",
    "spearmanr(df1['TWAS.Z_caudate'], df1['TWAS.Z_dlpfc'])"
   ]
  },
  {
   "cell_type": "code",
   "execution_count": null,
   "metadata": {},
   "outputs": [],
   "source": [
    "pp = (ggplot(df1, aes(x='TWAS.Z_caudate', y='TWAS.Z_dlpfc')) + geom_point() + \n",
    "      labs(x='TWAS Zscore Caudate', y='TWAS Zscore DLPFC') + theme_light() + \n",
    "      theme(axis_text=element_text(size=14), axis_title=element_text(size=16, face='bold')))\n",
    "pp"
   ]
  },
  {
   "cell_type": "code",
   "execution_count": null,
   "metadata": {},
   "outputs": [],
   "source": [
    "save_plot(pp, 'twas_zscore_comparison_dlpfc_caudate_fdr05')"
   ]
  },
  {
   "cell_type": "markdown",
   "metadata": {},
   "source": [
    "### Hippocampus and Caudate"
   ]
  },
  {
   "cell_type": "code",
   "execution_count": null,
   "metadata": {},
   "outputs": [],
   "source": [
    "df2 = hippo0.merge(caudate0, on=['FILE'], \n",
    "                   suffixes=['_hippo', '_caudate'], \n",
    "                   how='outer').fillna(0)\n",
    "\n",
    "pp = (ggplot(df2, aes(x='TWAS.Z_caudate', y='TWAS.Z_hippo')) + geom_point() + \n",
    "      labs(x='TWAS Zscore Caudate', y='TWAS Zscore Hippocampus') + theme_light() + \n",
    "      theme(axis_text=element_text(size=14), axis_title=element_text(size=16, face='bold')))\n",
    "pp"
   ]
  },
  {
   "cell_type": "code",
   "execution_count": null,
   "metadata": {},
   "outputs": [],
   "source": [
    "save_plot(pp, 'twas_zscore_comparison_hippo_caudate_allFeatures')"
   ]
  },
  {
   "cell_type": "code",
   "execution_count": null,
   "metadata": {},
   "outputs": [],
   "source": [
    "df2 = hippo0.merge(caudate0, on=['FILE'], \n",
    "                   suffixes=['_hippo', '_caudate'])\n",
    "spearmanr(df2['TWAS.Z_caudate'], df2['TWAS.Z_hippo'])"
   ]
  },
  {
   "cell_type": "code",
   "execution_count": null,
   "metadata": {},
   "outputs": [],
   "source": [
    "pp = (ggplot(df2, aes(x='TWAS.Z_caudate', y='TWAS.Z_hippo')) + geom_point() + \n",
    "      labs(x='TWAS Zscore Caudate', y='TWAS Zscore Hippocampus') + theme_light() + \n",
    "      theme(axis_text=element_text(size=14), axis_title=element_text(size=16, face='bold')))\n",
    "pp"
   ]
  },
  {
   "cell_type": "code",
   "execution_count": null,
   "metadata": {},
   "outputs": [],
   "source": [
    "save_plot(pp, 'twas_zscore_comparison_hippo_caudate')"
   ]
  },
  {
   "cell_type": "markdown",
   "metadata": {},
   "source": [
    "#### Significant TWAS"
   ]
  },
  {
   "cell_type": "code",
   "execution_count": null,
   "metadata": {},
   "outputs": [],
   "source": [
    "df2 = hippo.merge(caudate, on=['FILE'], \n",
    "                  suffixes=['_hippo', '_caudate'])\n",
    "spearmanr(df2['TWAS.Z_caudate'], df2['TWAS.Z_hippo'])"
   ]
  },
  {
   "cell_type": "code",
   "execution_count": null,
   "metadata": {},
   "outputs": [],
   "source": [
    "pp = (ggplot(df2, aes(x='TWAS.Z_caudate', y='TWAS.Z_hippo')) + geom_point() + \n",
    "      labs(x='TWAS Zscore Caudate', y='TWAS Zscore Hippocampus') + theme_light() + \n",
    "      theme(axis_text=element_text(size=14), axis_title=element_text(size=16, face='bold')))\n",
    "pp"
   ]
  },
  {
   "cell_type": "code",
   "execution_count": null,
   "metadata": {},
   "outputs": [],
   "source": [
    "save_plot(pp, 'twas_zscore_comparison_hippo_caudate_fdr05')"
   ]
  },
  {
   "cell_type": "markdown",
   "metadata": {},
   "source": [
    "### DLPFC and Hippocampus"
   ]
  },
  {
   "cell_type": "code",
   "execution_count": null,
   "metadata": {},
   "outputs": [],
   "source": [
    "df3 = hippo0.merge(dlpfc0, on=['FILE'], how='outer',\n",
    "                   suffixes=['_hippo', '_dlpfc']).fillna(0)\n",
    "pp = (ggplot(df3, aes(x='TWAS.Z_dlpfc', y='TWAS.Z_hippo')) + geom_point() + \n",
    "      labs(x='TWAS Zscore DLPFC', y='TWAS Zscore Hippocampus') + theme_light() + \n",
    "      theme(axis_text=element_text(size=14), axis_title=element_text(size=16, face='bold')))\n",
    "pp"
   ]
  },
  {
   "cell_type": "code",
   "execution_count": null,
   "metadata": {},
   "outputs": [],
   "source": [
    "save_plot(pp, 'twas_zscore_comparison_hippo_dlpfc_allFeatures')"
   ]
  },
  {
   "cell_type": "code",
   "execution_count": null,
   "metadata": {},
   "outputs": [],
   "source": [
    "df3 = hippo0.merge(dlpfc0, on=['FILE'], \n",
    "                   suffixes=['_hippo', '_dlpfc'])\n",
    "spearmanr(df3['TWAS.Z_dlpfc'], df3['TWAS.Z_hippo'])"
   ]
  },
  {
   "cell_type": "code",
   "execution_count": null,
   "metadata": {},
   "outputs": [],
   "source": [
    "pp = (ggplot(df3, aes(x='TWAS.Z_dlpfc', y='TWAS.Z_hippo')) + geom_point() + \n",
    "      labs(x='TWAS Zscore DLPFC', y='TWAS Zscore Hippocampus') + theme_light() + \n",
    "      theme(axis_text=element_text(size=14), axis_title=element_text(size=16, face='bold')))\n",
    "pp"
   ]
  },
  {
   "cell_type": "code",
   "execution_count": null,
   "metadata": {},
   "outputs": [],
   "source": [
    "save_plot(pp, 'twas_zscore_comparison_hippo_dlpfc')"
   ]
  },
  {
   "cell_type": "markdown",
   "metadata": {},
   "source": [
    "#### Significant TWAS"
   ]
  },
  {
   "cell_type": "code",
   "execution_count": null,
   "metadata": {},
   "outputs": [],
   "source": [
    "df3 = dlpfc.merge(hippo, on=['FILE'], suffixes=['_dlpfc', '_hippo'])\n",
    "spearmanr(df3['TWAS.Z_hippo'], df3['TWAS.Z_dlpfc'])"
   ]
  },
  {
   "cell_type": "code",
   "execution_count": null,
   "metadata": {},
   "outputs": [],
   "source": [
    "pp = (ggplot(df3, aes(x='TWAS.Z_dlpfc', y='TWAS.Z_hippo')) + geom_point() + \n",
    "      labs(x='TWAS Zscore DLPFC', y='TWAS Zscore Hippocampus') + theme_light() + \n",
    "      theme(axis_text=element_text(size=14), axis_title=element_text(size=16, face='bold')))\n",
    "pp"
   ]
  },
  {
   "cell_type": "code",
   "execution_count": null,
   "metadata": {},
   "outputs": [],
   "source": [
    "save_plot(pp, 'twas_zscore_comparison_hippo_dlpfc_fdr05')"
   ]
  },
  {
   "cell_type": "markdown",
   "metadata": {},
   "source": []
  }
 ],
 "metadata": {
  "kernelspec": {
   "display_name": "Python 3 (ipykernel)",
   "language": "python",
   "name": "python3"
  },
  "language_info": {
   "codemirror_mode": {
    "name": "ipython",
    "version": 3
   },
   "file_extension": ".py",
   "mimetype": "text/x-python",
   "name": "python",
   "nbconvert_exporter": "python",
   "pygments_lexer": "ipython3",
   "version": "3.9.7"
  }
 },
 "nbformat": 4,
 "nbformat_minor": 4
}
