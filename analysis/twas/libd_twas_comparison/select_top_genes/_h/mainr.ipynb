{
 "cells": [
  {
   "cell_type": "markdown",
   "metadata": {},
   "source": [
    "# TWAS plot"
   ]
  },
  {
   "cell_type": "code",
   "execution_count": null,
   "metadata": {},
   "outputs": [],
   "source": [
    "suppressMessages({\n",
    "    library(dplyr)\n",
    "    library(ggtext)\n",
    "    library(ggplot2)\n",
    "})"
   ]
  },
  {
   "cell_type": "markdown",
   "metadata": {},
   "source": [
    "## Functions"
   ]
  },
  {
   "cell_type": "code",
   "execution_count": null,
   "metadata": {},
   "outputs": [],
   "source": [
    "save_plots <- function(p, fn){\n",
    "    for(ext in c('.png', '.pdf', '.svg')){\n",
    "        ggsave(paste0(fn,ext), p, width=30, height=15, units=\"cm\")\n",
    "    }\n",
    "}"
   ]
  },
  {
   "cell_type": "markdown",
   "metadata": {},
   "source": [
    "## Prepare data"
   ]
  },
  {
   "cell_type": "markdown",
   "metadata": {},
   "source": [
    "### Prepare GWAS"
   ]
  },
  {
   "cell_type": "code",
   "execution_count": null,
   "metadata": {},
   "outputs": [],
   "source": [
    "pgc2_file = '/ceph/projects/v4_phase3_paper/inputs/sz_gwas/pgc2_clozuk/map_phase3/_m/libd_hg38_pgc2sz_snps.tsv'\n",
    "gwas_data_load = data.table::fread(pgc2_file) %>% janitor::clean_names()\n",
    "\n",
    "sig_data <- gwas_data_load %>% subset(p < 0.05)\n",
    "notsig_data <- gwas_data_load %>% subset(p >= 0.05) %>% group_by(chr) %>% sample_frac(0.1)\n",
    "gwas_data <- bind_rows(sig_data, notsig_data) %>% \n",
    "    select(chr, our_snp_id, rsid, snp, bp, or, se, p)\n",
    "gwas_data %>% head(2)"
   ]
  },
  {
   "cell_type": "markdown",
   "metadata": {},
   "source": [
    "### Preparing TWAS data"
   ]
  },
  {
   "cell_type": "code",
   "execution_count": null,
   "metadata": {},
   "outputs": [],
   "source": [
    "twas_file = paste0('/ceph/projects/v4_phase3_paper/analysis/twas_ea/gene_weights', \n",
    "                  '/fusion_pgc2/summary_stats/_m/fusion_associations.txt')\n",
    "twas_data_load <- data.table::fread(twas_file) %>% janitor::clean_names() %>%\n",
    "    select(id, file, hsq, best_gwas_id, eqtl_id, model, twas_z, twas_p, fdr, bonferroni) %>%\n",
    "    inner_join(gwas_data, by=c(\"best_gwas_id\"=\"our_snp_id\"))\n",
    "twas_data_load %>% head(2)"
   ]
  },
  {
   "cell_type": "code",
   "execution_count": null,
   "metadata": {},
   "outputs": [],
   "source": [
    "data_cum <- twas_data_load %>% group_by(chr) %>% summarise(max_bp = max(bp)) %>%\n",
    "    mutate(bp_add = lag(cumsum(as.numeric(max_bp)), default=0)) %>% select(chr, bp_add)\n",
    "twas_data <- twas_data_load %>% inner_join(data_cum, by=\"chr\") %>% \n",
    "    mutate(bp_cum = bp + bp_add, group = ifelse(twas_z < 0, \"Down\", \"Up\"), \n",
    "           id=ifelse(id == \"\", as.character(file), as.character(id)))\n",
    "twas_data %>% head(2)"
   ]
  },
  {
   "cell_type": "markdown",
   "metadata": {},
   "source": [
    "### All TWAS, Caudate"
   ]
  },
  {
   "cell_type": "markdown",
   "metadata": {
    "tags": []
   },
   "source": [
    "### Plotting settings"
   ]
  },
  {
   "cell_type": "code",
   "execution_count": null,
   "metadata": {},
   "outputs": [],
   "source": [
    "axis_set <- twas_data %>% group_by(chr) %>% summarize(center = mean(bp_cum))"
   ]
  },
  {
   "cell_type": "code",
   "execution_count": null,
   "metadata": {},
   "outputs": [],
   "source": [
    "df = twas_data[twas_data$bonferroni < 0.05, ]\n",
    "df = head(df[order(df$bonferroni), ], 10)\n",
    "df"
   ]
  },
  {
   "cell_type": "markdown",
   "metadata": {},
   "source": [
    "### Plot"
   ]
  },
  {
   "cell_type": "code",
   "execution_count": null,
   "metadata": {},
   "outputs": [],
   "source": [
    "manhplot1 <- ggplot(twas_data, aes(x=bp_cum, y=twas_z)) + \n",
    "    geom_hline(yintercept = 0, color = \"black\", linetype = \"solid\") + \n",
    "    geom_point(alpha=0.75, size=1.25, aes(color=forcats::as_factor(chr))) +\n",
    "    geom_point(data=twas_data[twas_data$fdr < 0.05, ], color=\"red\", alpha=0.75) +\n",
    "    scale_x_continuous(label = axis_set$chr, breaks = axis_set$center) + \n",
    "    scale_y_continuous(expand = c(0,0), limits = c(-15, 15)) + \n",
    "    scale_color_manual(values = rep(c(\"grey40\",\"grey60\"), unique(length(axis_set$chr)))) + \n",
    "    labs(x = NULL, y = \"Z-score\") +\n",
    "    ggrepel::geom_text_repel(data=df, fontface = \"bold\", aes(x=bp_cum, y=twas_z, label=id)) +\n",
    "    theme_minimal(base_size=20) + \n",
    "    theme(\n",
    "        legend.position=\"none\", panel.border=element_blank(), \n",
    "        panel.grid.major=element_blank(), panel.grid.minor=element_blank(), \n",
    "        axis.title.y=element_markdown(), axis.text.x=element_text(angle=60, size=8, vjust=0.5)\n",
    "    )\n",
    "manhplot1"
   ]
  },
  {
   "cell_type": "code",
   "execution_count": null,
   "metadata": {},
   "outputs": [],
   "source": [
    "save_plots(manhplot1, 'caudateOnly_twas_manhattanplot')"
   ]
  },
  {
   "cell_type": "markdown",
   "metadata": {},
   "source": [
    "### Overlapping tissue"
   ]
  },
  {
   "cell_type": "code",
   "execution_count": null,
   "metadata": {},
   "outputs": [],
   "source": [
    "overlapping <- data.table::fread(\"../../_m/overlapping_tissue_twasList.txt\") %>% janitor::clean_names() %>%\n",
    "    select(id, file, chr_twas, our_snp_id, best_gwas_id, p, twas_z, twas_p, fdr) %>%\n",
    "    arrange(fdr)\n",
    "overlapping %>% head(10)"
   ]
  },
  {
   "cell_type": "code",
   "execution_count": null,
   "metadata": {
    "tags": []
   },
   "outputs": [],
   "source": [
    "dfx = overlapping %>% select(file) %>% inner_join(twas_data, by='file') %>%\n",
    "    arrange(fdr)\n",
    "\n",
    "manhplot2 <- ggplot(twas_data, aes(x=bp_cum, y=twas_z)) + \n",
    "    geom_hline(yintercept = 0, color = \"black\", linetype = \"solid\") + \n",
    "    geom_point(alpha=0.75, size=1.25, aes(color=forcats::as_factor(chr))) +\n",
    "    geom_point(data=twas_data[twas_data$fdr < 0.05, ], color=\"red\", alpha=0.75) +\n",
    "    geom_point(data=dfx, color=\"blue\", alpha=0.6) +\n",
    "    scale_x_continuous(label = axis_set$chr, breaks = axis_set$center) + \n",
    "    scale_y_continuous(expand = c(0,0), limits = c(-15, 15)) + \n",
    "    scale_color_manual(values = rep(c(\"grey40\",\"grey60\"), unique(length(axis_set$chr)))) + \n",
    "    labs(x = NULL, y = \"Z-score\") +\n",
    "    ggrepel::geom_text_repel(data=head(dfx, 10), fontface = \"bold\", aes(x=bp_cum, y=twas_z, label=id)) +\n",
    "    theme_minimal(base_size=20) + \n",
    "    theme(\n",
    "        legend.position=\"none\", panel.border=element_blank(), \n",
    "        panel.grid.major=element_blank(), panel.grid.minor=element_blank(), \n",
    "        axis.title.y=element_markdown(), axis.text.x=element_text(angle=60, size=8, vjust=0.5)\n",
    "    )\n",
    "manhplot2"
   ]
  },
  {
   "cell_type": "code",
   "execution_count": null,
   "metadata": {},
   "outputs": [],
   "source": [
    "save_plots(manhplot2, 'twas_manhattanplot')"
   ]
  },
  {
   "cell_type": "code",
   "execution_count": null,
   "metadata": {
    "tags": []
   },
   "outputs": [],
   "source": [
    "dfx = overlapping %>% select(file) %>% inner_join(twas_data, by='file') %>%\n",
    "    arrange(fdr)\n",
    "\n",
    "manhplot2 <- ggplot(twas_data, aes(x=bp_cum, y=twas_z)) + \n",
    "    geom_hline(yintercept = 0, color = \"black\", linetype = \"solid\") + \n",
    "    geom_point(alpha=0.75, size=1.25, aes(color=forcats::as_factor(chr))) +\n",
    "    geom_point(data=twas_data[twas_data$fdr < 0.05, ], color=\"red\", alpha=0.75) +\n",
    "    geom_point(data=dfx, color=\"blue\", alpha=0.75) +\n",
    "    scale_x_continuous(label = axis_set$chr, breaks = axis_set$center) + \n",
    "    scale_y_continuous(expand = c(0,0), limits = c(-15, 15)) + \n",
    "    scale_color_manual(values = rep(c(\"grey40\",\"grey60\"), unique(length(axis_set$chr)))) + \n",
    "    labs(x = NULL, y = \"Z-score\") +\n",
    "    #ggrepel::geom_text_repel(data=head(dfx, 10), fontface = \"bold\", aes(x=bp_cum, y=twas_z, label=id)) +\n",
    "    theme_minimal(base_size=20) + \n",
    "    theme(\n",
    "        legend.position=\"none\", panel.border=element_blank(), \n",
    "        panel.grid.major=element_blank(), panel.grid.minor=element_blank(), \n",
    "        axis.title.y=element_markdown(), axis.text.x=element_text(angle=60, size=8, vjust=0.5)\n",
    "    )\n",
    "manhplot2\n",
    "save_plots(manhplot2, 'twas_manhattanplot_noLabels')"
   ]
  },
  {
   "cell_type": "markdown",
   "metadata": {},
   "source": [
    "### TWAS in GWAS loci, caudate"
   ]
  },
  {
   "cell_type": "code",
   "execution_count": null,
   "metadata": {},
   "outputs": [],
   "source": [
    "df = twas_data %>% filter(bonferroni < 0.05, p > 5e-8) %>% \n",
    "    arrange(fdr) %>% head(10)\n",
    "df"
   ]
  },
  {
   "cell_type": "code",
   "execution_count": null,
   "metadata": {},
   "outputs": [],
   "source": [
    "manhplot1 <- ggplot(twas_data, aes(x=bp_cum, y=twas_z)) + \n",
    "    geom_hline(yintercept = 0, color = \"black\", linetype = \"solid\") + \n",
    "    geom_point(alpha=0.75, size=1.25, aes(color=forcats::as_factor(chr))) +\n",
    "    geom_point(data=twas_data[twas_data$fdr < 0.05, ], color=\"red\", alpha=0.75) +\n",
    "    scale_x_continuous(label = axis_set$chr, breaks = axis_set$center) + \n",
    "    scale_y_continuous(expand = c(0,0), limits = c(-15, 15)) + \n",
    "    scale_color_manual(values = rep(c(\"grey40\",\"grey60\"), unique(length(axis_set$chr)))) + \n",
    "    labs(x = NULL, y = \"Z-score\") +\n",
    "    ggrepel::geom_text_repel(data=df, fontface = \"bold\", aes(x=bp_cum, y=twas_z, label=id)) +\n",
    "    theme_minimal(base_size=20) + \n",
    "    theme(\n",
    "        legend.position=\"none\", panel.border=element_blank(), \n",
    "        panel.grid.major=element_blank(), panel.grid.minor=element_blank(), \n",
    "        axis.title.y=element_markdown(), axis.text.x=element_text(angle=60, size=8, vjust=0.5)\n",
    "    )\n",
    "manhplot1"
   ]
  },
  {
   "cell_type": "markdown",
   "metadata": {},
   "source": [
    "### Overlapping tissue in significant GWAS loci"
   ]
  },
  {
   "cell_type": "code",
   "execution_count": null,
   "metadata": {},
   "outputs": [],
   "source": [
    "overlapping = overlapping %>% filter(p > 5e-8) %>% arrange(fdr)\n",
    "overlapping %>% head(10)"
   ]
  },
  {
   "cell_type": "code",
   "execution_count": null,
   "metadata": {},
   "outputs": [],
   "source": [
    "dfx = overlapping %>% select(file) %>% inner_join(twas_data, by='file') %>%\n",
    "    arrange(fdr)\n",
    "\n",
    "manhplot2 <- ggplot(twas_data, aes(x=bp_cum, y=twas_z)) + \n",
    "    geom_hline(yintercept = 0, color = \"black\", linetype = \"solid\") + \n",
    "    geom_point(alpha=0.75, size=1.25, aes(color=forcats::as_factor(chr))) +\n",
    "    #geom_point(data=twas_data[twas_data$fdr < 0.05, ], color=\"red\", alpha=0.75) +\n",
    "    geom_point(data=dfx, color=\"blue\", alpha=0.75) +\n",
    "    scale_x_continuous(label = axis_set$chr, breaks = axis_set$center) + \n",
    "    scale_y_continuous(expand = c(0,0), limits = c(-15, 15)) + \n",
    "    scale_color_manual(values = rep(c(\"grey40\",\"grey60\"), unique(length(axis_set$chr)))) + \n",
    "    labs(x = NULL, y = \"Z-score\") +\n",
    "    ggrepel::geom_text_repel(data=head(dfx, 10), fontface = \"bold\", aes(x=bp_cum, y=twas_z, label=id)) +\n",
    "    theme_minimal(base_size=20) + \n",
    "    theme(\n",
    "        legend.position=\"none\", panel.border=element_blank(), \n",
    "        panel.grid.major=element_blank(), panel.grid.minor=element_blank(), \n",
    "        axis.title.y=element_markdown(), axis.text.x=element_text(angle=60, size=8, vjust=0.5)\n",
    "    )\n",
    "manhplot2"
   ]
  },
  {
   "cell_type": "markdown",
   "metadata": {},
   "source": [
    "### Caudate only in significant GWAS loci"
   ]
  },
  {
   "cell_type": "code",
   "execution_count": null,
   "metadata": {},
   "outputs": [],
   "source": [
    "caudate_only <- data.table::fread(\"../../_m/caudate_only_twasList_genes.txt\") %>% janitor::clean_names() %>%\n",
    "    select(id, file, chr_twas, our_snp_id, best_gwas_id, p, twas_z, twas_p, fdr) %>% arrange(fdr)\n",
    "caudate_only %>% head(10)"
   ]
  },
  {
   "cell_type": "code",
   "execution_count": null,
   "metadata": {},
   "outputs": [],
   "source": [
    "df2 = caudate_only %>% select(file) %>% inner_join(twas_data, by=\"file\") %>% arrange(fdr)\n",
    "\n",
    "manhplot3 <- ggplot(twas_data, aes(x=bp_cum, y=twas_z)) + \n",
    "    geom_hline(yintercept = 0, color = \"black\", linetype = \"solid\") + \n",
    "    geom_point(alpha=0.75, size=1.25, aes(color=forcats::as_factor(chr))) +\n",
    "    #geom_point(data=twas_data[twas_data$fdr < 0.05, ], color=\"red\", alpha=0.75) +\n",
    "    #geom_point(data=dfx, color=\"blue\", alpha=0.75) +\n",
    "    geom_point(data=df2, color=\"green\", alpha=0.75) +\n",
    "    scale_x_continuous(label = axis_set$chr, breaks = axis_set$center) + \n",
    "    scale_y_continuous(expand = c(0,0), limits = c(-15, 15)) + \n",
    "    scale_color_manual(values = rep(c(\"grey40\",\"grey60\"), unique(length(axis_set$chr)))) + \n",
    "    labs(x = NULL, y = \"Z-score\") +\n",
    "    ggrepel::geom_text_repel(data=head(df2, 10), fontface = \"bold\", aes(x=bp_cum, y=twas_z, label=id)) +\n",
    "    theme_minimal(base_size=20) + \n",
    "    theme(\n",
    "        legend.position=\"none\", panel.border=element_blank(), \n",
    "        panel.grid.major=element_blank(), panel.grid.minor=element_blank(), \n",
    "        axis.title.y=element_markdown(), axis.text.x=element_text(angle=60, size=8, vjust=0.5)\n",
    "    )\n",
    "manhplot3"
   ]
  },
  {
   "cell_type": "markdown",
   "metadata": {},
   "source": [
    "### No labels"
   ]
  },
  {
   "cell_type": "code",
   "execution_count": null,
   "metadata": {},
   "outputs": [],
   "source": [
    "manhplot0 <- ggplot(twas_data, aes(x=bp_cum, y=twas_z)) + \n",
    "    geom_hline(yintercept = 0, color = \"black\", linetype = \"solid\") + \n",
    "    geom_point(alpha=0.75, size=1.25, aes(color=forcats::as_factor(chr))) +\n",
    "    geom_point(data=twas_data[twas_data$fdr < 0.05, ], color=\"red\", alpha=0.75) +\n",
    "    geom_point(data=dfx, color=\"blue\", alpha=0.75) +\n",
    "    geom_point(data=df2, color=\"green\", alpha=0.75) +\n",
    "    scale_x_continuous(label = axis_set$chr, breaks = axis_set$center) + \n",
    "    scale_y_continuous(expand = c(0,0), limits = c(-15, 15)) + \n",
    "    scale_color_manual(values = rep(c(\"grey40\",\"grey60\"), unique(length(axis_set$chr)))) + \n",
    "    labs(x = NULL, y = \"Z-score\") +\n",
    "    #ggrepel::geom_text_repel(data=head(df2, 10), fontface = \"bold\", aes(x=bp_cum, y=twas_z, label=id)) +\n",
    "    theme_minimal(base_size=20) + \n",
    "    theme(\n",
    "        legend.position=\"none\", panel.border=element_blank(), \n",
    "        panel.grid.major=element_blank(), panel.grid.minor=element_blank(), \n",
    "        axis.title.y=element_markdown(), axis.text.x=element_text(angle=60, size=8, vjust=0.5)\n",
    "    )\n",
    "manhplot0"
   ]
  },
  {
   "cell_type": "markdown",
   "metadata": {},
   "source": [
    "## Save plots"
   ]
  },
  {
   "cell_type": "code",
   "execution_count": null,
   "metadata": {},
   "outputs": [],
   "source": [
    "save_plots(manhplot0, 'noLabel_twas_manhattanplot')\n",
    "save_plots(manhplot1, 'topSig_twas_manhattanplot')\n",
    "save_plots(manhplot2, 'sharedTop_twas_manhattanplot')\n",
    "save_plots(manhplot3, 'caudateTop_twas_manhattanplot')"
   ]
  }
 ],
 "metadata": {
  "kernelspec": {
   "display_name": "R",
   "language": "R",
   "name": "ir"
  },
  "language_info": {
   "codemirror_mode": "r",
   "file_extension": ".r",
   "mimetype": "text/x-r-source",
   "name": "R",
   "pygments_lexer": "r",
   "version": "4.1.2"
  }
 },
 "nbformat": 4,
 "nbformat_minor": 4
}
