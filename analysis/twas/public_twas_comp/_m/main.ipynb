{
 "cells": [
  {
   "cell_type": "markdown",
   "metadata": {},
   "source": [
    "# Comparison with public TWAS associations for SZ"
   ]
  },
  {
   "cell_type": "code",
   "execution_count": 1,
   "metadata": {
    "execution": {
     "iopub.execute_input": "2022-03-07T16:24:43.056698Z",
     "iopub.status.busy": "2022-03-07T16:24:43.054035Z",
     "iopub.status.idle": "2022-03-07T16:24:43.764086Z",
     "shell.execute_reply": "2022-03-07T16:24:43.762543Z"
    }
   },
   "outputs": [],
   "source": [
    "import urllib\n",
    "import numpy as np\n",
    "import pandas as pd\n",
    "from html.parser import HTMLParser\n",
    "from scipy.stats import fisher_exact\n",
    "from html.entities import name2codepoint"
   ]
  },
  {
   "cell_type": "code",
   "execution_count": 2,
   "metadata": {
    "execution": {
     "iopub.execute_input": "2022-03-07T16:24:43.772381Z",
     "iopub.status.busy": "2022-03-07T16:24:43.771614Z",
     "iopub.status.idle": "2022-03-07T16:24:43.775773Z",
     "shell.execute_reply": "2022-03-07T16:24:43.776764Z"
    }
   },
   "outputs": [],
   "source": [
    "class MyHTMLParser(HTMLParser):\n",
    "    def __init__(self):\n",
    "        super().__init__()\n",
    "        self.genes = []\n",
    "        \n",
    "    def handle_starttag(self, tag, attrs):\n",
    "        for attr in attrs:\n",
    "            if attr[0] == 'href' and attr[1].startswith('/genes/'):\n",
    "                gene = [attr[1][len('/genes/'):]]\n",
    "                self.genes += gene"
   ]
  },
  {
   "cell_type": "markdown",
   "metadata": {},
   "source": [
    "## MHC genes"
   ]
  },
  {
   "cell_type": "code",
   "execution_count": 3,
   "metadata": {
    "execution": {
     "iopub.execute_input": "2022-03-07T16:24:43.785790Z",
     "iopub.status.busy": "2022-03-07T16:24:43.784221Z",
     "iopub.status.idle": "2022-03-07T16:24:43.810556Z",
     "shell.execute_reply": "2022-03-07T16:24:43.812161Z"
    }
   },
   "outputs": [
    {
     "data": {
      "text/plain": [
       "105"
      ]
     },
     "execution_count": 3,
     "metadata": {},
     "output_type": "execute_result"
    }
   ],
   "source": [
    "mhc_genes = pd.read_csv('/ceph/projects/v4_phase3_paper/analysis/twas_ea/'+\\\n",
    "                        \"gene_weights/fusion_pgc2/_m/PGC2.SCZ.Caudate.6.dat.MHC\", sep='\\t').ID\n",
    "len(set(mhc_genes))"
   ]
  },
  {
   "cell_type": "markdown",
   "metadata": {},
   "source": [
    "## Caudate specific of BrainSeq brain regions"
   ]
  },
  {
   "cell_type": "code",
   "execution_count": 4,
   "metadata": {
    "execution": {
     "iopub.execute_input": "2022-03-07T16:24:43.821252Z",
     "iopub.status.busy": "2022-03-07T16:24:43.819557Z",
     "iopub.status.idle": "2022-03-07T16:24:43.836163Z",
     "shell.execute_reply": "2022-03-07T16:24:43.834757Z"
    }
   },
   "outputs": [
    {
     "data": {
      "text/plain": [
       "(309, 47)"
      ]
     },
     "execution_count": 4,
     "metadata": {},
     "output_type": "execute_result"
    }
   ],
   "source": [
    "fn = \"../../libd_twas_comparison/_m/caudate_only_twasList_genes.txt\"\n",
    "caudate = pd.read_csv(fn, sep='\\t')\n",
    "caudate.shape"
   ]
  },
  {
   "cell_type": "code",
   "execution_count": 5,
   "metadata": {
    "execution": {
     "iopub.execute_input": "2022-03-07T16:24:43.846219Z",
     "iopub.status.busy": "2022-03-07T16:24:43.844703Z",
     "iopub.status.idle": "2022-03-07T16:24:43.850169Z",
     "shell.execute_reply": "2022-03-07T16:24:43.851573Z"
    }
   },
   "outputs": [
    {
     "data": {
      "text/plain": [
       "241"
      ]
     },
     "execution_count": 5,
     "metadata": {},
     "output_type": "execute_result"
    }
   ],
   "source": [
    "len(set(caudate.ID) - set(mhc_genes))"
   ]
  },
  {
   "cell_type": "code",
   "execution_count": 6,
   "metadata": {
    "execution": {
     "iopub.execute_input": "2022-03-07T16:24:43.865843Z",
     "iopub.status.busy": "2022-03-07T16:24:43.864186Z",
     "iopub.status.idle": "2022-03-07T16:24:43.877627Z",
     "shell.execute_reply": "2022-03-07T16:24:43.879001Z"
    }
   },
   "outputs": [
    {
     "data": {
      "text/html": [
       "<div>\n",
       "<style scoped>\n",
       "    .dataframe tbody tr th:only-of-type {\n",
       "        vertical-align: middle;\n",
       "    }\n",
       "\n",
       "    .dataframe tbody tr th {\n",
       "        vertical-align: top;\n",
       "    }\n",
       "\n",
       "    .dataframe thead th {\n",
       "        text-align: right;\n",
       "    }\n",
       "</style>\n",
       "<table border=\"1\" class=\"dataframe\">\n",
       "  <thead>\n",
       "    <tr style=\"text-align: right;\">\n",
       "      <th></th>\n",
       "      <th>FILE</th>\n",
       "      <th>ID</th>\n",
       "      <th>CHR_TWAS</th>\n",
       "      <th>P0</th>\n",
       "      <th>P1</th>\n",
       "    </tr>\n",
       "  </thead>\n",
       "  <tbody>\n",
       "    <tr>\n",
       "      <th>0</th>\n",
       "      <td>ENSG00000242866</td>\n",
       "      <td>STRC</td>\n",
       "      <td>15</td>\n",
       "      <td>43599398</td>\n",
       "      <td>43618800.0</td>\n",
       "    </tr>\n",
       "    <tr>\n",
       "      <th>1</th>\n",
       "      <td>ENSG00000183379</td>\n",
       "      <td>SYNDIG1L</td>\n",
       "      <td>14</td>\n",
       "      <td>74405893</td>\n",
       "      <td>74426102.0</td>\n",
       "    </tr>\n",
       "  </tbody>\n",
       "</table>\n",
       "</div>"
      ],
      "text/plain": [
       "              FILE        ID  CHR_TWAS        P0          P1\n",
       "0  ENSG00000242866      STRC        15  43599398  43618800.0\n",
       "1  ENSG00000183379  SYNDIG1L        14  74405893  74426102.0"
      ]
     },
     "execution_count": 6,
     "metadata": {},
     "output_type": "execute_result"
    }
   ],
   "source": [
    "caudate_noMHC = caudate[(caudate[\"ID\"].isin(list(set(caudate.ID) - set(mhc_genes))))].copy()\n",
    "caudate_noMHC.iloc[0:2, 0:5]"
   ]
  },
  {
   "cell_type": "markdown",
   "metadata": {},
   "source": [
    "## TWAS Hub comparison"
   ]
  },
  {
   "cell_type": "markdown",
   "metadata": {},
   "source": [
    "### Schizophrenia 2014"
   ]
  },
  {
   "cell_type": "code",
   "execution_count": 7,
   "metadata": {
    "execution": {
     "iopub.execute_input": "2022-03-07T16:24:43.890223Z",
     "iopub.status.busy": "2022-03-07T16:24:43.888375Z",
     "iopub.status.idle": "2022-03-07T16:24:44.135326Z",
     "shell.execute_reply": "2022-03-07T16:24:44.133906Z"
    }
   },
   "outputs": [],
   "source": [
    "parser = MyHTMLParser()\n",
    "html_str = urllib.request.urlopen('http://twas-hub.org/traits/Schizophrenia/').read().decode()\n",
    "parser.feed(html_str)\n",
    "scz_2014 = np.unique(parser.genes)"
   ]
  },
  {
   "cell_type": "code",
   "execution_count": 8,
   "metadata": {
    "execution": {
     "iopub.execute_input": "2022-03-07T16:24:44.145906Z",
     "iopub.status.busy": "2022-03-07T16:24:44.144156Z",
     "iopub.status.idle": "2022-03-07T16:24:44.151431Z",
     "shell.execute_reply": "2022-03-07T16:24:44.149919Z"
    }
   },
   "outputs": [
    {
     "data": {
      "text/plain": [
       "(49,)"
      ]
     },
     "execution_count": 8,
     "metadata": {},
     "output_type": "execute_result"
    }
   ],
   "source": [
    "scz_2014.shape"
   ]
  },
  {
   "cell_type": "markdown",
   "metadata": {},
   "source": [
    "### Schizophrenia 2018"
   ]
  },
  {
   "cell_type": "code",
   "execution_count": 9,
   "metadata": {
    "execution": {
     "iopub.execute_input": "2022-03-07T16:24:44.161089Z",
     "iopub.status.busy": "2022-03-07T16:24:44.159384Z",
     "iopub.status.idle": "2022-03-07T16:24:44.364206Z",
     "shell.execute_reply": "2022-03-07T16:24:44.366052Z"
    }
   },
   "outputs": [],
   "source": [
    "parser = MyHTMLParser()\n",
    "html_str = urllib.request.urlopen('http://twas-hub.org/traits/SCZ_2018/').read().decode()\n",
    "parser.feed(html_str)\n",
    "scz_2018 = np.unique(parser.genes)"
   ]
  },
  {
   "cell_type": "markdown",
   "metadata": {},
   "source": [
    "### TWAS hub comparison"
   ]
  },
  {
   "cell_type": "code",
   "execution_count": 10,
   "metadata": {
    "execution": {
     "iopub.execute_input": "2022-03-07T16:24:44.376428Z",
     "iopub.status.busy": "2022-03-07T16:24:44.374857Z",
     "iopub.status.idle": "2022-03-07T16:24:44.380390Z",
     "shell.execute_reply": "2022-03-07T16:24:44.381845Z"
    }
   },
   "outputs": [
    {
     "data": {
      "text/plain": [
       "67"
      ]
     },
     "execution_count": 10,
     "metadata": {},
     "output_type": "execute_result"
    }
   ],
   "source": [
    "twas_hub = np.unique(np.append(scz_2014, scz_2018))\n",
    "len(twas_hub)"
   ]
  },
  {
   "cell_type": "code",
   "execution_count": 11,
   "metadata": {
    "execution": {
     "iopub.execute_input": "2022-03-07T16:24:44.391339Z",
     "iopub.status.busy": "2022-03-07T16:24:44.389645Z",
     "iopub.status.idle": "2022-03-07T16:24:44.395279Z",
     "shell.execute_reply": "2022-03-07T16:24:44.396696Z"
    }
   },
   "outputs": [
    {
     "data": {
      "text/plain": [
       "array(['AC011816.1', 'AC103965.1', 'ACTR5', 'AKT3', 'ALMS1P', 'ANKRD44',\n",
       "       'AS3MT', 'ATG13', 'BAI1', 'C12orf65', 'C17orf39', 'C2orf47',\n",
       "       'CACNA2D4', 'CEP170', 'CHRNA5', 'CLCN3', 'CNTN4', 'CPEB1', 'CPNE7',\n",
       "       'CRELD2', 'CUL3', 'CYSTM1', 'DCP1B', 'ELAC2', 'ERCC8', 'FAM53C',\n",
       "       'FAM83H', 'FES', 'FLJ10661', 'GIGYF1', 'GMIP', 'HSPD1', 'IK',\n",
       "       'IMMP2L', 'ITIH4-AS1', 'KIAA0319', 'KLC1', 'LGSN', 'LRRC48',\n",
       "       'MAD1L1', 'MAP7D1', 'MAPK3', 'MGAT3', 'NAGA', 'NGEF', 'PCCB',\n",
       "       'PCNX', 'PITPNM2', 'PLEKHO1', 'PPP1R13B', 'PPP1R14B', 'RERE',\n",
       "       'RP11-981G7.6', 'SDCCAG8', 'SF3B1', 'SLCO4C1', 'SMG6', 'SNAP91',\n",
       "       'SUGP2', 'THOC7', 'TRIM38', 'TTC14', 'U91328.21', 'VPS29',\n",
       "       'VPS37A', 'XPNPEP3', 'ZNF318'], dtype='<U12')"
      ]
     },
     "execution_count": 11,
     "metadata": {},
     "output_type": "execute_result"
    }
   ],
   "source": [
    "twas_hub"
   ]
  },
  {
   "cell_type": "code",
   "execution_count": 12,
   "metadata": {
    "execution": {
     "iopub.execute_input": "2022-03-07T16:24:44.407928Z",
     "iopub.status.busy": "2022-03-07T16:24:44.406198Z",
     "iopub.status.idle": "2022-03-07T16:24:44.415398Z",
     "shell.execute_reply": "2022-03-07T16:24:44.414030Z"
    }
   },
   "outputs": [
    {
     "name": "stdout",
     "output_type": "stream",
     "text": [
      "There are 6 caudate only genes present in the TWAS hub\n"
     ]
    },
    {
     "data": {
      "text/plain": [
       "{'ELAC2', 'MAD1L1', 'PPP1R13B', 'TRIM38', 'VPS29', 'VPS37A'}"
      ]
     },
     "execution_count": 12,
     "metadata": {},
     "output_type": "execute_result"
    }
   ],
   "source": [
    "print(\"There are %d caudate only genes present in the TWAS hub\" % \n",
    "      len(set(caudate.ID) & set(twas_hub)))\n",
    "set(caudate.ID) & set(twas_hub)"
   ]
  },
  {
   "cell_type": "code",
   "execution_count": 13,
   "metadata": {
    "execution": {
     "iopub.execute_input": "2022-03-07T16:24:44.428586Z",
     "iopub.status.busy": "2022-03-07T16:24:44.426928Z",
     "iopub.status.idle": "2022-03-07T16:24:44.435906Z",
     "shell.execute_reply": "2022-03-07T16:24:44.434472Z"
    }
   },
   "outputs": [
    {
     "name": "stdout",
     "output_type": "stream",
     "text": [
      "There are 6 caudate only genes (no MHC) present in the TWAS hub\n"
     ]
    },
    {
     "data": {
      "text/plain": [
       "{'ELAC2', 'MAD1L1', 'PPP1R13B', 'TRIM38', 'VPS29', 'VPS37A'}"
      ]
     },
     "execution_count": 13,
     "metadata": {},
     "output_type": "execute_result"
    }
   ],
   "source": [
    "print(\"There are %d caudate only genes (no MHC) present in the TWAS hub\" % \n",
    "      len(set(caudate_noMHC.ID) & set(twas_hub)))\n",
    "set(caudate.ID) & set(twas_hub)"
   ]
  },
  {
   "cell_type": "markdown",
   "metadata": {},
   "source": [
    "## Gandal comparison"
   ]
  },
  {
   "cell_type": "code",
   "execution_count": 14,
   "metadata": {
    "execution": {
     "iopub.execute_input": "2022-03-07T16:24:44.446774Z",
     "iopub.status.busy": "2022-03-07T16:24:44.445211Z",
     "iopub.status.idle": "2022-03-07T16:24:54.358175Z",
     "shell.execute_reply": "2022-03-07T16:24:54.356529Z"
    }
   },
   "outputs": [
    {
     "data": {
      "text/plain": [
       "193"
      ]
     },
     "execution_count": 14,
     "metadata": {},
     "output_type": "execute_result"
    }
   ],
   "source": [
    "gandal = pd.read_excel(\"../_h/aat8127_Table_S4.xlsx\", sheet_name=\"SCZ.TWAS\")\n",
    "gandal_twas = gandal[(gandal['TWAS.Bonferroni'] <= 0.05)].copy()\n",
    "np.sum(gandal.loc[:, 'TWAS.Bonferroni'] < 0.05)"
   ]
  },
  {
   "cell_type": "code",
   "execution_count": 15,
   "metadata": {
    "execution": {
     "iopub.execute_input": "2022-03-07T16:24:54.375071Z",
     "iopub.status.busy": "2022-03-07T16:24:54.373263Z",
     "iopub.status.idle": "2022-03-07T16:24:54.381620Z",
     "shell.execute_reply": "2022-03-07T16:24:54.379882Z"
    }
   },
   "outputs": [
    {
     "data": {
      "text/plain": [
       "85"
      ]
     },
     "execution_count": 15,
     "metadata": {},
     "output_type": "execute_result"
    }
   ],
   "source": [
    "caudate_bonferroni = caudate[(caudate['Bonferroni'] <= 0.05)].copy()\n",
    "np.sum(caudate.Bonferroni <= 0.05)"
   ]
  },
  {
   "cell_type": "code",
   "execution_count": 16,
   "metadata": {
    "execution": {
     "iopub.execute_input": "2022-03-07T16:24:54.400233Z",
     "iopub.status.busy": "2022-03-07T16:24:54.398573Z",
     "iopub.status.idle": "2022-03-07T16:24:54.406572Z",
     "shell.execute_reply": "2022-03-07T16:24:54.404918Z"
    }
   },
   "outputs": [
    {
     "data": {
      "text/plain": [
       "34"
      ]
     },
     "execution_count": 16,
     "metadata": {},
     "output_type": "execute_result"
    }
   ],
   "source": [
    "caudate_noMHC_bonferroni = caudate_noMHC[(caudate_noMHC['Bonferroni'] <= 0.05)].copy()\n",
    "np.sum(caudate_noMHC.Bonferroni <= 0.05)"
   ]
  },
  {
   "cell_type": "code",
   "execution_count": 17,
   "metadata": {
    "execution": {
     "iopub.execute_input": "2022-03-07T16:24:54.426564Z",
     "iopub.status.busy": "2022-03-07T16:24:54.424870Z",
     "iopub.status.idle": "2022-03-07T16:24:54.434466Z",
     "shell.execute_reply": "2022-03-07T16:24:54.432704Z"
    }
   },
   "outputs": [
    {
     "name": "stdout",
     "output_type": "stream",
     "text": [
      "There are 21 caudate only genes present in the Gandal at Bonferroni < 0.05.\n",
      "There are 29 caudate only genes present in the Gandal.\n"
     ]
    },
    {
     "data": {
      "text/plain": [
       "array(['ENSG00000175662', 'ENSG00000219891', 'ENSG00000186522',\n",
       "       'ENSG00000197279', 'ENSG00000205702', 'ENSG00000100162',\n",
       "       'ENSG00000088808', 'ENSG00000006744', 'ENSG00000186470',\n",
       "       'ENSG00000189298', 'ENSG00000204264', 'ENSG00000161896',\n",
       "       'ENSG00000163938', 'ENSG00000231389', 'ENSG00000187987',\n",
       "       'ENSG00000259404', 'ENSG00000158406', 'ENSG00000226314',\n",
       "       'ENSG00000124613', 'ENSG00000219392', 'ENSG00000262074',\n",
       "       'ENSG00000111237', 'ENSG00000272009', 'ENSG00000110492',\n",
       "       'ENSG00000198315', 'ENSG00000231925', 'ENSG00000204963',\n",
       "       'ENSG00000216901', 'ENSG00000168405'], dtype='<U15')"
      ]
     },
     "execution_count": 17,
     "metadata": {},
     "output_type": "execute_result"
    }
   ],
   "source": [
    "print(\"There are %d caudate only genes present in the Gandal at Bonferroni < 0.05.\" % \n",
    "      len(set(caudate_bonferroni.FILE) & set(gandal_twas.GeneID)))\n",
    "#list(set(caudate_bonferroni.ID) & set(gandal_twas.gene_name))\n",
    "\n",
    "print(\"There are %d caudate only genes present in the Gandal.\" % \n",
    "      len(set(caudate.FILE) & set(gandal_twas.GeneID)))\n",
    "np.array(list(set(caudate.FILE) & set(gandal_twas.GeneID)))"
   ]
  },
  {
   "cell_type": "code",
   "execution_count": 18,
   "metadata": {
    "execution": {
     "iopub.execute_input": "2022-03-07T16:24:54.453132Z",
     "iopub.status.busy": "2022-03-07T16:24:54.451505Z",
     "iopub.status.idle": "2022-03-07T16:24:54.461819Z",
     "shell.execute_reply": "2022-03-07T16:24:54.460079Z"
    }
   },
   "outputs": [
    {
     "name": "stdout",
     "output_type": "stream",
     "text": [
      "There are 9 caudate only genes (no MHC) present in the Gandal at Bonferroni < 0.05.\n",
      "There are 13 caudate only genes (no MHC) present in the Gandal.\n"
     ]
    },
    {
     "data": {
      "text/plain": [
       "array(['ENSG00000175662', 'ENSG00000262074', 'ENSG00000006744',\n",
       "       'ENSG00000111237', 'ENSG00000163938', 'ENSG00000186522',\n",
       "       'ENSG00000110492', 'ENSG00000259404', 'ENSG00000205702',\n",
       "       'ENSG00000100162', 'ENSG00000088808', 'ENSG00000204963',\n",
       "       'ENSG00000168405'], dtype='<U15')"
      ]
     },
     "execution_count": 18,
     "metadata": {},
     "output_type": "execute_result"
    }
   ],
   "source": [
    "print(\"There are %d caudate only genes (no MHC) present in the Gandal at Bonferroni < 0.05.\" % \n",
    "      len(set(caudate_noMHC_bonferroni.FILE) & set(gandal_twas.GeneID)))\n",
    "#list(set(caudate_bonferroni.ID) & set(gandal_twas.gene_name))\n",
    "\n",
    "print(\"There are %d caudate only genes (no MHC) present in the Gandal.\" % \n",
    "      len(set(caudate_noMHC.FILE) & set(gandal_twas.GeneID)))\n",
    "np.array(list(set(caudate_noMHC.FILE) & set(gandal_twas.GeneID)))"
   ]
  },
  {
   "cell_type": "markdown",
   "metadata": {},
   "source": [
    "#### MHC is present within Gandal analysis"
   ]
  },
  {
   "cell_type": "code",
   "execution_count": 19,
   "metadata": {
    "execution": {
     "iopub.execute_input": "2022-03-07T16:24:54.474204Z",
     "iopub.status.busy": "2022-03-07T16:24:54.472492Z",
     "iopub.status.idle": "2022-03-07T16:24:54.486240Z",
     "shell.execute_reply": "2022-03-07T16:24:54.484533Z"
    }
   },
   "outputs": [
    {
     "data": {
      "text/plain": [
       "(193, 31)"
      ]
     },
     "execution_count": 19,
     "metadata": {},
     "output_type": "execute_result"
    }
   ],
   "source": [
    "gandal[(gandal[\"TWAS.Bonferroni\"] < 0.05)].shape"
   ]
  },
  {
   "cell_type": "code",
   "execution_count": 20,
   "metadata": {
    "execution": {
     "iopub.execute_input": "2022-03-07T16:24:54.501239Z",
     "iopub.status.busy": "2022-03-07T16:24:54.499292Z",
     "iopub.status.idle": "2022-03-07T16:24:54.515263Z",
     "shell.execute_reply": "2022-03-07T16:24:54.513467Z"
    }
   },
   "outputs": [
    {
     "data": {
      "text/plain": [
       "(177, 31)"
      ]
     },
     "execution_count": 20,
     "metadata": {},
     "output_type": "execute_result"
    }
   ],
   "source": [
    "## Not MHC\n",
    "gandal[~(gandal['gene_name'].isin(list(set(mhc_genes)))) & \n",
    "       (gandal[\"TWAS.Bonferroni\"] < 0.05)].shape"
   ]
  },
  {
   "cell_type": "code",
   "execution_count": 21,
   "metadata": {
    "execution": {
     "iopub.execute_input": "2022-03-07T16:24:54.533572Z",
     "iopub.status.busy": "2022-03-07T16:24:54.531997Z",
     "iopub.status.idle": "2022-03-07T16:24:54.556303Z",
     "shell.execute_reply": "2022-03-07T16:24:54.554631Z"
    }
   },
   "outputs": [
    {
     "name": "stdout",
     "output_type": "stream",
     "text": [
      "There are 16 MHC genes within Gandal significant TWAS (Bonferroni < 0.05)!\n"
     ]
    },
    {
     "data": {
      "text/plain": [
       "2       HIST1H4J\n",
       "3       HIST1H3C\n",
       "5      ZSCAN12P1\n",
       "10       ZSCAN23\n",
       "15        BTN3A2\n",
       "22       ZKSCAN3\n",
       "29       ZKSCAN8\n",
       "38        ZNF165\n",
       "39      HIST1H4H\n",
       "59      ZNF192P1\n",
       "67         PSMB8\n",
       "70         IP6K3\n",
       "71        BTN2A2\n",
       "124       ZNF391\n",
       "146     HLA-DPA1\n",
       "166        TAPBP\n",
       "Name: gene_name, dtype: object"
      ]
     },
     "execution_count": 21,
     "metadata": {},
     "output_type": "execute_result"
    }
   ],
   "source": [
    "print(\"There are {} MHC genes within Gandal significant TWAS (Bonferroni < 0.05)!\"\\\n",
    "      .format(len(gandal[(gandal['gene_name'].isin(list(set(mhc_genes)))) & \n",
    "       (gandal[\"TWAS.Bonferroni\"] < 0.05)].gene_name)))\n",
    "gandal[(gandal['gene_name'].isin(list(set(mhc_genes)))) & \n",
    "       (gandal[\"TWAS.Bonferroni\"] < 0.05)].gene_name"
   ]
  },
  {
   "cell_type": "markdown",
   "metadata": {},
   "source": [
    "### Calculated enrichment with Gandal"
   ]
  },
  {
   "cell_type": "code",
   "execution_count": 22,
   "metadata": {
    "execution": {
     "iopub.execute_input": "2022-03-07T16:24:54.569019Z",
     "iopub.status.busy": "2022-03-07T16:24:54.567504Z",
     "iopub.status.idle": "2022-03-07T16:24:54.577297Z",
     "shell.execute_reply": "2022-03-07T16:24:54.575513Z"
    }
   },
   "outputs": [
    {
     "data": {
      "text/plain": [
       "(309, 47)"
      ]
     },
     "execution_count": 22,
     "metadata": {},
     "output_type": "execute_result"
    }
   ],
   "source": [
    "caudate.shape"
   ]
  },
  {
   "cell_type": "code",
   "execution_count": 23,
   "metadata": {
    "execution": {
     "iopub.execute_input": "2022-03-07T16:24:54.604755Z",
     "iopub.status.busy": "2022-03-07T16:24:54.603066Z",
     "iopub.status.idle": "2022-03-07T16:24:54.619570Z",
     "shell.execute_reply": "2022-03-07T16:24:54.621061Z"
    }
   },
   "outputs": [
    {
     "data": {
      "text/plain": [
       "(226, 6)"
      ]
     },
     "execution_count": 23,
     "metadata": {},
     "output_type": "execute_result"
    }
   ],
   "source": [
    "dft = caudate.loc[:, ['FILE', 'ID', 'Bonferroni']]\\\n",
    "             .merge(gandal.loc[:, ['GeneID', 'gene_name', 'TWAS.Bonferroni']], \n",
    "                    left_on='FILE', right_on='GeneID', \n",
    "                    suffixes=[\"_Benjamin\", \"_Gandal\"])\n",
    "dft.shape"
   ]
  },
  {
   "cell_type": "code",
   "execution_count": 24,
   "metadata": {
    "execution": {
     "iopub.execute_input": "2022-03-07T16:24:54.640615Z",
     "iopub.status.busy": "2022-03-07T16:24:54.638969Z",
     "iopub.status.idle": "2022-03-07T16:24:54.648880Z",
     "shell.execute_reply": "2022-03-07T16:24:54.647263Z"
    }
   },
   "outputs": [
    {
     "name": "stdout",
     "output_type": "stream",
     "text": [
      "[[21, 30], [8, 167]]\n"
     ]
    },
    {
     "data": {
      "text/plain": [
       "(14.6125, 7.051905747948124e-10)"
      ]
     },
     "execution_count": 24,
     "metadata": {},
     "output_type": "execute_result"
    }
   ],
   "source": [
    "table =  [[np.sum((dft['Bonferroni']<0.05) & ((dft['TWAS.Bonferroni']<.05))),\n",
    "           np.sum((dft['Bonferroni']<0.05) & ((dft['TWAS.Bonferroni']>=.05)))],\n",
    "          [np.sum((dft['Bonferroni']>=0.05) & ((dft['TWAS.Bonferroni']<.05))),\n",
    "           np.sum((dft['Bonferroni']>=0.05) & ((dft['TWAS.Bonferroni']>=.05)))]]\n",
    "print(table)\n",
    "fisher_exact(table)"
   ]
  },
  {
   "cell_type": "markdown",
   "metadata": {},
   "source": [
    "### Extract and save overlapping genes"
   ]
  },
  {
   "cell_type": "markdown",
   "metadata": {},
   "source": [
    "#### Bonferroni < 0.05"
   ]
  },
  {
   "cell_type": "code",
   "execution_count": 25,
   "metadata": {
    "execution": {
     "iopub.execute_input": "2022-03-07T16:24:54.662599Z",
     "iopub.status.busy": "2022-03-07T16:24:54.660934Z",
     "iopub.status.idle": "2022-03-07T16:24:54.669013Z",
     "shell.execute_reply": "2022-03-07T16:24:54.667385Z"
    }
   },
   "outputs": [
    {
     "data": {
      "text/plain": [
       "23"
      ]
     },
     "execution_count": 25,
     "metadata": {},
     "output_type": "execute_result"
    }
   ],
   "source": [
    "overlapping_twas = np.append(np.array(caudate_bonferroni[(caudate_bonferroni['FILE'].isin(list(set(caudate_bonferroni.FILE) & \n",
    "                                                                         set(gandal_twas.GeneID))))].ID), \n",
    "                             np.array(list(set(caudate_bonferroni.ID) & set(twas_hub))))\n",
    "len(overlapping_twas)"
   ]
  },
  {
   "cell_type": "code",
   "execution_count": 26,
   "metadata": {
    "execution": {
     "iopub.execute_input": "2022-03-07T16:24:54.681812Z",
     "iopub.status.busy": "2022-03-07T16:24:54.680007Z",
     "iopub.status.idle": "2022-03-07T16:24:54.757682Z",
     "shell.execute_reply": "2022-03-07T16:24:54.755825Z"
    }
   },
   "outputs": [
    {
     "data": {
      "text/plain": [
       "(64, 47)"
      ]
     },
     "execution_count": 26,
     "metadata": {},
     "output_type": "execute_result"
    }
   ],
   "source": [
    "caudate_bonferroni[~(caudate_bonferroni['ID'].isin(overlapping_twas))].to_csv(\"caudate_only_twasList_genes_bonferroni.txt\", \n",
    "                                                        sep='\\t', index=False)\n",
    "caudate_bonferroni[~(caudate_bonferroni['ID'].isin(overlapping_twas))].shape"
   ]
  },
  {
   "cell_type": "code",
   "execution_count": 27,
   "metadata": {
    "execution": {
     "iopub.execute_input": "2022-03-07T16:24:54.772398Z",
     "iopub.status.busy": "2022-03-07T16:24:54.770826Z",
     "iopub.status.idle": "2022-03-07T16:24:54.784955Z",
     "shell.execute_reply": "2022-03-07T16:24:54.786295Z"
    }
   },
   "outputs": [
    {
     "data": {
      "text/plain": [
       "(5, 47)"
      ]
     },
     "execution_count": 27,
     "metadata": {},
     "output_type": "execute_result"
    }
   ],
   "source": [
    "drop_caudate = caudate_bonferroni[~(caudate_bonferroni['ID'].isin(overlapping_twas))].copy()\n",
    "drop_caudate[(drop_caudate['P'] > 5e-8)].shape"
   ]
  },
  {
   "cell_type": "code",
   "execution_count": 28,
   "metadata": {
    "execution": {
     "iopub.execute_input": "2022-03-07T16:24:54.814678Z",
     "iopub.status.busy": "2022-03-07T16:24:54.799445Z",
     "iopub.status.idle": "2022-03-07T16:24:54.831166Z",
     "shell.execute_reply": "2022-03-07T16:24:54.832618Z"
    }
   },
   "outputs": [
    {
     "data": {
      "text/html": [
       "<div>\n",
       "<style scoped>\n",
       "    .dataframe tbody tr th:only-of-type {\n",
       "        vertical-align: middle;\n",
       "    }\n",
       "\n",
       "    .dataframe tbody tr th {\n",
       "        vertical-align: top;\n",
       "    }\n",
       "\n",
       "    .dataframe thead th {\n",
       "        text-align: right;\n",
       "    }\n",
       "</style>\n",
       "<table border=\"1\" class=\"dataframe\">\n",
       "  <thead>\n",
       "    <tr style=\"text-align: right;\">\n",
       "      <th></th>\n",
       "      <th>ID</th>\n",
       "      <th>our_snp_id</th>\n",
       "      <th>CHR_TWAS</th>\n",
       "      <th>FDR</th>\n",
       "      <th>P</th>\n",
       "      <th>FILE</th>\n",
       "    </tr>\n",
       "  </thead>\n",
       "  <tbody>\n",
       "    <tr>\n",
       "      <th>270</th>\n",
       "      <td>CROCC</td>\n",
       "      <td>chr1:16497972:T:C</td>\n",
       "      <td>1</td>\n",
       "      <td>0.000042</td>\n",
       "      <td>1.200000e-04</td>\n",
       "      <td>ENSG00000058453</td>\n",
       "    </tr>\n",
       "    <tr>\n",
       "      <th>85</th>\n",
       "      <td>ANKRD45</td>\n",
       "      <td>chr1:173743105:T:C</td>\n",
       "      <td>1</td>\n",
       "      <td>0.000054</td>\n",
       "      <td>5.050000e-07</td>\n",
       "      <td>ENSG00000183831</td>\n",
       "    </tr>\n",
       "    <tr>\n",
       "      <th>0</th>\n",
       "      <td>STRC</td>\n",
       "      <td>chr15:43782086:A:G</td>\n",
       "      <td>15</td>\n",
       "      <td>0.000183</td>\n",
       "      <td>2.750000e-06</td>\n",
       "      <td>ENSG00000242866</td>\n",
       "    </tr>\n",
       "    <tr>\n",
       "      <th>70</th>\n",
       "      <td>ADRA2A</td>\n",
       "      <td>chr10:111513602:C:T</td>\n",
       "      <td>10</td>\n",
       "      <td>0.000244</td>\n",
       "      <td>1.650000e-05</td>\n",
       "      <td>ENSG00000150594</td>\n",
       "    </tr>\n",
       "    <tr>\n",
       "      <th>56</th>\n",
       "      <td>CCDC92</td>\n",
       "      <td>chr12:123431550:A:G</td>\n",
       "      <td>12</td>\n",
       "      <td>0.000334</td>\n",
       "      <td>7.100000e-07</td>\n",
       "      <td>ENSG00000119242</td>\n",
       "    </tr>\n",
       "  </tbody>\n",
       "</table>\n",
       "</div>"
      ],
      "text/plain": [
       "          ID           our_snp_id  CHR_TWAS       FDR             P  \\\n",
       "270    CROCC    chr1:16497972:T:C         1  0.000042  1.200000e-04   \n",
       "85   ANKRD45   chr1:173743105:T:C         1  0.000054  5.050000e-07   \n",
       "0       STRC   chr15:43782086:A:G        15  0.000183  2.750000e-06   \n",
       "70    ADRA2A  chr10:111513602:C:T        10  0.000244  1.650000e-05   \n",
       "56    CCDC92  chr12:123431550:A:G        12  0.000334  7.100000e-07   \n",
       "\n",
       "                FILE  \n",
       "270  ENSG00000058453  \n",
       "85   ENSG00000183831  \n",
       "0    ENSG00000242866  \n",
       "70   ENSG00000150594  \n",
       "56   ENSG00000119242  "
      ]
     },
     "execution_count": 28,
     "metadata": {},
     "output_type": "execute_result"
    }
   ],
   "source": [
    "drop_caudate[(drop_caudate['P'] > 5e-8)].sort_values('FDR')\\\n",
    "                                        .loc[:, ['ID', 'our_snp_id', 'CHR_TWAS', 'FDR', 'P', 'FILE']]"
   ]
  },
  {
   "cell_type": "markdown",
   "metadata": {},
   "source": [
    "#### FDR < 0.05"
   ]
  },
  {
   "cell_type": "code",
   "execution_count": 29,
   "metadata": {
    "execution": {
     "iopub.execute_input": "2022-03-07T16:24:54.847443Z",
     "iopub.status.busy": "2022-03-07T16:24:54.840027Z",
     "iopub.status.idle": "2022-03-07T16:24:54.861172Z",
     "shell.execute_reply": "2022-03-07T16:24:54.859341Z"
    }
   },
   "outputs": [
    {
     "data": {
      "text/plain": [
       "35"
      ]
     },
     "execution_count": 29,
     "metadata": {},
     "output_type": "execute_result"
    }
   ],
   "source": [
    "overlapping_twas = np.append(np.array(caudate[(caudate['FILE'].isin(list(set(caudate.FILE) & \n",
    "                                                                         set(gandal_twas.GeneID))))].ID), \n",
    "                             np.array(list(set(caudate.ID) & set(twas_hub))))\n",
    "len(overlapping_twas)"
   ]
  },
  {
   "cell_type": "code",
   "execution_count": 30,
   "metadata": {
    "execution": {
     "iopub.execute_input": "2022-03-07T16:24:54.878783Z",
     "iopub.status.busy": "2022-03-07T16:24:54.877175Z",
     "iopub.status.idle": "2022-03-07T16:24:54.963382Z",
     "shell.execute_reply": "2022-03-07T16:24:54.961721Z"
    }
   },
   "outputs": [
    {
     "data": {
      "text/plain": [
       "(277, 47)"
      ]
     },
     "execution_count": 30,
     "metadata": {},
     "output_type": "execute_result"
    }
   ],
   "source": [
    "caudate[~(caudate['ID'].isin(overlapping_twas))].to_csv(\"caudate_only_twasList_genes.txt\", \n",
    "                                                        sep='\\t', index=False)\n",
    "caudate[~(caudate['ID'].isin(overlapping_twas))].shape"
   ]
  },
  {
   "cell_type": "code",
   "execution_count": 31,
   "metadata": {
    "execution": {
     "iopub.execute_input": "2022-03-07T16:24:54.983850Z",
     "iopub.status.busy": "2022-03-07T16:24:54.977526Z",
     "iopub.status.idle": "2022-03-07T16:24:54.993278Z",
     "shell.execute_reply": "2022-03-07T16:24:54.991557Z"
    }
   },
   "outputs": [
    {
     "data": {
      "text/plain": [
       "(173, 47)"
      ]
     },
     "execution_count": 31,
     "metadata": {},
     "output_type": "execute_result"
    }
   ],
   "source": [
    "drop_caudate = caudate[~(caudate['ID'].isin(overlapping_twas))].copy()\n",
    "drop_caudate[(drop_caudate['P'] > 5e-8)].shape"
   ]
  },
  {
   "cell_type": "code",
   "execution_count": 32,
   "metadata": {
    "execution": {
     "iopub.execute_input": "2022-03-07T16:24:55.037204Z",
     "iopub.status.busy": "2022-03-07T16:24:55.006468Z",
     "iopub.status.idle": "2022-03-07T16:24:55.050962Z",
     "shell.execute_reply": "2022-03-07T16:24:55.049280Z"
    }
   },
   "outputs": [
    {
     "data": {
      "text/html": [
       "<div>\n",
       "<style scoped>\n",
       "    .dataframe tbody tr th:only-of-type {\n",
       "        vertical-align: middle;\n",
       "    }\n",
       "\n",
       "    .dataframe tbody tr th {\n",
       "        vertical-align: top;\n",
       "    }\n",
       "\n",
       "    .dataframe thead th {\n",
       "        text-align: right;\n",
       "    }\n",
       "</style>\n",
       "<table border=\"1\" class=\"dataframe\">\n",
       "  <thead>\n",
       "    <tr style=\"text-align: right;\">\n",
       "      <th></th>\n",
       "      <th>ID</th>\n",
       "      <th>our_snp_id</th>\n",
       "      <th>CHR_TWAS</th>\n",
       "      <th>FDR</th>\n",
       "      <th>P</th>\n",
       "      <th>FILE</th>\n",
       "    </tr>\n",
       "  </thead>\n",
       "  <tbody>\n",
       "    <tr>\n",
       "      <th>270</th>\n",
       "      <td>CROCC</td>\n",
       "      <td>chr1:16497972:T:C</td>\n",
       "      <td>1</td>\n",
       "      <td>0.000042</td>\n",
       "      <td>1.200000e-04</td>\n",
       "      <td>ENSG00000058453</td>\n",
       "    </tr>\n",
       "    <tr>\n",
       "      <th>85</th>\n",
       "      <td>ANKRD45</td>\n",
       "      <td>chr1:173743105:T:C</td>\n",
       "      <td>1</td>\n",
       "      <td>0.000054</td>\n",
       "      <td>5.050000e-07</td>\n",
       "      <td>ENSG00000183831</td>\n",
       "    </tr>\n",
       "    <tr>\n",
       "      <th>0</th>\n",
       "      <td>STRC</td>\n",
       "      <td>chr15:43782086:A:G</td>\n",
       "      <td>15</td>\n",
       "      <td>0.000183</td>\n",
       "      <td>2.750000e-06</td>\n",
       "      <td>ENSG00000242866</td>\n",
       "    </tr>\n",
       "    <tr>\n",
       "      <th>70</th>\n",
       "      <td>ADRA2A</td>\n",
       "      <td>chr10:111513602:C:T</td>\n",
       "      <td>10</td>\n",
       "      <td>0.000244</td>\n",
       "      <td>1.650000e-05</td>\n",
       "      <td>ENSG00000150594</td>\n",
       "    </tr>\n",
       "    <tr>\n",
       "      <th>56</th>\n",
       "      <td>CCDC92</td>\n",
       "      <td>chr12:123431550:A:G</td>\n",
       "      <td>12</td>\n",
       "      <td>0.000334</td>\n",
       "      <td>7.100000e-07</td>\n",
       "      <td>ENSG00000119242</td>\n",
       "    </tr>\n",
       "    <tr>\n",
       "      <th>183</th>\n",
       "      <td>TBC1D5</td>\n",
       "      <td>chr3:16834975:C:T</td>\n",
       "      <td>3</td>\n",
       "      <td>0.000449</td>\n",
       "      <td>5.770000e-08</td>\n",
       "      <td>ENSG00000131374</td>\n",
       "    </tr>\n",
       "    <tr>\n",
       "      <th>71</th>\n",
       "      <td>STIM2</td>\n",
       "      <td>chr4:26781831:A:G</td>\n",
       "      <td>4</td>\n",
       "      <td>0.000558</td>\n",
       "      <td>4.210000e-07</td>\n",
       "      <td>ENSG00000109689</td>\n",
       "    </tr>\n",
       "    <tr>\n",
       "      <th>205</th>\n",
       "      <td>NTN5</td>\n",
       "      <td>chr19:48746940:T:C</td>\n",
       "      <td>19</td>\n",
       "      <td>0.000645</td>\n",
       "      <td>1.100000e-06</td>\n",
       "      <td>ENSG00000142233</td>\n",
       "    </tr>\n",
       "    <tr>\n",
       "      <th>182</th>\n",
       "      <td>SLC39A10</td>\n",
       "      <td>chr2:195559315:A:C</td>\n",
       "      <td>2</td>\n",
       "      <td>0.000664</td>\n",
       "      <td>3.000000e-05</td>\n",
       "      <td>ENSG00000196950</td>\n",
       "    </tr>\n",
       "    <tr>\n",
       "      <th>21</th>\n",
       "      <td>ENSG00000263715</td>\n",
       "      <td>chr17:46055092:G:A</td>\n",
       "      <td>17</td>\n",
       "      <td>0.000707</td>\n",
       "      <td>1.140000e-05</td>\n",
       "      <td>ENSG00000263715</td>\n",
       "    </tr>\n",
       "    <tr>\n",
       "      <th>212</th>\n",
       "      <td>ASIC1</td>\n",
       "      <td>chr12:50258497:G:A</td>\n",
       "      <td>12</td>\n",
       "      <td>0.000725</td>\n",
       "      <td>2.390000e-05</td>\n",
       "      <td>ENSG00000110881</td>\n",
       "    </tr>\n",
       "    <tr>\n",
       "      <th>215</th>\n",
       "      <td>UBQLN4</td>\n",
       "      <td>chr1:155906822:G:A</td>\n",
       "      <td>1</td>\n",
       "      <td>0.000816</td>\n",
       "      <td>9.600000e-06</td>\n",
       "      <td>ENSG00000160803</td>\n",
       "    </tr>\n",
       "    <tr>\n",
       "      <th>232</th>\n",
       "      <td>PPM1E</td>\n",
       "      <td>chr17:58681018:A:G</td>\n",
       "      <td>17</td>\n",
       "      <td>0.001272</td>\n",
       "      <td>2.390000e-06</td>\n",
       "      <td>ENSG00000175175</td>\n",
       "    </tr>\n",
       "    <tr>\n",
       "      <th>222</th>\n",
       "      <td>SNF8</td>\n",
       "      <td>chr17:48963251:G:A</td>\n",
       "      <td>17</td>\n",
       "      <td>0.001370</td>\n",
       "      <td>5.910000e-06</td>\n",
       "      <td>ENSG00000159210</td>\n",
       "    </tr>\n",
       "    <tr>\n",
       "      <th>40</th>\n",
       "      <td>PCDHB7</td>\n",
       "      <td>chr5:140841554:G:A</td>\n",
       "      <td>5</td>\n",
       "      <td>0.001405</td>\n",
       "      <td>8.660000e-07</td>\n",
       "      <td>ENSG00000113212</td>\n",
       "    </tr>\n",
       "    <tr>\n",
       "      <th>18</th>\n",
       "      <td>TRPS1</td>\n",
       "      <td>chr8:115455975:A:G</td>\n",
       "      <td>8</td>\n",
       "      <td>0.002413</td>\n",
       "      <td>4.280000e-07</td>\n",
       "      <td>ENSG00000104447</td>\n",
       "    </tr>\n",
       "    <tr>\n",
       "      <th>92</th>\n",
       "      <td>SSR2</td>\n",
       "      <td>chr1:155906822:G:A</td>\n",
       "      <td>1</td>\n",
       "      <td>0.002756</td>\n",
       "      <td>9.600000e-06</td>\n",
       "      <td>ENSG00000163479</td>\n",
       "    </tr>\n",
       "    <tr>\n",
       "      <th>25</th>\n",
       "      <td>SNORD13</td>\n",
       "      <td>chr8:33920637:G:A</td>\n",
       "      <td>8</td>\n",
       "      <td>0.002756</td>\n",
       "      <td>1.330000e-05</td>\n",
       "      <td>ENSG00000239039</td>\n",
       "    </tr>\n",
       "    <tr>\n",
       "      <th>68</th>\n",
       "      <td>ANAPC1</td>\n",
       "      <td>chr2:111884332:C:T</td>\n",
       "      <td>2</td>\n",
       "      <td>0.002925</td>\n",
       "      <td>1.200000e-03</td>\n",
       "      <td>ENSG00000153107</td>\n",
       "    </tr>\n",
       "    <tr>\n",
       "      <th>134</th>\n",
       "      <td>LRRC37A17P</td>\n",
       "      <td>chr17:46784796:G:A</td>\n",
       "      <td>17</td>\n",
       "      <td>0.003155</td>\n",
       "      <td>3.050000e-05</td>\n",
       "      <td>ENSG00000263142</td>\n",
       "    </tr>\n",
       "    <tr>\n",
       "      <th>86</th>\n",
       "      <td>CPD</td>\n",
       "      <td>chr17:30556723:C:T</td>\n",
       "      <td>17</td>\n",
       "      <td>0.003230</td>\n",
       "      <td>4.400000e-06</td>\n",
       "      <td>ENSG00000108582</td>\n",
       "    </tr>\n",
       "    <tr>\n",
       "      <th>12</th>\n",
       "      <td>EGFR</td>\n",
       "      <td>chr7:54797031:G:A</td>\n",
       "      <td>7</td>\n",
       "      <td>0.003444</td>\n",
       "      <td>1.740000e-04</td>\n",
       "      <td>ENSG00000146648</td>\n",
       "    </tr>\n",
       "    <tr>\n",
       "      <th>193</th>\n",
       "      <td>TUBGCP4</td>\n",
       "      <td>chr15:43782086:A:G</td>\n",
       "      <td>15</td>\n",
       "      <td>0.004538</td>\n",
       "      <td>2.750000e-06</td>\n",
       "      <td>ENSG00000137822</td>\n",
       "    </tr>\n",
       "    <tr>\n",
       "      <th>147</th>\n",
       "      <td>PABPC1L</td>\n",
       "      <td>chr20:45053910:T:G</td>\n",
       "      <td>20</td>\n",
       "      <td>0.004817</td>\n",
       "      <td>3.320000e-06</td>\n",
       "      <td>ENSG00000101104</td>\n",
       "    </tr>\n",
       "    <tr>\n",
       "      <th>63</th>\n",
       "      <td>RPS26P8</td>\n",
       "      <td>chr17:46055092:G:A</td>\n",
       "      <td>17</td>\n",
       "      <td>0.004940</td>\n",
       "      <td>1.140000e-05</td>\n",
       "      <td>ENSG00000204652</td>\n",
       "    </tr>\n",
       "  </tbody>\n",
       "</table>\n",
       "</div>"
      ],
      "text/plain": [
       "                  ID           our_snp_id  CHR_TWAS       FDR             P  \\\n",
       "270            CROCC    chr1:16497972:T:C         1  0.000042  1.200000e-04   \n",
       "85           ANKRD45   chr1:173743105:T:C         1  0.000054  5.050000e-07   \n",
       "0               STRC   chr15:43782086:A:G        15  0.000183  2.750000e-06   \n",
       "70            ADRA2A  chr10:111513602:C:T        10  0.000244  1.650000e-05   \n",
       "56            CCDC92  chr12:123431550:A:G        12  0.000334  7.100000e-07   \n",
       "183           TBC1D5    chr3:16834975:C:T         3  0.000449  5.770000e-08   \n",
       "71             STIM2    chr4:26781831:A:G         4  0.000558  4.210000e-07   \n",
       "205             NTN5   chr19:48746940:T:C        19  0.000645  1.100000e-06   \n",
       "182         SLC39A10   chr2:195559315:A:C         2  0.000664  3.000000e-05   \n",
       "21   ENSG00000263715   chr17:46055092:G:A        17  0.000707  1.140000e-05   \n",
       "212            ASIC1   chr12:50258497:G:A        12  0.000725  2.390000e-05   \n",
       "215           UBQLN4   chr1:155906822:G:A         1  0.000816  9.600000e-06   \n",
       "232            PPM1E   chr17:58681018:A:G        17  0.001272  2.390000e-06   \n",
       "222             SNF8   chr17:48963251:G:A        17  0.001370  5.910000e-06   \n",
       "40            PCDHB7   chr5:140841554:G:A         5  0.001405  8.660000e-07   \n",
       "18             TRPS1   chr8:115455975:A:G         8  0.002413  4.280000e-07   \n",
       "92              SSR2   chr1:155906822:G:A         1  0.002756  9.600000e-06   \n",
       "25           SNORD13    chr8:33920637:G:A         8  0.002756  1.330000e-05   \n",
       "68            ANAPC1   chr2:111884332:C:T         2  0.002925  1.200000e-03   \n",
       "134       LRRC37A17P   chr17:46784796:G:A        17  0.003155  3.050000e-05   \n",
       "86               CPD   chr17:30556723:C:T        17  0.003230  4.400000e-06   \n",
       "12              EGFR    chr7:54797031:G:A         7  0.003444  1.740000e-04   \n",
       "193          TUBGCP4   chr15:43782086:A:G        15  0.004538  2.750000e-06   \n",
       "147          PABPC1L   chr20:45053910:T:G        20  0.004817  3.320000e-06   \n",
       "63           RPS26P8   chr17:46055092:G:A        17  0.004940  1.140000e-05   \n",
       "\n",
       "                FILE  \n",
       "270  ENSG00000058453  \n",
       "85   ENSG00000183831  \n",
       "0    ENSG00000242866  \n",
       "70   ENSG00000150594  \n",
       "56   ENSG00000119242  \n",
       "183  ENSG00000131374  \n",
       "71   ENSG00000109689  \n",
       "205  ENSG00000142233  \n",
       "182  ENSG00000196950  \n",
       "21   ENSG00000263715  \n",
       "212  ENSG00000110881  \n",
       "215  ENSG00000160803  \n",
       "232  ENSG00000175175  \n",
       "222  ENSG00000159210  \n",
       "40   ENSG00000113212  \n",
       "18   ENSG00000104447  \n",
       "92   ENSG00000163479  \n",
       "25   ENSG00000239039  \n",
       "68   ENSG00000153107  \n",
       "134  ENSG00000263142  \n",
       "86   ENSG00000108582  \n",
       "12   ENSG00000146648  \n",
       "193  ENSG00000137822  \n",
       "147  ENSG00000101104  \n",
       "63   ENSG00000204652  "
      ]
     },
     "execution_count": 32,
     "metadata": {},
     "output_type": "execute_result"
    }
   ],
   "source": [
    "drop_caudate[(drop_caudate['P'] > 5e-8)].sort_values('FDR')\\\n",
    "                                        .loc[:, ['ID', 'our_snp_id', 'CHR_TWAS', 'FDR', 'P', 'FILE']].head(25)"
   ]
  },
  {
   "cell_type": "code",
   "execution_count": 33,
   "metadata": {
    "execution": {
     "iopub.execute_input": "2022-03-07T16:24:55.071936Z",
     "iopub.status.busy": "2022-03-07T16:24:55.064171Z",
     "iopub.status.idle": "2022-03-07T16:24:55.086404Z",
     "shell.execute_reply": "2022-03-07T16:24:55.084685Z"
    }
   },
   "outputs": [
    {
     "data": {
      "text/html": [
       "<div>\n",
       "<style scoped>\n",
       "    .dataframe tbody tr th:only-of-type {\n",
       "        vertical-align: middle;\n",
       "    }\n",
       "\n",
       "    .dataframe tbody tr th {\n",
       "        vertical-align: top;\n",
       "    }\n",
       "\n",
       "    .dataframe thead th {\n",
       "        text-align: right;\n",
       "    }\n",
       "</style>\n",
       "<table border=\"1\" class=\"dataframe\">\n",
       "  <thead>\n",
       "    <tr style=\"text-align: right;\">\n",
       "      <th></th>\n",
       "      <th>ID</th>\n",
       "      <th>our_snp_id</th>\n",
       "      <th>CHR_TWAS</th>\n",
       "      <th>FDR</th>\n",
       "      <th>P</th>\n",
       "      <th>FILE</th>\n",
       "    </tr>\n",
       "  </thead>\n",
       "  <tbody>\n",
       "  </tbody>\n",
       "</table>\n",
       "</div>"
      ],
      "text/plain": [
       "Empty DataFrame\n",
       "Columns: [ID, our_snp_id, CHR_TWAS, FDR, P, FILE]\n",
       "Index: []"
      ]
     },
     "execution_count": 33,
     "metadata": {},
     "output_type": "execute_result"
    }
   ],
   "source": [
    "drop_caudate[(drop_caudate[\"ID\"] == \"MIAT\")].loc[:, ['ID', 'our_snp_id', 'CHR_TWAS', 'FDR', 'P', 'FILE']]"
   ]
  },
  {
   "cell_type": "markdown",
   "metadata": {},
   "source": [
    "## TWAS tissue summary"
   ]
  },
  {
   "cell_type": "code",
   "execution_count": 34,
   "metadata": {
    "execution": {
     "iopub.execute_input": "2022-03-07T16:24:55.096528Z",
     "iopub.status.busy": "2022-03-07T16:24:55.094882Z",
     "iopub.status.idle": "2022-03-07T16:24:55.126424Z",
     "shell.execute_reply": "2022-03-07T16:24:55.127814Z"
    }
   },
   "outputs": [
    {
     "data": {
      "text/plain": [
       "(8348, 11)"
      ]
     },
     "execution_count": 34,
     "metadata": {},
     "output_type": "execute_result"
    }
   ],
   "source": [
    "brainseq = pd.read_csv(\"../../libd_twas_comparison/_m/TWAS_gene_tissue_summary.csv\")\n",
    "brainseq.shape"
   ]
  },
  {
   "cell_type": "code",
   "execution_count": 35,
   "metadata": {
    "execution": {
     "iopub.execute_input": "2022-03-07T16:24:55.148923Z",
     "iopub.status.busy": "2022-03-07T16:24:55.147227Z",
     "iopub.status.idle": "2022-03-07T16:24:55.153277Z",
     "shell.execute_reply": "2022-03-07T16:24:55.154675Z"
    }
   },
   "outputs": [
    {
     "data": {
      "text/html": [
       "<div>\n",
       "<style scoped>\n",
       "    .dataframe tbody tr th:only-of-type {\n",
       "        vertical-align: middle;\n",
       "    }\n",
       "\n",
       "    .dataframe tbody tr th {\n",
       "        vertical-align: top;\n",
       "    }\n",
       "\n",
       "    .dataframe thead th {\n",
       "        text-align: right;\n",
       "    }\n",
       "</style>\n",
       "<table border=\"1\" class=\"dataframe\">\n",
       "  <thead>\n",
       "    <tr style=\"text-align: right;\">\n",
       "      <th></th>\n",
       "      <th>Geneid</th>\n",
       "      <th>Symbol</th>\n",
       "      <th>Caudate_TWAS.Z</th>\n",
       "      <th>Caudate_FDR</th>\n",
       "      <th>Caudate_GWAS.SNP</th>\n",
       "      <th>DLPFC_TWAS.Z</th>\n",
       "      <th>DLPFC_FDR</th>\n",
       "      <th>DLPFC_GWAS.SNP</th>\n",
       "      <th>HIPPO_TWAS.Z</th>\n",
       "      <th>HIPPO_FDR</th>\n",
       "      <th>HIPPO_GWAS.SNP</th>\n",
       "    </tr>\n",
       "  </thead>\n",
       "  <tbody>\n",
       "    <tr>\n",
       "      <th>0</th>\n",
       "      <td>ENSG00000219891</td>\n",
       "      <td>ZSCAN12P1</td>\n",
       "      <td>12.375993</td>\n",
       "      <td>1.871099e-31</td>\n",
       "      <td>Risk SNP</td>\n",
       "      <td>NaN</td>\n",
       "      <td>NaN</td>\n",
       "      <td>NaN</td>\n",
       "      <td>NaN</td>\n",
       "      <td>NaN</td>\n",
       "      <td>NaN</td>\n",
       "    </tr>\n",
       "    <tr>\n",
       "      <th>1</th>\n",
       "      <td>ENSG00000204338</td>\n",
       "      <td>CYP21A1P</td>\n",
       "      <td>12.163700</td>\n",
       "      <td>1.287468e-30</td>\n",
       "      <td>Risk SNP</td>\n",
       "      <td>NaN</td>\n",
       "      <td>NaN</td>\n",
       "      <td>NaN</td>\n",
       "      <td>NaN</td>\n",
       "      <td>NaN</td>\n",
       "      <td>NaN</td>\n",
       "    </tr>\n",
       "  </tbody>\n",
       "</table>\n",
       "</div>"
      ],
      "text/plain": [
       "            Geneid     Symbol  Caudate_TWAS.Z   Caudate_FDR Caudate_GWAS.SNP  \\\n",
       "0  ENSG00000219891  ZSCAN12P1       12.375993  1.871099e-31         Risk SNP   \n",
       "1  ENSG00000204338   CYP21A1P       12.163700  1.287468e-30         Risk SNP   \n",
       "\n",
       "   DLPFC_TWAS.Z  DLPFC_FDR DLPFC_GWAS.SNP  HIPPO_TWAS.Z  HIPPO_FDR  \\\n",
       "0           NaN        NaN            NaN           NaN        NaN   \n",
       "1           NaN        NaN            NaN           NaN        NaN   \n",
       "\n",
       "  HIPPO_GWAS.SNP  \n",
       "0            NaN  \n",
       "1            NaN  "
      ]
     },
     "execution_count": 35,
     "metadata": {},
     "output_type": "execute_result"
    }
   ],
   "source": [
    "brainseq.head(2)"
   ]
  },
  {
   "cell_type": "code",
   "execution_count": 36,
   "metadata": {
    "execution": {
     "iopub.execute_input": "2022-03-07T16:24:55.169987Z",
     "iopub.status.busy": "2022-03-07T16:24:55.168315Z",
     "iopub.status.idle": "2022-03-07T16:24:55.323959Z",
     "shell.execute_reply": "2022-03-07T16:24:55.322177Z"
    }
   },
   "outputs": [],
   "source": [
    "bb = brainseq.merge(pd.DataFrame({'Symbol': twas_hub, 'inTWAS_HUB': 1}), on='Symbol', how='left')\\\n",
    "             .merge(pd.DataFrame({'Geneid': gandal_twas.GeneID, 'inGandal': 1}), \n",
    "                    on=\"Geneid\", how='left')\n",
    "\n",
    "bb.to_csv('TWAS_gene_tissue_summary.csv', index=False)"
   ]
  }
 ],
 "metadata": {
  "kernelspec": {
   "display_name": "Python 3 (ipykernel)",
   "language": "python",
   "name": "python3"
  },
  "language_info": {
   "codemirror_mode": {
    "name": "ipython",
    "version": 3
   },
   "file_extension": ".py",
   "mimetype": "text/x-python",
   "name": "python",
   "nbconvert_exporter": "python",
   "pygments_lexer": "ipython3",
   "version": "3.9.7"
  }
 },
 "nbformat": 4,
 "nbformat_minor": 4
}
