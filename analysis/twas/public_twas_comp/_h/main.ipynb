{
 "cells": [
  {
   "cell_type": "markdown",
   "metadata": {},
   "source": [
    "# Comparison with public TWAS associations for SZ"
   ]
  },
  {
   "cell_type": "code",
   "execution_count": null,
   "metadata": {},
   "outputs": [],
   "source": [
    "import urllib\n",
    "import numpy as np\n",
    "import pandas as pd\n",
    "from html.parser import HTMLParser\n",
    "from scipy.stats import fisher_exact\n",
    "from html.entities import name2codepoint"
   ]
  },
  {
   "cell_type": "code",
   "execution_count": null,
   "metadata": {},
   "outputs": [],
   "source": [
    "class MyHTMLParser(HTMLParser):\n",
    "    def __init__(self):\n",
    "        super().__init__()\n",
    "        self.genes = []\n",
    "        \n",
    "    def handle_starttag(self, tag, attrs):\n",
    "        for attr in attrs:\n",
    "            if attr[0] == 'href' and attr[1].startswith('/genes/'):\n",
    "                gene = [attr[1][len('/genes/'):]]\n",
    "                self.genes += gene"
   ]
  },
  {
   "cell_type": "markdown",
   "metadata": {},
   "source": [
    "## MHC genes"
   ]
  },
  {
   "cell_type": "code",
   "execution_count": null,
   "metadata": {},
   "outputs": [],
   "source": [
    "mhc_genes = pd.read_csv('/ceph/projects/v4_phase3_paper/analysis/twas_ea/'+\\\n",
    "                        \"gene_weights/fusion_pgc2/_m/PGC2.SCZ.Caudate.6.dat.MHC\", sep='\\t').ID\n",
    "len(set(mhc_genes))"
   ]
  },
  {
   "cell_type": "markdown",
   "metadata": {},
   "source": [
    "## Caudate specific of BrainSeq brain regions"
   ]
  },
  {
   "cell_type": "code",
   "execution_count": null,
   "metadata": {},
   "outputs": [],
   "source": [
    "fn = \"../../libd_twas_comparison/_m/caudate_only_twasList_genes.txt\"\n",
    "caudate = pd.read_csv(fn, sep='\\t')\n",
    "caudate.shape"
   ]
  },
  {
   "cell_type": "code",
   "execution_count": null,
   "metadata": {},
   "outputs": [],
   "source": [
    "len(set(caudate.ID) - set(mhc_genes))"
   ]
  },
  {
   "cell_type": "code",
   "execution_count": null,
   "metadata": {},
   "outputs": [],
   "source": [
    "caudate_noMHC = caudate[(caudate[\"ID\"].isin(list(set(caudate.ID) - set(mhc_genes))))].copy()\n",
    "caudate_noMHC.iloc[0:2, 0:5]"
   ]
  },
  {
   "cell_type": "markdown",
   "metadata": {},
   "source": [
    "## TWAS Hub comparison"
   ]
  },
  {
   "cell_type": "markdown",
   "metadata": {},
   "source": [
    "### Schizophrenia 2014"
   ]
  },
  {
   "cell_type": "code",
   "execution_count": null,
   "metadata": {},
   "outputs": [],
   "source": [
    "parser = MyHTMLParser()\n",
    "html_str = urllib.request.urlopen('http://twas-hub.org/traits/Schizophrenia/').read().decode()\n",
    "parser.feed(html_str)\n",
    "scz_2014 = np.unique(parser.genes)"
   ]
  },
  {
   "cell_type": "code",
   "execution_count": null,
   "metadata": {},
   "outputs": [],
   "source": [
    "scz_2014.shape"
   ]
  },
  {
   "cell_type": "markdown",
   "metadata": {},
   "source": [
    "### Schizophrenia 2018"
   ]
  },
  {
   "cell_type": "code",
   "execution_count": null,
   "metadata": {},
   "outputs": [],
   "source": [
    "parser = MyHTMLParser()\n",
    "html_str = urllib.request.urlopen('http://twas-hub.org/traits/SCZ_2018/').read().decode()\n",
    "parser.feed(html_str)\n",
    "scz_2018 = np.unique(parser.genes)"
   ]
  },
  {
   "cell_type": "markdown",
   "metadata": {},
   "source": [
    "### TWAS hub comparison"
   ]
  },
  {
   "cell_type": "code",
   "execution_count": null,
   "metadata": {},
   "outputs": [],
   "source": [
    "twas_hub = np.unique(np.append(scz_2014, scz_2018))\n",
    "len(twas_hub)"
   ]
  },
  {
   "cell_type": "code",
   "execution_count": null,
   "metadata": {},
   "outputs": [],
   "source": [
    "twas_hub"
   ]
  },
  {
   "cell_type": "code",
   "execution_count": null,
   "metadata": {},
   "outputs": [],
   "source": [
    "print(\"There are %d caudate only genes present in the TWAS hub\" % \n",
    "      len(set(caudate.ID) & set(twas_hub)))\n",
    "set(caudate.ID) & set(twas_hub)"
   ]
  },
  {
   "cell_type": "code",
   "execution_count": null,
   "metadata": {},
   "outputs": [],
   "source": [
    "print(\"There are %d caudate only genes (no MHC) present in the TWAS hub\" % \n",
    "      len(set(caudate_noMHC.ID) & set(twas_hub)))\n",
    "set(caudate.ID) & set(twas_hub)"
   ]
  },
  {
   "cell_type": "markdown",
   "metadata": {},
   "source": [
    "## Gandal comparison"
   ]
  },
  {
   "cell_type": "code",
   "execution_count": null,
   "metadata": {},
   "outputs": [],
   "source": [
    "gandal = pd.read_excel(\"../_h/aat8127_Table_S4.xlsx\", sheet_name=\"SCZ.TWAS\")\n",
    "gandal_twas = gandal[(gandal['TWAS.Bonferroni'] <= 0.05)].copy()\n",
    "np.sum(gandal.loc[:, 'TWAS.Bonferroni'] < 0.05)"
   ]
  },
  {
   "cell_type": "code",
   "execution_count": null,
   "metadata": {},
   "outputs": [],
   "source": [
    "caudate_bonferroni = caudate[(caudate['Bonferroni'] <= 0.05)].copy()\n",
    "np.sum(caudate.Bonferroni <= 0.05)"
   ]
  },
  {
   "cell_type": "code",
   "execution_count": null,
   "metadata": {},
   "outputs": [],
   "source": [
    "caudate_noMHC_bonferroni = caudate_noMHC[(caudate_noMHC['Bonferroni'] <= 0.05)].copy()\n",
    "np.sum(caudate_noMHC.Bonferroni <= 0.05)"
   ]
  },
  {
   "cell_type": "code",
   "execution_count": null,
   "metadata": {},
   "outputs": [],
   "source": [
    "print(\"There are %d caudate only genes present in the Gandal at Bonferroni < 0.05.\" % \n",
    "      len(set(caudate_bonferroni.FILE) & set(gandal_twas.GeneID)))\n",
    "#list(set(caudate_bonferroni.ID) & set(gandal_twas.gene_name))\n",
    "\n",
    "print(\"There are %d caudate only genes present in the Gandal.\" % \n",
    "      len(set(caudate.FILE) & set(gandal_twas.GeneID)))\n",
    "np.array(list(set(caudate.FILE) & set(gandal_twas.GeneID)))"
   ]
  },
  {
   "cell_type": "code",
   "execution_count": null,
   "metadata": {},
   "outputs": [],
   "source": [
    "print(\"There are %d caudate only genes (no MHC) present in the Gandal at Bonferroni < 0.05.\" % \n",
    "      len(set(caudate_noMHC_bonferroni.FILE) & set(gandal_twas.GeneID)))\n",
    "#list(set(caudate_bonferroni.ID) & set(gandal_twas.gene_name))\n",
    "\n",
    "print(\"There are %d caudate only genes (no MHC) present in the Gandal.\" % \n",
    "      len(set(caudate_noMHC.FILE) & set(gandal_twas.GeneID)))\n",
    "np.array(list(set(caudate_noMHC.FILE) & set(gandal_twas.GeneID)))"
   ]
  },
  {
   "cell_type": "markdown",
   "metadata": {},
   "source": [
    "#### MHC is present within Gandal analysis"
   ]
  },
  {
   "cell_type": "code",
   "execution_count": null,
   "metadata": {},
   "outputs": [],
   "source": [
    "gandal[(gandal[\"TWAS.Bonferroni\"] < 0.05)].shape"
   ]
  },
  {
   "cell_type": "code",
   "execution_count": null,
   "metadata": {},
   "outputs": [],
   "source": [
    "## Not MHC\n",
    "gandal[~(gandal['gene_name'].isin(list(set(mhc_genes)))) & \n",
    "       (gandal[\"TWAS.Bonferroni\"] < 0.05)].shape"
   ]
  },
  {
   "cell_type": "code",
   "execution_count": null,
   "metadata": {},
   "outputs": [],
   "source": [
    "print(\"There are {} MHC genes within Gandal significant TWAS (Bonferroni < 0.05)!\"\\\n",
    "      .format(len(gandal[(gandal['gene_name'].isin(list(set(mhc_genes)))) & \n",
    "       (gandal[\"TWAS.Bonferroni\"] < 0.05)].gene_name)))\n",
    "gandal[(gandal['gene_name'].isin(list(set(mhc_genes)))) & \n",
    "       (gandal[\"TWAS.Bonferroni\"] < 0.05)].gene_name"
   ]
  },
  {
   "cell_type": "markdown",
   "metadata": {},
   "source": [
    "### Calculated enrichment with Gandal"
   ]
  },
  {
   "cell_type": "code",
   "execution_count": null,
   "metadata": {},
   "outputs": [],
   "source": [
    "caudate.shape"
   ]
  },
  {
   "cell_type": "code",
   "execution_count": null,
   "metadata": {},
   "outputs": [],
   "source": [
    "dft = caudate.loc[:, ['FILE', 'ID', 'Bonferroni']]\\\n",
    "             .merge(gandal.loc[:, ['GeneID', 'gene_name', 'TWAS.Bonferroni']], \n",
    "                    left_on='FILE', right_on='GeneID', \n",
    "                    suffixes=[\"_Benjamin\", \"_Gandal\"])\n",
    "dft.shape"
   ]
  },
  {
   "cell_type": "code",
   "execution_count": null,
   "metadata": {},
   "outputs": [],
   "source": [
    "table =  [[np.sum((dft['Bonferroni']<0.05) & ((dft['TWAS.Bonferroni']<.05))),\n",
    "           np.sum((dft['Bonferroni']<0.05) & ((dft['TWAS.Bonferroni']>=.05)))],\n",
    "          [np.sum((dft['Bonferroni']>=0.05) & ((dft['TWAS.Bonferroni']<.05))),\n",
    "           np.sum((dft['Bonferroni']>=0.05) & ((dft['TWAS.Bonferroni']>=.05)))]]\n",
    "print(table)\n",
    "fisher_exact(table)"
   ]
  },
  {
   "cell_type": "markdown",
   "metadata": {},
   "source": [
    "### Extract and save overlapping genes"
   ]
  },
  {
   "cell_type": "markdown",
   "metadata": {},
   "source": [
    "#### Bonferroni < 0.05"
   ]
  },
  {
   "cell_type": "code",
   "execution_count": null,
   "metadata": {},
   "outputs": [],
   "source": [
    "overlapping_twas = np.append(np.array(caudate_bonferroni[(caudate_bonferroni['FILE'].isin(list(set(caudate_bonferroni.FILE) & \n",
    "                                                                         set(gandal_twas.GeneID))))].ID), \n",
    "                             np.array(list(set(caudate_bonferroni.ID) & set(twas_hub))))\n",
    "len(overlapping_twas)"
   ]
  },
  {
   "cell_type": "code",
   "execution_count": null,
   "metadata": {},
   "outputs": [],
   "source": [
    "caudate_bonferroni[~(caudate_bonferroni['ID'].isin(overlapping_twas))].to_csv(\"caudate_only_twasList_genes_bonferroni.txt\", \n",
    "                                                        sep='\\t', index=False)\n",
    "caudate_bonferroni[~(caudate_bonferroni['ID'].isin(overlapping_twas))].shape"
   ]
  },
  {
   "cell_type": "code",
   "execution_count": null,
   "metadata": {},
   "outputs": [],
   "source": [
    "drop_caudate = caudate_bonferroni[~(caudate_bonferroni['ID'].isin(overlapping_twas))].copy()\n",
    "drop_caudate[(drop_caudate['P'] > 5e-8)].shape"
   ]
  },
  {
   "cell_type": "code",
   "execution_count": null,
   "metadata": {},
   "outputs": [],
   "source": [
    "drop_caudate[(drop_caudate['P'] > 5e-8)].sort_values('FDR')\\\n",
    "                                        .loc[:, ['ID', 'our_snp_id', 'CHR_TWAS', 'FDR', 'P', 'FILE']]"
   ]
  },
  {
   "cell_type": "markdown",
   "metadata": {},
   "source": [
    "#### FDR < 0.05"
   ]
  },
  {
   "cell_type": "code",
   "execution_count": null,
   "metadata": {},
   "outputs": [],
   "source": [
    "overlapping_twas = np.append(np.array(caudate[(caudate['FILE'].isin(list(set(caudate.FILE) & \n",
    "                                                                         set(gandal_twas.GeneID))))].ID), \n",
    "                             np.array(list(set(caudate.ID) & set(twas_hub))))\n",
    "len(overlapping_twas)"
   ]
  },
  {
   "cell_type": "code",
   "execution_count": null,
   "metadata": {},
   "outputs": [],
   "source": [
    "caudate[~(caudate['ID'].isin(overlapping_twas))].to_csv(\"caudate_only_twasList_genes.txt\", \n",
    "                                                        sep='\\t', index=False)\n",
    "caudate[~(caudate['ID'].isin(overlapping_twas))].shape"
   ]
  },
  {
   "cell_type": "code",
   "execution_count": null,
   "metadata": {},
   "outputs": [],
   "source": [
    "drop_caudate = caudate[~(caudate['ID'].isin(overlapping_twas))].copy()\n",
    "drop_caudate[(drop_caudate['P'] > 5e-8)].shape"
   ]
  },
  {
   "cell_type": "code",
   "execution_count": null,
   "metadata": {},
   "outputs": [],
   "source": [
    "drop_caudate[(drop_caudate['P'] > 5e-8)].sort_values('FDR')\\\n",
    "                                        .loc[:, ['ID', 'our_snp_id', 'CHR_TWAS', 'FDR', 'P', 'FILE']].head(25)"
   ]
  },
  {
   "cell_type": "code",
   "execution_count": null,
   "metadata": {},
   "outputs": [],
   "source": [
    "drop_caudate[(drop_caudate[\"ID\"] == \"MIAT\")].loc[:, ['ID', 'our_snp_id', 'CHR_TWAS', 'FDR', 'P', 'FILE']]"
   ]
  },
  {
   "cell_type": "markdown",
   "metadata": {},
   "source": [
    "## TWAS tissue summary"
   ]
  },
  {
   "cell_type": "code",
   "execution_count": null,
   "metadata": {},
   "outputs": [],
   "source": [
    "brainseq = pd.read_csv(\"../../libd_twas_comparison/_m/TWAS_gene_tissue_summary.csv\")\n",
    "brainseq.shape"
   ]
  },
  {
   "cell_type": "code",
   "execution_count": null,
   "metadata": {},
   "outputs": [],
   "source": [
    "brainseq.head(2)"
   ]
  },
  {
   "cell_type": "code",
   "execution_count": null,
   "metadata": {},
   "outputs": [],
   "source": [
    "bb = brainseq.merge(pd.DataFrame({'Symbol': twas_hub, 'inTWAS_HUB': 1}), on='Symbol', how='left')\\\n",
    "             .merge(pd.DataFrame({'Geneid': gandal_twas.GeneID, 'inGandal': 1}), \n",
    "                    on=\"Geneid\", how='left')\n",
    "\n",
    "bb.to_csv('TWAS_gene_tissue_summary.csv', index=False)"
   ]
  }
 ],
 "metadata": {
  "kernelspec": {
   "display_name": "Python 3 (ipykernel)",
   "language": "python",
   "name": "python3"
  },
  "language_info": {
   "codemirror_mode": {
    "name": "ipython",
    "version": 3
   },
   "file_extension": ".py",
   "mimetype": "text/x-python",
   "name": "python",
   "nbconvert_exporter": "python",
   "pygments_lexer": "ipython3",
   "version": "3.9.7"
  }
 },
 "nbformat": 4,
 "nbformat_minor": 4
}
