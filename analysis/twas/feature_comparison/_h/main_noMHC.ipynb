{
 "cells": [
  {
   "cell_type": "markdown",
   "metadata": {},
   "source": [
    "# Venn diagram and summary"
   ]
  },
  {
   "cell_type": "code",
   "execution_count": null,
   "metadata": {},
   "outputs": [],
   "source": [
    "import numpy as np\n",
    "import pandas as pd\n",
    "from venn import venn\n",
    "from matplotlib import pyplot as plt"
   ]
  },
  {
   "cell_type": "markdown",
   "metadata": {},
   "source": [
    "## Prepare data"
   ]
  },
  {
   "cell_type": "code",
   "execution_count": null,
   "metadata": {},
   "outputs": [],
   "source": [
    "def limiting_features(set_dict, f1, f2):\n",
    "    xx = len(set_dict[f1] & set_dict[f2]) / len(set_dict[f2]) * 100\n",
    "    print(\"Comparing %s with %s: %0.2f%%\" % (f1, f2, xx))\n",
    "    print(\"Features in common: %d\" % len(set_dict[f1] & set_dict[f2]))"
   ]
  },
  {
   "cell_type": "markdown",
   "metadata": {},
   "source": [
    "### Load PGC3 GWAS"
   ]
  },
  {
   "cell_type": "code",
   "execution_count": null,
   "metadata": {},
   "outputs": [],
   "source": [
    "pgc3_file = '/ceph/projects/v4_phase3_paper/inputs/sz_gwas/'+\\\n",
    "           'pgc2_clozuk/map_phase3/_m/libd_hg38_pgc2sz_snps.tsv'\n",
    "pgc3_df = pd.read_csv(pgc3_file, sep='\\t', low_memory=False, index_col=0)"
   ]
  },
  {
   "cell_type": "markdown",
   "metadata": {},
   "source": [
    "### With no MHC"
   ]
  },
  {
   "cell_type": "markdown",
   "metadata": {},
   "source": [
    "#### Genes"
   ]
  },
  {
   "cell_type": "code",
   "execution_count": null,
   "metadata": {},
   "outputs": [],
   "source": [
    "genes = pd.read_csv('/ceph/projects/v4_phase3_paper/analysis/twas_ea/'+\\\n",
    "                    'gene_weights/fusion/summary_stats/_m/fusion_associations_noMHC.txt', sep='\\t')\n",
    "annot = pd.read_csv('../../../differential_expression/_m/genes/diffExpr_szVctl_full.txt', sep='\\t')\n",
    "genes = annot[['ensemblID']].merge(genes, left_on='ensemblID', right_on='FILE')\n",
    "genes = genes[['FILE', 'ensemblID', 'ID', 'HSQ', 'BEST.GWAS.ID', 'EQTL.ID', \n",
    "               'TWAS.Z', 'TWAS.P', 'FDR', 'Bonferroni']]\n",
    "genes['Type'] = 'Gene'\n",
    "genes.rename(columns={'FILE': 'Feature'}, inplace=True)\n",
    "genes.sort_values('TWAS.P').head(2)"
   ]
  },
  {
   "cell_type": "markdown",
   "metadata": {},
   "source": [
    "#### Transcripts"
   ]
  },
  {
   "cell_type": "code",
   "execution_count": null,
   "metadata": {},
   "outputs": [],
   "source": [
    "trans = pd.read_csv('/ceph/projects/v4_phase3_paper/analysis/twas_ea/'+\\\n",
    "                    'transcript_weights/fusion/summary_stats/_m/fusion_associations_noMHC.txt', sep='\\t')\n",
    "annot = pd.read_csv('../../../differential_expression/_m/transcripts/diffExpr_szVctl_full.txt', sep='\\t')\n",
    "annot['ensemblID'] = annot.gene_id.str.replace('\\\\..*', '', regex=True)\n",
    "annot['FILE'] = annot.transcript_id.str.replace('\\\\..*', '', regex=True)\n",
    "trans = annot[['ensemblID', 'FILE']].merge(trans, on='FILE')\n",
    "trans = trans[['FILE', 'ensemblID', 'ID', 'HSQ', 'BEST.GWAS.ID', 'EQTL.ID', \n",
    "               'TWAS.Z', 'TWAS.P', 'FDR', 'Bonferroni']]\n",
    "trans['Type'] = 'Transcript'\n",
    "trans.rename(columns={'FILE': 'Feature'}, inplace=True)\n",
    "trans.sort_values('TWAS.P').head(2)"
   ]
  },
  {
   "cell_type": "markdown",
   "metadata": {},
   "source": [
    "#### Exons"
   ]
  },
  {
   "cell_type": "code",
   "execution_count": null,
   "metadata": {},
   "outputs": [],
   "source": [
    "exons = pd.read_csv('/ceph/projects/v4_phase3_paper/analysis/twas_ea/'+\\\n",
    "                    'exon_weights/fusion/summary_stats/_m/fusion_associations_noMHC.txt', sep='\\t')\n",
    "annot = pd.read_csv('../../../differential_expression/_m/exons/diffExpr_szVctl_full.txt', sep='\\t', index_col=0)\n",
    "exons = annot[['ensemblID']].merge(exons, left_index=True, right_on='FILE')\n",
    "exons = exons[['FILE', 'ensemblID', 'ID', 'HSQ', 'BEST.GWAS.ID', 'EQTL.ID', \n",
    "               'TWAS.Z', 'TWAS.P', 'FDR', 'Bonferroni']]\n",
    "exons['Type'] = 'Exon'\n",
    "exons.rename(columns={'FILE': 'Feature'}, inplace=True)\n",
    "exons.sort_values('TWAS.P').head(2)"
   ]
  },
  {
   "cell_type": "markdown",
   "metadata": {},
   "source": [
    "### Junctions"
   ]
  },
  {
   "cell_type": "code",
   "execution_count": null,
   "metadata": {},
   "outputs": [],
   "source": [
    "annot = pd.read_csv('jxn_annotation.tsv', sep='\\t', index_col=1)\n",
    "annot[\"gene_id\"] = annot.index\n",
    "juncs = pd.read_csv('/ceph/projects/v4_phase3_paper/analysis/twas_ea/'+\\\n",
    "                    'junction_weights/fusion/summary_stats/_m/fusion_associations_noMHC.txt', sep='\\t')\n",
    "juncs = pd.merge(annot, juncs, left_on='JxnID', right_on='FILE')\n",
    "juncs = juncs[['gene_id', 'ensemblID', 'ID', 'HSQ', 'BEST.GWAS.ID', 'EQTL.ID', \n",
    "               'TWAS.Z', 'TWAS.P', 'FDR', 'Bonferroni']]\n",
    "juncs['Type'] = 'Junction'\n",
    "juncs.rename(columns={'Symbol': 'ID', 'gene_id': 'Feature'}, inplace=True)\n",
    "juncs.sort_values('TWAS.P').head(2)"
   ]
  },
  {
   "cell_type": "markdown",
   "metadata": {},
   "source": [
    "## Heritable features"
   ]
  },
  {
   "cell_type": "markdown",
   "metadata": {},
   "source": [
    "### Feature summary"
   ]
  },
  {
   "cell_type": "code",
   "execution_count": null,
   "metadata": {},
   "outputs": [],
   "source": [
    "gg = len(set(genes['Feature']))\n",
    "tt = len(set(trans['Feature']))\n",
    "ee = len(set(exons['Feature']))\n",
    "jj = len(set(juncs['Feature']))\n",
    "\n",
    "print(\"===Unique Features===\\nGene:\\t\\t%d\\nTranscript:\\t%d\\nExon:\\t\\t%d\\nJunction:\\t%d\\n\" % (gg, tt, ee, jj)) \n",
    "\n",
    "gg = len(set(genes['ensemblID']))\n",
    "tt = len(set(trans['ensemblID']))\n",
    "ee = len(set(exons['ensemblID']))\n",
    "jj = len(set(juncs['ensemblID']))\n",
    "\n",
    "print(\"===Unique Ensembl Gene===\\nGene:\\t\\t%d\\nTranscript:\\t%d\\nExon:\\t\\t%d\\nJunction:\\t%d\\n\" % (gg, tt, ee, jj)) \n",
    "\n",
    "gg = len(set(genes['ID']))\n",
    "tt = len(set(trans['ID']))\n",
    "ee = len(set(exons['ID']))\n",
    "jj = len(set(juncs['ID']))\n",
    "\n",
    "print(\"===Unique Gene Name===\\nGene:\\t\\t%d\\nTranscript:\\t%d\\nExon:\\t\\t%d\\nJunction:\\t%d\\n\" % (gg, tt, ee, jj)) "
   ]
  },
  {
   "cell_type": "markdown",
   "metadata": {},
   "source": [
    "### Plot venn"
   ]
  },
  {
   "cell_type": "code",
   "execution_count": null,
   "metadata": {},
   "outputs": [],
   "source": [
    "features = {\n",
    "    'Genes': set(genes['ensemblID']),\n",
    "    'Transcripts': set(trans['ensemblID']),\n",
    "    'Exons': set(exons['ensemblID']),\n",
    "    'Junctions': set(juncs['ensemblID']),\n",
    "}"
   ]
  },
  {
   "cell_type": "code",
   "execution_count": null,
   "metadata": {},
   "outputs": [],
   "source": [
    "venn(features, fmt=\"{size}\\n{percentage:0.1f}%\", fontsize=18, legend_loc=\"best\", \n",
    "     figsize=(12, 12), cmap=['red', 'green', 'blue', 'purple'])\n",
    "plt.savefig('heritable_allFeatures_venn_diagram_percentage.png')\n",
    "plt.savefig('heritable_allFeatures_venn_diagram_percentage.pdf')\n",
    "plt.savefig('heritable_allFeatures_venn_diagram_percentage.svg')\n",
    "plt.show()"
   ]
  },
  {
   "cell_type": "code",
   "execution_count": null,
   "metadata": {},
   "outputs": [],
   "source": [
    "limiting_features(features, 'Genes', 'Transcripts')\n",
    "limiting_features(features, 'Genes', 'Junctions')\n",
    "limiting_features(features, 'Exons', 'Genes')"
   ]
  },
  {
   "cell_type": "code",
   "execution_count": null,
   "metadata": {},
   "outputs": [],
   "source": [
    "limiting_features(features, 'Transcripts', 'Junctions')\n",
    "limiting_features(features, 'Exons', 'Transcripts')\n",
    "limiting_features(features, 'Exons', 'Junctions')"
   ]
  },
  {
   "cell_type": "code",
   "execution_count": null,
   "metadata": {},
   "outputs": [],
   "source": [
    "len(features['Genes'] & features['Transcripts'] & features['Exons'] & features['Junctions'])"
   ]
  },
  {
   "cell_type": "code",
   "execution_count": null,
   "metadata": {},
   "outputs": [],
   "source": [
    "len(features['Genes'] | features['Transcripts'] | features['Exons'] | features['Junctions'])"
   ]
  },
  {
   "cell_type": "markdown",
   "metadata": {},
   "source": [
    "### SNPs not in significant PGC2+CLOZUK GWAS"
   ]
  },
  {
   "cell_type": "code",
   "execution_count": null,
   "metadata": {},
   "outputs": [],
   "source": [
    "new_genes = pd.merge(genes, pgc3_df, left_on='BEST.GWAS.ID', right_on='our_snp_id', suffixes=['_TWAS', '_PGC2'])\n",
    "new_trans = pd.merge(trans, pgc3_df, left_on='BEST.GWAS.ID', right_on='our_snp_id', suffixes=['_TWAS', '_PGC2'])\n",
    "new_exons = pd.merge(exons, pgc3_df, left_on='BEST.GWAS.ID', right_on='our_snp_id', suffixes=['_TWAS', '_PGC2'])\n",
    "new_juncs = pd.merge(juncs, pgc3_df, left_on='BEST.GWAS.ID', right_on='our_snp_id', suffixes=['_TWAS', '_PGC2'])\n",
    "\n",
    "new_genes = new_genes[(new_genes['P'] > 5e-8)].copy()\n",
    "new_trans = new_trans[(new_trans['P'] > 5e-8)].copy()\n",
    "new_exons = new_exons[(new_exons['P'] > 5e-8)].copy()\n",
    "new_juncs = new_juncs[(new_juncs['P'] > 5e-8)].copy()"
   ]
  },
  {
   "cell_type": "code",
   "execution_count": null,
   "metadata": {},
   "outputs": [],
   "source": [
    "gg = len(set(new_genes['BEST.GWAS.ID']))\n",
    "tt = len(set(new_trans['BEST.GWAS.ID']))\n",
    "ee = len(set(new_exons['BEST.GWAS.ID']))\n",
    "jj = len(set(new_juncs['BEST.GWAS.ID']))\n",
    "\n",
    "print(\"===Unique novel SNPs===\\nGene:\\t\\t%d\\nTranscript:\\t%d\\nExon:\\t\\t%d\\nJunction:\\t%d\\n\" % (gg, tt, ee, jj)) "
   ]
  },
  {
   "cell_type": "code",
   "execution_count": null,
   "metadata": {},
   "outputs": [],
   "source": [
    "len(set(new_genes['BEST.GWAS.ID']) | set(new_trans['BEST.GWAS.ID']) | \n",
    "    set(new_exons['BEST.GWAS.ID']) | set(new_juncs['BEST.GWAS.ID']))"
   ]
  },
  {
   "cell_type": "markdown",
   "metadata": {},
   "source": [
    "## TWAS P-value < 0.05"
   ]
  },
  {
   "cell_type": "markdown",
   "metadata": {},
   "source": [
    "### Feature summary"
   ]
  },
  {
   "cell_type": "code",
   "execution_count": null,
   "metadata": {},
   "outputs": [],
   "source": [
    "gg = len(set(genes[(genes['TWAS.P'] <= 0.05)].loc[:, 'Feature']))\n",
    "tt = len(set(trans[(trans['TWAS.P'] <= 0.05)].loc[:, 'Feature']))\n",
    "ee = len(set(exons[(exons['TWAS.P'] <= 0.05)].loc[:, 'Feature']))\n",
    "jj = len(set(juncs[(juncs['TWAS.P'] <= 0.05)].loc[:, 'Feature']))\n",
    "\n",
    "print(\"===Unique Features===\\nGene:\\t\\t%d\\nTranscript:\\t%d\\nExon:\\t\\t%d\\nJunction:\\t%d\\n\" % (gg, tt, ee, jj)) \n",
    "\n",
    "gg = len(set(genes[(genes['TWAS.P'] <= 0.05)].loc[:, 'ensemblID']))\n",
    "tt = len(set(trans[(trans['TWAS.P'] <= 0.05)].loc[:, 'ensemblID']))\n",
    "ee = len(set(exons[(exons['TWAS.P'] <= 0.05)].loc[:, 'ensemblID']))\n",
    "jj = len(set(juncs[(juncs['TWAS.P'] <= 0.05)].loc[:, 'ensemblID']))\n",
    "\n",
    "print(\"===Unique Ensembl Gene===\\nGene:\\t\\t%d\\nTranscript:\\t%d\\nExon:\\t\\t%d\\nJunction:\\t%d\\n\" % (gg, tt, ee, jj)) \n",
    "\n",
    "gg = len(set(genes[(genes['TWAS.P'] <= 0.05)].loc[:, 'ID']))\n",
    "tt = len(set(trans[(trans['TWAS.P'] <= 0.05)].loc[:, 'ID']))\n",
    "ee = len(set(exons[(exons['TWAS.P'] <= 0.05)].loc[:, 'ID']))\n",
    "jj = len(set(juncs[(juncs['TWAS.P'] <= 0.05)].loc[:, 'ID']))\n",
    "\n",
    "print(\"===Unique Gene Names===\\nGene:\\t\\t%d\\nTranscript:\\t%d\\nExon:\\t\\t%d\\nJunction:\\t%d\\n\" % (gg, tt, ee, jj)) "
   ]
  },
  {
   "cell_type": "markdown",
   "metadata": {},
   "source": [
    "### Plot venn"
   ]
  },
  {
   "cell_type": "code",
   "execution_count": null,
   "metadata": {},
   "outputs": [],
   "source": [
    "features = {\n",
    "    'Genes': set(genes[(genes['TWAS.P'] <= 0.05)].loc[:, 'ensemblID']),\n",
    "    'Transcripts': set(trans[(trans['TWAS.P'] <= 0.05)].loc[:, 'ensemblID']),\n",
    "    'Exons': set(exons[(exons['TWAS.P'] <= 0.05)].loc[:, 'ensemblID']),\n",
    "    'Junctions': set(juncs[(juncs['TWAS.P'] <= 0.05)].loc[:, 'ensemblID']),\n",
    "}"
   ]
  },
  {
   "cell_type": "code",
   "execution_count": null,
   "metadata": {},
   "outputs": [],
   "source": [
    "venn(features, fmt=\"{size}\\n{percentage:0.1f}%\", fontsize=18, legend_loc=\"best\", \n",
    "     figsize=(12, 12), cmap=['red', 'green', 'blue', 'purple'])\n",
    "plt.savefig('sigPval_allFeatures_venn_diagram_percentage.png')\n",
    "plt.savefig('sigPval_allFeatures_venn_diagram_percentage.pdf')\n",
    "plt.savefig('sigPval_allFeatures_venn_diagram_percentage.svg')\n",
    "plt.show()"
   ]
  },
  {
   "cell_type": "code",
   "execution_count": null,
   "metadata": {},
   "outputs": [],
   "source": [
    "limiting_features(features, 'Genes', 'Transcripts')\n",
    "limiting_features(features, 'Genes', 'Junctions')\n",
    "limiting_features(features, 'Exons', 'Genes')"
   ]
  },
  {
   "cell_type": "code",
   "execution_count": null,
   "metadata": {},
   "outputs": [],
   "source": [
    "limiting_features(features, 'Transcripts', 'Junctions')\n",
    "limiting_features(features, 'Exons', 'Transcripts')\n",
    "limiting_features(features, 'Exons', 'Junctions')"
   ]
  },
  {
   "cell_type": "code",
   "execution_count": null,
   "metadata": {},
   "outputs": [],
   "source": [
    "len(features['Genes'] & features['Transcripts'] & features['Exons'] & features['Junctions'])"
   ]
  },
  {
   "cell_type": "code",
   "execution_count": null,
   "metadata": {},
   "outputs": [],
   "source": [
    "len(features['Genes'] | features['Transcripts'] | features['Exons'] | features['Junctions'])"
   ]
  },
  {
   "cell_type": "markdown",
   "metadata": {},
   "source": [
    "### SNPs not in significant PGC2+CLOZUK GWAS"
   ]
  },
  {
   "cell_type": "code",
   "execution_count": null,
   "metadata": {},
   "outputs": [],
   "source": [
    "new_genes = pd.merge(genes[(genes['TWAS.P'] <= 0.05)], pgc3_df, left_on='BEST.GWAS.ID', \n",
    "                     right_on='our_snp_id', suffixes=['_TWAS', '_PGC2'])\n",
    "new_trans = pd.merge(trans[(trans['TWAS.P'] <= 0.05)], pgc3_df, left_on='BEST.GWAS.ID', \n",
    "                     right_on='our_snp_id', suffixes=['_TWAS', '_PGC2'])\n",
    "new_exons = pd.merge(exons[(exons['TWAS.P'] <= 0.05)], pgc3_df, left_on='BEST.GWAS.ID', \n",
    "                     right_on='our_snp_id', suffixes=['_TWAS', '_PGC2'])\n",
    "new_juncs = pd.merge(juncs[(juncs['TWAS.P'] <= 0.05)], pgc3_df, left_on='BEST.GWAS.ID', \n",
    "                     right_on='our_snp_id', suffixes=['_TWAS', '_PGC2'])\n",
    "\n",
    "new_genes = new_genes[(new_genes['P'] > 5e-8)].copy()\n",
    "new_trans = new_trans[(new_trans['P'] > 5e-8)].copy()\n",
    "new_exons = new_exons[(new_exons['P'] > 5e-8)].copy()\n",
    "new_juncs = new_juncs[(new_juncs['P'] > 5e-8)].copy()"
   ]
  },
  {
   "cell_type": "code",
   "execution_count": null,
   "metadata": {},
   "outputs": [],
   "source": [
    "gg = len(set(new_genes['BEST.GWAS.ID']))\n",
    "tt = len(set(new_trans['BEST.GWAS.ID']))\n",
    "ee = len(set(new_exons['BEST.GWAS.ID']))\n",
    "jj = len(set(new_juncs['BEST.GWAS.ID']))\n",
    "\n",
    "print(\"===Unique novel SNPs===\\nGene:\\t\\t%d\\nTranscript:\\t%d\\nExon:\\t\\t%d\\nJunction:\\t%d\\n\" % (gg, tt, ee, jj)) "
   ]
  },
  {
   "cell_type": "code",
   "execution_count": null,
   "metadata": {},
   "outputs": [],
   "source": [
    "len(set(new_genes['BEST.GWAS.ID']) | set(new_trans['BEST.GWAS.ID']) | \n",
    "    set(new_exons['BEST.GWAS.ID']) | set(new_juncs['BEST.GWAS.ID']))"
   ]
  },
  {
   "cell_type": "markdown",
   "metadata": {},
   "source": [
    "## TWAS FDR < 0.05"
   ]
  },
  {
   "cell_type": "markdown",
   "metadata": {},
   "source": [
    "### Feature summary"
   ]
  },
  {
   "cell_type": "code",
   "execution_count": null,
   "metadata": {},
   "outputs": [],
   "source": [
    "gg = len(set(genes[(genes['FDR'] <= 0.05)].loc[:, 'Feature']))\n",
    "tt = len(set(trans[(trans['FDR'] <= 0.05)].loc[:, 'Feature']))\n",
    "ee = len(set(exons[(exons['FDR'] <= 0.05)].loc[:, 'Feature']))\n",
    "jj = len(set(juncs[(juncs['FDR'] <= 0.05)].loc[:, 'Feature']))\n",
    "\n",
    "print(\"===Unique Features===\\nGene:\\t\\t%d\\nTranscript:\\t%d\\nExon:\\t\\t%d\\nJunction:\\t%d\\n\" % (gg, tt, ee, jj)) \n",
    "\n",
    "gg = len(set(genes[(genes['FDR'] <= 0.05)].loc[:, 'ensemblID']))\n",
    "tt = len(set(trans[(trans['FDR'] <= 0.05)].loc[:, 'ensemblID']))\n",
    "ee = len(set(exons[(exons['FDR'] <= 0.05)].loc[:, 'ensemblID']))\n",
    "jj = len(set(juncs[(juncs['FDR'] <= 0.05)].loc[:, 'ensemblID']))\n",
    "\n",
    "print(\"===Unique Ensembl Gene===\\nGene:\\t\\t%d\\nTranscript:\\t%d\\nExon:\\t\\t%d\\nJunction:\\t%d\\n\" % (gg, tt, ee, jj)) \n",
    "\n",
    "gg = len(set(genes[(genes['FDR'] <= 0.05)].loc[:, 'ID']))\n",
    "tt = len(set(trans[(trans['FDR'] <= 0.05)].loc[:, 'ID']))\n",
    "ee = len(set(exons[(exons['FDR'] <= 0.05)].loc[:, 'ID']))\n",
    "jj = len(set(juncs[(juncs['FDR'] <= 0.05)].loc[:, 'ID']))\n",
    "\n",
    "print(\"===Unique Gene Name===\\nGene:\\t\\t%d\\nTranscript:\\t%d\\nExon:\\t\\t%d\\nJunction:\\t%d\\n\" % (gg, tt, ee, jj)) "
   ]
  },
  {
   "cell_type": "markdown",
   "metadata": {},
   "source": [
    "### Plot venn"
   ]
  },
  {
   "cell_type": "code",
   "execution_count": null,
   "metadata": {},
   "outputs": [],
   "source": [
    "features = {\n",
    "    'Genes': set(genes[(genes['FDR'] <= 0.05)].loc[:, 'ensemblID']),\n",
    "    'Transcripts': set(trans[(trans['FDR'] <= 0.05)].loc[:, 'ensemblID']),\n",
    "    'Exons': set(exons[(exons['FDR'] <= 0.05)].loc[:, 'ensemblID']),\n",
    "    'Junctions': set(juncs[(juncs['FDR'] <= 0.05)].loc[:, 'ensemblID']),\n",
    "}"
   ]
  },
  {
   "cell_type": "code",
   "execution_count": null,
   "metadata": {},
   "outputs": [],
   "source": [
    "venn(features, fmt=\"{size}\\n{percentage:0.1f}%\", fontsize=18, legend_loc=\"best\", \n",
    "     figsize=(12, 12), cmap=['red', 'green', 'blue', 'purple'])\n",
    "plt.savefig('fdr_allFeatures_venn_diagram_percentage.png')\n",
    "plt.savefig('fdr_allFeatures_venn_diagram_percentage.pdf')\n",
    "plt.savefig('fdr_allFeatures_venn_diagram_percentage.svg')\n",
    "plt.show()"
   ]
  },
  {
   "cell_type": "code",
   "execution_count": null,
   "metadata": {},
   "outputs": [],
   "source": [
    "limiting_features(features, 'Genes', 'Transcripts')\n",
    "limiting_features(features, 'Genes', 'Junctions')\n",
    "limiting_features(features, 'Exons', 'Genes')"
   ]
  },
  {
   "cell_type": "code",
   "execution_count": null,
   "metadata": {},
   "outputs": [],
   "source": [
    "limiting_features(features, 'Transcripts', 'Junctions')\n",
    "limiting_features(features, 'Exons', 'Transcripts')\n",
    "limiting_features(features, 'Exons', 'Junctions')"
   ]
  },
  {
   "cell_type": "code",
   "execution_count": null,
   "metadata": {},
   "outputs": [],
   "source": [
    "len(features['Genes'] & features['Transcripts'] & features['Exons'] & features['Junctions'])"
   ]
  },
  {
   "cell_type": "code",
   "execution_count": null,
   "metadata": {},
   "outputs": [],
   "source": [
    "len(features['Genes'] | features['Transcripts'] | features['Exons'] | features['Junctions'])"
   ]
  },
  {
   "cell_type": "markdown",
   "metadata": {},
   "source": [
    "### SNPs not in significant PGC2+CLOZUK GWAS"
   ]
  },
  {
   "cell_type": "code",
   "execution_count": null,
   "metadata": {},
   "outputs": [],
   "source": [
    "new_genes = pd.merge(genes[(genes['FDR'] <= 0.05)], pgc3_df, left_on='BEST.GWAS.ID', \n",
    "                     right_on='our_snp_id', suffixes=['_TWAS', '_PGC2'])\n",
    "new_trans = pd.merge(trans[(trans['FDR'] <= 0.05)], pgc3_df, left_on='BEST.GWAS.ID', \n",
    "                     right_on='our_snp_id', suffixes=['_TWAS', '_PGC2'])\n",
    "new_exons = pd.merge(exons[(exons['FDR'] <= 0.05)], pgc3_df, left_on='BEST.GWAS.ID', \n",
    "                     right_on='our_snp_id', suffixes=['_TWAS', '_PGC2'])\n",
    "new_juncs = pd.merge(juncs[(juncs['FDR'] <= 0.05)], pgc3_df, left_on='BEST.GWAS.ID', \n",
    "                     right_on='our_snp_id', suffixes=['_TWAS', '_PGC2'])\n",
    "\n",
    "new_genes = new_genes[(new_genes['P'] > 5e-8)].copy()\n",
    "new_trans = new_trans[(new_trans['P'] > 5e-8)].copy()\n",
    "new_exons = new_exons[(new_exons['P'] > 5e-8)].copy()\n",
    "new_juncs = new_juncs[(new_juncs['P'] > 5e-8)].copy()"
   ]
  },
  {
   "cell_type": "code",
   "execution_count": null,
   "metadata": {},
   "outputs": [],
   "source": [
    "gg = len(set(new_genes['BEST.GWAS.ID']))\n",
    "tt = len(set(new_trans['BEST.GWAS.ID']))\n",
    "ee = len(set(new_exons['BEST.GWAS.ID']))\n",
    "jj = len(set(new_juncs['BEST.GWAS.ID']))\n",
    "\n",
    "print(\"===Unique novel SNPs===\\nGene:\\t\\t%d\\nTranscript:\\t%d\\nExon:\\t\\t%d\\nJunction:\\t%d\\n\" % (gg, tt, ee, jj)) "
   ]
  },
  {
   "cell_type": "code",
   "execution_count": null,
   "metadata": {},
   "outputs": [],
   "source": [
    "len(set(new_genes['BEST.GWAS.ID']) | set(new_trans['BEST.GWAS.ID']) | \n",
    "    set(new_exons['BEST.GWAS.ID']) | set(new_juncs['BEST.GWAS.ID']))"
   ]
  },
  {
   "cell_type": "markdown",
   "metadata": {},
   "source": [
    "## TWAS Bonferroni < 0.05"
   ]
  },
  {
   "cell_type": "markdown",
   "metadata": {},
   "source": [
    "### Feature summary"
   ]
  },
  {
   "cell_type": "code",
   "execution_count": null,
   "metadata": {},
   "outputs": [],
   "source": [
    "gg = len(set(genes[(genes['Bonferroni'] <= 0.05)].loc[:, 'Feature']))\n",
    "tt = len(set(trans[(trans['Bonferroni'] <= 0.05)].loc[:, 'Feature']))\n",
    "ee = len(set(exons[(exons['Bonferroni'] <= 0.05)].loc[:, 'Feature']))\n",
    "jj = len(set(juncs[(juncs['Bonferroni'] <= 0.05)].loc[:, 'Feature']))\n",
    "\n",
    "print(\"===Unique Features===\\nGene:\\t\\t%d\\nTranscript:\\t%d\\nExon:\\t\\t%d\\nJunction:\\t%d\\n\" % (gg, tt, ee, jj)) \n",
    "\n",
    "gg = len(set(genes[(genes['Bonferroni'] <= 0.05)].loc[:, 'ensemblID']))\n",
    "tt = len(set(trans[(trans['Bonferroni'] <= 0.05)].loc[:, 'ensemblID']))\n",
    "ee = len(set(exons[(exons['Bonferroni'] <= 0.05)].loc[:, 'ensemblID']))\n",
    "jj = len(set(juncs[(juncs['Bonferroni'] <= 0.05)].loc[:, 'ensemblID']))\n",
    "\n",
    "print(\"===Unique Ensembl Gene===\\nGene:\\t\\t%d\\nTranscript:\\t%d\\nExon:\\t\\t%d\\nJunction:\\t%d\\n\" % (gg, tt, ee, jj)) \n",
    "\n",
    "gg = len(set(genes[(genes['Bonferroni'] <= 0.05)].loc[:, 'ID']))\n",
    "tt = len(set(trans[(trans['Bonferroni'] <= 0.05)].loc[:, 'ID']))\n",
    "ee = len(set(exons[(exons['Bonferroni'] <= 0.05)].loc[:, 'ID']))\n",
    "jj = len(set(juncs[(juncs['Bonferroni'] <= 0.05)].loc[:, 'ID']))\n",
    "\n",
    "print(\"===Unique Gene Name===\\nGene:\\t\\t%d\\nTranscript:\\t%d\\nExon:\\t\\t%d\\nJunction:\\t%d\\n\" % (gg, tt, ee, jj)) "
   ]
  },
  {
   "cell_type": "markdown",
   "metadata": {},
   "source": [
    "### Plot venn"
   ]
  },
  {
   "cell_type": "code",
   "execution_count": null,
   "metadata": {},
   "outputs": [],
   "source": [
    "features = {\n",
    "    'Genes': set(genes[(genes['Bonferroni'] <= 0.05)].loc[:, 'ensemblID']),\n",
    "    'Transcripts': set(trans[(trans['Bonferroni'] <= 0.05)].loc[:, 'ensemblID']),\n",
    "    'Exons': set(exons[(exons['Bonferroni'] <= 0.05)].loc[:, 'ensemblID']),\n",
    "    'Junctions': set(juncs[(juncs['Bonferroni'] <= 0.05)].loc[:, 'ensemblID']),\n",
    "}"
   ]
  },
  {
   "cell_type": "code",
   "execution_count": null,
   "metadata": {},
   "outputs": [],
   "source": [
    "venn(features, fmt=\"{size}\\n{percentage:0.1f}%\", fontsize=18, legend_loc=\"best\", \n",
    "     figsize=(12, 12), cmap=['red', 'green', 'blue', 'purple'])\n",
    "plt.savefig('bonferroni_allFeatures_venn_diagram_percentage.png')\n",
    "plt.savefig('bonferroni_allFeatures_venn_diagram_percentage.pdf')\n",
    "plt.savefig('bonferroni_allFeatures_venn_diagram_percentage.svg')\n",
    "plt.show()"
   ]
  },
  {
   "cell_type": "code",
   "execution_count": null,
   "metadata": {},
   "outputs": [],
   "source": [
    "limiting_features(features, 'Genes', 'Transcripts')\n",
    "limiting_features(features, 'Genes', 'Junctions')\n",
    "limiting_features(features, 'Exons', 'Genes')"
   ]
  },
  {
   "cell_type": "code",
   "execution_count": null,
   "metadata": {},
   "outputs": [],
   "source": [
    "limiting_features(features, 'Transcripts', 'Junctions')\n",
    "limiting_features(features, 'Exons', 'Transcripts')\n",
    "limiting_features(features, 'Exons', 'Junctions')"
   ]
  },
  {
   "cell_type": "code",
   "execution_count": null,
   "metadata": {},
   "outputs": [],
   "source": [
    "len(features['Genes'] & features['Transcripts'] & features['Exons'] & features['Junctions'])"
   ]
  },
  {
   "cell_type": "code",
   "execution_count": null,
   "metadata": {},
   "outputs": [],
   "source": [
    "len(features['Genes'] | features['Transcripts'] | features['Exons'] | features['Junctions'])"
   ]
  },
  {
   "cell_type": "markdown",
   "metadata": {},
   "source": [
    "### SNPs not in significant PGC2+CLOZUK GWAS"
   ]
  },
  {
   "cell_type": "code",
   "execution_count": null,
   "metadata": {},
   "outputs": [],
   "source": [
    "new_genes = pd.merge(genes[(genes['Bonferroni'] <= 0.05)], pgc3_df, left_on='BEST.GWAS.ID', \n",
    "                     right_on='our_snp_id', suffixes=['_TWAS', '_PGC2'])\n",
    "new_trans = pd.merge(trans[(trans['Bonferroni'] <= 0.05)], pgc3_df, left_on='BEST.GWAS.ID', \n",
    "                     right_on='our_snp_id', suffixes=['_TWAS', '_PGC2'])\n",
    "new_exons = pd.merge(exons[(exons['Bonferroni'] <= 0.05)], pgc3_df, left_on='BEST.GWAS.ID', \n",
    "                     right_on='our_snp_id', suffixes=['_TWAS', '_PGC2'])\n",
    "new_juncs = pd.merge(juncs[(juncs['Bonferroni'] <= 0.05)], pgc3_df, left_on='BEST.GWAS.ID', \n",
    "                     right_on='our_snp_id', suffixes=['_TWAS', '_PGC2'])\n",
    "\n",
    "new_genes = new_genes[(new_genes['P'] > 5e-8)].copy()\n",
    "new_trans = new_trans[(new_trans['P'] > 5e-8)].copy()\n",
    "new_exons = new_exons[(new_exons['P'] > 5e-8)].copy()\n",
    "new_juncs = new_juncs[(new_juncs['P'] > 5e-8)].copy()"
   ]
  },
  {
   "cell_type": "code",
   "execution_count": null,
   "metadata": {},
   "outputs": [],
   "source": [
    "gg = len(set(new_genes['BEST.GWAS.ID']))\n",
    "tt = len(set(new_trans['BEST.GWAS.ID']))\n",
    "ee = len(set(new_exons['BEST.GWAS.ID']))\n",
    "jj = len(set(new_juncs['BEST.GWAS.ID']))\n",
    "\n",
    "print(\"===Unique novel SNPs===\\nGene:\\t\\t%d\\nTranscript:\\t%d\\nExon:\\t\\t%d\\nJunction:\\t%d\\n\" % (gg, tt, ee, jj)) "
   ]
  },
  {
   "cell_type": "code",
   "execution_count": null,
   "metadata": {},
   "outputs": [],
   "source": [
    "len(set(new_genes['BEST.GWAS.ID']) | set(new_trans['BEST.GWAS.ID']) | \n",
    "    set(new_exons['BEST.GWAS.ID']) | set(new_juncs['BEST.GWAS.ID']))"
   ]
  },
  {
   "cell_type": "markdown",
   "metadata": {},
   "source": [
    "## Session Information"
   ]
  },
  {
   "cell_type": "code",
   "execution_count": null,
   "metadata": {},
   "outputs": [],
   "source": [
    "import types\n",
    "from IPython import sys_info\n",
    "\n",
    "def imports():\n",
    "    for name, val in globals().items():\n",
    "        if isinstance(val, types.ModuleType):\n",
    "            yield val.__name__\n",
    "\n",
    "#exclude all modules not listed by `!pip freeze`\n",
    "excludes = ['__builtin__', 'types', 'IPython.core.shadowns', 'sys', 'os']\n",
    "function_modules = []\n",
    "imported_modules = [module for module in imports() if module not in excludes] + function_modules\n",
    "pip_modules = !pip freeze #you could also use `!conda list` with anaconda"
   ]
  },
  {
   "cell_type": "code",
   "execution_count": null,
   "metadata": {},
   "outputs": [],
   "source": [
    "print(sys_info())"
   ]
  }
 ],
 "metadata": {
  "kernelspec": {
   "display_name": "Python 3 (ipykernel)",
   "language": "python",
   "name": "python3"
  },
  "language_info": {
   "codemirror_mode": {
    "name": "ipython",
    "version": 3
   },
   "file_extension": ".py",
   "mimetype": "text/x-python",
   "name": "python",
   "nbconvert_exporter": "python",
   "pygments_lexer": "ipython3",
   "version": "3.9.7"
  }
 },
 "nbformat": 4,
 "nbformat_minor": 4
}
