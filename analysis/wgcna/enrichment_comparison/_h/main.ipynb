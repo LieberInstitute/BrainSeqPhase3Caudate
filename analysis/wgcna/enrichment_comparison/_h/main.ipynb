{
 "cells": [
  {
   "cell_type": "markdown",
   "metadata": {},
   "source": [
    "# Enrichment in GWAS, TWAS, SMR, and DE "
   ]
  },
  {
   "cell_type": "code",
   "execution_count": null,
   "metadata": {},
   "outputs": [],
   "source": [
    "import functools\n",
    "import numpy as np\n",
    "import pandas as pd\n",
    "import collections as cx\n",
    "from pybiomart import Dataset\n",
    "from gtfparse import read_gtf\n",
    "from scipy.stats import fisher_exact\n",
    "from statsmodels.stats.multitest import multipletests\n",
    "\n",
    "# GO analysis\n",
    "from goatools.base import download_go_basic_obo\n",
    "from goatools.base import download_ncbi_associations\n",
    "from goatools.obo_parser import GODag\n",
    "from goatools.anno.genetogo_reader import Gene2GoReader\n",
    "from goatools.goea.go_enrichment_ns import GOEnrichmentStudyNS"
   ]
  },
  {
   "cell_type": "markdown",
   "metadata": {},
   "source": [
    "## Functions"
   ]
  },
  {
   "cell_type": "code",
   "execution_count": null,
   "metadata": {},
   "outputs": [],
   "source": [
    "@functools.lru_cache()\n",
    "def get_gtf_genes_df():\n",
    "    gtf_df = read_gtf(\"/ceph/genome/human/gencode25/gtf.CHR/_m/gencode.v25.annotation.gtf\")\n",
    "    return gtf_df[gtf_df[\"feature\"] == \"gene\"][['gene_id', 'gene_name']]\n",
    "\n",
    "\n",
    "@functools.lru_cache()\n",
    "def get_wgcna_modules():\n",
    "    return pd.read_csv(\"../../_m/modules.csv\", index_col=0)\n",
    "\n",
    "\n",
    "@functools.lru_cache()\n",
    "def get_database():\n",
    "    dataset = Dataset(name=\"hsapiens_gene_ensembl\", \n",
    "                      host=\"http://www.ensembl.org\",\n",
    "                      use_cache=True)\n",
    "    db = dataset.query(attributes=[\"ensembl_gene_id\", \n",
    "                                   \"external_gene_name\", \n",
    "                                   \"entrezgene_id\"], \n",
    "                       use_attr_names=True).dropna(subset=['entrezgene_id'])\n",
    "    return db"
   ]
  },
  {
   "cell_type": "code",
   "execution_count": null,
   "metadata": {},
   "outputs": [],
   "source": [
    "def fet(a, b, u):\n",
    "    # a, b, u are sets\n",
    "    # u is the universe\n",
    "    yes_a = u.intersection(a)\n",
    "    yes_b = u.intersection(b)\n",
    "    no_a = u - a\n",
    "    no_b = u - b\n",
    "    m = [[len(yes_a.intersection(yes_b)), len(no_a.intersection(yes_b)) ], \n",
    "         [len(yes_a.intersection(no_b)), len(no_a.intersection(no_b))]]\n",
    "    return fisher_exact(m)\n",
    "\n",
    "\n",
    "def enrichment_rows():\n",
    "    mod = get_wgcna_modules().module.unique()\n",
    "    u = set(get_wgcna_modules().index) \n",
    "    for ii in range(len(mod)): # for each module\n",
    "        a = set(get_wgcna_modules()[(get_wgcna_modules().module) == mod[ii]].index)\n",
    "        yield (mod[ii],\n",
    "               len(a),\n",
    "               *fet(a, gwas_genes, u),\n",
    "               *fet(a, twas_genes, u),\n",
    "               *fet(a, smr_genes, u),\n",
    "               *fet(a, de_genes, u),\n",
    "               )\n",
    "        \n",
    "\n",
    "def enrichment_rows_nomhc():\n",
    "    mod = get_wgcna_modules().module.unique()\n",
    "    u = set(get_wgcna_modules().index) - mhc_genes\n",
    "    for ii in range(len(mod)): # for each module\n",
    "        a = set(get_wgcna_modules()[(get_wgcna_modules().module) == mod[ii]].index) - mhc_genes\n",
    "        yield (mod[ii],\n",
    "               len(a),\n",
    "               *fet(a, gwas_genes - mhc_genes, u),\n",
    "               *fet(a, twas_genes - mhc_genes, u),\n",
    "               *fet(a, smr_genes - mhc_genes, u),\n",
    "               *fet(a, de_genes - mhc_genes, u),\n",
    "              )\n",
    "        \n",
    "\n",
    "def convert2entrez(mod):\n",
    "    df = get_wgcna_modules()[(get_wgcna_modules().module) == mod].copy()\n",
    "    df[\"ensemblID\"] = df.index.str.replace(\"\\\\..*\", \"\", regex=True)\n",
    "    return df.merge(get_database(), left_on='ensemblID', \n",
    "                    right_on='ensembl_gene_id')\n",
    "\n",
    "\n",
    "def obo_annotation(alpha=0.05):\n",
    "    # database annotation\n",
    "    fn_obo = download_go_basic_obo()\n",
    "    fn_gene2go = download_ncbi_associations() # must be gunzip to work\n",
    "    obodag = GODag(fn_obo) # downloads most up-to-date\n",
    "    anno_hs = Gene2GoReader(fn_gene2go, taxids=[9606])\n",
    "    # get associations\n",
    "    ns2assoc = anno_hs.get_ns2assc()\n",
    "    for nspc, id2gos in ns2assoc.items():\n",
    "        print(\"{NS} {N:,} annotated human genes\".format(NS=nspc, N=len(id2gos)))\n",
    "    goeaobj = GOEnrichmentStudyNS(\n",
    "        get_database()['entrezgene_id'], # List of human genes with entrez IDs\n",
    "        ns2assoc, # geneid/GO associations\n",
    "        obodag, # Ontologies\n",
    "        propagate_counts = False,\n",
    "        alpha = alpha, # default significance cut-off\n",
    "        methods = ['fdr_bh'])\n",
    "    return goeaobj\n",
    "\n",
    "\n",
    "def run_goea(mod):\n",
    "    df = convert2entrez(mod)\n",
    "    geneids_study = {z[0]:z[1] for z in zip(df['entrezgene_id'], df['external_gene_name'])}\n",
    "    goeaobj = obo_annotation()\n",
    "    goea_results_all = goeaobj.run_study(geneids_study)\n",
    "    goea_results_sig = [r for r in goea_results_all if r.p_fdr_bh < 0.05]\n",
    "    ctr = cx.Counter([r.NS for r in goea_results_sig])\n",
    "    print('Significant results[{TOTAL}] = {BP} BP + {MF} MF + {CC} CC'.format(\n",
    "        TOTAL=len(goea_results_sig),\n",
    "        BP=ctr['BP'],  # biological_process\n",
    "        MF=ctr['MF'],  # molecular_function\n",
    "        CC=ctr['CC'])) # cellular_component\n",
    "    goeaobj.wr_xlsx(\"GO_analysis_module_%s.xlsx\" % mod, goea_results_sig)\n",
    "    goeaobj.wr_txt(\"GO_analysis_module_%s.txt\" % mod, goea_results_sig)"
   ]
  },
  {
   "cell_type": "markdown",
   "metadata": {},
   "source": [
    "## Gene annotation"
   ]
  },
  {
   "cell_type": "code",
   "execution_count": null,
   "metadata": {},
   "outputs": [],
   "source": [
    "gtf = get_gtf_genes_df()\n",
    "gtf.head(2)"
   ]
  },
  {
   "cell_type": "markdown",
   "metadata": {},
   "source": [
    "## GWAS, TWAS and DE enrichment"
   ]
  },
  {
   "cell_type": "markdown",
   "metadata": {},
   "source": [
    "### Load DE, TWAS, and GWAS genes"
   ]
  },
  {
   "cell_type": "code",
   "execution_count": null,
   "metadata": {},
   "outputs": [],
   "source": [
    "de_genes = set(pd.read_csv('../../../differential_expression/_m/genes/diffExpr_szVctl_FDR05.txt',\n",
    "                           sep='\\t', usecols=[0], index_col=0).index)\n",
    "len(de_genes)"
   ]
  },
  {
   "cell_type": "code",
   "execution_count": null,
   "metadata": {},
   "outputs": [],
   "source": [
    "mhc_genes = set(pd.read_csv('/ceph/projects/v4_phase3_paper/inputs/counts/mhc_region_genes/_m/mhc_genes.csv')['gene_id'])\n",
    "len(mhc_genes)"
   ]
  },
  {
   "cell_type": "code",
   "execution_count": null,
   "metadata": {},
   "outputs": [],
   "source": [
    "annot = pd.read_csv(\"/ceph/projects/v4_phase3_paper/inputs/counts/text_files_counts/_m/caudate/gene.bed\", \n",
    "                    sep='\\t', index_col=0)\n",
    "annot[\"Feature\"] = annot.gene_id.str.replace(\"\\\\..*\", \"\", regex=True)\n",
    "twas = pd.read_csv('/ceph/projects/v4_phase3_paper/analysis/twas_ea/'+\\\n",
    "                    'gene_weights/fusion/summary_stats/_m/fusion_associations.txt', sep='\\t')\n",
    "twas = twas[(twas[\"FDR\"] < 0.05)].merge(annot, left_on=\"FILE\", right_on=\"Feature\")\n",
    "twas_genes = set(twas['gene_id'])\n",
    "len(twas_genes)"
   ]
  },
  {
   "cell_type": "code",
   "execution_count": null,
   "metadata": {},
   "outputs": [],
   "source": [
    "## Extract prioritized genes from PGC3 (FINEMAP or SMR evidence)\n",
    "gwas_fn = '/ceph/users/jbenja13/resources/gwas/pgc3/_m/'+\\\n",
    "        'nature_submission_11.08.2021/Supplementary Tables/'+\\\n",
    "        'Supplementary Table 12 - Prioritized Genes UPDATED.xlsx'\n",
    "gwas_df = pd.read_excel(gwas_fn, sheet_name=\"Prioritised\")\\\n",
    "    .merge(annot, left_on=\"Ensembl.ID\", right_on=\"Feature\")\n",
    "gwas_genes = set(gwas_df['gene_id'])\n",
    "len(gwas_genes)"
   ]
  },
  {
   "cell_type": "code",
   "execution_count": null,
   "metadata": {},
   "outputs": [],
   "source": [
    "smr_fn = \"../../../smr/_m/eqtl_genes.eqtl_p1e-04.gwas_p5e-08.csv\"\n",
    "smr_df = pd.read_csv(smr_fn)\n",
    "smr_genes = set(smr_df[(smr_df[\"FDR\"] < 0.05) & \n",
    "                       (smr_df[\"p_HEIDI\"] > 0.01)][\"probeID\"])\n",
    "len(smr_genes)"
   ]
  },
  {
   "cell_type": "markdown",
   "metadata": {},
   "source": [
    "### Load WGCNA module"
   ]
  },
  {
   "cell_type": "code",
   "execution_count": null,
   "metadata": {},
   "outputs": [],
   "source": [
    "wgcna_df = get_wgcna_modules().merge(gtf, left_index=True, right_on=\"gene_id\", how=\"left\")\n",
    "wgcna_df.head(2)"
   ]
  },
  {
   "cell_type": "code",
   "execution_count": null,
   "metadata": {},
   "outputs": [],
   "source": [
    "wgcna_df[(wgcna_df.gene_id.str.startswith(\"chr\"))]"
   ]
  },
  {
   "cell_type": "code",
   "execution_count": null,
   "metadata": {},
   "outputs": [],
   "source": [
    "wgcna_df[(wgcna_df.gene_name == 'DRD2')]"
   ]
  },
  {
   "cell_type": "code",
   "execution_count": null,
   "metadata": {},
   "outputs": [],
   "source": [
    "wgcna_df[(wgcna_df.gene_name == 'SETD1A')]"
   ]
  },
  {
   "cell_type": "markdown",
   "metadata": {},
   "source": [
    "### Enrichment"
   ]
  },
  {
   "cell_type": "code",
   "execution_count": null,
   "metadata": {},
   "outputs": [],
   "source": [
    "edf1 = pd.DataFrame.from_records(enrichment_rows(), \n",
    "                                 columns=['module_id', 'n_genes', 'gwas_or', 'gwas_p', 'twas_or', \n",
    "                                          'twas_p', 'smr_or', 'smr_p', 'de_or', 'de_p'],\n",
    "                                 index='module_id')\n",
    "edf1['twas_fdr_bh'] = multipletests(edf1['twas_p'], method='fdr_bh')[1]\n",
    "edf1['gwas_fdr_bh'] = multipletests(edf1['gwas_p'], method='fdr_bh')[1]\n",
    "edf1['smr_fdr_bh'] = multipletests(edf1['smr_p'], method='fdr_bh')[1]\n",
    "edf1['de_fdr_bh'] = multipletests(edf1['de_p'], method='fdr_bh')[1]\n",
    "edf1[['n_genes', 'gwas_or', 'gwas_p', 'gwas_fdr_bh', 'twas_or', 'twas_p', \n",
    "      'twas_fdr_bh', 'smr_or', 'smr_p', 'smr_fdr_bh', 'de_or', 'de_p', 'de_fdr_bh']]\\\n",
    "    .to_csv('wgcna_module_enrichment.csv')\n",
    "edf1[['n_genes', 'gwas_or', 'gwas_p', 'gwas_fdr_bh', 'twas_or', 'twas_p', \n",
    "      'twas_fdr_bh', 'smr_or', 'smr_p', 'smr_fdr_bh', 'de_or', 'de_p', 'de_fdr_bh']]"
   ]
  },
  {
   "cell_type": "markdown",
   "metadata": {},
   "source": [
    "### No MHC region"
   ]
  },
  {
   "cell_type": "code",
   "execution_count": null,
   "metadata": {},
   "outputs": [],
   "source": [
    "edf2 = pd.DataFrame.from_records(enrichment_rows_nomhc(), \n",
    "                                 columns=['module_id', 'n_genes', 'gwas_or', 'gwas_p', 'twas_or', \n",
    "                                          'twas_p', 'smr_or', 'smr_p', 'de_or', 'de_p'],\n",
    "                                 index='module_id')\n",
    "edf2['twas_fdr_bh'] = multipletests(edf2['twas_p'], method='fdr_bh')[1]\n",
    "edf2['gwas_fdr_bh'] = multipletests(edf2['gwas_p'], method='fdr_bh')[1]\n",
    "edf2['smr_fdr_bh'] = multipletests(edf2['smr_p'], method='fdr_bh')[1]\n",
    "edf2['de_fdr_bh'] = multipletests(edf2['de_p'], method='fdr_bh')[1]\n",
    "edf2[['n_genes', 'gwas_or', 'gwas_p', 'gwas_fdr_bh', 'twas_or', 'twas_p', \n",
    "      'twas_fdr_bh', 'smr_or', 'smr_p', 'smr_fdr_bh', 'de_or', 'de_p', 'de_fdr_bh']]\\\n",
    "    .to_csv('wgcna_module_enrichment_excluding_mhc_region.csv')\n",
    "edf2[['n_genes', 'gwas_or', 'gwas_p', 'gwas_fdr_bh', 'twas_or', 'twas_p', \n",
    "      'twas_fdr_bh', 'smr_or', 'smr_p', 'smr_fdr_bh', 'de_or', 'de_p', 'de_fdr_bh']]"
   ]
  },
  {
   "cell_type": "markdown",
   "metadata": {},
   "source": [
    "## GO enrichment for each cluster"
   ]
  },
  {
   "cell_type": "code",
   "execution_count": null,
   "metadata": {},
   "outputs": [],
   "source": [
    "for mod in get_wgcna_modules().module.unique():\n",
    "    run_goea(mod)"
   ]
  },
  {
   "cell_type": "code",
   "execution_count": null,
   "metadata": {},
   "outputs": [],
   "source": []
  }
 ],
 "metadata": {
  "kernelspec": {
   "display_name": "Python 3 (ipykernel)",
   "language": "python",
   "name": "python3"
  },
  "language_info": {
   "codemirror_mode": {
    "name": "ipython",
    "version": 3
   },
   "file_extension": ".py",
   "mimetype": "text/x-python",
   "name": "python",
   "nbconvert_exporter": "python",
   "pygments_lexer": "ipython3",
   "version": "3.9.7"
  }
 },
 "nbformat": 4,
 "nbformat_minor": 4
}
