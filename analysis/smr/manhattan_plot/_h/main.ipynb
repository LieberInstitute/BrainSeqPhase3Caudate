{
 "cells": [
  {
   "cell_type": "markdown",
   "metadata": {},
   "source": [
    "# SMR manhattan plot"
   ]
  },
  {
   "cell_type": "code",
   "execution_count": null,
   "metadata": {},
   "outputs": [],
   "source": [
    "suppressMessages({\n",
    "    library(dplyr)\n",
    "    library(ggtext)\n",
    "    library(ggplot2)\n",
    "})"
   ]
  },
  {
   "cell_type": "markdown",
   "metadata": {},
   "source": [
    "## Functions"
   ]
  },
  {
   "cell_type": "code",
   "execution_count": null,
   "metadata": {},
   "outputs": [],
   "source": [
    "save_plots <- function(p, fn){\n",
    "    for(ext in c('.png', '.pdf', '.svg')){\n",
    "        ggsave(paste0(fn,ext), p, width=30, height=15, units=\"cm\")\n",
    "    }\n",
    "}"
   ]
  },
  {
   "cell_type": "markdown",
   "metadata": {},
   "source": [
    "## Prepare data"
   ]
  },
  {
   "cell_type": "code",
   "execution_count": null,
   "metadata": {},
   "outputs": [],
   "source": [
    "annot_file = \"/ceph/projects/v4_phase3_paper/inputs/counts/gene_annotation/_m/gene_annotation.tsv\"\n",
    "gene_annot <- data.table::fread(annot_file) %>% janitor::clean_names()\n",
    "gene_annot %>% head(2)"
   ]
  },
  {
   "cell_type": "markdown",
   "metadata": {},
   "source": [
    "### Preparing SMR data"
   ]
  },
  {
   "cell_type": "code",
   "execution_count": null,
   "metadata": {},
   "outputs": [],
   "source": [
    "smr_file = \"../../_m/eqtl_genes.eqtl_p1e-04.gwas_p5e-08.csv\"\n",
    "qsmr_data_load <- data.table::fread(smr_file) %>% janitor::clean_names() %>%\n",
    "    filter(fdr < 0.05, p_heidi > 0.01) %>% select(probe_id, probe_bp, fdr) %>% distinct\n",
    "\n",
    "smr_data_load <- data.table::fread(smr_file) %>% janitor::clean_names() %>%\n",
    "    inner_join(gene_annot, by=c(\"probe_id\"=\"feature_id\")) %>%\n",
    "    select(probe_id, probe_bp, probe_chr, p_smr, p_heidi, top_snp, symbol) %>% distinct %>%\n",
    "    rename(chr=probe_chr)\n",
    "\n",
    "data_cum <- smr_data_load %>% group_by(chr) %>% summarise(max_bp = max(probe_bp)) %>%\n",
    "    mutate(bp_add = lag(cumsum(as.numeric(max_bp)), default=0)) %>% select(chr, bp_add)\n",
    "smr_data <- smr_data_load %>% inner_join(data_cum, by=\"chr\") %>% \n",
    "    mutate(bp_cum = probe_bp + bp_add) %>% left_join(qsmr_data_load, by=c(\"probe_id\", \"probe_bp\")) %>% \n",
    "    mutate(fdr = tidyr::replace_na(fdr, 1))\n",
    "smr_data %>% head(2)"
   ]
  },
  {
   "cell_type": "markdown",
   "metadata": {},
   "source": [
    "### SMR caudate, SZ PGC3"
   ]
  },
  {
   "cell_type": "markdown",
   "metadata": {
    "tags": []
   },
   "source": [
    "### Plotting settings"
   ]
  },
  {
   "cell_type": "code",
   "execution_count": null,
   "metadata": {},
   "outputs": [],
   "source": [
    "axis_set <- smr_data %>% group_by(chr) %>% summarize(center = mean(bp_cum))\n",
    "ylim <- smr_data %>% filter(p_smr == min(p_smr)) %>% \n",
    "    mutate(ylim  = abs(floor(log10(p_smr))) + 2) %>% pull(ylim)\n",
    "ylim = ylim[1]\n",
    "sig <- 1e-4"
   ]
  },
  {
   "cell_type": "markdown",
   "metadata": {},
   "source": [
    "### Plot"
   ]
  },
  {
   "cell_type": "code",
   "execution_count": null,
   "metadata": {},
   "outputs": [],
   "source": [
    "manhplot1 <- ggplot(smr_data, aes(x=bp_cum, y=-log10(p_smr), size=-log10(p_smr))) + \n",
    "    geom_point(alpha=0.75, size=1.25, aes(color=forcats::as_factor(chr))) +\n",
    "    geom_hline(yintercept = -log10(sig), color = \"grey40\", linetype = \"dashed\") + \n",
    "    scale_x_continuous(label = axis_set$chr, breaks = axis_set$center) + \n",
    "    scale_y_continuous(expand = c(0,0), limits = c(0, ylim)) +\n",
    "    scale_color_manual(values = rep(ggpubr::get_palette(\"jco\", 2), unique(length(axis_set$chr)))) + \n",
    "    labs(x = NULL, y = \"-log<sub>10</sub>(p)\") +\n",
    "    theme_minimal(base_size=20) + \n",
    "    theme(\n",
    "        legend.position=\"none\", panel.border=element_blank(), \n",
    "        panel.grid.major=element_blank(), panel.grid.minor=element_blank(), \n",
    "        axis.title.y=element_markdown(), axis.text.x=element_text(angle=60, size=8, vjust=0.5)\n",
    "    )\n",
    "manhplot1"
   ]
  },
  {
   "cell_type": "code",
   "execution_count": null,
   "metadata": {},
   "outputs": [],
   "source": [
    "save_plots(manhplot1, 'caudate_smr_manhattanplot')"
   ]
  },
  {
   "cell_type": "code",
   "execution_count": null,
   "metadata": {},
   "outputs": [],
   "source": []
  }
 ],
 "metadata": {
  "kernelspec": {
   "display_name": "R",
   "language": "R",
   "name": "ir"
  },
  "language_info": {
   "codemirror_mode": "r",
   "file_extension": ".r",
   "mimetype": "text/x-r-source",
   "name": "R",
   "pygments_lexer": "r",
   "version": "4.1.2"
  }
 },
 "nbformat": 4,
 "nbformat_minor": 4
}
