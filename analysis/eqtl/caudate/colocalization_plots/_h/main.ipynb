{
 "cells": [
  {
   "cell_type": "markdown",
   "metadata": {},
   "source": [
    "# eqtplot for eqtl-gwas colocalization"
   ]
  },
  {
   "cell_type": "code",
   "execution_count": null,
   "metadata": {},
   "outputs": [],
   "source": [
    "import pandas as pd\n",
    "import numpy as np\n",
    "import subprocess\n",
    "import functools"
   ]
  },
  {
   "cell_type": "code",
   "execution_count": null,
   "metadata": {},
   "outputs": [],
   "source": [
    "%load_ext rpy2.ipython"
   ]
  },
  {
   "cell_type": "markdown",
   "metadata": {},
   "source": [
    "## Functions"
   ]
  },
  {
   "cell_type": "code",
   "execution_count": null,
   "metadata": {},
   "outputs": [],
   "source": [
    "def flip_slope_by_allele(row):\n",
    "    return [-1, 1][bool(row[\"pgc2_a1_same_as_our_counted\"])] * row[\"NES\"]\n",
    "\n",
    "\n",
    "def get_ld(fn, eqtl_dfx, gwas_dfx, label):\n",
    "    shared_df = gwas_dfx.merge(eqtl_dfx, left_on='SNP', right_on='SNP.Id')\\\n",
    "                        .sort_values('P', ascending=True)\n",
    "    shared_df[['SNP.Id']].to_csv('snps_%s.txt' % label, index=None, header=None)\n",
    "    cmd = '''/ceph/opt/plink-ng/1.9/plink \\\n",
    "                --bfile /ceph/projects/v4_phase3_paper/inputs/genotypes/_m/LIBD_Brain_TopMed \\\n",
    "                --extract snps_%s.txt \\\n",
    "                --keep-fam %s --r2 inter-chr \\\n",
    "                --write-snplist --ld-window-r2 0 \\\n",
    "                --out shared_snps_%s; \n",
    "            sed -i 's/ \\+//; s/ \\+/\\t/g' shared_snps_%s.ld\n",
    "      ''' % (label,fn,label,label)\n",
    "    subprocess.run(cmd, shell=True)\n",
    "    return pd.read_csv(\"shared_snps_%s.ld\" % label, sep='\\t', usecols=[*range(7)])"
   ]
  },
  {
   "cell_type": "code",
   "execution_count": null,
   "metadata": {},
   "outputs": [],
   "source": [
    "@functools.lru_cache()\n",
    "def get_gwas():\n",
    "    gwas_fn = '/ceph/projects/v4_phase3_paper/inputs/sz_gwas/'+\\\n",
    "              'pgc2_clozuk/map_phase3/zscore/_m/libd_hg38_pgc2sz_snps.tsv'\n",
    "    return pd.read_csv(gwas_fn, sep=\"\\t\", dtype={'chrN':str}, index_col=0)\n",
    "\n",
    "\n",
    "@functools.lru_cache()\n",
    "def subset_gwas(chrom, pos, window):\n",
    "    gwas_df = get_gwas().loc[(get_gwas()['chrN'] == chrom) & \n",
    "                             (get_gwas()['pos'] > pos - window) & \n",
    "                             (get_gwas()['pos'] < pos + window), \n",
    "                             ['chrN', 'pos', 'our_snp_id', 'P']]\\\n",
    "                        .rename(columns={'chrN':'CHR', 'pos':'BP', 'our_snp_id':'SNP'})\n",
    "    ## Flip direction of OR based on alleles matching\n",
    "    #dft.loc[:,'OR_flipped'] = dft.apply(flip_OR_by_allele, axis=1)\n",
    "    #dft = get_gwas()[[\"OR\", \"pgc2_a1_same_as_our_counted\"]]\n",
    "    gwas_df['BETA'] = np.log(get_gwas()[[\"OR\"]])\n",
    "    gwas_df['PHE'] = 'SCZD'\n",
    "    gwas_df['CHR'] = gwas_df['CHR'].astype(int)\n",
    "    gwas_df['pgc2_a1_same_as_our_counted'] = get_gwas()[[\"pgc2_a1_same_as_our_counted\"]]\n",
    "    return gwas_df\n",
    "\n",
    "\n",
    "@functools.lru_cache()\n",
    "def get_eqtl(fn, feature):\n",
    "    cmd = '''\n",
    "    zcat %s | head -1; zcat %s | awk '$1 == \"%s\" {print}'\n",
    "    ''' % (fn,fn,feature)\n",
    "    #print(cmd)\n",
    "    with subprocess.Popen(cmd, shell=True, stdout=subprocess.PIPE) as p:\n",
    "        df = pd.read_csv(p.stdout, sep='\\t')\n",
    "    return df\n",
    "\n",
    "\n",
    "@functools.lru_cache()\n",
    "def annotate_eqtls(fn, feature):\n",
    "    df = get_eqtl(fn, feature)\n",
    "    eqtl_df = pd.DataFrame({'SNP.Id': df['variant_id'], \n",
    "                            'Gene.Symbol': df['gene_id'], \n",
    "                            'P.Value': df['pval_nominal'], \n",
    "                            'NES': df['slope'], 'Tissue': 'caudate'}, \n",
    "                           index=df.index)\n",
    "    return eqtl_df"
   ]
  },
  {
   "cell_type": "markdown",
   "metadata": {},
   "source": [
    "## Prepare data"
   ]
  },
  {
   "cell_type": "markdown",
   "metadata": {},
   "source": [
    "### GWAS summary statistics data frame"
   ]
  },
  {
   "cell_type": "code",
   "execution_count": null,
   "metadata": {},
   "outputs": [],
   "source": [
    "## Parameters\n",
    "chrom = '11'; pos = 113412884; window = 2e5\n",
    "## Load GWAS summary stats\n",
    "gwas_df = subset_gwas(chrom, pos, window)\n",
    "print(gwas_df.dtypes)\n",
    "print(gwas_df.shape)\n",
    "gwas_df.head(2)"
   ]
  },
  {
   "cell_type": "markdown",
   "metadata": {},
   "source": [
    "### Gene data frame"
   ]
  },
  {
   "cell_type": "code",
   "execution_count": null,
   "metadata": {},
   "outputs": [],
   "source": [
    "genes_df = pd.DataFrame({'CHR':[11,11,11],\n",
    "                         'Start':[113412884,113412884,113414462],\n",
    "                         'Stop':[113415420,113414374,113415420],\n",
    "                         'Gene':[\"chr11:113412884-113415420(-)\", \n",
    "                                 \"chr11:113412884-113414374(-)\", \n",
    "                                 \"chr11:113414462-113415420(-)\"],\n",
    "                         'Build': ['hg38', 'hg38', 'hg38']})\n",
    "genes_df"
   ]
  },
  {
   "cell_type": "markdown",
   "metadata": {},
   "source": [
    "### Significant p-values"
   ]
  },
  {
   "cell_type": "code",
   "execution_count": null,
   "metadata": {},
   "outputs": [],
   "source": [
    "## P value nominal threshold by feature from permutation analysis\n",
    "perm_pval = pd.DataFrame({'Gene':[\"chr11:113412884-113415420(-)\", \n",
    "                                  \"chr11:113412884-113414374(-)\", \n",
    "                                  \"chr11:113414462-113415420(-)\"], \n",
    "                          'perm_pval': [9.0384e-05, 9.06858e-05, 8.55823e-05]})\n",
    "perm_pval"
   ]
  },
  {
   "cell_type": "markdown",
   "metadata": {},
   "source": [
    "### eQTL data frame"
   ]
  },
  {
   "cell_type": "code",
   "execution_count": null,
   "metadata": {},
   "outputs": [],
   "source": [
    "%%time\n",
    "## Replace file with q-value annotated so that significant p-value is stable\n",
    "## Need to generate the annotation?? Would this work??\n",
    "fn = '/ceph/projects/v4_phase3_paper/analysis/eqtl_analysis/all/junctions/'+\\\n",
    "     'expression_gct/prepare_expression/fastqtl_nominal/_m/Brainseq_LIBD.allpairs.txt.gz'\n",
    "#feature = \"chr11:113412884-113415420(-)\"\n",
    "eqtl_df1 = annotate_eqtls(fn, genes_df.Gene[0])\n",
    "eqtl_df2 = annotate_eqtls(fn, genes_df.Gene[1])\n",
    "eqtl_df3 = annotate_eqtls(fn, genes_df.Gene[2])"
   ]
  },
  {
   "cell_type": "code",
   "execution_count": null,
   "metadata": {},
   "outputs": [],
   "source": [
    "eqtl_df1 = pd.merge(eqtl_df1, gwas_df, left_on=\"SNP.Id\", right_on=\"SNP\", how=\"left\")\\\n",
    "         .drop([\"CHR\", \"SNP\", \"BP\", \"P\", \"BETA\", \"PHE\"], axis=1).fillna(True)\n",
    "eqtl_df1.loc[:,'NES'] = eqtl_df1.apply(flip_slope_by_allele, axis=1)\n",
    "eqtl_df1.drop([\"pgc2_a1_same_as_our_counted\"], axis=1, inplace=True)\n",
    "print(eqtl_df1.shape)\n",
    "eqtl_df1.sort_values(\"P.Value\").head(5)"
   ]
  },
  {
   "cell_type": "code",
   "execution_count": null,
   "metadata": {},
   "outputs": [],
   "source": [
    "eqtl_df2 = pd.merge(eqtl_df2, gwas_df, left_on=\"SNP.Id\", right_on=\"SNP\", how=\"left\")\\\n",
    "         .drop([\"CHR\", \"SNP\", \"BP\", \"P\", \"BETA\", \"PHE\"], axis=1).fillna(True)\n",
    "eqtl_df2.loc[:,'NES'] = eqtl_df2.apply(flip_slope_by_allele, axis=1)\n",
    "eqtl_df2.drop([\"pgc2_a1_same_as_our_counted\"], axis=1, inplace=True)\n",
    "print(eqtl_df2.shape)\n",
    "eqtl_df2.sort_values(\"P.Value\").head(5)"
   ]
  },
  {
   "cell_type": "code",
   "execution_count": null,
   "metadata": {},
   "outputs": [],
   "source": [
    "eqtl_df3 = pd.merge(eqtl_df3, gwas_df, left_on=\"SNP.Id\", right_on=\"SNP\", how=\"left\")\\\n",
    "         .drop([\"CHR\", \"SNP\", \"BP\", \"P\", \"BETA\", \"PHE\"], axis=1).fillna(True)\n",
    "eqtl_df3.loc[:,'NES'] = eqtl_df3.apply(flip_slope_by_allele, axis=1)\n",
    "eqtl_df3.drop([\"pgc2_a1_same_as_our_counted\"], axis=1, inplace=True)\n",
    "print(eqtl_df3.shape)\n",
    "eqtl_df3.sort_values(\"P.Value\").head(5)"
   ]
  },
  {
   "cell_type": "code",
   "execution_count": null,
   "metadata": {},
   "outputs": [],
   "source": [
    "gwas_df.drop([\"pgc2_a1_same_as_our_counted\"], axis=1, inplace=True)\n",
    "print(gwas_df.shape)"
   ]
  },
  {
   "cell_type": "markdown",
   "metadata": {},
   "source": [
    "### LD data frame"
   ]
  },
  {
   "cell_type": "code",
   "execution_count": null,
   "metadata": {},
   "outputs": [],
   "source": [
    "fn_fam = \"/ceph/projects/v4_phase3_paper/analysis/eqtl_analysis/all/junctions/expression_gct/_m/keepFam.txt\"\n",
    "ld_df1 = get_ld(fn_fam, eqtl_df1, gwas_df, \"jxn5_7\")\n",
    "print(ld_df1.shape)\n",
    "ld_df2 = get_ld(fn_fam, eqtl_df2, gwas_df, \"jxn6_7\")\n",
    "print(ld_df2.shape)\n",
    "ld_df3 = get_ld(fn_fam, eqtl_df3, gwas_df, \"jxn5_6\")\n",
    "print(ld_df3.shape)"
   ]
  },
  {
   "cell_type": "markdown",
   "metadata": {},
   "source": [
    "## Plot"
   ]
  },
  {
   "cell_type": "code",
   "execution_count": null,
   "metadata": {},
   "outputs": [],
   "source": [
    "%%R -i gwas_df,genes_df,perm_pval\n",
    "library(eQTpLot)\n",
    "perm_pval"
   ]
  },
  {
   "cell_type": "markdown",
   "metadata": {},
   "source": [
    "### Junction 5-7"
   ]
  },
  {
   "cell_type": "code",
   "execution_count": null,
   "metadata": {},
   "outputs": [],
   "source": [
    "%%R -i ld_df1,eqtl_df1\n",
    "ld_df = ld_df1\n",
    "eqtl_df = eqtl_df1\n",
    "# based on permutation p-value\n",
    "pval = perm_pval$perm_pval[1]\n",
    "gene = perm_pval$Gene[1]\n",
    "\n",
    "p = eQTpLot(GWAS.df = gwas_df, eQTL.df = eqtl_df, Genes.df = genes_df,  \n",
    "            LD.df = ld_df, LDmin = 10, R2min = 0.25, LDcolor = 'black', \n",
    "            gene = gene, trait = 'SCZD', gbuild = 'hg38', tissue = 'caudate', \n",
    "            sigpvalue_eQTL = pval, CollapseMethod = \"min\", congruence = FALSE)"
   ]
  },
  {
   "cell_type": "code",
   "execution_count": null,
   "metadata": {},
   "outputs": [],
   "source": [
    "%%R\n",
    "\n",
    "p = eQTpLot(GWAS.df = gwas_df, eQTL.df = eqtl_df, Genes.df = genes_df,  \n",
    "            LD.df = ld_df, LDmin = 10, R2min = 0.25, LDcolor = 'black', \n",
    "            gene = gene, trait = 'SCZD', gbuild = 'hg38', tissue = 'caudate', \n",
    "            sigpvalue_eQTL = pval, CollapseMethod = \"min\", congruence = TRUE)"
   ]
  },
  {
   "cell_type": "code",
   "execution_count": null,
   "metadata": {},
   "outputs": [],
   "source": []
  }
 ],
 "metadata": {
  "kernelspec": {
   "display_name": "Python 3",
   "language": "python",
   "name": "python3"
  },
  "language_info": {
   "codemirror_mode": {
    "name": "ipython",
    "version": 3
   },
   "file_extension": ".py",
   "mimetype": "text/x-python",
   "name": "python",
   "nbconvert_exporter": "python",
   "pygments_lexer": "ipython3",
   "version": "3.9.1"
  }
 },
 "nbformat": 4,
 "nbformat_minor": 5
}
