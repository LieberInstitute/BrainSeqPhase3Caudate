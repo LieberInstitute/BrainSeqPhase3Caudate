PLINK v1.90p 64-bit (10 Apr 2018)              www.cog-genomics.org/plink/1.9/
(C) 2005-2018 Shaun Purcell, Christopher Chang   GNU General Public License v3
Logging to shared_snps_jxn5_7.log.
Options in effect:
  --bfile /ceph/projects/v4_phase3_paper/inputs/genotypes/_m/LIBD_Brain_TopMed
  --extract snps_jxn5_7.txt
  --keep-fam /ceph/projects/v4_phase3_paper/analysis/eqtl_analysis/all/junctions/expression_gct/_m/keepFam.txt
  --ld-window-r2 0
  --out shared_snps_jxn5_7
  --r2 inter-chr
  --write-snplist

515886 MB RAM detected; reserving 257943 MB for main workspace.
11474007 variants loaded from .bim file.
2222 people (0 males, 0 females, 2222 ambiguous) loaded from .fam.
Ambiguous sex IDs written to shared_snps_jxn5_7.nosex .
--extract: 905 variants remaining.
--keep-fam: 468 people remaining.
Using up to 63 threads (change this with --threads).
Before main variant filters, 468 founders and 0 nonfounders present.
Calculating allele frequencies... 0%1%2%3%4%5%6%7%8%9%10%11%12%13%14%15%16%17%18%19%20%21%22%23%24%25%26%27%28%29%30%31%32%33%34%35%36%37%38%39%40%41%42%43%44%45%46%47%48%49%50%51%52%53%54%55%56%57%58%59%60%61%62%63%64%65%66%67%68%69%70%71%72%73%74%75%76%77%78%79%80%81%82%83%84%85%86%87%88%89%90%91%92%93%94%95%96%97%98%99% done.
905 variants and 468 people pass filters and QC.
Note: No phenotypes present.
List of variant IDs written to shared_snps_jxn5_7.snplist .
--r2 inter-chr to shared_snps_jxn5_7.ld ... 0% [processing]writing]             done.
PLINK v1.90p 64-bit (10 Apr 2018)              www.cog-genomics.org/plink/1.9/
(C) 2005-2018 Shaun Purcell, Christopher Chang   GNU General Public License v3
Logging to shared_snps_jxn6_7.log.
Options in effect:
  --bfile /ceph/projects/v4_phase3_paper/inputs/genotypes/_m/LIBD_Brain_TopMed
  --extract snps_jxn6_7.txt
  --keep-fam /ceph/projects/v4_phase3_paper/analysis/eqtl_analysis/all/junctions/expression_gct/_m/keepFam.txt
  --ld-window-r2 0
  --out shared_snps_jxn6_7
  --r2 inter-chr
  --write-snplist

515886 MB RAM detected; reserving 257943 MB for main workspace.
11474007 variants loaded from .bim file.
2222 people (0 males, 0 females, 2222 ambiguous) loaded from .fam.
Ambiguous sex IDs written to shared_snps_jxn6_7.nosex .
--extract: 905 variants remaining.
--keep-fam: 468 people remaining.
Using up to 63 threads (change this with --threads).
Before main variant filters, 468 founders and 0 nonfounders present.
Calculating allele frequencies... 0%1%2%3%4%5%6%7%8%9%10%11%12%13%14%15%16%17%18%19%20%21%22%23%24%25%26%27%28%29%30%31%32%33%34%35%36%37%38%39%40%41%42%43%44%45%46%47%48%49%50%51%52%53%54%55%56%57%58%59%60%61%62%63%64%65%66%67%68%69%70%71%72%73%74%75%76%77%78%79%80%81%82%83%84%85%86%87%88%89%90%91%92%93%94%95%96%97%98%99% done.
905 variants and 468 people pass filters and QC.
Note: No phenotypes present.
List of variant IDs written to shared_snps_jxn6_7.snplist .
--r2 inter-chr to shared_snps_jxn6_7.ld ... 0% [processing]writing]             done.
PLINK v1.90p 64-bit (10 Apr 2018)              www.cog-genomics.org/plink/1.9/
(C) 2005-2018 Shaun Purcell, Christopher Chang   GNU General Public License v3
Logging to shared_snps_jxn5_6.log.
Options in effect:
  --bfile /ceph/projects/v4_phase3_paper/inputs/genotypes/_m/LIBD_Brain_TopMed
  --extract snps_jxn5_6.txt
  --keep-fam /ceph/projects/v4_phase3_paper/analysis/eqtl_analysis/all/junctions/expression_gct/_m/keepFam.txt
  --ld-window-r2 0
  --out shared_snps_jxn5_6
  --r2 inter-chr
  --write-snplist

515886 MB RAM detected; reserving 257943 MB for main workspace.
11474007 variants loaded from .bim file.
2222 people (0 males, 0 females, 2222 ambiguous) loaded from .fam.
Ambiguous sex IDs written to shared_snps_jxn5_6.nosex .
--extract: 905 variants remaining.
--keep-fam: 468 people remaining.
Using up to 63 threads (change this with --threads).
Before main variant filters, 468 founders and 0 nonfounders present.
Calculating allele frequencies... 0%1%2%3%4%5%6%7%8%9%10%11%12%13%14%15%16%17%18%19%20%21%22%23%24%25%26%27%28%29%30%31%32%33%34%35%36%37%38%39%40%41%42%43%44%45%46%47%48%49%50%51%52%53%54%55%56%57%58%59%60%61%62%63%64%65%66%67%68%69%70%71%72%73%74%75%76%77%78%79%80%81%82%83%84%85%86%87%88%89%90%91%92%93%94%95%96%97%98%99% done.
905 variants and 468 people pass filters and QC.
Note: No phenotypes present.
List of variant IDs written to shared_snps_jxn5_6.snplist .
--r2 inter-chr to shared_snps_jxn5_6.ld ... 0% [processing]writing]             done.
{
 "cells": [
  {
   "cell_type": "markdown",
   "metadata": {},
   "source": [
    "# eqtplot for eqtl-gwas colocalization"
   ]
  },
  {
   "cell_type": "code",
   "execution_count": 1,
   "metadata": {
    "execution": {
     "iopub.execute_input": "2021-09-05T19:45:28.785263Z",
     "iopub.status.busy": "2021-09-05T19:45:28.783864Z",
     "iopub.status.idle": "2021-09-05T19:45:29.126305Z",
     "shell.execute_reply": "2021-09-05T19:45:29.124998Z"
    }
   },
   "outputs": [],
   "source": [
    "import pandas as pd\n",
    "import numpy as np\n",
    "import subprocess\n",
    "import functools"
   ]
  },
  {
   "cell_type": "code",
   "execution_count": 2,
   "metadata": {
    "execution": {
     "iopub.execute_input": "2021-09-05T19:45:29.134572Z",
     "iopub.status.busy": "2021-09-05T19:45:29.132418Z",
     "iopub.status.idle": "2021-09-05T19:45:29.931098Z",
     "shell.execute_reply": "2021-09-05T19:45:29.929932Z"
    }
   },
   "outputs": [],
   "source": [
    "%load_ext rpy2.ipython"
   ]
  },
  {
   "cell_type": "markdown",
   "metadata": {},
   "source": [
    "## Functions"
   ]
  },
  {
   "cell_type": "code",
   "execution_count": 3,
   "metadata": {
    "execution": {
     "iopub.execute_input": "2021-09-05T19:45:29.939876Z",
     "iopub.status.busy": "2021-09-05T19:45:29.938540Z",
     "iopub.status.idle": "2021-09-05T19:45:29.941208Z",
     "shell.execute_reply": "2021-09-05T19:45:29.942251Z"
    }
   },
   "outputs": [],
   "source": [
    "def flip_slope_by_allele(row):\n",
    "    return [-1, 1][bool(row[\"pgc2_a1_same_as_our_counted\"])] * row[\"NES\"]\n",
    "\n",
    "\n",
    "def get_ld(fn, eqtl_dfx, gwas_dfx, label):\n",
    "    shared_df = gwas_dfx.merge(eqtl_dfx, left_on='SNP', right_on='SNP.Id')\\\n",
    "                        .sort_values('P', ascending=True)\n",
    "    shared_df[['SNP.Id']].to_csv('snps_%s.txt' % label, index=None, header=None)\n",
    "    cmd = '''/ceph/opt/plink-ng/1.9/plink \\\n",
    "                --bfile /ceph/projects/v4_phase3_paper/inputs/genotypes/_m/LIBD_Brain_TopMed \\\n",
    "                --extract snps_%s.txt \\\n",
    "                --keep-fam %s --r2 inter-chr \\\n",
    "                --write-snplist --ld-window-r2 0 \\\n",
    "                --out shared_snps_%s; \n",
    "            sed -i 's/ \\+//; s/ \\+/\\t/g' shared_snps_%s.ld\n",
    "      ''' % (label,fn,label,label)\n",
    "    subprocess.run(cmd, shell=True)\n",
    "    return pd.read_csv(\"shared_snps_%s.ld\" % label, sep='\\t', usecols=[*range(7)])"
   ]
  },
  {
   "cell_type": "code",
   "execution_count": 4,
   "metadata": {
    "execution": {
     "iopub.execute_input": "2021-09-05T19:45:29.953958Z",
     "iopub.status.busy": "2021-09-05T19:45:29.952615Z",
     "iopub.status.idle": "2021-09-05T19:45:29.955309Z",
     "shell.execute_reply": "2021-09-05T19:45:29.956328Z"
    }
   },
   "outputs": [],
   "source": [
    "@functools.lru_cache()\n",
    "def get_gwas():\n",
    "    gwas_fn = '/ceph/projects/v4_phase3_paper/inputs/sz_gwas/'+\\\n",
    "              'pgc2_clozuk/map_phase3/zscore/_m/libd_hg38_pgc2sz_snps.tsv'\n",
    "    return pd.read_csv(gwas_fn, sep=\"\\t\", dtype={'chrN':str}, index_col=0)\n",
    "\n",
    "\n",
    "@functools.lru_cache()\n",
    "def subset_gwas(chrom, pos, window):\n",
    "    gwas_df = get_gwas().loc[(get_gwas()['chrN'] == chrom) & \n",
    "                             (get_gwas()['pos'] > pos - window) & \n",
    "                             (get_gwas()['pos'] < pos + window), \n",
    "                             ['chrN', 'pos', 'our_snp_id', 'P']]\\\n",
    "                        .rename(columns={'chrN':'CHR', 'pos':'BP', 'our_snp_id':'SNP'})\n",
    "    ## Flip direction of OR based on alleles matching\n",
    "    #dft.loc[:,'OR_flipped'] = dft.apply(flip_OR_by_allele, axis=1)\n",
    "    #dft = get_gwas()[[\"OR\", \"pgc2_a1_same_as_our_counted\"]]\n",
    "    gwas_df['BETA'] = np.log(get_gwas()[[\"OR\"]])\n",
    "    gwas_df['PHE'] = 'SCZD'\n",
    "    gwas_df['CHR'] = gwas_df['CHR'].astype(int)\n",
    "    gwas_df['pgc2_a1_same_as_our_counted'] = get_gwas()[[\"pgc2_a1_same_as_our_counted\"]]\n",
    "    return gwas_df\n",
    "\n",
    "\n",
    "@functools.lru_cache()\n",
    "def get_eqtl(fn, feature):\n",
    "    cmd = '''\n",
    "    zcat %s | head -1; zcat %s | awk '$1 == \"%s\" {print}'\n",
    "    ''' % (fn,fn,feature)\n",
    "    #print(cmd)\n",
    "    with subprocess.Popen(cmd, shell=True, stdout=subprocess.PIPE) as p:\n",
    "        df = pd.read_csv(p.stdout, sep='\\t')\n",
    "    return df\n",
    "\n",
    "\n",
    "@functools.lru_cache()\n",
    "def annotate_eqtls(fn, feature):\n",
    "    df = get_eqtl(fn, feature)\n",
    "    eqtl_df = pd.DataFrame({'SNP.Id': df['variant_id'], \n",
    "                            'Gene.Symbol': df['gene_id'], \n",
    "                            'P.Value': df['pval_nominal'], \n",
    "                            'NES': df['slope'], 'Tissue': 'caudate'}, \n",
    "                           index=df.index)\n",
    "    return eqtl_df"
   ]
  },
  {
   "cell_type": "markdown",
   "metadata": {},
   "source": [
    "## Prepare data"
   ]
  },
  {
   "cell_type": "markdown",
   "metadata": {},
   "source": [
    "### GWAS summary statistics data frame"
   ]
  },
  {
   "cell_type": "code",
   "execution_count": 5,
   "metadata": {
    "execution": {
     "iopub.execute_input": "2021-09-05T19:45:29.963165Z",
     "iopub.status.busy": "2021-09-05T19:45:29.961881Z",
     "iopub.status.idle": "2021-09-05T19:45:58.591883Z",
     "shell.execute_reply": "2021-09-05T19:45:58.590192Z"
    }
   },
   "outputs": [
    {
     "name": "stderr",
     "output_type": "stream",
     "text": [
      "/home/jbenja13/.local/lib/python3.9/site-packages/numpy/lib/arraysetops.py:583: FutureWarning: elementwise comparison failed; returning scalar instead, but in the future will perform elementwise comparison\n",
      "  mask |= (ar1 == a)\n"
     ]
    },
    {
     "name": "stdout",
     "output_type": "stream",
     "text": [
      "CHR                              int64\n",
      "BP                               int64\n",
      "SNP                             object\n",
      "P                              float64\n",
      "BETA                           float64\n",
      "PHE                             object\n",
      "pgc2_a1_same_as_our_counted       bool\n",
      "dtype: object\n",
      "(934, 7)\n"
     ]
    },
    {
     "data": {
      "text/html": [
       "<div>\n",
       "<style scoped>\n",
       "    .dataframe tbody tr th:only-of-type {\n",
       "        vertical-align: middle;\n",
       "    }\n",
       "\n",
       "    .dataframe tbody tr th {\n",
       "        vertical-align: top;\n",
       "    }\n",
       "\n",
       "    .dataframe thead th {\n",
       "        text-align: right;\n",
       "    }\n",
       "</style>\n",
       "<table border=\"1\" class=\"dataframe\">\n",
       "  <thead>\n",
       "    <tr style=\"text-align: right;\">\n",
       "      <th></th>\n",
       "      <th>CHR</th>\n",
       "      <th>BP</th>\n",
       "      <th>SNP</th>\n",
       "      <th>P</th>\n",
       "      <th>BETA</th>\n",
       "      <th>PHE</th>\n",
       "      <th>pgc2_a1_same_as_our_counted</th>\n",
       "    </tr>\n",
       "  </thead>\n",
       "  <tbody>\n",
       "    <tr>\n",
       "      <th>683446</th>\n",
       "      <td>11</td>\n",
       "      <td>113213263</td>\n",
       "      <td>chr11:113213263:C:T</td>\n",
       "      <td>0.8030</td>\n",
       "      <td>0.003992</td>\n",
       "      <td>SCZD</td>\n",
       "      <td>False</td>\n",
       "    </tr>\n",
       "    <tr>\n",
       "      <th>683447</th>\n",
       "      <td>11</td>\n",
       "      <td>113213540</td>\n",
       "      <td>chr11:113213540:G:A</td>\n",
       "      <td>0.2652</td>\n",
       "      <td>-0.039583</td>\n",
       "      <td>SCZD</td>\n",
       "      <td>False</td>\n",
       "    </tr>\n",
       "  </tbody>\n",
       "</table>\n",
       "</div>"
      ],
      "text/plain": [
       "        CHR         BP                  SNP       P      BETA   PHE  \\\n",
       "683446   11  113213263  chr11:113213263:C:T  0.8030  0.003992  SCZD   \n",
       "683447   11  113213540  chr11:113213540:G:A  0.2652 -0.039583  SCZD   \n",
       "\n",
       "        pgc2_a1_same_as_our_counted  \n",
       "683446                        False  \n",
       "683447                        False  "
      ]
     },
     "execution_count": 1,
     "metadata": {},
     "output_type": "execute_result"
    }
   ],
   "source": [
    "## Parameters\n",
    "chrom = '11'; pos = 113412884; window = 2e5\n",
    "## Load GWAS summary stats\n",
    "gwas_df = subset_gwas(chrom, pos, window)\n",
    "print(gwas_df.dtypes)\n",
    "print(gwas_df.shape)\n",
    "gwas_df.head(2)"
   ]
  },
  {
   "cell_type": "markdown",
   "metadata": {},
   "source": [
    "### Gene data frame"
   ]
  },
  {
   "cell_type": "code",
   "execution_count": 6,
   "metadata": {
    "execution": {
     "iopub.execute_input": "2021-09-05T19:45:58.604604Z",
     "iopub.status.busy": "2021-09-05T19:45:58.603327Z",
     "iopub.status.idle": "2021-09-05T19:45:58.607905Z",
     "shell.execute_reply": "2021-09-05T19:45:58.608936Z"
    }
   },
   "outputs": [
    {
     "data": {
      "text/html": [
       "<div>\n",
       "<style scoped>\n",
       "    .dataframe tbody tr th:only-of-type {\n",
       "        vertical-align: middle;\n",
       "    }\n",
       "\n",
       "    .dataframe tbody tr th {\n",
       "        vertical-align: top;\n",
       "    }\n",
       "\n",
       "    .dataframe thead th {\n",
       "        text-align: right;\n",
       "    }\n",
       "</style>\n",
       "<table border=\"1\" class=\"dataframe\">\n",
       "  <thead>\n",
       "    <tr style=\"text-align: right;\">\n",
       "      <th></th>\n",
       "      <th>CHR</th>\n",
       "      <th>Start</th>\n",
       "      <th>Stop</th>\n",
       "      <th>Gene</th>\n",
       "      <th>Build</th>\n",
       "    </tr>\n",
       "  </thead>\n",
       "  <tbody>\n",
       "    <tr>\n",
       "      <th>0</th>\n",
       "      <td>11</td>\n",
       "      <td>113412884</td>\n",
       "      <td>113415420</td>\n",
       "      <td>chr11:113412884-113415420(-)</td>\n",
       "      <td>hg38</td>\n",
       "    </tr>\n",
       "    <tr>\n",
       "      <th>1</th>\n",
       "      <td>11</td>\n",
       "      <td>113412884</td>\n",
       "      <td>113414374</td>\n",
       "      <td>chr11:113412884-113414374(-)</td>\n",
       "      <td>hg38</td>\n",
       "    </tr>\n",
       "    <tr>\n",
       "      <th>2</th>\n",
       "      <td>11</td>\n",
       "      <td>113414462</td>\n",
       "      <td>113415420</td>\n",
       "      <td>chr11:113414462-113415420(-)</td>\n",
       "      <td>hg38</td>\n",
       "    </tr>\n",
       "  </tbody>\n",
       "</table>\n",
       "</div>"
      ],
      "text/plain": [
       "   CHR      Start       Stop                          Gene Build\n",
       "0   11  113412884  113415420  chr11:113412884-113415420(-)  hg38\n",
       "1   11  113412884  113414374  chr11:113412884-113414374(-)  hg38\n",
       "2   11  113414462  113415420  chr11:113414462-113415420(-)  hg38"
      ]
     },
     "execution_count": 1,
     "metadata": {},
     "output_type": "execute_result"
    }
   ],
   "source": [
    "genes_df = pd.DataFrame({'CHR':[11,11,11],\n",
    "                         'Start':[113412884,113412884,113414462],\n",
    "                         'Stop':[113415420,113414374,113415420],\n",
    "                         'Gene':[\"chr11:113412884-113415420(-)\", \n",
    "                                 \"chr11:113412884-113414374(-)\", \n",
    "                                 \"chr11:113414462-113415420(-)\"],\n",
    "                         'Build': ['hg38', 'hg38', 'hg38']})\n",
    "genes_df"
   ]
  },
  {
   "cell_type": "markdown",
   "metadata": {},
   "source": [
    "### Significant p-values"
   ]
  },
  {
   "cell_type": "code",
   "execution_count": 7,
   "metadata": {
    "execution": {
     "iopub.execute_input": "2021-09-05T19:45:58.620031Z",
     "iopub.status.busy": "2021-09-05T19:45:58.618755Z",
     "iopub.status.idle": "2021-09-05T19:45:58.623316Z",
     "shell.execute_reply": "2021-09-05T19:45:58.624321Z"
    }
   },
   "outputs": [
    {
     "data": {
      "text/html": [
       "<div>\n",
       "<style scoped>\n",
       "    .dataframe tbody tr th:only-of-type {\n",
       "        vertical-align: middle;\n",
       "    }\n",
       "\n",
       "    .dataframe tbody tr th {\n",
       "        vertical-align: top;\n",
       "    }\n",
       "\n",
       "    .dataframe thead th {\n",
       "        text-align: right;\n",
       "    }\n",
       "</style>\n",
       "<table border=\"1\" class=\"dataframe\">\n",
       "  <thead>\n",
       "    <tr style=\"text-align: right;\">\n",
       "      <th></th>\n",
       "      <th>Gene</th>\n",
       "      <th>perm_pval</th>\n",
       "    </tr>\n",
       "  </thead>\n",
       "  <tbody>\n",
       "    <tr>\n",
       "      <th>0</th>\n",
       "      <td>chr11:113412884-113415420(-)</td>\n",
       "      <td>0.000090</td>\n",
       "    </tr>\n",
       "    <tr>\n",
       "      <th>1</th>\n",
       "      <td>chr11:113412884-113414374(-)</td>\n",
       "      <td>0.000091</td>\n",
       "    </tr>\n",
       "    <tr>\n",
       "      <th>2</th>\n",
       "      <td>chr11:113414462-113415420(-)</td>\n",
       "      <td>0.000086</td>\n",
       "    </tr>\n",
       "  </tbody>\n",
       "</table>\n",
       "</div>"
      ],
      "text/plain": [
       "                           Gene  perm_pval\n",
       "0  chr11:113412884-113415420(-)   0.000090\n",
       "1  chr11:113412884-113414374(-)   0.000091\n",
       "2  chr11:113414462-113415420(-)   0.000086"
      ]
     },
     "execution_count": 1,
     "metadata": {},
     "output_type": "execute_result"
    }
   ],
   "source": [
    "## P value nominal threshold by feature from permutation analysis\n",
    "perm_pval = pd.DataFrame({'Gene':[\"chr11:113412884-113415420(-)\", \n",
    "                                  \"chr11:113412884-113414374(-)\", \n",
    "                                  \"chr11:113414462-113415420(-)\"], \n",
    "                          'perm_pval': [9.0384e-05, 9.06858e-05, 8.55823e-05]})\n",
    "perm_pval"
   ]
  },
  {
   "cell_type": "markdown",
   "metadata": {},
   "source": [
    "### eQTL data frame"
   ]
  },
  {
   "cell_type": "code",
   "execution_count": 8,
   "metadata": {
    "execution": {
     "iopub.execute_input": "2021-09-05T19:45:58.674752Z",
     "iopub.status.busy": "2021-09-05T19:45:58.630371Z",
     "iopub.status.idle": "2021-09-05T20:10:12.154628Z",
     "shell.execute_reply": "2021-09-05T20:10:12.155861Z"
    }
   },
   "outputs": [
    {
     "name": "stdout",
     "output_type": "stream",
     "text": [
      "CPU times: user 138 ms, sys: 488 ms, total: 625 ms\n",
      "Wall time: 24min 13s\n"
     ]
    }
   ],
   "source": [
    "%%time\n",
    "## Replace file with q-value annotated so that significant p-value is stable\n",
    "## Need to generate the annotation?? Would this work??\n",
    "fn = '/ceph/projects/v4_phase3_paper/analysis/eqtl_analysis/all/junctions/'+\\\n",
    "     'expression_gct/prepare_expression/fastqtl_nominal/_m/Brainseq_LIBD.allpairs.txt.gz'\n",
    "#feature = \"chr11:113412884-113415420(-)\"\n",
    "eqtl_df1 = annotate_eqtls(fn, genes_df.Gene[0])\n",
    "eqtl_df2 = annotate_eqtls(fn, genes_df.Gene[1])\n",
    "eqtl_df3 = annotate_eqtls(fn, genes_df.Gene[2])"
   ]
  },
  {
   "cell_type": "code",
   "execution_count": 9,
   "metadata": {
    "execution": {
     "iopub.execute_input": "2021-09-05T20:10:12.169655Z",
     "iopub.status.busy": "2021-09-05T20:10:12.168326Z",
     "iopub.status.idle": "2021-09-05T20:10:12.262349Z",
     "shell.execute_reply": "2021-09-05T20:10:12.263401Z"
    }
   },
   "outputs": [
    {
     "name": "stdout",
     "output_type": "stream",
     "text": [
      "(3531, 5)\n"
     ]
    },
    {
     "data": {
      "text/html": [
       "<div>\n",
       "<style scoped>\n",
       "    .dataframe tbody tr th:only-of-type {\n",
       "        vertical-align: middle;\n",
       "    }\n",
       "\n",
       "    .dataframe tbody tr th {\n",
       "        vertical-align: top;\n",
       "    }\n",
       "\n",
       "    .dataframe thead th {\n",
       "        text-align: right;\n",
       "    }\n",
       "</style>\n",
       "<table border=\"1\" class=\"dataframe\">\n",
       "  <thead>\n",
       "    <tr style=\"text-align: right;\">\n",
       "      <th></th>\n",
       "      <th>SNP.Id</th>\n",
       "      <th>Gene.Symbol</th>\n",
       "      <th>P.Value</th>\n",
       "      <th>NES</th>\n",
       "      <th>Tissue</th>\n",
       "    </tr>\n",
       "  </thead>\n",
       "  <tbody>\n",
       "    <tr>\n",
       "      <th>1772</th>\n",
       "      <td>chr11:113445380:G:C</td>\n",
       "      <td>chr11:113412884-113415420(-)</td>\n",
       "      <td>2.523290e-09</td>\n",
       "      <td>-0.310981</td>\n",
       "      <td>caudate</td>\n",
       "    </tr>\n",
       "    <tr>\n",
       "      <th>1723</th>\n",
       "      <td>chr11:113429107:G:A</td>\n",
       "      <td>chr11:113412884-113415420(-)</td>\n",
       "      <td>3.033610e-09</td>\n",
       "      <td>-0.312694</td>\n",
       "      <td>caudate</td>\n",
       "    </tr>\n",
       "    <tr>\n",
       "      <th>1614</th>\n",
       "      <td>chr11:113404049:C:T</td>\n",
       "      <td>chr11:113412884-113415420(-)</td>\n",
       "      <td>3.167710e-09</td>\n",
       "      <td>0.473194</td>\n",
       "      <td>caudate</td>\n",
       "    </tr>\n",
       "    <tr>\n",
       "      <th>1641</th>\n",
       "      <td>chr11:113411368:G:A</td>\n",
       "      <td>chr11:113412884-113415420(-)</td>\n",
       "      <td>3.167710e-09</td>\n",
       "      <td>0.473194</td>\n",
       "      <td>caudate</td>\n",
       "    </tr>\n",
       "    <tr>\n",
       "      <th>1679</th>\n",
       "      <td>chr11:113418344:C:T</td>\n",
       "      <td>chr11:113412884-113415420(-)</td>\n",
       "      <td>3.167710e-09</td>\n",
       "      <td>0.473194</td>\n",
       "      <td>caudate</td>\n",
       "    </tr>\n",
       "  </tbody>\n",
       "</table>\n",
       "</div>"
      ],
      "text/plain": [
       "                   SNP.Id                   Gene.Symbol       P.Value  \\\n",
       "1772  chr11:113445380:G:C  chr11:113412884-113415420(-)  2.523290e-09   \n",
       "1723  chr11:113429107:G:A  chr11:113412884-113415420(-)  3.033610e-09   \n",
       "1614  chr11:113404049:C:T  chr11:113412884-113415420(-)  3.167710e-09   \n",
       "1641  chr11:113411368:G:A  chr11:113412884-113415420(-)  3.167710e-09   \n",
       "1679  chr11:113418344:C:T  chr11:113412884-113415420(-)  3.167710e-09   \n",
       "\n",
       "           NES   Tissue  \n",
       "1772 -0.310981  caudate  \n",
       "1723 -0.312694  caudate  \n",
       "1614  0.473194  caudate  \n",
       "1641  0.473194  caudate  \n",
       "1679  0.473194  caudate  "
      ]
     },
     "execution_count": 1,
     "metadata": {},
     "output_type": "execute_result"
    }
   ],
   "source": [
    "eqtl_df1 = pd.merge(eqtl_df1, gwas_df, left_on=\"SNP.Id\", right_on=\"SNP\", how=\"left\")\\\n",
    "         .drop([\"CHR\", \"SNP\", \"BP\", \"P\", \"BETA\", \"PHE\"], axis=1).fillna(True)\n",
    "eqtl_df1.loc[:,'NES'] = eqtl_df1.apply(flip_slope_by_allele, axis=1)\n",
    "eqtl_df1.drop([\"pgc2_a1_same_as_our_counted\"], axis=1, inplace=True)\n",
    "print(eqtl_df1.shape)\n",
    "eqtl_df1.sort_values(\"P.Value\").head(5)"
   ]
  },
  {
   "cell_type": "code",
   "execution_count": 10,
   "metadata": {
    "execution": {
     "iopub.execute_input": "2021-09-05T20:10:12.272109Z",
     "iopub.status.busy": "2021-09-05T20:10:12.270822Z",
     "iopub.status.idle": "2021-09-05T20:10:12.335330Z",
     "shell.execute_reply": "2021-09-05T20:10:12.336375Z"
    }
   },
   "outputs": [
    {
     "name": "stdout",
     "output_type": "stream",
     "text": [
      "(3531, 5)\n"
     ]
    },
    {
     "data": {
      "text/html": [
       "<div>\n",
       "<style scoped>\n",
       "    .dataframe tbody tr th:only-of-type {\n",
       "        vertical-align: middle;\n",
       "    }\n",
       "\n",
       "    .dataframe tbody tr th {\n",
       "        vertical-align: top;\n",
       "    }\n",
       "\n",
       "    .dataframe thead th {\n",
       "        text-align: right;\n",
       "    }\n",
       "</style>\n",
       "<table border=\"1\" class=\"dataframe\">\n",
       "  <thead>\n",
       "    <tr style=\"text-align: right;\">\n",
       "      <th></th>\n",
       "      <th>SNP.Id</th>\n",
       "      <th>Gene.Symbol</th>\n",
       "      <th>P.Value</th>\n",
       "      <th>NES</th>\n",
       "      <th>Tissue</th>\n",
       "    </tr>\n",
       "  </thead>\n",
       "  <tbody>\n",
       "    <tr>\n",
       "      <th>1201</th>\n",
       "      <td>chr11:113283958:C:G</td>\n",
       "      <td>chr11:113412884-113414374(-)</td>\n",
       "      <td>0.000085</td>\n",
       "      <td>-0.205979</td>\n",
       "      <td>caudate</td>\n",
       "    </tr>\n",
       "    <tr>\n",
       "      <th>1652</th>\n",
       "      <td>chr11:113412842:G:A</td>\n",
       "      <td>chr11:113412884-113414374(-)</td>\n",
       "      <td>0.000116</td>\n",
       "      <td>0.461061</td>\n",
       "      <td>caudate</td>\n",
       "    </tr>\n",
       "    <tr>\n",
       "      <th>1659</th>\n",
       "      <td>chr11:113413803:C:T</td>\n",
       "      <td>chr11:113412884-113414374(-)</td>\n",
       "      <td>0.000116</td>\n",
       "      <td>0.461061</td>\n",
       "      <td>caudate</td>\n",
       "    </tr>\n",
       "    <tr>\n",
       "      <th>1627</th>\n",
       "      <td>chr11:113407328:A:G</td>\n",
       "      <td>chr11:113412884-113414374(-)</td>\n",
       "      <td>0.000116</td>\n",
       "      <td>0.461061</td>\n",
       "      <td>caudate</td>\n",
       "    </tr>\n",
       "    <tr>\n",
       "      <th>1625</th>\n",
       "      <td>chr11:113407147:C:T</td>\n",
       "      <td>chr11:113412884-113414374(-)</td>\n",
       "      <td>0.000116</td>\n",
       "      <td>0.461061</td>\n",
       "      <td>caudate</td>\n",
       "    </tr>\n",
       "  </tbody>\n",
       "</table>\n",
       "</div>"
      ],
      "text/plain": [
       "                   SNP.Id                   Gene.Symbol   P.Value       NES  \\\n",
       "1201  chr11:113283958:C:G  chr11:113412884-113414374(-)  0.000085 -0.205979   \n",
       "1652  chr11:113412842:G:A  chr11:113412884-113414374(-)  0.000116  0.461061   \n",
       "1659  chr11:113413803:C:T  chr11:113412884-113414374(-)  0.000116  0.461061   \n",
       "1627  chr11:113407328:A:G  chr11:113412884-113414374(-)  0.000116  0.461061   \n",
       "1625  chr11:113407147:C:T  chr11:113412884-113414374(-)  0.000116  0.461061   \n",
       "\n",
       "       Tissue  \n",
       "1201  caudate  \n",
       "1652  caudate  \n",
       "1659  caudate  \n",
       "1627  caudate  \n",
       "1625  caudate  "
      ]
     },
     "execution_count": 1,
     "metadata": {},
     "output_type": "execute_result"
    }
   ],
   "source": [
    "eqtl_df2 = pd.merge(eqtl_df2, gwas_df, left_on=\"SNP.Id\", right_on=\"SNP\", how=\"left\")\\\n",
    "         .drop([\"CHR\", \"SNP\", \"BP\", \"P\", \"BETA\", \"PHE\"], axis=1).fillna(True)\n",
    "eqtl_df2.loc[:,'NES'] = eqtl_df2.apply(flip_slope_by_allele, axis=1)\n",
    "eqtl_df2.drop([\"pgc2_a1_same_as_our_counted\"], axis=1, inplace=True)\n",
    "print(eqtl_df2.shape)\n",
    "eqtl_df2.sort_values(\"P.Value\").head(5)"
   ]
  },
  {
   "cell_type": "code",
   "execution_count": 11,
   "metadata": {
    "execution": {
     "iopub.execute_input": "2021-09-05T20:10:12.344924Z",
     "iopub.status.busy": "2021-09-05T20:10:12.343653Z",
     "iopub.status.idle": "2021-09-05T20:10:12.410863Z",
     "shell.execute_reply": "2021-09-05T20:10:12.411920Z"
    }
   },
   "outputs": [
    {
     "name": "stdout",
     "output_type": "stream",
     "text": [
      "(3530, 5)\n"
     ]
    },
    {
     "data": {
      "text/html": [
       "<div>\n",
       "<style scoped>\n",
       "    .dataframe tbody tr th:only-of-type {\n",
       "        vertical-align: middle;\n",
       "    }\n",
       "\n",
       "    .dataframe tbody tr th {\n",
       "        vertical-align: top;\n",
       "    }\n",
       "\n",
       "    .dataframe thead th {\n",
       "        text-align: right;\n",
       "    }\n",
       "</style>\n",
       "<table border=\"1\" class=\"dataframe\">\n",
       "  <thead>\n",
       "    <tr style=\"text-align: right;\">\n",
       "      <th></th>\n",
       "      <th>SNP.Id</th>\n",
       "      <th>Gene.Symbol</th>\n",
       "      <th>P.Value</th>\n",
       "      <th>NES</th>\n",
       "      <th>Tissue</th>\n",
       "    </tr>\n",
       "  </thead>\n",
       "  <tbody>\n",
       "    <tr>\n",
       "      <th>1617</th>\n",
       "      <td>chr11:113407147:C:T</td>\n",
       "      <td>chr11:113414462-113415420(-)</td>\n",
       "      <td>0.00001</td>\n",
       "      <td>0.506606</td>\n",
       "      <td>caudate</td>\n",
       "    </tr>\n",
       "    <tr>\n",
       "      <th>1626</th>\n",
       "      <td>chr11:113409929:C:G</td>\n",
       "      <td>chr11:113414462-113415420(-)</td>\n",
       "      <td>0.00001</td>\n",
       "      <td>0.506606</td>\n",
       "      <td>caudate</td>\n",
       "    </tr>\n",
       "    <tr>\n",
       "      <th>1614</th>\n",
       "      <td>chr11:113406477:G:A</td>\n",
       "      <td>chr11:113414462-113415420(-)</td>\n",
       "      <td>0.00001</td>\n",
       "      <td>0.506606</td>\n",
       "      <td>caudate</td>\n",
       "    </tr>\n",
       "    <tr>\n",
       "      <th>1644</th>\n",
       "      <td>chr11:113412842:G:A</td>\n",
       "      <td>chr11:113414462-113415420(-)</td>\n",
       "      <td>0.00001</td>\n",
       "      <td>0.506606</td>\n",
       "      <td>caudate</td>\n",
       "    </tr>\n",
       "    <tr>\n",
       "      <th>1619</th>\n",
       "      <td>chr11:113407328:A:G</td>\n",
       "      <td>chr11:113414462-113415420(-)</td>\n",
       "      <td>0.00001</td>\n",
       "      <td>0.506606</td>\n",
       "      <td>caudate</td>\n",
       "    </tr>\n",
       "  </tbody>\n",
       "</table>\n",
       "</div>"
      ],
      "text/plain": [
       "                   SNP.Id                   Gene.Symbol  P.Value       NES  \\\n",
       "1617  chr11:113407147:C:T  chr11:113414462-113415420(-)  0.00001  0.506606   \n",
       "1626  chr11:113409929:C:G  chr11:113414462-113415420(-)  0.00001  0.506606   \n",
       "1614  chr11:113406477:G:A  chr11:113414462-113415420(-)  0.00001  0.506606   \n",
       "1644  chr11:113412842:G:A  chr11:113414462-113415420(-)  0.00001  0.506606   \n",
       "1619  chr11:113407328:A:G  chr11:113414462-113415420(-)  0.00001  0.506606   \n",
       "\n",
       "       Tissue  \n",
       "1617  caudate  \n",
       "1626  caudate  \n",
       "1614  caudate  \n",
       "1644  caudate  \n",
       "1619  caudate  "
      ]
     },
     "execution_count": 1,
     "metadata": {},
     "output_type": "execute_result"
    }
   ],
   "source": [
    "eqtl_df3 = pd.merge(eqtl_df3, gwas_df, left_on=\"SNP.Id\", right_on=\"SNP\", how=\"left\")\\\n",
    "         .drop([\"CHR\", \"SNP\", \"BP\", \"P\", \"BETA\", \"PHE\"], axis=1).fillna(True)\n",
    "eqtl_df3.loc[:,'NES'] = eqtl_df3.apply(flip_slope_by_allele, axis=1)\n",
    "eqtl_df3.drop([\"pgc2_a1_same_as_our_counted\"], axis=1, inplace=True)\n",
    "print(eqtl_df3.shape)\n",
    "eqtl_df3.sort_values(\"P.Value\").head(5)"
   ]
  },
  {
   "cell_type": "code",
   "execution_count": 12,
   "metadata": {
    "execution": {
     "iopub.execute_input": "2021-09-05T20:10:12.419410Z",
     "iopub.status.busy": "2021-09-05T20:10:12.418164Z",
     "iopub.status.idle": "2021-09-05T20:10:12.422237Z",
     "shell.execute_reply": "2021-09-05T20:10:12.423248Z"
    }
   },
   "outputs": [
    {
     "name": "stdout",
     "output_type": "stream",
     "text": [
      "(934, 6)\n"
     ]
    }
   ],
   "source": [
    "gwas_df.drop([\"pgc2_a1_same_as_our_counted\"], axis=1, inplace=True)\n",
    "print(gwas_df.shape)"
   ]
  },
  {
   "cell_type": "markdown",
   "metadata": {},
   "source": [
    "### LD data frame"
   ]
  },
  {
   "cell_type": "code",
   "execution_count": 13,
   "metadata": {
    "execution": {
     "iopub.execute_input": "2021-09-05T20:10:12.431077Z",
     "iopub.status.busy": "2021-09-05T20:10:12.429854Z",
     "iopub.status.idle": "2021-09-05T20:10:30.301393Z",
     "shell.execute_reply": "2021-09-05T20:10:30.300120Z"
    }
   },
   "outputs": [
    {
     "name": "stdout",
     "output_type": "stream",
     "text": [
      "(409060, 7)\n",
      "(409060, 7)\n",
      "(409060, 7)\n"
     ]
    }
   ],
   "source": [
    "fn_fam = \"/ceph/projects/v4_phase3_paper/analysis/eqtl_analysis/all/junctions/expression_gct/_m/keepFam.txt\"\n",
    "ld_df1 = get_ld(fn_fam, eqtl_df1, gwas_df, \"jxn5_7\")\n",
    "print(ld_df1.shape)\n",
    "ld_df2 = get_ld(fn_fam, eqtl_df2, gwas_df, \"jxn6_7\")\n",
    "print(ld_df2.shape)\n",
    "ld_df3 = get_ld(fn_fam, eqtl_df3, gwas_df, \"jxn5_6\")\n",
    "print(ld_df3.shape)"
   ]
  },
  {
   "cell_type": "markdown",
   "metadata": {},
   "source": [
    "## Plot"
   ]
  },
  {
   "cell_type": "code",
   "execution_count": 14,
   "metadata": {
    "execution": {
     "iopub.execute_input": "2021-09-05T20:10:30.308942Z",
     "iopub.status.busy": "2021-09-05T20:10:30.307700Z",
     "iopub.status.idle": "2021-09-05T20:10:31.099734Z",
     "shell.execute_reply": "2021-09-05T20:10:31.091462Z"
    }
   },
   "outputs": [
    {
     "name": "stderr",
     "output_type": "stream",
     "text": [
      "R[write to console]: Loading required package: ggplot2\n",
      "\n",
      "R[write to console]: Use suppressPackageStartupMessages() to eliminate package startup\n",
      "messages\n",
      "\n"
     ]
    },
    {
     "name": "stdout",
     "output_type": "stream",
     "text": [
      "                          Gene   perm_pval\n",
      "0 chr11:113412884-113415420(-) 9.03840e-05\n",
      "1 chr11:113412884-113414374(-) 9.06858e-05\n",
      "2 chr11:113414462-113415420(-) 8.55823e-05\n"
     ]
    }
   ],
   "source": [
    "%%R -i gwas_df,genes_df,perm_pval\n",
    "library(eQTpLot)\n",
    "perm_pval"
   ]
  },
  {
   "cell_type": "markdown",
   "metadata": {},
   "source": [
    "### Junction 5-7"
   ]
  },
  {
   "cell_type": "code",
   "execution_count": 15,
   "metadata": {
    "execution": {
     "iopub.execute_input": "2021-09-05T20:10:31.106205Z",
     "iopub.status.busy": "2021-09-05T20:10:31.104959Z",
     "iopub.status.idle": "2021-09-05T20:11:18.904905Z",
     "shell.execute_reply": "2021-09-05T20:11:18.905967Z"
    }
   },
   "outputs": [
    {
     "name": "stdout",
     "output_type": "stream",
     "text": [
      "[1] \"Checking input data...\"\n",
      "[1] \"PHE column found in GWAS.df. Analyzing data for phenotype SCZD\"\n",
      "[1] \"Compiling GWAS and eQTL data...\"\n",
      "[1] \"eQTL analysis will be completed for tissues 'caudate' and for gene chr11:113412884-113415420(-)\"\n",
      "[1] \"Compiling LD information...\"\n",
      "[1] \"Generating main plot...\"\n",
      "[1] \"Generating gene tracks...\"\n",
      "[1] \"Generating LDHeatMap with 517 variants\"\n",
      "[1] \"Generating eQTL enrichment plot...\"\n",
      "[1] \"Generating P-P plot...\"\n",
      "[1] \"Merging and plotting...\"\n"
     ]
    },
    {
     "data": {
      "image/png": "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\n"
     },
     "metadata": {},
     "output_type": "display_data"
    }
   ],
   "source": [
    "%%R -i ld_df1,eqtl_df1\n",
    "ld_df = ld_df1\n",
    "eqtl_df = eqtl_df1\n",
    "# based on permutation p-value\n",
    "pval = perm_pval$perm_pval[1]\n",
    "gene = perm_pval$Gene[1]\n",
    "\n",
    "p = eQTpLot(GWAS.df = gwas_df, eQTL.df = eqtl_df, Genes.df = genes_df,  \n",
    "            LD.df = ld_df, LDmin = 10, R2min = 0.25, LDcolor = 'black', \n",
    "            gene = gene, trait = 'SCZD', gbuild = 'hg38', tissue = 'caudate', \n",
    "            sigpvalue_eQTL = pval, CollapseMethod = \"min\", congruence = FALSE)"
   ]
  },
  {
   "cell_type": "code",
   "execution_count": 16,
   "metadata": {
    "execution": {
     "iopub.execute_input": "2021-09-05T20:11:18.912433Z",
     "iopub.status.busy": "2021-09-05T20:11:18.911404Z",
     "iopub.status.idle": "2021-09-05T20:11:34.111391Z",
     "shell.execute_reply": "2021-09-05T20:11:34.111935Z"
    }
   },
   "outputs": [
    {
     "name": "stdout",
     "output_type": "stream",
     "text": [
      "[1] \"Checking input data...\"\n",
      "[1] \"PHE column found in GWAS.df. Analyzing data for phenotype SCZD\"\n",
      "[1] \"Compiling GWAS and eQTL data...\"\n",
      "[1] \"eQTL analysis will be completed for tissues 'caudate' and for gene chr11:113412884-113415420(-)\"\n",
      "[1] \"Compiling LD information...\"\n",
      "[1] \"Generating main plot...\"\n",
      "[1] \"Generating gene tracks...\"\n",
      "[1] \"Generating LDHeatMap with 517 variants\"\n",
      "[1] \"Generating eQTL enrichment plot...\"\n",
      "[1] \"Generating P-P plot...\"\n",
      "[1] \"Merging and plotting...\"\n"
     ]
    },
    {
     "data": {
      "image/png": "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\n"
     },
     "metadata": {},
     "output_type": "display_data"
    }
   ],
   "source": [
    "%%R\n",
    "\n",
    "p = eQTpLot(GWAS.df = gwas_df, eQTL.df = eqtl_df, Genes.df = genes_df,  \n",
    "            LD.df = ld_df, LDmin = 10, R2min = 0.25, LDcolor = 'black', \n",
    "            gene = gene, trait = 'SCZD', gbuild = 'hg38', tissue = 'caudate', \n",
    "            sigpvalue_eQTL = pval, CollapseMethod = \"min\", congruence = TRUE)"
   ]
  },
  {
   "cell_type": "code",
   "execution_count": null,
   "metadata": {},
   "outputs": [],
   "source": []
  }
 ],
 "metadata": {
  "kernelspec": {
   "display_name": "Python 3",
   "language": "python",
   "name": "python3"
  },
  "language_info": {
   "codemirror_mode": {
    "name": "ipython",
    "version": 3
   },
   "file_extension": ".py",
   "mimetype": "text/x-python",
   "name": "python",
   "nbconvert_exporter": "python",
   "pygments_lexer": "ipython3",
   "version": "3.9.1"
  }
 },
 "nbformat": 4,
 "nbformat_minor": 5
}
