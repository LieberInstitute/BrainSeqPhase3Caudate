{
 "cells": [
  {
   "cell_type": "markdown",
   "metadata": {},
   "source": [
    "# eQTL boxplot\n",
    "\n",
    "This is script ported from python to fix unknown plotting error."
   ]
  },
  {
   "cell_type": "code",
   "execution_count": null,
   "metadata": {},
   "outputs": [],
   "source": [
    "suppressPackageStartupMessages({\n",
    "    library(tidyverse)\n",
    "    library(ggpubr)\n",
    "})"
   ]
  },
  {
   "cell_type": "markdown",
   "metadata": {},
   "source": [
    "## Functions"
   ]
  },
  {
   "cell_type": "code",
   "execution_count": null,
   "metadata": {},
   "outputs": [],
   "source": [
    "feature = \"genes\""
   ]
  },
  {
   "cell_type": "markdown",
   "metadata": {},
   "source": [
    "### Cached functions"
   ]
  },
  {
   "cell_type": "code",
   "execution_count": null,
   "metadata": {},
   "outputs": [],
   "source": [
    "get_eqtl_df <- function(){\n",
    "    eGenes_file = paste0('/ceph/projects/v4_phase3_paper/analysis/eqtl_analysis/all/',\n",
    "                        feature, '/expression_gct/prepare_expression/fastqtl_permutation/',\n",
    "                        '_m/Brainseq_LIBD.genes.txt.gz')\n",
    "    eGenes = data.table::fread(eGenes_file) %>% \n",
    "        select(gene_id, variant_id, maf, slope, slope_se, pval_nominal, qval) %>%\n",
    "        arrange(qval)\n",
    "    return(eGenes)\n",
    "}\n",
    "memEQTL <- memoise::memoise(get_eqtl_df)\n",
    "\n",
    "get_residualized_df <- function(){\n",
    "    expr_file = paste0(\"/ceph/projects/v4_phase3_paper/analysis/eqtl_analysis/all/\",\n",
    "                      feature,\"/expression_gct/covariates/residualized_expression/_m/\",\n",
    "                      feature, \"_residualized_expression.csv\")\n",
    "    return(data.table::fread(expr_file) %>% column_to_rownames(\"gene_id\"))\n",
    "}\n",
    "memRES <- memoise::memoise(get_residualized_df)\n",
    "\n",
    "get_genotypes <- function(){\n",
    "    traw_file = paste0(\"/ceph/projects/brainseq/genotype/download/topmed/convert2plink/\",\n",
    "                      \"filter_maf_01/a_transpose/_m/LIBD_Brain_TopMed.traw\")\n",
    "    traw = data.table::fread(traw_file) %>% rename_with(~ gsub('\\\\_.*', '', .x))\n",
    "    return(traw)\n",
    "}\n",
    "memSNPs <- memoise::memoise(get_genotypes)"
   ]
  },
  {
   "cell_type": "markdown",
   "metadata": {},
   "source": [
    "### Simple functions"
   ]
  },
  {
   "cell_type": "code",
   "execution_count": null,
   "metadata": {},
   "outputs": [],
   "source": [
    "feature_map <- function(feature){\n",
    "    return(list(\"genes\"=\"Gene\", \"transcripts\"= \"Transcript\", \n",
    "                \"exons\"= \"Exon\", \"junctions\"= \"Junction\")[[feature]])\n",
    "}\n",
    "\n",
    "get_geno_annot <- function(){\n",
    "    return(memSNPs() %>% select(CHR, SNP, POS, COUNTED, ALT))\n",
    "}\n",
    "\n",
    "get_snps_df <- function(){\n",
    "    return(memSNPs() %>% select(\"SNP\", starts_with(\"Br\")))\n",
    "}\n",
    "\n",
    "letter_snp <- function(number, a0, a1){\n",
    "    if(is.na(number)){ return(NA) }\n",
    "    if( length(a0) == 1 & length(a1) == 1){\n",
    "        seps = \"\"; collapse=\"\"\n",
    "    } else {\n",
    "        seps = \" \"; collapse=NULL\n",
    "    }\n",
    "    return(paste(paste0(rep(a0, number), collapse = collapse), \n",
    "                 paste0(rep(a1, (2-number)), collapse = collapse), sep=seps))\n",
    "}\n",
    "\n",
    "get_snp_df <- function(variant_id, gene_id){\n",
    "    zz = get_geno_annot() %>% filter(SNP == variant_id)\n",
    "    xx = get_snps_df() %>% filter(SNP == variant_id) %>% \n",
    "        column_to_rownames(\"SNP\") %>% t %>% as.data.frame %>% \n",
    "        rownames_to_column(\"BrNum\") %>% mutate(COUNTED=zz$COUNTED, ALT=zz$ALT) %>% \n",
    "        rename(\"SNP\"=all_of(variant_id))\n",
    "    yy = memRES()[gene_id, ] %>% t %>% as.data.frame %>% \n",
    "        rownames_to_column(\"BrNum\")\n",
    "    ## Annotated SNPs\n",
    "    letters = c()\n",
    "    for(ii in seq_along(xx$COUNTED)){\n",
    "        a0 = xx$COUNTED[ii]; a1 = xx$ALT[ii]; number = xx$SNP[ii]\n",
    "        letters <- append(letters, letter_snp(number, a0, a1))\n",
    "    }\n",
    "    xx = xx %>% mutate(LETTER=letters, ID=paste(SNP, LETTER, sep=\"\\n\"))\n",
    "    df = inner_join(xx, yy, by=\"BrNum\") %>% mutate_if(is.character, as.factor)\n",
    "    return(df)\n",
    "}\n",
    "memDF <- memoise::memoise(get_snp_df)\n",
    "\n",
    "save_ggplots <- function(fn, p, w, h){\n",
    "    for(ext in c('.pdf', '.png', '.svg')){\n",
    "        ggsave(paste0(fn, ext), plot=p, width=w, height=h)\n",
    "    }\n",
    "}\n",
    "\n",
    "get_biomart_df <- function(){\n",
    "    biomart = data.table::fread(\"../_h/biomart.csv\")\n",
    "}\n",
    "memMART <- memoise::memoise(get_biomart_df)\n",
    "\n",
    "get_gene_symbol <- function(gene_id){\n",
    "    ensemblID = gsub(\"\\\\..*\", \"\", gene_id)\n",
    "    geneid = memMART() %>% filter(ensembl_gene_id == gsub(\"\\\\..*\", \"\", gene_id))\n",
    "    if(dim(geneid)[1] == 0){\n",
    "        return(\"\")\n",
    "    } else {\n",
    "        return(geneid$external_gene_name)\n",
    "    }\n",
    "}\n",
    "\n",
    "plot_simple_eqtl <- function(fn, gene_id, variant_id, eqtl_annot){\n",
    "    bxp = memDF(variant_id, gene_id) %>%\n",
    "        ggboxplot(x=\"ID\", y=gene_id, fill=\"red\", add=\"jitter\", xlab=variant_id,\n",
    "                  ylab=\"Residualized Expression\", outlier.shape=NA,\n",
    "                  add.params=list(alpha=0.5), alpha=0.4,\n",
    "                  ggtheme=theme_pubr(base_size=20, border=TRUE)) +\n",
    "        font(\"xy.title\", face=\"bold\") + \n",
    "        ggtitle(paste(get_gene_symbol(gene_id), gene_id, eqtl_annot, sep='\\n')) +\n",
    "        theme(plot.title = element_text(hjust = 0.5, face=\"bold\"))\n",
    "    print(bxp)\n",
    "    save_ggplots(fn, bxp, 7, 7)\n",
    "}"
   ]
  },
  {
   "cell_type": "markdown",
   "metadata": {},
   "source": [
    "### GWAS plots"
   ]
  },
  {
   "cell_type": "code",
   "execution_count": null,
   "metadata": {},
   "outputs": [],
   "source": [
    "get_gwas_snps <- function(){\n",
    "    gwas_snp_file = paste0('../../summary_table/_m/Brainseq_LIBD_caudate',\n",
    "                           '_4features_PGC2.signifpairs.txt.gz')\n",
    "    gwas_df = data.table::fread(gwas_snp_file) %>% filter(Type == feature_map(\"genes\")) %>%\n",
    "        select(c(\"variant_id\", \"rsid\", \"hg38chrc\", \"OR\", \"SE\", \"P\", \"A1\", \n",
    "                 \"A2\", \"pgc2_a1_same_as_our_counted\", \"is_index_snp\")) %>% \n",
    "        distinct() %>% arrange(P)\n",
    "    return(gwas_df)\n",
    "}\n",
    "memGWAS <- memoise::memoise(get_gwas_snps)\n",
    "\n",
    "get_gwas_snp <- function(variant){\n",
    "    return(memGWAS() %>% filter(variant_id == variant))\n",
    "}\n",
    "\n",
    "get_risk_allele <- function(variant){\n",
    "    gwas_snp = get_gwas_snp(variant)\n",
    "    if(gwas_snp$OR > 1){\n",
    "        ra = gwas_snp$A1\n",
    "    }else{\n",
    "        ra = gwas_snp$A2\n",
    "    }\n",
    "    return(ra)\n",
    "}\n",
    "\n",
    "get_eqtl_gwas_df <- function(){\n",
    "    return(memEQTL() %>% inner_join(memGWAS(), by=\"variant_id\"))\n",
    "}\n",
    "\n",
    "get_gwas_ordered_snp_df <- function(variant_id, gene_id, pgc2_a1_same_as_our_counted, OR){\n",
    "    df = memDF(variant_id, gene_id)\n",
    "    if(!pgc2_a1_same_as_our_counted){ # Fix bug with matching alleles!\n",
    "        if(OR < 1){ df = df %>% mutate(SNP = 2-SNP, ID=paste(SNP, LETTER, sep=\"\\n\")) }\n",
    "    } else {\n",
    "        if(OR > 1){ df = df %>% mutate(SNP = 2-SNP, ID=paste(SNP, LETTER, sep=\"\\n\")) }\n",
    "    }\n",
    "    return(df)\n",
    "}\n",
    "\n",
    "plot_gwas_eqtl <- function(fn, gene_id, variant_id, eqtl_annot, \n",
    "                           pgc2_a1_same_as_our_counted, OR, title){\n",
    "    bxp = get_gwas_ordered_snp_df(variant_id, gene_id, \n",
    "                                  pgc2_a1_same_as_our_counted, OR) %>%\n",
    "        mutate_if(is.character, as.factor) %>%\n",
    "        ggboxplot(x=\"ID\", y=gene_id, fill=\"red\", add=\"jitter\", xlab=variant_id,\n",
    "                  ylab=\"Residualized Expression\", outlier.shape=NA,\n",
    "                  add.params=list(alpha=0.5), alpha=0.4,\n",
    "                  ggtheme=theme_pubr(base_size=20, border=TRUE)) +\n",
    "        font(\"xy.title\", face=\"bold\") + ggtitle(title) +\n",
    "        theme(plot.title = element_text(hjust = 0.5, face=\"bold\"))\n",
    "    print(bxp)\n",
    "    save_ggplots(fn, bxp, 7, 7)\n",
    "}"
   ]
  },
  {
   "cell_type": "markdown",
   "metadata": {},
   "source": [
    "## Plot eQTL"
   ]
  },
  {
   "cell_type": "markdown",
   "metadata": {},
   "source": [
    "### DRD2 plot"
   ]
  },
  {
   "cell_type": "code",
   "execution_count": null,
   "metadata": {},
   "outputs": [],
   "source": [
    "drd2_id = \"ENSG00000149295.13\"\n",
    "drd2_df = memEQTL() %>% filter(gene_id == drd2_id)\n",
    "eqtl_annot = paste(\"eQTL q-value:\", signif(drd2_df$qval, 2))\n",
    "fn = \"drd2_eqtl\"\n",
    "plot_simple_eqtl(fn, drd2_df$gene_id, drd2_df$variant_id, eqtl_annot)"
   ]
  },
  {
   "cell_type": "markdown",
   "metadata": {},
   "source": [
    "### Top 5 eQTLs"
   ]
  },
  {
   "cell_type": "code",
   "execution_count": null,
   "metadata": {},
   "outputs": [],
   "source": [
    "for(num in 1:5){\n",
    "    variant_id = memEQTL()$variant_id[num]\n",
    "    gene_id = memEQTL()$gene_id[num]\n",
    "    eqtl_annot = paste(\"eQTL q-value:\", signif(memEQTL()$qval[num], 2))\n",
    "    fn = paste0(\"top_\",num,\"_eqtl\")\n",
    "    plot_simple_eqtl(fn, gene_id, variant_id, eqtl_annot)\n",
    "}"
   ]
  },
  {
   "cell_type": "markdown",
   "metadata": {},
   "source": [
    "### Top 5 GWAS associated eQTLs"
   ]
  },
  {
   "cell_type": "code",
   "execution_count": null,
   "metadata": {},
   "outputs": [],
   "source": [
    "eqtl_gwas_df = get_eqtl_gwas_df()\n",
    "for(num in 1:5){\n",
    "    fn = paste(\"top\",num,\"eqtl_in_gwas_significant_snps\", sep=\"_\")\n",
    "    variant_id = eqtl_gwas_df$variant_id[num]\n",
    "    gene_id = eqtl_gwas_df$gene_id[num]\n",
    "    pgc2_a1_same_as_our_counted = eqtl_gwas_df$pgc2_a1_same_as_our_counted[num]\n",
    "    OR = eqtl_gwas_df$OR[num]\n",
    "    eqtl_annot = paste(\"eQTL q-value:\", signif(eqtl_gwas_df$qval[num], 2))\n",
    "    gwas_annot = paste(\"SZ GWAS pvalue:\", signif(eqtl_gwas_df$P[num], 2))\n",
    "    risk_annot = paste(\"SZ risk allele:\", get_risk_allele(eqtl_gwas_df$variant_id[num]))\n",
    "    title = paste(get_gene_symbol(gene_id), gene_id, eqtl_annot, \n",
    "                  gwas_annot, risk_annot, sep='\\n')\n",
    "    plot_gwas_eqtl(fn, gene_id, variant_id, eqtl_annot, \n",
    "                   pgc2_a1_same_as_our_counted, OR, title)\n",
    "}"
   ]
  },
  {
   "cell_type": "markdown",
   "metadata": {},
   "source": [
    "## Session Info"
   ]
  },
  {
   "cell_type": "code",
   "execution_count": null,
   "metadata": {},
   "outputs": [],
   "source": [
    "Sys.time()\n",
    "proc.time()\n",
    "options(width = 120)\n",
    "sessioninfo::session_info()"
   ]
  }
 ],
 "metadata": {
  "kernelspec": {
   "display_name": "R",
   "language": "R",
   "name": "ir"
  },
  "language_info": {
   "codemirror_mode": "r",
   "file_extension": ".r",
   "mimetype": "text/x-r-source",
   "name": "R",
   "pygments_lexer": "r",
   "version": "4.1.2"
  }
 },
 "nbformat": 4,
 "nbformat_minor": 4
}
