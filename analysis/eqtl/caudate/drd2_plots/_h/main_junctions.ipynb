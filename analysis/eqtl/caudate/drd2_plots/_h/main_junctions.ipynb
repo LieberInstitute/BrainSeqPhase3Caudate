{
 "cells": [
  {
   "cell_type": "markdown",
   "metadata": {},
   "source": [
    "# eQTL boxplot\n",
    "\n",
    "This is script ported from python to fix unknown plotting error."
   ]
  },
  {
   "cell_type": "code",
   "execution_count": null,
   "metadata": {},
   "outputs": [],
   "source": [
    "suppressPackageStartupMessages({\n",
    "    library(tidyverse)\n",
    "    library(ggpubr)\n",
    "})"
   ]
  },
  {
   "cell_type": "markdown",
   "metadata": {},
   "source": [
    "## Functions"
   ]
  },
  {
   "cell_type": "code",
   "execution_count": null,
   "metadata": {},
   "outputs": [],
   "source": [
    "feature = \"junctions\""
   ]
  },
  {
   "cell_type": "markdown",
   "metadata": {},
   "source": [
    "### Cached functions"
   ]
  },
  {
   "cell_type": "code",
   "execution_count": null,
   "metadata": {},
   "outputs": [],
   "source": [
    "get_eqtl_df <- function(){\n",
    "    eGenes_file = paste0('/ceph/projects/v4_phase3_paper/analysis/eqtl_analysis/all/',\n",
    "                        feature, '/expression_gct/prepare_expression/fastqtl_permutation/',\n",
    "                        '_m/Brainseq_LIBD.genes.txt.gz')\n",
    "    eGenes = data.table::fread(eGenes_file) %>% \n",
    "        select(gene_id, variant_id, maf, slope, slope_se, pval_nominal, qval) %>%\n",
    "        arrange(qval)\n",
    "    return(eGenes)\n",
    "}\n",
    "memEQTL <- memoise::memoise(get_eqtl_df)\n",
    "\n",
    "get_residualized_df <- function(){\n",
    "    expr_file = paste0(\"/ceph/projects/v4_phase3_paper/analysis/eqtl_analysis/all/\",\n",
    "                      feature,\"/expression_gct/covariates/residualized_expression/_m/\",\n",
    "                      feature, \"_residualized_expression.csv\")\n",
    "    return(data.table::fread(expr_file) %>% column_to_rownames(\"gene_id\"))\n",
    "}\n",
    "memRES <- memoise::memoise(get_residualized_df)\n",
    "\n",
    "get_genotypes <- function(){\n",
    "    traw_file = paste0(\"/ceph/projects/brainseq/genotype/download/topmed/convert2plink/\",\n",
    "                      \"filter_maf_01/a_transpose/_m/LIBD_Brain_TopMed.traw\")\n",
    "    traw = data.table::fread(traw_file) %>% rename_with(~ gsub('\\\\_.*', '', .x))\n",
    "    return(traw)\n",
    "}\n",
    "memSNPs <- memoise::memoise(get_genotypes)"
   ]
  },
  {
   "cell_type": "markdown",
   "metadata": {},
   "source": [
    "### Simple functions"
   ]
  },
  {
   "cell_type": "code",
   "execution_count": null,
   "metadata": {},
   "outputs": [],
   "source": [
    "feature_map <- function(feature){\n",
    "    return(list(\"genes\"=\"Gene\", \"transcripts\"= \"Transcript\", \n",
    "                \"exons\"= \"Exon\", \"junctions\"= \"Junction\")[[feature]])\n",
    "}\n",
    "\n",
    "get_geno_annot <- function(){\n",
    "    return(memSNPs() %>% select(CHR, SNP, POS, COUNTED, ALT))\n",
    "}\n",
    "\n",
    "get_snps_df <- function(){\n",
    "    return(memSNPs() %>% select(\"SNP\", starts_with(\"Br\")))\n",
    "}\n",
    "\n",
    "letter_snp <- function(number, a0, a1){\n",
    "    if(is.na(number)){ return(NA) }\n",
    "    if( length(a0) == 1 & length(a1) == 1){\n",
    "        seps = \"\"; collapse=\"\"\n",
    "    } else {\n",
    "        seps = \" \"; collapse=NULL\n",
    "    }\n",
    "    return(paste(paste0(rep(a0, number), collapse = collapse), \n",
    "                 paste0(rep(a1, (2-number)), collapse = collapse), sep=seps))\n",
    "}\n",
    "\n",
    "get_snp_df <- function(variant_id, gene_id){\n",
    "    zz = get_geno_annot() %>% filter(SNP == variant_id)\n",
    "    xx = get_snps_df() %>% filter(SNP == variant_id) %>% \n",
    "        column_to_rownames(\"SNP\") %>% t %>% as.data.frame %>% \n",
    "        rownames_to_column(\"BrNum\") %>% mutate(COUNTED=zz$COUNTED, ALT=zz$ALT) %>% \n",
    "        rename(\"SNP\"=all_of(variant_id))\n",
    "    yy = memRES()[gene_id, ] %>% t %>% as.data.frame %>% \n",
    "        rownames_to_column(\"BrNum\")\n",
    "    ## Annotated SNPs\n",
    "    letters = c()\n",
    "    for(ii in seq_along(xx$COUNTED)){\n",
    "        a0 = xx$COUNTED[ii]; a1 = xx$ALT[ii]; number = xx$SNP[ii]\n",
    "        letters <- append(letters, letter_snp(number, a0, a1))\n",
    "    }\n",
    "    xx = xx %>% mutate(LETTER=letters, ID=paste(SNP, LETTER, sep=\"\\n\"))\n",
    "    df = inner_join(xx, yy, by=\"BrNum\") %>% mutate_if(is.character, as.factor)\n",
    "    return(df)\n",
    "}\n",
    "memDF <- memoise::memoise(get_snp_df)\n",
    "\n",
    "save_ggplots <- function(fn, p, w, h){\n",
    "    for(ext in c('.pdf', '.png', '.svg')){\n",
    "        ggsave(paste0(fn, ext), plot=p, width=w, height=h)\n",
    "    }\n",
    "}\n",
    "\n",
    "get_biomart_df <- function(){\n",
    "    biomart = data.table::fread(\"../_h/biomart.csv\")\n",
    "}\n",
    "memMART <- memoise::memoise(get_biomart_df)\n",
    "\n",
    "get_gene_symbol <- function(gene_id){\n",
    "    ensemblID = gsub(\"\\\\..*\", \"\", gene_id)\n",
    "    geneid = memMART() %>% filter(ensembl_gene_id == gsub(\"\\\\..*\", \"\", gene_id))\n",
    "    if(dim(geneid)[1] == 0){\n",
    "        return(\"\")\n",
    "    } else {\n",
    "        return(geneid$external_gene_name)\n",
    "    }\n",
    "}\n",
    "\n",
    "plot_simple_eqtl <- function(fn, gene_id, variant_id, eqtl_annot, prefix){\n",
    "    bxp = memDF(variant_id, gene_id) %>%\n",
    "        ggboxplot(x=\"ID\", y=gene_id, fill=\"red\", add=\"jitter\", xlab=variant_id,\n",
    "                  ylab=\"Residualized Expression\", outlier.shape=NA,\n",
    "                  add.params=list(alpha=0.5), alpha=0.4,\n",
    "                  ggtheme=theme_pubr(base_size=20, border=TRUE)) +\n",
    "        font(\"xy.title\", face=\"bold\") + \n",
    "        ggtitle(paste(prefix, gene_id, eqtl_annot, sep='\\n')) +\n",
    "        theme(plot.title = element_text(hjust = 0.5, face=\"bold\"))\n",
    "    print(bxp)\n",
    "    save_ggplots(fn, bxp, 7, 7)\n",
    "}"
   ]
  },
  {
   "cell_type": "markdown",
   "metadata": {},
   "source": [
    "### GWAS plots"
   ]
  },
  {
   "cell_type": "code",
   "execution_count": null,
   "metadata": {},
   "outputs": [],
   "source": [
    "get_gwas_snps <- function(){\n",
    "    gwas_snp_file = paste0('../../summary_table/_m/Brainseq_LIBD_caudate',\n",
    "                           '_4features_PGC2.signifpairs.txt.gz')\n",
    "    gwas_df = data.table::fread(gwas_snp_file) %>% filter(Type == feature_map(feature)) %>%\n",
    "        select(c(\"variant_id\", \"gene_id\", \"rsid\", \"hg38chrc\", \"OR\", \"SE\", \"P\", \"A1\", \n",
    "                 \"A2\", \"pval_nominal\", \"pgc2_a1_same_as_our_counted\", \"is_index_snp\")) %>% \n",
    "        distinct() %>% arrange(P)\n",
    "    return(gwas_df)\n",
    "}\n",
    "memGWAS <- memoise::memoise(get_gwas_snps)\n",
    "\n",
    "get_gwas_snp <- function(variant){\n",
    "    return(memGWAS() %>% filter(variant_id == variant))\n",
    "}\n",
    "\n",
    "get_risk_allele <- function(variant){\n",
    "    gwas_snp = get_gwas_snp(variant)\n",
    "    if(gwas_snp$OR > 1){\n",
    "        ra = gwas_snp$A1\n",
    "    }else{\n",
    "        ra = gwas_snp$A2\n",
    "    }\n",
    "    return(ra)\n",
    "}\n",
    "\n",
    "get_eqtl_gwas_df <- function(){\n",
    "    return(memEQTL() %>% inner_join(memGWAS(), by=\"variant_id\"))\n",
    "}\n",
    "\n",
    "get_gwas_ordered_snp_df <- function(variant_id, gene_id, pgc2_a1_same_as_our_counted, OR){\n",
    "    df = memDF(variant_id, gene_id)\n",
    "    if(!pgc2_a1_same_as_our_counted){\n",
    "        if(OR < 1){ df = df %>% mutate(SNP = 2-SNP, ID=paste(SNP, LETTER, sep=\"\\n\")) }\n",
    "    } else {\n",
    "        if(OR > 1){ df = df %>% mutate(SNP = 2-SNP, ID=paste(SNP, LETTER, sep=\"\\n\")) }\n",
    "    }\n",
    "    return(df)\n",
    "}\n",
    "\n",
    "plot_gwas_eqtl <- function(fn, gene_id, variant_id, eqtl_annot, \n",
    "                           pgc2_a1_same_as_our_counted, OR, title){\n",
    "    bxp = get_gwas_ordered_snp_df(variant_id, gene_id, \n",
    "                                  pgc2_a1_same_as_our_counted, OR) %>%\n",
    "        mutate_if(is.character, as.factor) %>%\n",
    "        ggboxplot(x=\"ID\", y=gene_id, fill=\"red\", add=\"jitter\", xlab=variant_id,\n",
    "                  ylab=\"Residualized Expression\", outlier.shape=NA,\n",
    "                  add.params=list(alpha=0.5), alpha=0.4,\n",
    "                  ggtheme=theme_pubr(base_size=20, border=TRUE)) +\n",
    "        font(\"xy.title\", face=\"bold\") + ggtitle(title) +\n",
    "        theme(plot.title = element_text(hjust = 0.5, face=\"bold\"))\n",
    "    print(bxp)\n",
    "    save_ggplots(fn, bxp, 7, 7)\n",
    "}"
   ]
  },
  {
   "cell_type": "markdown",
   "metadata": {},
   "source": [
    "## Plot eQTL"
   ]
  },
  {
   "cell_type": "code",
   "execution_count": null,
   "metadata": {},
   "outputs": [],
   "source": [
    "get_drd2_junction_annotation <- function(junction_id){\n",
    "    return(list(\n",
    "        'chr11:113424683-113474229(-)'= \"DRD2 junction 1L-2\",\n",
    "        \"chr11:113424683-113475075(-)\"= \"DRD2 junction 1-2\",\n",
    "        \"chr11:113418137-113424366(-)\"= \"DRD2 junction 2-3\",\n",
    "        \"chr11:113417000-113418026(-)\"= \"DRD2 junction 3-4\",\n",
    "        \"chr11:113415612-113416862(-)\"= \"DRD2 junction 4-5\",\n",
    "        \"chr11:113414462-113415420(-)\"= \"DRD2 junction 5-6\",\n",
    "        \"chr11:113412884-113415420(-)\"= \"DRD2 junction 5-7\",\n",
    "        \"chr11:113412884-113414374(-)\"= \"DRD2 junction 6-7\",\n",
    "        \"chr11:113410921-113412555(-)\"= \"DRD2 junction 7-8\")[[junction_id]])\n",
    "}\n",
    "\n",
    "get_drd2_junctions <- function(){\n",
    "    cmd = paste0(\"cat <(head -1 /ceph/projects/v4_phase3_paper/analysis/differential_expression/_m/junctions/diffExpr_szVctl_full.txt)\",\n",
    "                 \" <(grep -i drd2 /ceph/projects/v4_phase3_paper/analysis/differential_expression/_m/junctions/diffExpr_szVctl_full.txt)\")\n",
    "    return(data.table::fread(cmd=cmd) %>% rename(\"Feature\"=\"V1\"))\n",
    "}\n",
    "\n",
    "get_drd2 <- function(){\n",
    "    drdj = get_drd2_junctions() %>% filter(str_detect(gencodeTx, \"ENST00000362072.7|ENST00000346454.7\"))\n",
    "    return(memEQTL() %>% filter(gene_id %in% drdj$Feature))\n",
    "}"
   ]
  },
  {
   "cell_type": "markdown",
   "metadata": {},
   "source": [
    "### DRD2 plot"
   ]
  },
  {
   "cell_type": "code",
   "execution_count": null,
   "metadata": {},
   "outputs": [],
   "source": [
    "drd2_df = get_drd2()\n",
    "drd2_df"
   ]
  },
  {
   "cell_type": "code",
   "execution_count": null,
   "metadata": {},
   "outputs": [],
   "source": [
    "for(x in seq_along(drd2_df$gene_id)){\n",
    "    anno = get_drd2_junction_annotation(drd2_df$gene_id[x])\n",
    "    en = gsub(\"-\", \"_\", gsub(\" \", \"_\", anno))\n",
    "    fn = paste(\"drd2_eqtl\", en, sep=\"_\")\n",
    "    eqtl_annot = paste(\"eQTL q-value:\", signif(drd2_df$qval[x], 2))\n",
    "    prefix = anno\n",
    "    plot_simple_eqtl(fn, drd2_df$gene_id[x], drd2_df$variant_id[x], eqtl_annot, prefix)\n",
    "    #print(prefix)\n",
    "}"
   ]
  },
  {
   "cell_type": "markdown",
   "metadata": {},
   "source": [
    "### GWAS association"
   ]
  },
  {
   "cell_type": "code",
   "execution_count": null,
   "metadata": {},
   "outputs": [],
   "source": [
    "eqtl_gwas_df = memGWAS() %>% filter(gene_id %in% drd2_df$gene_id) %>%\n",
    "    group_by(gene_id, is_index_snp) %>% slice(1)\n",
    "eqtl_gwas_df"
   ]
  },
  {
   "cell_type": "code",
   "execution_count": null,
   "metadata": {},
   "outputs": [],
   "source": [
    "for(num in seq_along(eqtl_gwas_df$variant_id)){\n",
    "    anno = get_drd2_junction_annotation(eqtl_gwas_df$gene_id[num])\n",
    "    en = gsub(\"-\", \"_\", gsub(\" \", \"_\", anno))\n",
    "    variant_id = eqtl_gwas_df$variant_id[num]\n",
    "    gene_id = eqtl_gwas_df$gene_id[num]\n",
    "    pgc2_a1_same_as_our_counted = eqtl_gwas_df$pgc2_a1_same_as_our_counted[num]\n",
    "    OR = eqtl_gwas_df$OR[num]\n",
    "    eqtl_annot = paste(\"eQTL nominal p-value:\", signif(eqtl_gwas_df$pval_nominal[num], 2))\n",
    "    gwas_annot = paste(\"SZ GWAS pvalue:\", signif(eqtl_gwas_df$P[num], 2))\n",
    "    risk_annot = paste(\"SZ risk allele:\", get_risk_allele(eqtl_gwas_df$variant_id[num]))\n",
    "    title = paste(anno, gene_id, eqtl_annot, gwas_annot, risk_annot, sep='\\n')\n",
    "    if(eqtl_gwas_df$is_index_snp[num]){\n",
    "        fn = paste(\"drd2_eqtl_in_gwas_significant_index_snp\", en, sep=\"_\")\n",
    "    } else {\n",
    "        fn = paste(\"drd2_eqtl_in_gwas_significant_snp\", en, sep=\"_\")\n",
    "    } \n",
    "    plot_gwas_eqtl(fn, gene_id, variant_id, eqtl_annot, \n",
    "                   pgc2_a1_same_as_our_counted, OR, title)\n",
    "    print(title)\n",
    "}"
   ]
  },
  {
   "cell_type": "markdown",
   "metadata": {},
   "source": [
    "## Session Info"
   ]
  },
  {
   "cell_type": "code",
   "execution_count": null,
   "metadata": {},
   "outputs": [],
   "source": [
    "Sys.time()\n",
    "proc.time()\n",
    "options(width = 120)\n",
    "sessioninfo::session_info()"
   ]
  }
 ],
 "metadata": {
  "kernelspec": {
   "display_name": "R",
   "language": "R",
   "name": "ir"
  },
  "language_info": {
   "codemirror_mode": "r",
   "file_extension": ".r",
   "mimetype": "text/x-r-source",
   "name": "R",
   "pygments_lexer": "r",
   "version": "4.0.3"
  }
 },
 "nbformat": 4,
 "nbformat_minor": 4
}
