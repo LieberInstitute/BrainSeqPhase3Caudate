{
 "cells": [
  {
   "cell_type": "markdown",
   "metadata": {},
   "source": [
    "# SNP overlap analysis for j5-7 and j5-6 eQTLs"
   ]
  },
  {
   "cell_type": "code",
   "execution_count": null,
   "metadata": {},
   "outputs": [],
   "source": [
    "library(tidyverse)\n",
    "library(ggpubr)"
   ]
  },
  {
   "cell_type": "code",
   "execution_count": null,
   "metadata": {},
   "outputs": [],
   "source": [
    "save_ggplots <- function(fn, p, w, h){\n",
    "    for(ext in c('.pdf', '.png', '.svg')){\n",
    "        ggsave(paste0(fn, ext), plot=p, width=w, height=h)\n",
    "    }\n",
    "}"
   ]
  },
  {
   "cell_type": "markdown",
   "metadata": {},
   "source": [
    "## Load eQTLs"
   ]
  },
  {
   "cell_type": "code",
   "execution_count": null,
   "metadata": {},
   "outputs": [],
   "source": [
    "cname = c(\"gene_id\", \"variant_id\", \"tss_distance\", \"ma_samples\", \"ma_count\",\n",
    "          \"maf\", \"pval_nominal\", \"slope\", \"slope_se\")\n",
    "## Junction 5-7\n",
    "cmd = paste0('zcat /ceph/projects/v4_phase3_paper/analysis/eqtl_analysis/all/junctions/',\n",
    "             'expression_gct/prepare_expression/fastqtl_nominal/_m/Brainseq_LIBD.allpairs.txt.gz',\n",
    "             '| grep \"chr11:113412884-113415420(-)\"')\n",
    "j57 = data.table::fread(cmd=cmd, header=FALSE, col.names=cname)\n",
    "dim(j57)\n",
    "## Junction 5-6\n",
    "cmd = paste0('zcat /ceph/projects/v4_phase3_paper/analysis/eqtl_analysis/all/junctions/',\n",
    "             'expression_gct/prepare_expression/fastqtl_nominal/_m/Brainseq_LIBD.allpairs.txt.gz',\n",
    "             '| grep \"chr11:113414462-113415420(-)\"')\n",
    "j56 = data.table::fread(cmd=cmd, header=FALSE, col.names=cname)\n",
    "dim(j56)"
   ]
  },
  {
   "cell_type": "code",
   "execution_count": null,
   "metadata": {},
   "outputs": [],
   "source": [
    "df = j57 %>% inner_join(j56, by=c('variant_id'), suffix=c(\"_j57\", \"_j56\"))\n",
    "#df.to_csv('j57_and_j56_eqtls.tsv', sep='\\t')\n",
    "df %>% head(2)"
   ]
  },
  {
   "cell_type": "code",
   "execution_count": null,
   "metadata": {},
   "outputs": [],
   "source": [
    "title = paste0(\"eQTLs for DRD2 junctions 5-7 and 5-6\\n(n=\",dim(df)[1],\" SNPs)\")\n",
    "\n",
    "sca = df %>% ggscatter(x=\"pval_nominal_j57\", y=\"pval_nominal_j56\", alpha=0.4, \n",
    "                 ggtheme=theme_pubclean(base_size=20), \n",
    "                 xlab=\"nominal p-value: junction 5-7\",\n",
    "                 ylab=\"nominal p-value: junction 5-6\") +\n",
    "    yscale(\"log10\", .format=TRUE) + xscale(\"log10\", .format=TRUE) +\n",
    "    font(\"xy.title\", face=\"bold\") +\n",
    "    ggtitle(title) + theme(plot.title = element_text(hjust = 0.5, face=\"bold\"))\n",
    "print(sca)\n",
    "save_ggplots(\"eQTL_scatterplot_j57_j57_LIBD_caudate\", sca, 9, 9)"
   ]
  },
  {
   "cell_type": "markdown",
   "metadata": {},
   "source": [
    "## Session Info"
   ]
  },
  {
   "cell_type": "code",
   "execution_count": null,
   "metadata": {},
   "outputs": [],
   "source": [
    "Sys.time()\n",
    "proc.time()\n",
    "options(width = 120)\n",
    "sessioninfo::session_info()"
   ]
  }
 ],
 "metadata": {
  "kernelspec": {
   "display_name": "R",
   "language": "R",
   "name": "ir"
  },
  "language_info": {
   "codemirror_mode": "r",
   "file_extension": ".r",
   "mimetype": "text/x-r-source",
   "name": "R",
   "pygments_lexer": "r",
   "version": "4.0.3"
  }
 },
 "nbformat": 4,
 "nbformat_minor": 4
}
