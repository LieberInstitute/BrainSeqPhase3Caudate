{
 "cells": [
  {
   "cell_type": "markdown",
   "metadata": {},
   "source": [
    "# eQTL boxplot\n",
    "\n",
    "This is script ported from python to fix unknown plotting error."
   ]
  },
  {
   "cell_type": "code",
   "execution_count": null,
   "metadata": {},
   "outputs": [],
   "source": [
    "suppressPackageStartupMessages({\n",
    "    library(tidyverse)\n",
    "    library(ggpubr)\n",
    "})"
   ]
  },
  {
   "cell_type": "markdown",
   "metadata": {},
   "source": [
    "## Functions"
   ]
  },
  {
   "cell_type": "code",
   "execution_count": null,
   "metadata": {},
   "outputs": [],
   "source": [
    "feature = \"junctions\""
   ]
  },
  {
   "cell_type": "markdown",
   "metadata": {
    "tags": []
   },
   "source": [
    "### Basic loading functions"
   ]
  },
  {
   "cell_type": "code",
   "execution_count": null,
   "metadata": {},
   "outputs": [],
   "source": [
    "get_residualized_df <- function(){\n",
    "    expr_file = paste0(\"/ceph/projects/v4_phase3_paper/analysis/eqtl_analysis/all/\",\n",
    "                      feature,\"/expression_gct/covariates/residualized_expression/_m/\",\n",
    "                      feature, \"_residualized_expression.csv\")\n",
    "    return(data.table::fread(expr_file) %>% column_to_rownames(\"gene_id\"))\n",
    "}\n",
    "memRES <- memoise::memoise(get_residualized_df)\n",
    "\n",
    "get_pheno_df <- function(){\n",
    "    phenotype_file = paste0('/ceph/projects/v4_phase3_paper/inputs/',\n",
    "                            'phenotypes/_m/merged_phenotypes.csv')\n",
    "    return(data.table::fread(phenotype_file))\n",
    "}\n",
    "memPHENO <- memoise::memoise(get_pheno_df)\n",
    "\n",
    "get_genotypes <- function(){\n",
    "    traw_file = paste0(\"/ceph/projects/brainseq/genotype/download/topmed/convert2plink/\",\n",
    "                      \"filter_maf_01/a_transpose/_m/LIBD_Brain_TopMed.traw\")\n",
    "    traw = data.table::fread(traw_file) %>% rename_with(~ gsub('\\\\_.*', '', .x))\n",
    "    return(traw)\n",
    "}\n",
    "memSNPs <- memoise::memoise(get_genotypes)"
   ]
  },
  {
   "cell_type": "markdown",
   "metadata": {},
   "source": [
    "### eQTL and helpful functions"
   ]
  },
  {
   "cell_type": "code",
   "execution_count": null,
   "metadata": {},
   "outputs": [],
   "source": [
    "feature_map <- function(feature){\n",
    "    return(list(\"genes\"=\"Gene\", \"transcripts\"= \"Transcript\", \n",
    "                \"exons\"= \"Exon\", \"junctions\"= \"Junction\")[[feature]])\n",
    "}\n",
    "\n",
    "save_ggplots <- function(fn, p, w, h){\n",
    "    for(ext in c('.pdf', '.png', '.svg')){\n",
    "        ggsave(paste0(fn, ext), plot=p, width=w, height=h)\n",
    "    }\n",
    "}\n",
    "\n",
    "get_caudate_eqtls <- function(){\n",
    "    mashr_file = \"../../summary_table/_m/BrainSeq_caudate_eQTL.txt.gz\"\n",
    "    return(data.table::fread(mashr_file) %>% \n",
    "           filter(Type == feature_map(feature)) %>% \n",
    "           select(gene_id, variant_id, AA, EA))\n",
    "}\n",
    "memCAUDATE <- memoise::memoise(get_caudate_eqtls)\n",
    "\n",
    "get_eqtl_df <- function(){\n",
    "    eGenes_file = paste0(\"../../_m/\", feature, \"/lfsr_allpairs_ancestry.txt.gz\")\n",
    "    eGenes = data.table::fread(eGenes_file)\n",
    "    return(eGenes)\n",
    "}\n",
    "memEQTL <- memoise::memoise(get_eqtl_df)"
   ]
  },
  {
   "cell_type": "markdown",
   "metadata": {
    "tags": []
   },
   "source": [
    "### Basic eQTL plotting functions"
   ]
  },
  {
   "cell_type": "code",
   "execution_count": null,
   "metadata": {},
   "outputs": [],
   "source": [
    "get_geno_annot <- function(){\n",
    "    return(memSNPs() %>% select(CHR, SNP, POS, COUNTED, ALT))\n",
    "}\n",
    "\n",
    "get_snps_df <- function(){\n",
    "    return(memSNPs() %>% select(\"SNP\", starts_with(\"Br\")))\n",
    "}\n",
    "\n",
    "letter_snp <- function(number, a0, a1){\n",
    "    if(is.na(number)){ return(NA) }\n",
    "    if( length(a0) == 1 & length(a1) == 1){\n",
    "        seps = \"\"; collapse=\"\"\n",
    "    } else {\n",
    "        seps = \" \"; collapse=NULL\n",
    "    }\n",
    "    return(paste(paste0(rep(a0, number), collapse = collapse), \n",
    "                 paste0(rep(a1, (2-number)), collapse = collapse), sep=seps))\n",
    "}\n",
    "\n",
    "get_snp_df <- function(variant_id, gene_id){\n",
    "    zz = get_geno_annot() %>% filter(SNP == variant_id)\n",
    "    xx = get_snps_df() %>% filter(SNP == variant_id) %>% \n",
    "        column_to_rownames(\"SNP\") %>% t %>% as.data.frame %>% \n",
    "        rownames_to_column(\"BrNum\") %>% mutate(COUNTED=zz$COUNTED, ALT=zz$ALT) %>% \n",
    "        rename(\"SNP\"=all_of(variant_id))\n",
    "    yy = memRES()[gene_id, ] %>% t %>% as.data.frame %>% \n",
    "        rownames_to_column(\"BrNum\") %>% inner_join(memPHENO(), by=\"BrNum\")\n",
    "    ## Annotated SNPs\n",
    "    letters = c()\n",
    "    for(ii in seq_along(xx$COUNTED)){\n",
    "        a0 = xx$COUNTED[ii]; a1 = xx$ALT[ii]; number = xx$SNP[ii]\n",
    "        letters <- append(letters, letter_snp(number, a0, a1))\n",
    "    }\n",
    "    xx = xx %>% mutate(LETTER=letters, ID=paste(SNP, LETTER, sep=\"\\n\"))\n",
    "    df = inner_join(xx, yy, by=\"BrNum\") %>% mutate_if(is.character, as.factor)\n",
    "    return(df)\n",
    "}\n",
    "memDF <- memoise::memoise(get_snp_df)\n",
    "\n",
    "get_gene_symbol <- function(gene_id){\n",
    "    ensemblID = gsub(\"\\\\..*\", \"\", gene_id)\n",
    "    geneid = memMART() %>% filter(ensembl_gene_id == gsub(\"\\\\..*\", \"\", gene_id))\n",
    "    if(dim(geneid)[1] == 0){\n",
    "        return(\"\")\n",
    "    } else {\n",
    "        return(geneid$external_gene_name)\n",
    "    }\n",
    "}"
   ]
  },
  {
   "cell_type": "code",
   "execution_count": null,
   "metadata": {},
   "outputs": [],
   "source": [
    "plot_simple_eqtl <- function(fn, gene_id, variant_id, eqtl_annot, prefix, y0=NULL, y1=NULL){\n",
    "    if(is.null(y0)){ y0 = quantile(memDF(variant_id, gene_id)[[gene_id]], probs=c(0.01))[[1]] - 0.2 }\n",
    "    if(is.null(y1)){ y1 = quantile(memDF(variant_id, gene_id)[[gene_id]], probs=c(0.99))[[1]] + 0.2 }\n",
    "    bxp = memDF(variant_id, gene_id) %>%\n",
    "        ggboxplot(x=\"ID\", y=gene_id, fill=\"Race\", color=\"Race\", add=\"jitter\", \n",
    "                  xlab=variant_id, ylab=\"Residualized Expression\", outlier.shape=NA,\n",
    "                  add.params=list(alpha=0.5), alpha=0.4, legend=\"bottom\", \n",
    "                  palette=\"npg\", ylim=c(y0,y1), ggtheme=theme_pubr(base_size=20, border=TRUE)) +\n",
    "        font(\"xy.title\", face=\"bold\") + \n",
    "        ggtitle(paste(prefix, gene_id, eqtl_annot, sep='\\n')) +\n",
    "        theme(plot.title = element_text(hjust = 0.5, face=\"bold\"))\n",
    "    print(bxp)\n",
    "    save_ggplots(fn, bxp, 7, 7)\n",
    "}"
   ]
  },
  {
   "cell_type": "markdown",
   "metadata": {},
   "source": [
    "### GWAS plots"
   ]
  },
  {
   "cell_type": "code",
   "execution_count": null,
   "metadata": {},
   "outputs": [],
   "source": [
    "get_gwas_snps <- function(){\n",
    "    gwas_snp_file = paste0('/ceph/projects/v4_phase3_paper/inputs/sz_gwas/pgc3/',\n",
    "                          'map_phase3/_m/libd_hg38_pgc2sz_snps_p5e_minus8.tsv')\n",
    "    gwas_df = data.table::fread(gwas_snp_file) %>% arrange(P)\n",
    "    return(gwas_df)\n",
    "}\n",
    "memGWAS <- memoise::memoise(get_gwas_snps)\n",
    "\n",
    "get_gwas_snp <- function(variant){\n",
    "    return(memGWAS() %>% filter(our_snp_id == variant))\n",
    "}\n",
    "\n",
    "get_risk_allele <- function(variant){\n",
    "    gwas_snp = get_gwas_snp(variant)\n",
    "    if(gwas_snp$OR > 1){\n",
    "        ra = gwas_snp$A1\n",
    "    }else{\n",
    "        ra = gwas_snp$A2\n",
    "    }\n",
    "    return(ra)\n",
    "}\n",
    "\n",
    "get_eqtl_gwas_df <- function(){\n",
    "    return(memCAUDATE() %>% inner_join(memGWAS(), by=c(\"variant_id\"=\"our_snp_id\")))\n",
    "}\n",
    "\n",
    "get_gwas_ordered_snp_df <- function(variant_id, gene_id, pgc3_a1_same_as_our_counted, OR){\n",
    "    df = memDF(variant_id, gene_id)\n",
    "    if(!pgc3_a1_same_as_our_counted){ # Fix bug with matching alleles!\n",
    "        if(OR < 1){ df = df %>% mutate(SNP = 2-SNP, ID=paste(SNP, LETTER, sep=\"\\n\")) }\n",
    "    } else {\n",
    "        if(OR > 1){ df = df %>% mutate(SNP = 2-SNP, ID=paste(SNP, LETTER, sep=\"\\n\")) }\n",
    "    }\n",
    "    return(df)\n",
    "}\n",
    "\n",
    "plot_gwas_eqtl <- function(fn, gene_id, variant_id, eqtl_annot, pgc3_a1_same_as_our_counted, \n",
    "                           OR, title){\n",
    "    dt = get_gwas_ordered_snp_df(variant_id, gene_id, pgc3_a1_same_as_our_counted, OR)\n",
    "    bxp = dt %>% mutate_if(is.character, as.factor) %>%\n",
    "        ggboxplot(x=\"ID\", y=gene_id, fill=\"Race\", color=\"Race\", add=\"jitter\", \n",
    "                  xlab=variant_id, ylab=\"Residualized Expression\", outlier.shape=NA,\n",
    "                  add.params=list(alpha=0.5), alpha=0.4, legend=\"bottom\", #ylim=c(y0,y1),\n",
    "                  palette=\"npg\", ggtheme=theme_pubr(base_size=20, border=TRUE)) +\n",
    "        font(\"xy.title\", face=\"bold\") + ggtitle(title) +\n",
    "        theme(plot.title = element_text(hjust = 0.5, face=\"bold\"))\n",
    "    print(bxp)\n",
    "    save_ggplots(fn, bxp, 7, 8)\n",
    "}"
   ]
  },
  {
   "cell_type": "markdown",
   "metadata": {},
   "source": [
    "## Plot eQTL"
   ]
  },
  {
   "cell_type": "code",
   "execution_count": null,
   "metadata": {},
   "outputs": [],
   "source": [
    "get_drd2_junction_annotation <- function(junction_id){\n",
    "    return(list(\n",
    "        'chr11:113424683-113474229(-)'= \"DRD2 junction 1L-2\",\n",
    "        \"chr11:113424683-113475075(-)\"= \"DRD2 junction 1-2\",\n",
    "        \"chr11:113418137-113424366(-)\"= \"DRD2 junction 2-3\",\n",
    "        \"chr11:113417000-113418026(-)\"= \"DRD2 junction 3-4\",\n",
    "        \"chr11:113415612-113416862(-)\"= \"DRD2 junction 4-5\",\n",
    "        \"chr11:113414462-113415420(-)\"= \"DRD2 junction 5-6\",\n",
    "        \"chr11:113412884-113415420(-)\"= \"DRD2 junction 5-7\",\n",
    "        \"chr11:113412884-113414374(-)\"= \"DRD2 junction 6-7\",\n",
    "        \"chr11:113410921-113412555(-)\"= \"DRD2 junction 7-8\")[[junction_id]])\n",
    "}\n",
    "\n",
    "get_drd2_junctions <- function(){\n",
    "    cmd = paste0(\"cat <(head -1 /ceph/projects/v4_phase3_paper/analysis/differential_expression/_m/junctions/diffExpr_szVctl_full.txt)\",\n",
    "                 \" <(grep -i drd2 /ceph/projects/v4_phase3_paper/analysis/differential_expression/_m/junctions/diffExpr_szVctl_full.txt)\")\n",
    "    return(data.table::fread(cmd=cmd) %>% rename(\"Feature\"=\"V1\"))\n",
    "}"
   ]
  },
  {
   "cell_type": "markdown",
   "metadata": {},
   "source": [
    "### DRD2 plot"
   ]
  },
  {
   "cell_type": "code",
   "execution_count": null,
   "metadata": {},
   "outputs": [],
   "source": [
    "drdj = get_drd2_junctions() %>% filter(str_detect(gencodeTx, \"ENST00000362072.7|ENST00000346454.7\"))\n",
    "drdj"
   ]
  },
  {
   "cell_type": "code",
   "execution_count": null,
   "metadata": {},
   "outputs": [],
   "source": [
    "drd2_df0 = memCAUDATE() %>% filter(gene_id %in% drdj$Feature) %>% \n",
    "    arrange(AA, EA) %>% group_by(gene_id) %>% slice(1) %>% arrange(AA, EA)\n",
    "drd2_df0"
   ]
  },
  {
   "cell_type": "code",
   "execution_count": null,
   "metadata": {},
   "outputs": [],
   "source": [
    "drd2_df = memEQTL() %>% filter(gene_id %in% drdj$Feature) %>%\n",
    "    arrange(AA, EA) %>% group_by(gene_id) %>% slice(1) %>% arrange(AA, EA)\n",
    "drd2_df"
   ]
  },
  {
   "cell_type": "code",
   "execution_count": null,
   "metadata": {},
   "outputs": [],
   "source": [
    "for(x in seq_along(drd2_df$gene_id)){\n",
    "    anno = get_drd2_junction_annotation(drd2_df$gene_id[x])\n",
    "    en = gsub(\"-\", \"_\", gsub(\" \", \"_\", anno))\n",
    "    fn = paste(\"drd2_eqtl\", en, sep=\"_\")\n",
    "    eqtl_annot = paste(paste(\"eQTL (AA) lfsr:\", signif(drd2_df$AA[x], 2)), \n",
    "                       paste(\"eQTL (EA) lfsr:\", signif(drd2_df$EA[x], 2)), sep='\\n')\n",
    "    prefix = anno\n",
    "    plot_simple_eqtl(fn, drd2_df$gene_id[x], drd2_df$variant_id[x], eqtl_annot, prefix)\n",
    "    #print(prefix)\n",
    "}"
   ]
  },
  {
   "cell_type": "markdown",
   "metadata": {},
   "source": [
    "### GWAS association"
   ]
  },
  {
   "cell_type": "code",
   "execution_count": null,
   "metadata": {},
   "outputs": [],
   "source": [
    "eGenes_gwas = get_eqtl_gwas_df() %>% filter(gene_id %in% drdj$Feature) %>% \n",
    "    arrange(AA, EA, P) %>% group_by(gene_id) %>% slice(1) %>% arrange(AA, EA, P)\n",
    "eGenes_gwas"
   ]
  },
  {
   "cell_type": "code",
   "execution_count": null,
   "metadata": {},
   "outputs": [],
   "source": [
    "for(num in seq_along(eGenes_gwas$variant_id)){\n",
    "    anno = get_drd2_junction_annotation(eGenes_gwas$gene_id[num])\n",
    "    en = gsub(\"-\", \"_\", gsub(\" \", \"_\", anno))\n",
    "    variant_id = eGenes_gwas$variant_id[num]\n",
    "    gene_id = eGenes_gwas$gene_id[num]\n",
    "    pgc3_a1_same_as_our_counted = eGenes_gwas$pgc3_a1_same_as_our_counted[num]\n",
    "    OR = eGenes_gwas$OR[num]\n",
    "    eqtl_annot = paste(paste(\"eQTL (AA) lfsr:\", signif(eGenes_gwas$AA[num], 2)), \n",
    "                       paste(\"eQTL (EA) lfsr:\", signif(eGenes_gwas$EA[num], 2)), sep='\\n')\n",
    "    gwas_annot = paste(\"SZ GWAS pvalue:\", signif(eGenes_gwas$P[num], 2))\n",
    "    risk_annot = paste(\"SZ risk allele:\", get_risk_allele(eGenes_gwas$variant_id[num]))\n",
    "    title = paste(anno, gene_id, eqtl_annot, gwas_annot, risk_annot, sep='\\n')\n",
    "    fn = paste(\"drd2_eqtl_in_gwas_significant_snp\", en, sep=\"_\")\n",
    "    plot_gwas_eqtl(fn, gene_id, variant_id, eqtl_annot, \n",
    "                   pgc3_a1_same_as_our_counted, OR, title)\n",
    "}"
   ]
  },
  {
   "cell_type": "markdown",
   "metadata": {},
   "source": [
    "## Session Info"
   ]
  },
  {
   "cell_type": "code",
   "execution_count": null,
   "metadata": {},
   "outputs": [],
   "source": [
    "Sys.time()\n",
    "proc.time()\n",
    "options(width = 120)\n",
    "sessioninfo::session_info()"
   ]
  }
 ],
 "metadata": {
  "kernelspec": {
   "display_name": "R",
   "language": "R",
   "name": "ir"
  },
  "language_info": {
   "codemirror_mode": "r",
   "file_extension": ".r",
   "mimetype": "text/x-r-source",
   "name": "R",
   "pygments_lexer": "r",
   "version": "4.1.2"
  }
 },
 "nbformat": 4,
 "nbformat_minor": 4
}
