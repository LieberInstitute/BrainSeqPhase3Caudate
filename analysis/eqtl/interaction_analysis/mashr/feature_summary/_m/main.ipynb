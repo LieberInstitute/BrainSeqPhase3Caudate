{
 "cells": [
  {
   "cell_type": "markdown",
   "metadata": {},
   "source": [
    "# Summary of features for interaction analysis"
   ]
  },
  {
   "cell_type": "code",
   "execution_count": 1,
   "metadata": {
    "execution": {
     "iopub.execute_input": "2022-03-01T21:37:48.071991Z",
     "iopub.status.busy": "2022-03-01T21:37:48.069689Z",
     "iopub.status.idle": "2022-03-01T21:37:48.529985Z",
     "shell.execute_reply": "2022-03-01T21:37:48.529151Z"
    }
   },
   "outputs": [],
   "source": [
    "import pandas as pd\n",
    "from functools import lru_cache"
   ]
  },
  {
   "cell_type": "markdown",
   "metadata": {},
   "source": [
    "## Functions"
   ]
  },
  {
   "cell_type": "code",
   "execution_count": 2,
   "metadata": {
    "execution": {
     "iopub.execute_input": "2022-03-01T21:37:48.541668Z",
     "iopub.status.busy": "2022-03-01T21:37:48.539638Z",
     "iopub.status.idle": "2022-03-01T21:37:48.544887Z",
     "shell.execute_reply": "2022-03-01T21:37:48.545430Z"
    }
   },
   "outputs": [],
   "source": [
    "@lru_cache()\n",
    "def get_data(feature):\n",
    "    fn = \"../../_m/%s/lfsr_allpairs_3tissues.txt.gz\" % feature\n",
    "    df = pd.read_csv(fn, sep='\\t', low_memory=True)\n",
    "    cc = df[(df[\"Caudate\"] < 0.05) & (df[\"DLPFC\"] >= 0.05) & \n",
    "            (df[\"Hippocampus\"] >= 0.05)].copy()\n",
    "    dd = df[(df[\"Caudate\"] >= 0.05) & (df[\"DLPFC\"] < 0.05) & \n",
    "            (df[\"Hippocampus\"] >= 0.05)].copy()\n",
    "    hh = df[(df[\"Caudate\"] >= 0.05) & (df[\"DLPFC\"] >= 0.05) & \n",
    "            (df[\"Hippocampus\"] < 0.05)].copy()\n",
    "    shared_df = df[(df[\"Caudate\"] < 0.05) & (df[\"DLPFC\"] < 0.05) & \n",
    "                   (df[\"Hippocampus\"] < 0.05)].copy()\n",
    "    all_df = df[(df[\"Caudate\"] < 0.05) | (df[\"DLPFC\"] < 0.05) |\n",
    "                (df[\"Hippocampus\"] < 0.05)].copy()\n",
    "    return cc, dd, hh, shared_df, all_df\n",
    "\n",
    "\n",
    "def feature_summary(feature):\n",
    "    cc, dd, hh, shared_df, all_df = get_data(feature)\n",
    "    print(feature.upper())\n",
    "    print(\"There are %d Caudate specific SNP-feature!\" % cc.shape[0])\n",
    "    print(\"There are %d DLPFC specific SNP-feature!\" % dd.shape[0])\n",
    "    print(\"There are %d Hippocampus specific SNP-feature!\" % hh.shape[0])\n",
    "    print(\"There are {} ({:.1%}) SNP-feature shared across brain regions!\\n\"\\\n",
    "          .format(shared_df.shape[0], shared_df.shape[0] / all_df.shape[0]))"
   ]
  },
  {
   "cell_type": "code",
   "execution_count": 3,
   "metadata": {
    "execution": {
     "iopub.execute_input": "2022-03-01T21:37:48.555799Z",
     "iopub.status.busy": "2022-03-01T21:37:48.555065Z",
     "iopub.status.idle": "2022-03-01T21:37:48.564337Z",
     "shell.execute_reply": "2022-03-01T21:37:48.564922Z"
    }
   },
   "outputs": [],
   "source": [
    "def efeature_summary(feature):\n",
    "    cc, dd, hh, shared_df, all_df = get_data(feature)\n",
    "    cc = cc.groupby(\"gene_id\").first().reset_index()\n",
    "    dd = dd.groupby(\"gene_id\").first().reset_index()\n",
    "    hh = hh.groupby(\"gene_id\").first().reset_index()\n",
    "    shared_df = shared_df.groupby(\"gene_id\").first().reset_index()\n",
    "    all_df = all_df.groupby(\"gene_id\").first().reset_index()\n",
    "    print(feature.upper())\n",
    "    print(\"There are %d Caudate specific eFeatures!\" % cc.shape[0])\n",
    "    print(\"There are %d DLPFC specific eFeatures!\" % dd.shape[0])\n",
    "    print(\"There are %d Hippocampus specific eFeatures!\" % hh.shape[0])\n",
    "    print(\"There are {} ({:.1%}) eFeatures shared across brain regions!\\n\"\\\n",
    "          .format(shared_df.shape[0], shared_df.shape[0] / all_df.shape[0]))\n",
    "\n",
    "\n",
    "def get_summary(feature):\n",
    "    fn = \"../../_m/%s/significant_geneSNP_pairs_3tissues.tsv\" % feature\n",
    "    df = pd.read_csv(fn, sep='\\t')\n",
    "    cd = df[(df[\"N_Regions_Shared\"] == 2) & (df[\"Hippocampus\"] == 0)].shape[0]\n",
    "    ch = df[(df[\"N_Regions_Shared\"] == 2) & (df[\"DLPFC\"] == 0)].shape[0]\n",
    "    dh = df[(df[\"N_Regions_Shared\"] == 2) & (df[\"Caudate\"] == 0)].shape[0]\n",
    "    cc = df[(df[\"N_Regions_Shared\"] == 1) & (df[\"Caudate\"] == 1)].shape[0]\n",
    "    dd = df[(df[\"N_Regions_Shared\"] == 1) & (df[\"DLPFC\"] == 1)].shape[0]\n",
    "    hh = df[(df[\"N_Regions_Shared\"] == 1) & (df[\"Hippocampus\"] == 1)].shape[0]\n",
    "    print(feature.upper())\n",
    "    #print(df.groupby(\"N_Regions_Shared\").size())\n",
    "    print(\"There are {} ({:.1%}) tissue specific eFeatures!\".format(df.groupby(\"N_Regions_Shared\").size()[1],\n",
    "                                                                    df.groupby(\"N_Regions_Shared\").size()[1] / df.shape[0]))\n",
    "    print(\"There are %d caudate specific eFeatures!\" % cc)\n",
    "    print(\"There are %d DLPFC specific eFeatures!\" % dd)\n",
    "    print(\"There are %d hippocampus specific eFeatures!\\n\" % hh)\n",
    "    print(\"There are {} ({:.1%}) eFeatures shared between two brain regions!\".format(df.groupby(\"N_Regions_Shared\").size()[2],\n",
    "                                                                    df.groupby(\"N_Regions_Shared\").size()[2] / df.shape[0]))\n",
    "    print(\"There are %d shared only between caudate and DLPFC!\" % cd)\n",
    "    print(\"There are %d shared only between caudate and hippocampus!\" % ch)\n",
    "    print(\"There are %d shared only between DLPFC and hippocampus!\\n\" % dh)\n",
    "    print(\"There are {} ({:.1%}) eFeatures shared across brain regions!\\n\".format(df.groupby(\"N_Regions_Shared\").size()[3],\n",
    "                                                                    df.groupby(\"N_Regions_Shared\").size()[3] / df.shape[0]))"
   ]
  },
  {
   "cell_type": "markdown",
   "metadata": {},
   "source": [
    "## Summary"
   ]
  },
  {
   "cell_type": "code",
   "execution_count": 4,
   "metadata": {
    "execution": {
     "iopub.execute_input": "2022-03-01T21:37:48.572098Z",
     "iopub.status.busy": "2022-03-01T21:37:48.571280Z",
     "iopub.status.idle": "2022-03-01T21:37:48.932378Z",
     "shell.execute_reply": "2022-03-01T21:37:48.931600Z"
    }
   },
   "outputs": [
    {
     "name": "stdout",
     "output_type": "stream",
     "text": [
      "GENES\n",
      "There are 1998 (12.7%) tissue specific eFeatures!\n",
      "There are 1932 caudate specific eFeatures!\n",
      "There are 66 DLPFC specific eFeatures!\n",
      "There are 0 hippocampus specific eFeatures!\n",
      "\n",
      "There are 1377 (8.8%) eFeatures shared between two brain regions!\n",
      "There are 955 shared only between caudate and DLPFC!\n",
      "There are 422 shared only between caudate and hippocampus!\n",
      "There are 0 shared only between DLPFC and hippocampus!\n",
      "\n",
      "There are 12327 (78.5%) eFeatures shared across brain regions!\n",
      "\n",
      "TRANSCRIPTS\n",
      "There are 6976 (22.1%) tissue specific eFeatures!\n",
      "There are 6951 caudate specific eFeatures!\n",
      "There are 25 DLPFC specific eFeatures!\n",
      "There are 0 hippocampus specific eFeatures!\n",
      "\n",
      "There are 2166 (6.9%) eFeatures shared between two brain regions!\n",
      "There are 1388 shared only between caudate and DLPFC!\n",
      "There are 778 shared only between caudate and hippocampus!\n",
      "There are 0 shared only between DLPFC and hippocampus!\n",
      "\n",
      "There are 22433 (71.0%) eFeatures shared across brain regions!\n",
      "\n",
      "EXONS\n",
      "There are 6559 (13.7%) tissue specific eFeatures!\n",
      "There are 6422 caudate specific eFeatures!\n",
      "There are 137 DLPFC specific eFeatures!\n",
      "There are 0 hippocampus specific eFeatures!\n",
      "\n",
      "There are 4292 (9.0%) eFeatures shared between two brain regions!\n",
      "There are 2830 shared only between caudate and DLPFC!\n",
      "There are 1461 shared only between caudate and hippocampus!\n",
      "There are 1 shared only between DLPFC and hippocampus!\n",
      "\n",
      "There are 36873 (77.3%) eFeatures shared across brain regions!\n",
      "\n",
      "JUNCTIONS\n",
      "There are 10635 (18.1%) tissue specific eFeatures!\n",
      "There are 10369 caudate specific eFeatures!\n",
      "There are 266 DLPFC specific eFeatures!\n",
      "There are 0 hippocampus specific eFeatures!\n",
      "\n",
      "There are 4750 (8.1%) eFeatures shared between two brain regions!\n",
      "There are 3354 shared only between caudate and DLPFC!\n",
      "There are 1396 shared only between caudate and hippocampus!\n",
      "There are 0 shared only between DLPFC and hippocampus!\n",
      "\n",
      "There are 43250 (73.8%) eFeatures shared across brain regions!\n",
      "\n"
     ]
    }
   ],
   "source": [
    "for feature in [\"genes\", \"transcripts\", \"exons\", \"junctions\"]:\n",
    "    get_summary(feature)"
   ]
  },
  {
   "cell_type": "code",
   "execution_count": 5,
   "metadata": {
    "execution": {
     "iopub.execute_input": "2022-03-01T21:37:48.939288Z",
     "iopub.status.busy": "2022-03-01T21:37:48.938588Z",
     "iopub.status.idle": "2022-03-01T21:41:31.537165Z",
     "shell.execute_reply": "2022-03-01T21:41:31.535423Z"
    }
   },
   "outputs": [
    {
     "name": "stdout",
     "output_type": "stream",
     "text": [
      "GENES\n",
      "There are 120246 Caudate specific SNP-feature!\n",
      "There are 425784 DLPFC specific SNP-feature!\n",
      "There are 9383 Hippocampus specific SNP-feature!\n",
      "There are 2999095 (77.6%) SNP-feature shared across brain regions!\n",
      "\n",
      "GENES\n",
      "There are 8296 Caudate specific eFeatures!\n",
      "There are 18014 DLPFC specific eFeatures!\n",
      "There are 1481 Hippocampus specific eFeatures!\n",
      "There are 17506 (87.1%) eFeatures shared across brain regions!\n",
      "\n"
     ]
    }
   ],
   "source": [
    "feature = \"genes\"\n",
    "feature_summary(feature)\n",
    "efeature_summary(feature)"
   ]
  },
  {
   "cell_type": "code",
   "execution_count": null,
   "metadata": {},
   "outputs": [],
   "source": []
  }
 ],
 "metadata": {
  "kernelspec": {
   "display_name": "Python 3 (ipykernel)",
   "language": "python",
   "name": "python3"
  },
  "language_info": {
   "codemirror_mode": {
    "name": "ipython",
    "version": 3
   },
   "file_extension": ".py",
   "mimetype": "text/x-python",
   "name": "python",
   "nbconvert_exporter": "python",
   "pygments_lexer": "ipython3",
   "version": "3.9.7"
  }
 },
 "nbformat": 4,
 "nbformat_minor": 4
}
