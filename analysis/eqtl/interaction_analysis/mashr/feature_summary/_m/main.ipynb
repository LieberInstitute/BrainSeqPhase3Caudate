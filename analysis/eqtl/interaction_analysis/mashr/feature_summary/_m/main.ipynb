{
 "cells": [
  {
   "cell_type": "markdown",
   "metadata": {},
   "source": [
    "# Summary of features for interaction analysis"
   ]
  },
  {
   "cell_type": "code",
   "execution_count": 1,
   "metadata": {
    "execution": {
     "iopub.execute_input": "2021-08-31T14:02:54.981466Z",
     "iopub.status.busy": "2021-08-31T14:02:54.979853Z",
     "iopub.status.idle": "2021-08-31T14:02:55.319856Z",
     "shell.execute_reply": "2021-08-31T14:02:55.318603Z"
    }
   },
   "outputs": [],
   "source": [
    "import pandas as pd"
   ]
  },
  {
   "cell_type": "markdown",
   "metadata": {},
   "source": [
    "## Function"
   ]
  },
  {
   "cell_type": "code",
   "execution_count": 2,
   "metadata": {
    "execution": {
     "iopub.execute_input": "2021-08-31T14:02:55.330622Z",
     "iopub.status.busy": "2021-08-31T14:02:55.329132Z",
     "iopub.status.idle": "2021-08-31T14:02:55.334481Z",
     "shell.execute_reply": "2021-08-31T14:02:55.333384Z"
    }
   },
   "outputs": [],
   "source": [
    "def get_summary(feature):\n",
    "    fn = \"../../_m/%s/significant_geneSNP_pairs_3tissues.tsv\" % feature\n",
    "    df = pd.read_csv(fn, sep='\\t')\n",
    "    cd = df[(df[\"N_Regions_Shared\"] == 2) & (df[\"Hippocampus\"] == 0)].shape[0]\n",
    "    ch = df[(df[\"N_Regions_Shared\"] == 2) & (df[\"DLPFC\"] == 0)].shape[0]\n",
    "    dh = df[(df[\"N_Regions_Shared\"] == 2) & (df[\"Caudate\"] == 0)].shape[0]\n",
    "    cc = df[(df[\"N_Regions_Shared\"] == 1) & (df[\"Caudate\"] == 1)].shape[0]\n",
    "    dd = df[(df[\"N_Regions_Shared\"] == 1) & (df[\"DLPFC\"] == 1)].shape[0]\n",
    "    hh = df[(df[\"N_Regions_Shared\"] == 1) & (df[\"Hippocampus\"] == 1)].shape[0]\n",
    "    print(feature.upper())\n",
    "    #print(df.groupby(\"N_Regions_Shared\").size())\n",
    "    print(\"There are {} ({:.1%}) tissue specific eFeatures!\".format(df.groupby(\"N_Regions_Shared\").size()[1],\n",
    "                                                                    df.groupby(\"N_Regions_Shared\").size()[1] / df.shape[0]))\n",
    "    print(\"There are %d caudate specific eFeatures!\" % cc)\n",
    "    print(\"There are %d DLPFC specific eFeatures!\" % dd)\n",
    "    print(\"There are %d hippocampus specific eFeatures!\\n\" % hh)\n",
    "    print(\"There are {} ({:.1%}) eFeatures shared between two brain regions!\".format(df.groupby(\"N_Regions_Shared\").size()[2],\n",
    "                                                                    df.groupby(\"N_Regions_Shared\").size()[2] / df.shape[0]))\n",
    "    print(\"There are %d shared only between caudate and DLPFC!\" % cd)\n",
    "    print(\"There are %d shared only between caudate and hippocampus!\" % ch)\n",
    "    print(\"There are %d shared only between DLPFC and hippocampus!\\n\" % dh)\n",
    "    print(\"There are {} ({:.1%}) eFeatures shared across brain regions!\\n\".format(df.groupby(\"N_Regions_Shared\").size()[3],\n",
    "                                                                    df.groupby(\"N_Regions_Shared\").size()[3] / df.shape[0]))"
   ]
  },
  {
   "cell_type": "markdown",
   "metadata": {},
   "source": [
    "## Summary"
   ]
  },
  {
   "cell_type": "code",
   "execution_count": 3,
   "metadata": {
    "execution": {
     "iopub.execute_input": "2021-08-31T14:02:55.340462Z",
     "iopub.status.busy": "2021-08-31T14:02:55.339494Z",
     "iopub.status.idle": "2021-08-31T14:02:55.744935Z",
     "shell.execute_reply": "2021-08-31T14:02:55.743839Z"
    }
   },
   "outputs": [
    {
     "name": "stdout",
     "output_type": "stream",
     "text": [
      "GENES\n",
      "There are 1998 (12.7%) tissue specific eFeatures!\n",
      "There are 1932 caudate specific eFeatures!\n",
      "There are 66 DLPFC specific eFeatures!\n",
      "There are 0 hippocampus specific eFeatures!\n",
      "\n",
      "There are 1377 (8.8%) eFeatures shared between two brain regions!\n",
      "There are 955 shared only between caudate and DLPFC!\n",
      "There are 422 shared only between caudate and hippocampus!\n",
      "There are 0 shared only between DLPFC and hippocampus!\n",
      "\n",
      "There are 12327 (78.5%) eFeatures shared across brain regions!\n",
      "\n",
      "TRANSCRIPTS\n",
      "There are 6976 (22.1%) tissue specific eFeatures!\n",
      "There are 6951 caudate specific eFeatures!\n",
      "There are 25 DLPFC specific eFeatures!\n",
      "There are 0 hippocampus specific eFeatures!\n",
      "\n",
      "There are 2166 (6.9%) eFeatures shared between two brain regions!\n",
      "There are 1388 shared only between caudate and DLPFC!\n",
      "There are 778 shared only between caudate and hippocampus!\n",
      "There are 0 shared only between DLPFC and hippocampus!\n",
      "\n",
      "There are 22433 (71.0%) eFeatures shared across brain regions!\n",
      "\n",
      "EXONS\n",
      "There are 6559 (13.7%) tissue specific eFeatures!\n",
      "There are 6422 caudate specific eFeatures!\n",
      "There are 137 DLPFC specific eFeatures!\n",
      "There are 0 hippocampus specific eFeatures!\n",
      "\n",
      "There are 4292 (9.0%) eFeatures shared between two brain regions!\n",
      "There are 2830 shared only between caudate and DLPFC!\n",
      "There are 1461 shared only between caudate and hippocampus!\n",
      "There are 1 shared only between DLPFC and hippocampus!\n",
      "\n",
      "There are 36873 (77.3%) eFeatures shared across brain regions!\n",
      "\n",
      "JUNCTIONS\n",
      "There are 10635 (18.1%) tissue specific eFeatures!\n",
      "There are 10369 caudate specific eFeatures!\n",
      "There are 266 DLPFC specific eFeatures!\n",
      "There are 0 hippocampus specific eFeatures!\n",
      "\n",
      "There are 4750 (8.1%) eFeatures shared between two brain regions!\n",
      "There are 3354 shared only between caudate and DLPFC!\n",
      "There are 1396 shared only between caudate and hippocampus!\n",
      "There are 0 shared only between DLPFC and hippocampus!\n",
      "\n",
      "There are 43250 (73.8%) eFeatures shared across brain regions!\n",
      "\n"
     ]
    }
   ],
   "source": [
    "for feature in [\"genes\", \"transcripts\", \"exons\", \"junctions\"]:\n",
    "    get_summary(feature)"
   ]
  },
  {
   "cell_type": "code",
   "execution_count": null,
   "metadata": {},
   "outputs": [],
   "source": []
  }
 ],
 "metadata": {
  "kernelspec": {
   "display_name": "Python 3",
   "language": "python",
   "name": "python3"
  },
  "language_info": {
   "codemirror_mode": {
    "name": "ipython",
    "version": 3
   },
   "file_extension": ".py",
   "mimetype": "text/x-python",
   "name": "python",
   "nbconvert_exporter": "python",
   "pygments_lexer": "ipython3",
   "version": "3.9.1"
  }
 },
 "nbformat": 4,
 "nbformat_minor": 4
}
