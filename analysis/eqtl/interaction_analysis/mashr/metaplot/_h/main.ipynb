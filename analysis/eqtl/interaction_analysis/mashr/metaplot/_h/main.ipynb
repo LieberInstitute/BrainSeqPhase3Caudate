{
 "cells": [
  {
   "cell_type": "markdown",
   "metadata": {},
   "source": [
    "# Examine discordant plots with mashr"
   ]
  },
  {
   "cell_type": "code",
   "execution_count": 1,
   "metadata": {},
   "outputs": [
    {
     "name": "stderr",
     "output_type": "stream",
     "text": [
      "\n",
      "Attaching package: 'dplyr'\n",
      "\n",
      "\n",
      "The following objects are masked from 'package:stats':\n",
      "\n",
      "    filter, lag\n",
      "\n",
      "\n",
      "The following objects are masked from 'package:base':\n",
      "\n",
      "    intersect, setdiff, setequal, union\n",
      "\n",
      "\n",
      "Loading required package: ashr\n",
      "\n"
     ]
    }
   ],
   "source": [
    "library(dplyr)\n",
    "library(mashr)"
   ]
  },
  {
   "cell_type": "code",
   "execution_count": 2,
   "metadata": {},
   "outputs": [],
   "source": [
    "load(\"../../_m/genes/mashr_meta_results.RData\")\n",
    "labs = c(\"Caudate\", \"DLPFC\", \"Hippocampus\")"
   ]
  },
  {
   "cell_type": "markdown",
   "metadata": {},
   "source": [
    "## Load SZ associated eGenes"
   ]
  },
  {
   "cell_type": "code",
   "execution_count": 3,
   "metadata": {},
   "outputs": [
    {
     "data": {
      "text/html": [
       "<table class=\"dataframe\">\n",
       "<caption>A data.table: 11 × 5</caption>\n",
       "<thead>\n",
       "\t<tr><th scope=col>variant_id</th><th scope=col>gene_id</th><th scope=col>P</th><th scope=col>Type</th><th scope=col>effect</th></tr>\n",
       "\t<tr><th scope=col>&lt;chr&gt;</th><th scope=col>&lt;chr&gt;</th><th scope=col>&lt;dbl&gt;</th><th scope=col>&lt;chr&gt;</th><th scope=col>&lt;chr&gt;</th></tr>\n",
       "</thead>\n",
       "<tbody>\n",
       "\t<tr><td>chr6:31910718:A:G  </td><td>ENSG00000204371.11</td><td>5.34e-15</td><td>Gene</td><td>ENSG00000204371.11_chr6:31910718:A:G  </td></tr>\n",
       "\t<tr><td>chr6:26090224:T:C  </td><td>ENSG00000124610.4 </td><td>1.50e-13</td><td>Gene</td><td>ENSG00000124610.4_chr6:26090224:T:C   </td></tr>\n",
       "\t<tr><td>chr14:103800327:C:T</td><td>ENSG00000088808.16</td><td>1.24e-12</td><td>Gene</td><td>ENSG00000088808.16_chr14:103800327:C:T</td></tr>\n",
       "\t<tr><td>chr16:29971163:G:A </td><td>ENSG00000149930.17</td><td>2.23e-12</td><td>Gene</td><td>ENSG00000149930.17_chr16:29971163:G:A </td></tr>\n",
       "\t<tr><td>chr16:29961369:C:T </td><td>ENSG00000174938.14</td><td>3.06e-12</td><td>Gene</td><td>ENSG00000174938.14_chr16:29961369:C:T </td></tr>\n",
       "\t<tr><td>chr2:200299060:A:G </td><td>ENSG00000196141.13</td><td>8.28e-11</td><td>Gene</td><td>ENSG00000196141.13_chr2:200299060:A:G </td></tr>\n",
       "\t<tr><td>chr3:181110020:A:G </td><td>ENSG00000205981.6 </td><td>4.30e-10</td><td>Gene</td><td>ENSG00000205981.6_chr3:181110020:A:G  </td></tr>\n",
       "\t<tr><td>chr22:42070946:C:T </td><td>ENSG00000213790.2 </td><td>2.62e-09</td><td>Gene</td><td>ENSG00000213790.2_chr22:42070946:C:T  </td></tr>\n",
       "\t<tr><td>chr5:152894716:G:A </td><td>ENSG00000249484.8 </td><td>5.71e-09</td><td>Gene</td><td>ENSG00000249484.8_chr5:152894716:G:A  </td></tr>\n",
       "\t<tr><td>chr12:122966218:G:C</td><td>ENSG00000150967.17</td><td>6.59e-09</td><td>Gene</td><td>ENSG00000150967.17_chr12:122966218:G:C</td></tr>\n",
       "\t<tr><td>chr6:31701719:C:T  </td><td>ENSG00000204386.10</td><td>1.85e-08</td><td>Gene</td><td>ENSG00000204386.10_chr6:31701719:C:T  </td></tr>\n",
       "</tbody>\n",
       "</table>\n"
      ],
      "text/latex": [
       "A data.table: 11 × 5\n",
       "\\begin{tabular}{lllll}\n",
       " variant\\_id & gene\\_id & P & Type & effect\\\\\n",
       " <chr> & <chr> & <dbl> & <chr> & <chr>\\\\\n",
       "\\hline\n",
       "\t chr6:31910718:A:G   & ENSG00000204371.11 & 5.34e-15 & Gene & ENSG00000204371.11\\_chr6:31910718:A:G  \\\\\n",
       "\t chr6:26090224:T:C   & ENSG00000124610.4  & 1.50e-13 & Gene & ENSG00000124610.4\\_chr6:26090224:T:C   \\\\\n",
       "\t chr14:103800327:C:T & ENSG00000088808.16 & 1.24e-12 & Gene & ENSG00000088808.16\\_chr14:103800327:C:T\\\\\n",
       "\t chr16:29971163:G:A  & ENSG00000149930.17 & 2.23e-12 & Gene & ENSG00000149930.17\\_chr16:29971163:G:A \\\\\n",
       "\t chr16:29961369:C:T  & ENSG00000174938.14 & 3.06e-12 & Gene & ENSG00000174938.14\\_chr16:29961369:C:T \\\\\n",
       "\t chr2:200299060:A:G  & ENSG00000196141.13 & 8.28e-11 & Gene & ENSG00000196141.13\\_chr2:200299060:A:G \\\\\n",
       "\t chr3:181110020:A:G  & ENSG00000205981.6  & 4.30e-10 & Gene & ENSG00000205981.6\\_chr3:181110020:A:G  \\\\\n",
       "\t chr22:42070946:C:T  & ENSG00000213790.2  & 2.62e-09 & Gene & ENSG00000213790.2\\_chr22:42070946:C:T  \\\\\n",
       "\t chr5:152894716:G:A  & ENSG00000249484.8  & 5.71e-09 & Gene & ENSG00000249484.8\\_chr5:152894716:G:A  \\\\\n",
       "\t chr12:122966218:G:C & ENSG00000150967.17 & 6.59e-09 & Gene & ENSG00000150967.17\\_chr12:122966218:G:C\\\\\n",
       "\t chr6:31701719:C:T   & ENSG00000204386.10 & 1.85e-08 & Gene & ENSG00000204386.10\\_chr6:31701719:C:T  \\\\\n",
       "\\end{tabular}\n"
      ],
      "text/markdown": [
       "\n",
       "A data.table: 11 × 5\n",
       "\n",
       "| variant_id &lt;chr&gt; | gene_id &lt;chr&gt; | P &lt;dbl&gt; | Type &lt;chr&gt; | effect &lt;chr&gt; |\n",
       "|---|---|---|---|---|\n",
       "| chr6:31910718:A:G   | ENSG00000204371.11 | 5.34e-15 | Gene | ENSG00000204371.11_chr6:31910718:A:G   |\n",
       "| chr6:26090224:T:C   | ENSG00000124610.4  | 1.50e-13 | Gene | ENSG00000124610.4_chr6:26090224:T:C    |\n",
       "| chr14:103800327:C:T | ENSG00000088808.16 | 1.24e-12 | Gene | ENSG00000088808.16_chr14:103800327:C:T |\n",
       "| chr16:29971163:G:A  | ENSG00000149930.17 | 2.23e-12 | Gene | ENSG00000149930.17_chr16:29971163:G:A  |\n",
       "| chr16:29961369:C:T  | ENSG00000174938.14 | 3.06e-12 | Gene | ENSG00000174938.14_chr16:29961369:C:T  |\n",
       "| chr2:200299060:A:G  | ENSG00000196141.13 | 8.28e-11 | Gene | ENSG00000196141.13_chr2:200299060:A:G  |\n",
       "| chr3:181110020:A:G  | ENSG00000205981.6  | 4.30e-10 | Gene | ENSG00000205981.6_chr3:181110020:A:G   |\n",
       "| chr22:42070946:C:T  | ENSG00000213790.2  | 2.62e-09 | Gene | ENSG00000213790.2_chr22:42070946:C:T   |\n",
       "| chr5:152894716:G:A  | ENSG00000249484.8  | 5.71e-09 | Gene | ENSG00000249484.8_chr5:152894716:G:A   |\n",
       "| chr12:122966218:G:C | ENSG00000150967.17 | 6.59e-09 | Gene | ENSG00000150967.17_chr12:122966218:G:C |\n",
       "| chr6:31701719:C:T   | ENSG00000204386.10 | 1.85e-08 | Gene | ENSG00000204386.10_chr6:31701719:C:T   |\n",
       "\n"
      ],
      "text/plain": [
       "   variant_id          gene_id            P        Type\n",
       "1  chr6:31910718:A:G   ENSG00000204371.11 5.34e-15 Gene\n",
       "2  chr6:26090224:T:C   ENSG00000124610.4  1.50e-13 Gene\n",
       "3  chr14:103800327:C:T ENSG00000088808.16 1.24e-12 Gene\n",
       "4  chr16:29971163:G:A  ENSG00000149930.17 2.23e-12 Gene\n",
       "5  chr16:29961369:C:T  ENSG00000174938.14 3.06e-12 Gene\n",
       "6  chr2:200299060:A:G  ENSG00000196141.13 8.28e-11 Gene\n",
       "7  chr3:181110020:A:G  ENSG00000205981.6  4.30e-10 Gene\n",
       "8  chr22:42070946:C:T  ENSG00000213790.2  2.62e-09 Gene\n",
       "9  chr5:152894716:G:A  ENSG00000249484.8  5.71e-09 Gene\n",
       "10 chr12:122966218:G:C ENSG00000150967.17 6.59e-09 Gene\n",
       "11 chr6:31701719:C:T   ENSG00000204386.10 1.85e-08 Gene\n",
       "   effect                                \n",
       "1  ENSG00000204371.11_chr6:31910718:A:G  \n",
       "2  ENSG00000124610.4_chr6:26090224:T:C   \n",
       "3  ENSG00000088808.16_chr14:103800327:C:T\n",
       "4  ENSG00000149930.17_chr16:29971163:G:A \n",
       "5  ENSG00000174938.14_chr16:29961369:C:T \n",
       "6  ENSG00000196141.13_chr2:200299060:A:G \n",
       "7  ENSG00000205981.6_chr3:181110020:A:G  \n",
       "8  ENSG00000213790.2_chr22:42070946:C:T  \n",
       "9  ENSG00000249484.8_chr5:152894716:G:A  \n",
       "10 ENSG00000150967.17_chr12:122966218:G:C\n",
       "11 ENSG00000204386.10_chr6:31701719:C:T  "
      ]
     },
     "metadata": {},
     "output_type": "display_data"
    }
   ],
   "source": [
    "df <- data.table::fread(\"../../summary_table/_m/Brainseq_LIBD_caudate_specific_4features_PGC2.eGenes.txt.gz\") %>% \n",
    "    select(variant_id, gene_id, P, Type) %>% filter(Type==\"Gene\") %>%\n",
    "    arrange(P) %>% mutate(effect=paste(gene_id, variant_id, sep=\"_\"))\n",
    "df"
   ]
  },
  {
   "cell_type": "code",
   "execution_count": 12,
   "metadata": {},
   "outputs": [
    {
     "data": {
      "text/html": [
       "<table class=\"dataframe\">\n",
       "<caption>A data.frame: 7 × 4</caption>\n",
       "<thead>\n",
       "\t<tr><th scope=col>effect</th><th scope=col>Caudate</th><th scope=col>DLPFC</th><th scope=col>Hippocampus</th></tr>\n",
       "\t<tr><th scope=col>&lt;chr&gt;</th><th scope=col>&lt;dbl&gt;</th><th scope=col>&lt;dbl&gt;</th><th scope=col>&lt;dbl&gt;</th></tr>\n",
       "</thead>\n",
       "<tbody>\n",
       "\t<tr><td>ENSG00000056291.17_chr4:72066898:C:T </td><td>1.2716718</td><td>-0.07991332</td><td>-0.07564219</td></tr>\n",
       "\t<tr><td>ENSG00000080644.15_chr15:78626420:G:C</td><td>1.1673661</td><td>-0.11344459</td><td>-0.06554173</td></tr>\n",
       "\t<tr><td>ENSG00000128422.15_chr17:41619084:G:A</td><td>0.6616840</td><td>-0.02183207</td><td>-0.01542561</td></tr>\n",
       "\t<tr><td>ENSG00000132383.11_chr17:1831486:A:G </td><td>0.5134605</td><td>-0.03641120</td><td>-0.10603287</td></tr>\n",
       "\t<tr><td>ENSG00000164597.13_chr7:107510756:C:A</td><td>1.0941404</td><td>-0.03928698</td><td>-0.03683329</td></tr>\n",
       "\t<tr><td>ENSG00000186532.11_chr17:1817194:C:T </td><td>0.5933030</td><td>-0.07485437</td><td>-0.01638168</td></tr>\n",
       "\t<tr><td>ENSG00000249493.1_chr21:13940467:C:T </td><td>0.5193830</td><td>-0.01011936</td><td>-0.10199320</td></tr>\n",
       "</tbody>\n",
       "</table>\n"
      ],
      "text/latex": [
       "A data.frame: 7 × 4\n",
       "\\begin{tabular}{llll}\n",
       " effect & Caudate & DLPFC & Hippocampus\\\\\n",
       " <chr> & <dbl> & <dbl> & <dbl>\\\\\n",
       "\\hline\n",
       "\t ENSG00000056291.17\\_chr4:72066898:C:T  & 1.2716718 & -0.07991332 & -0.07564219\\\\\n",
       "\t ENSG00000080644.15\\_chr15:78626420:G:C & 1.1673661 & -0.11344459 & -0.06554173\\\\\n",
       "\t ENSG00000128422.15\\_chr17:41619084:G:A & 0.6616840 & -0.02183207 & -0.01542561\\\\\n",
       "\t ENSG00000132383.11\\_chr17:1831486:A:G  & 0.5134605 & -0.03641120 & -0.10603287\\\\\n",
       "\t ENSG00000164597.13\\_chr7:107510756:C:A & 1.0941404 & -0.03928698 & -0.03683329\\\\\n",
       "\t ENSG00000186532.11\\_chr17:1817194:C:T  & 0.5933030 & -0.07485437 & -0.01638168\\\\\n",
       "\t ENSG00000249493.1\\_chr21:13940467:C:T  & 0.5193830 & -0.01011936 & -0.10199320\\\\\n",
       "\\end{tabular}\n"
      ],
      "text/markdown": [
       "\n",
       "A data.frame: 7 × 4\n",
       "\n",
       "| effect &lt;chr&gt; | Caudate &lt;dbl&gt; | DLPFC &lt;dbl&gt; | Hippocampus &lt;dbl&gt; |\n",
       "|---|---|---|---|\n",
       "| ENSG00000056291.17_chr4:72066898:C:T  | 1.2716718 | -0.07991332 | -0.07564219 |\n",
       "| ENSG00000080644.15_chr15:78626420:G:C | 1.1673661 | -0.11344459 | -0.06554173 |\n",
       "| ENSG00000128422.15_chr17:41619084:G:A | 0.6616840 | -0.02183207 | -0.01542561 |\n",
       "| ENSG00000132383.11_chr17:1831486:A:G  | 0.5134605 | -0.03641120 | -0.10603287 |\n",
       "| ENSG00000164597.13_chr7:107510756:C:A | 1.0941404 | -0.03928698 | -0.03683329 |\n",
       "| ENSG00000186532.11_chr17:1817194:C:T  | 0.5933030 | -0.07485437 | -0.01638168 |\n",
       "| ENSG00000249493.1_chr21:13940467:C:T  | 0.5193830 | -0.01011936 | -0.10199320 |\n",
       "\n"
      ],
      "text/plain": [
       "  effect                                Caudate   DLPFC       Hippocampus\n",
       "1 ENSG00000056291.17_chr4:72066898:C:T  1.2716718 -0.07991332 -0.07564219\n",
       "2 ENSG00000080644.15_chr15:78626420:G:C 1.1673661 -0.11344459 -0.06554173\n",
       "3 ENSG00000128422.15_chr17:41619084:G:A 0.6616840 -0.02183207 -0.01542561\n",
       "4 ENSG00000132383.11_chr17:1831486:A:G  0.5134605 -0.03641120 -0.10603287\n",
       "5 ENSG00000164597.13_chr7:107510756:C:A 1.0941404 -0.03928698 -0.03683329\n",
       "6 ENSG00000186532.11_chr17:1817194:C:T  0.5933030 -0.07485437 -0.01638168\n",
       "7 ENSG00000249493.1_chr21:13940467:C:T  0.5193830 -0.01011936 -0.10199320"
      ]
     },
     "metadata": {},
     "output_type": "display_data"
    }
   ],
   "source": [
    "m2$result$PosteriorMean %>% as.data.frame %>%\n",
    "    tibble::rownames_to_column(\"effect\") %>% \n",
    "    filter(Caudate > 0.5, DLPFC < 0, Hippocampus < 0)"
   ]
  },
  {
   "cell_type": "code",
   "execution_count": 13,
   "metadata": {},
   "outputs": [
    {
     "data": {
      "text/html": [
       "<table class=\"dataframe\">\n",
       "<caption>A data.frame: 6 × 4</caption>\n",
       "<thead>\n",
       "\t<tr><th scope=col>effect</th><th scope=col>Caudate</th><th scope=col>DLPFC</th><th scope=col>Hippocampus</th></tr>\n",
       "\t<tr><th scope=col>&lt;chr&gt;</th><th scope=col>&lt;dbl&gt;</th><th scope=col>&lt;dbl&gt;</th><th scope=col>&lt;dbl&gt;</th></tr>\n",
       "</thead>\n",
       "<tbody>\n",
       "\t<tr><td>ENSG00000142606.15_chr1:2593504:G:A   </td><td>-0.6774284</td><td>0.049117213</td><td>0.17089507</td></tr>\n",
       "\t<tr><td>ENSG00000148803.11_chr10:133361226:C:T</td><td>-0.7179770</td><td>0.749016996</td><td>0.21825397</td></tr>\n",
       "\t<tr><td>ENSG00000156140.9_chr4:72552552:T:G   </td><td>-0.6907240</td><td>0.066943766</td><td>0.08614459</td></tr>\n",
       "\t<tr><td>ENSG00000169213.6_chr1:51937184:T:G   </td><td>-0.7827454</td><td>0.003471634</td><td>0.15458624</td></tr>\n",
       "\t<tr><td>ENSG00000188730.4_chr7:49581005:C:T   </td><td>-0.6447866</td><td>0.008016093</td><td>0.11631931</td></tr>\n",
       "\t<tr><td>ENSG00000234405.1_chrX:103460933:C:T  </td><td>-0.6145074</td><td>0.100585794</td><td>0.03955659</td></tr>\n",
       "</tbody>\n",
       "</table>\n"
      ],
      "text/latex": [
       "A data.frame: 6 × 4\n",
       "\\begin{tabular}{llll}\n",
       " effect & Caudate & DLPFC & Hippocampus\\\\\n",
       " <chr> & <dbl> & <dbl> & <dbl>\\\\\n",
       "\\hline\n",
       "\t ENSG00000142606.15\\_chr1:2593504:G:A    & -0.6774284 & 0.049117213 & 0.17089507\\\\\n",
       "\t ENSG00000148803.11\\_chr10:133361226:C:T & -0.7179770 & 0.749016996 & 0.21825397\\\\\n",
       "\t ENSG00000156140.9\\_chr4:72552552:T:G    & -0.6907240 & 0.066943766 & 0.08614459\\\\\n",
       "\t ENSG00000169213.6\\_chr1:51937184:T:G    & -0.7827454 & 0.003471634 & 0.15458624\\\\\n",
       "\t ENSG00000188730.4\\_chr7:49581005:C:T    & -0.6447866 & 0.008016093 & 0.11631931\\\\\n",
       "\t ENSG00000234405.1\\_chrX:103460933:C:T   & -0.6145074 & 0.100585794 & 0.03955659\\\\\n",
       "\\end{tabular}\n"
      ],
      "text/markdown": [
       "\n",
       "A data.frame: 6 × 4\n",
       "\n",
       "| effect &lt;chr&gt; | Caudate &lt;dbl&gt; | DLPFC &lt;dbl&gt; | Hippocampus &lt;dbl&gt; |\n",
       "|---|---|---|---|\n",
       "| ENSG00000142606.15_chr1:2593504:G:A    | -0.6774284 | 0.049117213 | 0.17089507 |\n",
       "| ENSG00000148803.11_chr10:133361226:C:T | -0.7179770 | 0.749016996 | 0.21825397 |\n",
       "| ENSG00000156140.9_chr4:72552552:T:G    | -0.6907240 | 0.066943766 | 0.08614459 |\n",
       "| ENSG00000169213.6_chr1:51937184:T:G    | -0.7827454 | 0.003471634 | 0.15458624 |\n",
       "| ENSG00000188730.4_chr7:49581005:C:T    | -0.6447866 | 0.008016093 | 0.11631931 |\n",
       "| ENSG00000234405.1_chrX:103460933:C:T   | -0.6145074 | 0.100585794 | 0.03955659 |\n",
       "\n"
      ],
      "text/plain": [
       "  effect                                 Caudate    DLPFC       Hippocampus\n",
       "1 ENSG00000142606.15_chr1:2593504:G:A    -0.6774284 0.049117213 0.17089507 \n",
       "2 ENSG00000148803.11_chr10:133361226:C:T -0.7179770 0.749016996 0.21825397 \n",
       "3 ENSG00000156140.9_chr4:72552552:T:G    -0.6907240 0.066943766 0.08614459 \n",
       "4 ENSG00000169213.6_chr1:51937184:T:G    -0.7827454 0.003471634 0.15458624 \n",
       "5 ENSG00000188730.4_chr7:49581005:C:T    -0.6447866 0.008016093 0.11631931 \n",
       "6 ENSG00000234405.1_chrX:103460933:C:T   -0.6145074 0.100585794 0.03955659 "
      ]
     },
     "metadata": {},
     "output_type": "display_data"
    }
   ],
   "source": [
    "m2$result$PosteriorMean %>% as.data.frame %>%\n",
    "    tibble::rownames_to_column(\"effect\") %>% \n",
    "    filter(Caudate < -0.5, DLPFC > 0, Hippocampus > 0)"
   ]
  },
  {
   "cell_type": "code",
   "execution_count": 4,
   "metadata": {},
   "outputs": [
    {
     "data": {
      "text/html": [
       "<table class=\"dataframe\">\n",
       "<caption>A data.frame: 11 × 4</caption>\n",
       "<thead>\n",
       "\t<tr><th scope=col>effect</th><th scope=col>Caudate</th><th scope=col>DLPFC</th><th scope=col>Hippocampus</th></tr>\n",
       "\t<tr><th scope=col>&lt;chr&gt;</th><th scope=col>&lt;dbl&gt;</th><th scope=col>&lt;dbl&gt;</th><th scope=col>&lt;dbl&gt;</th></tr>\n",
       "</thead>\n",
       "<tbody>\n",
       "\t<tr><td>ENSG00000196141.13_chr2:200299060:A:G </td><td>-0.18460545</td><td>-0.0243577334</td><td>-0.042776874</td></tr>\n",
       "\t<tr><td>ENSG00000150967.17_chr12:122966218:G:C</td><td>-0.10385129</td><td> 0.0027315007</td><td> 0.014531011</td></tr>\n",
       "\t<tr><td>ENSG00000205981.6_chr3:181110020:A:G  </td><td>-0.06915457</td><td>-0.0402940544</td><td>-0.031043260</td></tr>\n",
       "\t<tr><td>ENSG00000174938.14_chr16:29961369:C:T </td><td> 0.11417056</td><td> 0.0446638014</td><td> 0.004810389</td></tr>\n",
       "\t<tr><td>ENSG00000213790.2_chr22:42070946:C:T  </td><td> 0.13182114</td><td>-0.0455366398</td><td> 0.026797887</td></tr>\n",
       "\t<tr><td>ENSG00000204386.10_chr6:31701719:C:T  </td><td> 0.16037133</td><td>-0.0034306019</td><td>-0.024876851</td></tr>\n",
       "\t<tr><td>ENSG00000149930.17_chr16:29971163:G:A </td><td> 0.16881147</td><td>-0.0012440206</td><td>-0.027868874</td></tr>\n",
       "\t<tr><td>ENSG00000124610.4_chr6:26090224:T:C   </td><td> 0.18508321</td><td> 0.0257459230</td><td> 0.048399175</td></tr>\n",
       "\t<tr><td>ENSG00000088808.16_chr14:103800327:C:T</td><td> 0.33169961</td><td> 0.0119323438</td><td>-0.024170940</td></tr>\n",
       "\t<tr><td>ENSG00000249484.8_chr5:152894716:G:A  </td><td> 0.39759128</td><td> 0.0006505036</td><td> 0.068421660</td></tr>\n",
       "\t<tr><td>ENSG00000204371.11_chr6:31910718:A:G  </td><td> 0.42998004</td><td>-0.0232548631</td><td>-0.008380841</td></tr>\n",
       "</tbody>\n",
       "</table>\n"
      ],
      "text/latex": [
       "A data.frame: 11 × 4\n",
       "\\begin{tabular}{llll}\n",
       " effect & Caudate & DLPFC & Hippocampus\\\\\n",
       " <chr> & <dbl> & <dbl> & <dbl>\\\\\n",
       "\\hline\n",
       "\t ENSG00000196141.13\\_chr2:200299060:A:G  & -0.18460545 & -0.0243577334 & -0.042776874\\\\\n",
       "\t ENSG00000150967.17\\_chr12:122966218:G:C & -0.10385129 &  0.0027315007 &  0.014531011\\\\\n",
       "\t ENSG00000205981.6\\_chr3:181110020:A:G   & -0.06915457 & -0.0402940544 & -0.031043260\\\\\n",
       "\t ENSG00000174938.14\\_chr16:29961369:C:T  &  0.11417056 &  0.0446638014 &  0.004810389\\\\\n",
       "\t ENSG00000213790.2\\_chr22:42070946:C:T   &  0.13182114 & -0.0455366398 &  0.026797887\\\\\n",
       "\t ENSG00000204386.10\\_chr6:31701719:C:T   &  0.16037133 & -0.0034306019 & -0.024876851\\\\\n",
       "\t ENSG00000149930.17\\_chr16:29971163:G:A  &  0.16881147 & -0.0012440206 & -0.027868874\\\\\n",
       "\t ENSG00000124610.4\\_chr6:26090224:T:C    &  0.18508321 &  0.0257459230 &  0.048399175\\\\\n",
       "\t ENSG00000088808.16\\_chr14:103800327:C:T &  0.33169961 &  0.0119323438 & -0.024170940\\\\\n",
       "\t ENSG00000249484.8\\_chr5:152894716:G:A   &  0.39759128 &  0.0006505036 &  0.068421660\\\\\n",
       "\t ENSG00000204371.11\\_chr6:31910718:A:G   &  0.42998004 & -0.0232548631 & -0.008380841\\\\\n",
       "\\end{tabular}\n"
      ],
      "text/markdown": [
       "\n",
       "A data.frame: 11 × 4\n",
       "\n",
       "| effect &lt;chr&gt; | Caudate &lt;dbl&gt; | DLPFC &lt;dbl&gt; | Hippocampus &lt;dbl&gt; |\n",
       "|---|---|---|---|\n",
       "| ENSG00000196141.13_chr2:200299060:A:G  | -0.18460545 | -0.0243577334 | -0.042776874 |\n",
       "| ENSG00000150967.17_chr12:122966218:G:C | -0.10385129 |  0.0027315007 |  0.014531011 |\n",
       "| ENSG00000205981.6_chr3:181110020:A:G   | -0.06915457 | -0.0402940544 | -0.031043260 |\n",
       "| ENSG00000174938.14_chr16:29961369:C:T  |  0.11417056 |  0.0446638014 |  0.004810389 |\n",
       "| ENSG00000213790.2_chr22:42070946:C:T   |  0.13182114 | -0.0455366398 |  0.026797887 |\n",
       "| ENSG00000204386.10_chr6:31701719:C:T   |  0.16037133 | -0.0034306019 | -0.024876851 |\n",
       "| ENSG00000149930.17_chr16:29971163:G:A  |  0.16881147 | -0.0012440206 | -0.027868874 |\n",
       "| ENSG00000124610.4_chr6:26090224:T:C    |  0.18508321 |  0.0257459230 |  0.048399175 |\n",
       "| ENSG00000088808.16_chr14:103800327:C:T |  0.33169961 |  0.0119323438 | -0.024170940 |\n",
       "| ENSG00000249484.8_chr5:152894716:G:A   |  0.39759128 |  0.0006505036 |  0.068421660 |\n",
       "| ENSG00000204371.11_chr6:31910718:A:G   |  0.42998004 | -0.0232548631 | -0.008380841 |\n",
       "\n"
      ],
      "text/plain": [
       "   effect                                 Caudate     DLPFC        \n",
       "1  ENSG00000196141.13_chr2:200299060:A:G  -0.18460545 -0.0243577334\n",
       "2  ENSG00000150967.17_chr12:122966218:G:C -0.10385129  0.0027315007\n",
       "3  ENSG00000205981.6_chr3:181110020:A:G   -0.06915457 -0.0402940544\n",
       "4  ENSG00000174938.14_chr16:29961369:C:T   0.11417056  0.0446638014\n",
       "5  ENSG00000213790.2_chr22:42070946:C:T    0.13182114 -0.0455366398\n",
       "6  ENSG00000204386.10_chr6:31701719:C:T    0.16037133 -0.0034306019\n",
       "7  ENSG00000149930.17_chr16:29971163:G:A   0.16881147 -0.0012440206\n",
       "8  ENSG00000124610.4_chr6:26090224:T:C     0.18508321  0.0257459230\n",
       "9  ENSG00000088808.16_chr14:103800327:C:T  0.33169961  0.0119323438\n",
       "10 ENSG00000249484.8_chr5:152894716:G:A    0.39759128  0.0006505036\n",
       "11 ENSG00000204371.11_chr6:31910718:A:G    0.42998004 -0.0232548631\n",
       "   Hippocampus \n",
       "1  -0.042776874\n",
       "2   0.014531011\n",
       "3  -0.031043260\n",
       "4   0.004810389\n",
       "5   0.026797887\n",
       "6  -0.024876851\n",
       "7  -0.027868874\n",
       "8   0.048399175\n",
       "9  -0.024170940\n",
       "10  0.068421660\n",
       "11 -0.008380841"
      ]
     },
     "metadata": {},
     "output_type": "display_data"
    }
   ],
   "source": [
    "m2$result$PosteriorMean %>% as.data.frame %>%\n",
    "    tibble::rownames_to_column(\"effect\") %>%\n",
    "    filter(effect %in% df$effect) %>% arrange(Caudate)"
   ]
  },
  {
   "cell_type": "markdown",
   "metadata": {},
   "source": [
    "## Generate metaplots"
   ]
  },
  {
   "cell_type": "markdown",
   "metadata": {},
   "source": [
    "### Interaction model"
   ]
  },
  {
   "cell_type": "code",
   "execution_count": null,
   "metadata": {},
   "outputs": [],
   "source": [
    "for(ii in seq_along(df$effect)){\n",
    "    gene_id = df$effect[ii]\n",
    "    outfile = paste(\"metaplot\", df$gene_id[ii], sep=\"_\")\n",
    "    print(m2$result$PosteriorMean[gene_id,])\n",
    "    mash_plot_meta(m2, get_significant_results(m2)[gene_id], ylab=\"\", xlim=c(-1, 1), labels=labs)\n",
    "    R.devices::devEval(c(\"png\", \"pdf\"), name=outfile, {\n",
    "        mash_plot_meta(m2, get_significant_results(m2)[gene_id], ylab=\"\", xlim=c(-1, 1), labels=labs)\n",
    "    })\n",
    "}"
   ]
  },
  {
   "cell_type": "markdown",
   "metadata": {},
   "source": [
    "## Reproducibility"
   ]
  },
  {
   "cell_type": "code",
   "execution_count": null,
   "metadata": {},
   "outputs": [],
   "source": [
    "Sys.time()\n",
    "proc.time()\n",
    "options(width=120)\n",
    "sessioninfo::session_info()"
   ]
  }
 ],
 "metadata": {
  "kernelspec": {
   "display_name": "R",
   "language": "R",
   "name": "ir"
  },
  "language_info": {
   "codemirror_mode": "r",
   "file_extension": ".r",
   "mimetype": "text/x-r-source",
   "name": "R",
   "pygments_lexer": "r",
   "version": "4.0.3"
  }
 },
 "nbformat": 4,
 "nbformat_minor": 4
}
