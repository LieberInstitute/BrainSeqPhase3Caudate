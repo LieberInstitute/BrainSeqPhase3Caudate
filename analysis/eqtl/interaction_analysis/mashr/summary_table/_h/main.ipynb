{
 "cells": [
  {
   "cell_type": "markdown",
   "metadata": {},
   "source": [
    "# Summary of interacting cis-eQTL analysis"
   ]
  },
  {
   "cell_type": "code",
   "execution_count": null,
   "metadata": {},
   "outputs": [],
   "source": [
    "import functools\n",
    "import pandas as pd"
   ]
  },
  {
   "cell_type": "code",
   "execution_count": null,
   "metadata": {},
   "outputs": [],
   "source": [
    "config = {\n",
    "    \"genes\": \"/ceph/projects/v4_phase3_paper/inputs/counts/text_files_counts/_m/caudate/gene_annotation.tsv\",\n",
    "    \"transcripts\": \"/ceph/projects/v4_phase3_paper/inputs/counts/text_files_counts/_m/caudate/tx_annotation.tsv\", \n",
    "    \"exons\": \"/ceph/projects/v4_phase3_paper/inputs/counts/text_files_counts/_m/caudate/exon_annotation.tsv\",\n",
    "    \"junctions\": \"/ceph/projects/v4_phase3_paper/inputs/counts/text_files_counts/_m/caudate/jxn_annotation.tsv\"\n",
    "}"
   ]
  },
  {
   "cell_type": "markdown",
   "metadata": {},
   "source": [
    "## Functions"
   ]
  },
  {
   "cell_type": "code",
   "execution_count": null,
   "metadata": {},
   "outputs": [],
   "source": [
    "@functools.lru_cache()\n",
    "def get_mashr_eqtls(feature):\n",
    "    df = pd.read_csv(\"../../_m/%s/significant_geneSNP_pairs_3tissues.tsv\" % feature, sep='\\t')\n",
    "    return df[(df[\"N_Regions_Shared\"] == 1) & (df[\"Caudate\"] == 1)]\n",
    "\n",
    "\n",
    "@functools.lru_cache()\n",
    "def annotate_eqtls(feature):\n",
    "    annot = pd.read_csv(config[feature], sep='\\t').loc[:, [\"names\", \"gencodeID\"]]\n",
    "    return get_mashr_eqtls(feature).merge(annot, left_on=\"gene_id\", right_on=\"names\").drop([\"names\"], axis=1)\n",
    "\n",
    "\n",
    "@functools.lru_cache()\n",
    "def load_pgc2():\n",
    "    pgc2_file = '/ceph/projects/v4_phase3_paper/inputs/sz_gwas/'+\\\n",
    "               'pgc2_clozuk/map_phase3/_m/libd_hg38_pgc2sz_snps_p5e_minus8.tsv'\n",
    "    return pd.read_csv(pgc2_file, sep='\\t', low_memory=False, index_col=0)\n",
    "\n",
    "\n",
    "@functools.lru_cache()\n",
    "def merge_pgc2_N_eqtl(feature):\n",
    "    return load_pgc2().merge(annotate_eqtls(feature), how='inner', \n",
    "                             left_on='our_snp_id', right_on='variant_id', \n",
    "                             suffixes=['_PGC2', '_eqtl'])"
   ]
  },
  {
   "cell_type": "markdown",
   "metadata": {},
   "source": [
    "## Load data"
   ]
  },
  {
   "cell_type": "markdown",
   "metadata": {},
   "source": [
    "### Load significant eQTLs after permutation analysis"
   ]
  },
  {
   "cell_type": "code",
   "execution_count": null,
   "metadata": {},
   "outputs": [],
   "source": [
    "genes = annotate_eqtls(\"genes\")\n",
    "trans = annotate_eqtls(\"transcripts\")\n",
    "exons = annotate_eqtls(\"exons\")\n",
    "juncs = annotate_eqtls(\"junctions\")"
   ]
  },
  {
   "cell_type": "markdown",
   "metadata": {},
   "source": [
    "### Load PGC2+CLOZUK annotated eQTLs"
   ]
  },
  {
   "cell_type": "code",
   "execution_count": null,
   "metadata": {},
   "outputs": [],
   "source": [
    "genes2 = merge_pgc2_N_eqtl(\"genes\")\n",
    "trans2 = merge_pgc2_N_eqtl(\"transcripts\")\n",
    "exons2 = merge_pgc2_N_eqtl(\"exons\")\n",
    "juncs2 = merge_pgc2_N_eqtl(\"junctions\")"
   ]
  },
  {
   "cell_type": "markdown",
   "metadata": {},
   "source": [
    "## Summarize results caudate specific cis-eQTL, mashr"
   ]
  },
  {
   "cell_type": "markdown",
   "metadata": {},
   "source": [
    "### Total significant eGenes"
   ]
  },
  {
   "cell_type": "code",
   "execution_count": null,
   "metadata": {},
   "outputs": [],
   "source": [
    "gg = len(set(genes['gene_id']))\n",
    "tt = len(set(trans['gene_id']))\n",
    "ee = len(set(exons['gene_id']))\n",
    "jj = len(set(juncs['gene_id']))\n",
    "\n",
    "print(\"\\neGene:\\t\\t%d\\neTranscript:\\t%d\\neExon:\\t\\t%d\\neJunction:\\t%d\" % \n",
    "      (gg, tt, ee, jj)) "
   ]
  },
  {
   "cell_type": "markdown",
   "metadata": {},
   "source": [
    "### Total significant eGenes"
   ]
  },
  {
   "cell_type": "code",
   "execution_count": null,
   "metadata": {},
   "outputs": [],
   "source": [
    "gg = len(set(genes['gencodeID']))\n",
    "tt = len(set(trans['gencodeID']))\n",
    "ee = len(set(exons['gencodeID']))\n",
    "jj = len(set(juncs['gencodeID']))\n",
    "\n",
    "print(\"\\nGene:\\t\\t%d\\nTranscript:\\t%d\\nExon:\\t\\t%d\\nJunction:\\t%d\" % \n",
    "      (gg, tt, ee, jj)) "
   ]
  },
  {
   "cell_type": "markdown",
   "metadata": {},
   "source": [
    "## Summarize results eQTL analysis overlapping with PGC2+CLOZUK SNPs"
   ]
  },
  {
   "cell_type": "markdown",
   "metadata": {},
   "source": [
    "### Total significant eGenes"
   ]
  },
  {
   "cell_type": "code",
   "execution_count": null,
   "metadata": {},
   "outputs": [],
   "source": [
    "gg = len(set(genes2['gene_id']))\n",
    "tt = len(set(trans2['gene_id']))\n",
    "ee = len(set(exons2['gene_id']))\n",
    "jj = len(set(juncs2['gene_id']))\n",
    "\n",
    "print(\"\\neGene:\\t\\t%d\\neTranscript:\\t%d\\neExon:\\t\\t%d\\neJunction:\\t%d\" % \n",
    "      (gg, tt, ee, jj)) "
   ]
  },
  {
   "cell_type": "markdown",
   "metadata": {},
   "source": [
    "### Total significant eFeatures"
   ]
  },
  {
   "cell_type": "code",
   "execution_count": null,
   "metadata": {},
   "outputs": [],
   "source": [
    "gg = len(set(genes2['gencodeID']))\n",
    "tt = len(set(trans2['gencodeID']))\n",
    "ee = len(set(exons2['gencodeID']))\n",
    "jj = len(set(juncs2['gencodeID']))\n",
    "\n",
    "print(\"\\nGene:\\t\\t%d\\nTranscript:\\t%d\\nExon:\\t\\t%d\\nJunction:\\t%d\" % \n",
    "      (gg, tt, ee, jj)) "
   ]
  },
  {
   "cell_type": "markdown",
   "metadata": {},
   "source": [
    "## Save significant results"
   ]
  },
  {
   "cell_type": "markdown",
   "metadata": {},
   "source": [
    "### All associations"
   ]
  },
  {
   "cell_type": "code",
   "execution_count": null,
   "metadata": {},
   "outputs": [],
   "source": [
    "genes[\"Type\"] = \"Gene\"\n",
    "trans[\"Type\"] = \"Transcript\"\n",
    "exons[\"Type\"] = \"Exon\"\n",
    "juncs[\"Type\"] = \"Junction\"\n",
    "\n",
    "df = pd.concat([genes, trans, exons, juncs])\n",
    "df[\"Type\"] = df.Type.astype(\"category\").cat.reorder_categories([\"Gene\", \"Transcript\", \"Exon\", \"Junction\"])\n",
    "df.sort_values([\"Type\", \"gene_id\"])\\\n",
    "  .to_csv(\"Brainseq_LIBD_caudate_specific_4features.eGenes.txt.gz\", sep='\\t', index=False)"
   ]
  },
  {
   "cell_type": "markdown",
   "metadata": {},
   "source": [
    "### PGC2+CLOZUK associated variants"
   ]
  },
  {
   "cell_type": "code",
   "execution_count": null,
   "metadata": {},
   "outputs": [],
   "source": [
    "genes2[\"Type\"] = \"Gene\"\n",
    "trans2[\"Type\"] = \"Transcript\"\n",
    "exons2[\"Type\"] = \"Exon\"\n",
    "juncs2[\"Type\"] = \"Junction\"\n",
    "\n",
    "df = pd.concat([genes2, trans2, exons2, juncs2])\n",
    "df[\"Type\"] = df.Type.astype(\"category\").cat.reorder_categories([\"Gene\", \"Transcript\", \"Exon\", \"Junction\"])\n",
    "df.sort_values([\"Type\", \"gene_id\", \"P\"])\\\n",
    "  .to_csv(\"Brainseq_LIBD_caudate_specific_4features_PGC2.eGenes.txt.gz\", sep='\\t', index=False)"
   ]
  },
  {
   "cell_type": "code",
   "execution_count": null,
   "metadata": {},
   "outputs": [],
   "source": []
  }
 ],
 "metadata": {
  "kernelspec": {
   "display_name": "Python 3",
   "language": "python",
   "name": "python3"
  },
  "language_info": {
   "codemirror_mode": {
    "name": "ipython",
    "version": 3
   },
   "file_extension": ".py",
   "mimetype": "text/x-python",
   "name": "python",
   "nbconvert_exporter": "python",
   "pygments_lexer": "ipython3",
   "version": "3.9.1"
  }
 },
 "nbformat": 4,
 "nbformat_minor": 4
}
