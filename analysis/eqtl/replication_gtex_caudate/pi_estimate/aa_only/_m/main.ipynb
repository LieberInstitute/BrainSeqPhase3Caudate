{
 "cells": [
  {
   "cell_type": "markdown",
   "metadata": {},
   "source": [
    "# eQTL replication in GTEx\n",
    "\n",
    "We use the same approach the GTEx 2020 paper used to evaluate eQTL replication in external dataset.\n",
    "\n",
    "* For each eGene, we pick the top variant and form an (eGene, eVariant) pair.\n",
    "* We then query this (eGene, eVariant) pair in GTEx caudate eQTL dataset and get its nominal p-value. \n",
    "* We use the obtained p-values to calculate the π1 statistic ans generate p-value histograms (Storey, qvalue R package).\n",
    "* We calculate the fraction of eqtls with concordant directionality:\n",
    "    * among the top   π1 * n_eqtls\n",
    "    * among the gtex-significant eqtls"
   ]
  },
  {
   "cell_type": "code",
   "execution_count": 1,
   "metadata": {
    "execution": {
     "iopub.execute_input": "2021-08-17T16:25:14.416622Z",
     "iopub.status.busy": "2021-08-17T16:25:14.415837Z",
     "iopub.status.idle": "2021-08-17T16:25:16.645772Z",
     "shell.execute_reply": "2021-08-17T16:25:16.644678Z"
    }
   },
   "outputs": [],
   "source": [
    "import numpy as np\n",
    "import pandas as pd\n",
    "import re, subprocess\n",
    "from tqdm import tqdm\n",
    "from plotnine import *\n",
    "from rpy2.robjects import r, pandas2ri"
   ]
  },
  {
   "cell_type": "code",
   "execution_count": 2,
   "metadata": {
    "execution": {
     "iopub.execute_input": "2021-08-17T16:25:16.656205Z",
     "iopub.status.busy": "2021-08-17T16:25:16.655058Z",
     "iopub.status.idle": "2021-08-17T16:25:16.659890Z",
     "shell.execute_reply": "2021-08-17T16:25:16.659212Z"
    }
   },
   "outputs": [],
   "source": [
    "def load_nominal_eqtl(filename, gene_id):\n",
    "    with subprocess.Popen(['tabix', '-h', filename, gene_id], stdout=subprocess.PIPE) as p:\n",
    "        df = pd.read_csv(p.stdout, sep='\\t')\n",
    "        \n",
    "    return df\n",
    "\n",
    "\n",
    "def to_gtex_snp(snp_id):\n",
    "    return re.sub(':', '_', snp_id) + '_b38'\n",
    "\n",
    "\n",
    "def gtex_pvalues(top_eqtl_df, gtex_fn):\n",
    "    for x in tqdm(top_eqtl_df.itertuples()):\n",
    "        df = load_nominal_eqtl(gtex_fn, x.gene_id)\n",
    "        dfn = df[df['variant_id'].str.startswith(to_gtex_snp(x.variant_id))]\n",
    "        #display(dfn)\n",
    "        if len(dfn) == 1:\n",
    "            y = next(dfn.itertuples())\n",
    "            yield ({'gene_id': x.gene_id} | \n",
    "                   {'libd_'+z[0]:z[1] for z in x._asdict().items() if z[0] not in {'Index', 'gene_id'}} | \n",
    "                   {'gtex_'+z[0]:z[1] for z in y._asdict().items() if z[0] not in {'Index', '_1'}})        "
   ]
  },
  {
   "cell_type": "markdown",
   "metadata": {},
   "source": [
    "# Load eQTL data"
   ]
  },
  {
   "cell_type": "markdown",
   "metadata": {},
   "source": [
    "### GTEx"
   ]
  },
  {
   "cell_type": "code",
   "execution_count": 3,
   "metadata": {
    "execution": {
     "iopub.execute_input": "2021-08-17T16:25:16.665603Z",
     "iopub.status.busy": "2021-08-17T16:25:16.664959Z",
     "iopub.status.idle": "2021-08-17T16:25:19.066824Z",
     "shell.execute_reply": "2021-08-17T16:25:19.066193Z"
    }
   },
   "outputs": [],
   "source": [
    "gtex_fn = '/ceph/projects/v4_phase3_paper/inputs/gtex_v8/caudate_eqtl/tabix/_m/'+\\\n",
    "'GTEx_Analysis_v8_QTLs_GTEx_Analysis_v8_eQTL_all_associations_Brain_Caudate_basal_ganglia.allpairs.txt.gz'\n",
    "\n",
    "gtex_sig_eqtl = pd.read_csv('/ceph/projects/v4_phase3_paper/inputs/gtex_v8/all_eqtl/caudate/_m/'+\\\n",
    "                            'GTEx_Analysis_v8_eQTL/Brain_Caudate_basal_ganglia.v8.signif_variant_gene_pairs.txt.gz',\n",
    "                            sep='\\t')"
   ]
  },
  {
   "cell_type": "markdown",
   "metadata": {},
   "source": [
    "### LIBD"
   ]
  },
  {
   "cell_type": "code",
   "execution_count": 4,
   "metadata": {
    "execution": {
     "iopub.execute_input": "2021-08-17T16:25:19.074772Z",
     "iopub.status.busy": "2021-08-17T16:25:19.074094Z",
     "iopub.status.idle": "2021-08-17T16:25:21.880217Z",
     "shell.execute_reply": "2021-08-17T16:25:21.880871Z"
    }
   },
   "outputs": [],
   "source": [
    "libd_eqtl_fn = '/ceph/projects/v4_phase3_paper/analysis/eqtl_analysis/aa_only/genes/'+\\\n",
    "'expression_gct/prepare_expression/annotate_outputs/_m/Brainseq_LIBD.signifpairs.txt.gz'\n",
    "libd_eqtl_df = pd.read_csv(libd_eqtl_fn, sep='\\t')\n",
    "top_eqtl_df = libd_eqtl_df.sort_values('pval_nominal').groupby('gene_id').first().reset_index()"
   ]
  },
  {
   "cell_type": "markdown",
   "metadata": {},
   "source": [
    "# Find GTEx match for top eQTL per eGene"
   ]
  },
  {
   "cell_type": "code",
   "execution_count": 5,
   "metadata": {
    "execution": {
     "iopub.execute_input": "2021-08-17T16:25:21.891017Z",
     "iopub.status.busy": "2021-08-17T16:25:21.890108Z",
     "iopub.status.idle": "2021-08-17T16:41:39.082153Z",
     "shell.execute_reply": "2021-08-17T16:41:39.082845Z"
    }
   },
   "outputs": [
    {
     "name": "stderr",
     "output_type": "stream",
     "text": [
      "9766it [16:16, 10.00it/s]\n"
     ]
    },
    {
     "name": "stdout",
     "output_type": "stream",
     "text": [
      "(7293, 20)\n"
     ]
    },
    {
     "data": {
      "text/html": [
       "<div>\n",
       "<style scoped>\n",
       "    .dataframe tbody tr th:only-of-type {\n",
       "        vertical-align: middle;\n",
       "    }\n",
       "\n",
       "    .dataframe tbody tr th {\n",
       "        vertical-align: top;\n",
       "    }\n",
       "\n",
       "    .dataframe thead th {\n",
       "        text-align: right;\n",
       "    }\n",
       "</style>\n",
       "<table border=\"1\" class=\"dataframe\">\n",
       "  <thead>\n",
       "    <tr style=\"text-align: right;\">\n",
       "      <th></th>\n",
       "      <th>gene_id</th>\n",
       "      <th>libd_variant_id</th>\n",
       "      <th>libd_tss_distance</th>\n",
       "      <th>libd_ma_samples</th>\n",
       "      <th>libd_ma_count</th>\n",
       "      <th>libd_maf</th>\n",
       "      <th>libd_pval_nominal</th>\n",
       "      <th>libd_slope</th>\n",
       "      <th>libd_slope_se</th>\n",
       "      <th>libd_pval_nominal_threshold</th>\n",
       "      <th>libd_min_pval_nominal</th>\n",
       "      <th>libd_pval_beta</th>\n",
       "      <th>gtex_variant_id</th>\n",
       "      <th>gtex_tss_distance</th>\n",
       "      <th>gtex_ma_samples</th>\n",
       "      <th>gtex_ma_count</th>\n",
       "      <th>gtex_maf</th>\n",
       "      <th>gtex_pval_nominal</th>\n",
       "      <th>gtex_slope</th>\n",
       "      <th>gtex_slope_se</th>\n",
       "    </tr>\n",
       "  </thead>\n",
       "  <tbody>\n",
       "    <tr>\n",
       "      <th>0</th>\n",
       "      <td>ENSG00000000460.16</td>\n",
       "      <td>chr1:169789148:T:G</td>\n",
       "      <td>127141</td>\n",
       "      <td>83</td>\n",
       "      <td>91</td>\n",
       "      <td>0.216667</td>\n",
       "      <td>4.289540e-07</td>\n",
       "      <td>-0.368271</td>\n",
       "      <td>0.070079</td>\n",
       "      <td>0.000352</td>\n",
       "      <td>4.289540e-07</td>\n",
       "      <td>0.000513</td>\n",
       "      <td>chr1_169789148_T_G_b38</td>\n",
       "      <td>127141</td>\n",
       "      <td>92</td>\n",
       "      <td>106</td>\n",
       "      <td>0.273196</td>\n",
       "      <td>1.513700e-09</td>\n",
       "      <td>-0.422509</td>\n",
       "      <td>0.065699</td>\n",
       "    </tr>\n",
       "    <tr>\n",
       "      <th>1</th>\n",
       "      <td>ENSG00000000971.15</td>\n",
       "      <td>chr1:196414986:T:G</td>\n",
       "      <td>-236892</td>\n",
       "      <td>96</td>\n",
       "      <td>117</td>\n",
       "      <td>0.278571</td>\n",
       "      <td>1.252380e-07</td>\n",
       "      <td>0.328728</td>\n",
       "      <td>0.059621</td>\n",
       "      <td>0.000575</td>\n",
       "      <td>1.252380e-07</td>\n",
       "      <td>0.000159</td>\n",
       "      <td>chr1_196414986_T_G_b38</td>\n",
       "      <td>-236892</td>\n",
       "      <td>102</td>\n",
       "      <td>119</td>\n",
       "      <td>0.306701</td>\n",
       "      <td>8.354010e-02</td>\n",
       "      <td>0.077804</td>\n",
       "      <td>0.044669</td>\n",
       "    </tr>\n",
       "  </tbody>\n",
       "</table>\n",
       "</div>"
      ],
      "text/plain": [
       "              gene_id     libd_variant_id  libd_tss_distance  libd_ma_samples  \\\n",
       "0  ENSG00000000460.16  chr1:169789148:T:G             127141               83   \n",
       "1  ENSG00000000971.15  chr1:196414986:T:G            -236892               96   \n",
       "\n",
       "   libd_ma_count  libd_maf  libd_pval_nominal  libd_slope  libd_slope_se  \\\n",
       "0             91  0.216667       4.289540e-07   -0.368271       0.070079   \n",
       "1            117  0.278571       1.252380e-07    0.328728       0.059621   \n",
       "\n",
       "   libd_pval_nominal_threshold  libd_min_pval_nominal  libd_pval_beta  \\\n",
       "0                     0.000352           4.289540e-07        0.000513   \n",
       "1                     0.000575           1.252380e-07        0.000159   \n",
       "\n",
       "          gtex_variant_id  gtex_tss_distance  gtex_ma_samples  gtex_ma_count  \\\n",
       "0  chr1_169789148_T_G_b38             127141               92            106   \n",
       "1  chr1_196414986_T_G_b38            -236892              102            119   \n",
       "\n",
       "   gtex_maf  gtex_pval_nominal  gtex_slope  gtex_slope_se  \n",
       "0  0.273196       1.513700e-09   -0.422509       0.065699  \n",
       "1  0.306701       8.354010e-02    0.077804       0.044669  "
      ]
     },
     "execution_count": 1,
     "metadata": {},
     "output_type": "execute_result"
    }
   ],
   "source": [
    "df = pd.DataFrame(gtex_pvalues(top_eqtl_df, gtex_fn))\n",
    "df.to_csv('libd_top_eqtls_replicated_in_gtex.tsv', sep='\\t')\n",
    "print(df.shape)\n",
    "df.head(2)"
   ]
  },
  {
   "cell_type": "code",
   "execution_count": 6,
   "metadata": {
    "execution": {
     "iopub.execute_input": "2021-08-17T16:41:39.095910Z",
     "iopub.status.busy": "2021-08-17T16:41:39.095284Z",
     "iopub.status.idle": "2021-08-17T16:41:40.876177Z",
     "shell.execute_reply": "2021-08-17T16:41:40.875591Z"
    }
   },
   "outputs": [
    {
     "data": {
      "text/html": [
       "\n",
       "        <span>StrVector with 9 elements.</span>\n",
       "        <table>\n",
       "        <tbody>\n",
       "          <tr>\n",
       "          \n",
       "            <td>\n",
       "            'qvalue'\n",
       "            </td>\n",
       "          \n",
       "            <td>\n",
       "            'tools'\n",
       "            </td>\n",
       "          \n",
       "            <td>\n",
       "            'stats'\n",
       "            </td>\n",
       "          \n",
       "            <td>\n",
       "            ...\n",
       "            </td>\n",
       "          \n",
       "            <td>\n",
       "            'datasets'\n",
       "            </td>\n",
       "          \n",
       "            <td>\n",
       "            'methods'\n",
       "            </td>\n",
       "          \n",
       "            <td>\n",
       "            'base'\n",
       "            </td>\n",
       "          \n",
       "          </tr>\n",
       "        </tbody>\n",
       "        </table>\n",
       "        "
      ],
      "text/plain": [
       "<rpy2.robjects.vectors.StrVector object at 0x7fe9bb9fbe00> [RTYPES.STRSXP]\n",
       "R classes: ('character',)\n",
       "['qvalue', 'tools', 'stats', 'graphics', ..., 'utils', 'datasets', 'methods', 'base']"
      ]
     },
     "execution_count": 1,
     "metadata": {},
     "output_type": "execute_result"
    }
   ],
   "source": [
    "pandas2ri.activate()\n",
    "r_df = pandas2ri.py2rpy_pandasdataframe(df)\n",
    "r.assign('df', r_df)\n",
    "r('''library(qvalue)''')"
   ]
  },
  {
   "cell_type": "markdown",
   "metadata": {},
   "source": [
    "# π1 statistic and p-value histogram"
   ]
  },
  {
   "cell_type": "code",
   "execution_count": 7,
   "metadata": {
    "execution": {
     "iopub.execute_input": "2021-08-17T16:41:40.880656Z",
     "iopub.status.busy": "2021-08-17T16:41:40.880011Z",
     "iopub.status.idle": "2021-08-17T16:41:40.893709Z",
     "shell.execute_reply": "2021-08-17T16:41:40.894367Z"
    }
   },
   "outputs": [
    {
     "data": {
      "text/plain": [
       "0.6515285600645868"
      ]
     },
     "execution_count": 1,
     "metadata": {},
     "output_type": "execute_result"
    }
   ],
   "source": [
    "pi1 = r('''1 - pi0est(df$gtex_pval_nominal)$pi0''')[0]\n",
    "pi1"
   ]
  },
  {
   "cell_type": "code",
   "execution_count": 8,
   "metadata": {
    "execution": {
     "iopub.execute_input": "2021-08-17T16:41:40.909041Z",
     "iopub.status.busy": "2021-08-17T16:41:40.902364Z",
     "iopub.status.idle": "2021-08-17T16:41:41.616487Z",
     "shell.execute_reply": "2021-08-17T16:41:41.615493Z"
    }
   },
   "outputs": [
    {
     "data": {
      "image/png": "[encoded data removed]",
      "text/plain": [
       "<Figure size 640x480 with 1 Axes>"
      ]
     },
     "metadata": {},
     "output_type": "display_data"
    },
    {
     "data": {
      "text/plain": [
       "<ggplot: (8790094629599)>"
      ]
     },
     "metadata": {},
     "output_type": "display_data"
    }
   ],
   "source": [
    "p = (ggplot(df, aes(x='gtex_pval_nominal'))\n",
    "     + geom_histogram(bins=30)\n",
    "     + ggtitle('Replication of caudate eQTLs in GTEx caudate\\n\\nπ1=%.2f' % (pi1))\n",
    "     + ylab('Shared eQTLs') + xlab('Nominal P-value') + theme_bw(base_size=15)\n",
    "     + theme(panel_grid=element_blank(), axis_title=element_text(face=\"bold\"))\n",
    ")\n",
    "display(p)"
   ]
  },
  {
   "cell_type": "code",
   "execution_count": 9,
   "metadata": {
    "execution": {
     "iopub.execute_input": "2021-08-17T16:41:41.625599Z",
     "iopub.status.busy": "2021-08-17T16:41:41.624987Z",
     "iopub.status.idle": "2021-08-17T16:41:42.109127Z",
     "shell.execute_reply": "2021-08-17T16:41:42.108417Z"
    }
   },
   "outputs": [
    {
     "name": "stderr",
     "output_type": "stream",
     "text": [
      "/home/jbenja13/.local/lib/python3.9/site-packages/plotnine/ggplot.py:727: PlotnineWarning: Saving 6.4 x 4.8 in image.\n",
      "/home/jbenja13/.local/lib/python3.9/site-packages/plotnine/ggplot.py:730: PlotnineWarning: Filename: replication_of_LIBD_caudate_eQTLs_in_GTEx_caudate.pdf\n"
     ]
    }
   ],
   "source": [
    "p.save('replication_of_LIBD_caudate_eQTLs_in_GTEx_caudate.pdf')"
   ]
  },
  {
   "cell_type": "markdown",
   "metadata": {},
   "source": [
    "# Fraction of eQTLs with concordant directionality in the top π1 fraction of shared eQTLs"
   ]
  },
  {
   "cell_type": "code",
   "execution_count": 10,
   "metadata": {
    "execution": {
     "iopub.execute_input": "2021-08-17T16:41:42.115789Z",
     "iopub.status.busy": "2021-08-17T16:41:42.115138Z",
     "iopub.status.idle": "2021-08-17T16:41:42.123822Z",
     "shell.execute_reply": "2021-08-17T16:41:42.124332Z"
    }
   },
   "outputs": [
    {
     "name": "stdout",
     "output_type": "stream",
     "text": [
      "Shared eQTLs: 7293\n",
      "Top π1 shared eQTLs significant in GTEx: 4751\n",
      "Fraction of top π1 shared eQTLs with concordant directionality: 0.9606398652915176\n"
     ]
    }
   ],
   "source": [
    "dfd = df.sort_values('gtex_pval_nominal').head(int(pi1 * len(df)))\n",
    "fraction_same_directionality = np.sum(np.sign(dfd['gtex_slope']) == np.sign(dfd['libd_slope'])) / len(dfd)\n",
    "fraction_same_directionality\n",
    "print(f'Shared eQTLs: {len(df)}')\n",
    "print(f'Top π1 shared eQTLs significant in GTEx: {len(dfd)}')\n",
    "print(f'Fraction of top π1 shared eQTLs with concordant directionality: {fraction_same_directionality}')"
   ]
  },
  {
   "cell_type": "markdown",
   "metadata": {},
   "source": [
    "# Fraction of eQTLs with concordant directionality in the shared eQTLs that are statistically significant in GTEx"
   ]
  },
  {
   "cell_type": "code",
   "execution_count": 11,
   "metadata": {
    "execution": {
     "iopub.execute_input": "2021-08-17T16:41:42.130717Z",
     "iopub.status.busy": "2021-08-17T16:41:42.130115Z",
     "iopub.status.idle": "2021-08-17T16:41:42.704586Z",
     "shell.execute_reply": "2021-08-17T16:41:42.703644Z"
    }
   },
   "outputs": [
    {
     "name": "stdout",
     "output_type": "stream",
     "text": [
      "Shared eQTLs: 7293\n",
      "Shared eQTLs significant in GTEx: 2400\n",
      "Fraction of Shared eQTLs significant in GTEx with concordant directionality: 0.9879166666666667\n"
     ]
    }
   ],
   "source": [
    "dfs = df.merge(gtex_sig_eqtl[['gene_id', 'variant_id']], left_on=['gene_id', 'gtex_variant_id'], right_on=['gene_id', 'variant_id'])\n",
    "print(f'Shared eQTLs: {len(df)}')\n",
    "print(f'Shared eQTLs significant in GTEx: {len(dfs)}')\n",
    "f = np.sum(np.sign(dfs['gtex_slope']) == np.sign(dfs['libd_slope'])) / len(dfs)\n",
    "print(f'Fraction of Shared eQTLs significant in GTEx with concordant directionality: {f}')"
   ]
  }
 ],
 "metadata": {
  "kernelspec": {
   "display_name": "Python 3",
   "language": "python",
   "name": "python3"
  },
  "language_info": {
   "codemirror_mode": {
    "name": "ipython",
    "version": 3
   },
   "file_extension": ".py",
   "mimetype": "text/x-python",
   "name": "python",
   "nbconvert_exporter": "python",
   "pygments_lexer": "ipython3",
   "version": "3.9.1"
  }
 },
 "nbformat": 4,
 "nbformat_minor": 5
}
