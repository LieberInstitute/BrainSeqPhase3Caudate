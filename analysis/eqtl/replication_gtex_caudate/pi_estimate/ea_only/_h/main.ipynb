{
 "cells": [
  {
   "cell_type": "markdown",
   "metadata": {},
   "source": [
    "# eQTL replication in GTEx\n",
    "\n",
    "We use the same approach the GTEx 2020 paper used to evaluate eQTL replication in external dataset.\n",
    "\n",
    "* For each eGene, we pick the top variant and form an (eGene, eVariant) pair.\n",
    "* We then query this (eGene, eVariant) pair in GTEx caudate eQTL dataset and get its nominal p-value. \n",
    "* We use the obtained p-values to calculate the π1 statistic ans generate p-value histograms (Storey, qvalue R package).\n",
    "* We calculate the fraction of eqtls with concordant directionality:\n",
    "    * among the top   π1 * n_eqtls\n",
    "    * among the gtex-significant eqtls"
   ]
  },
  {
   "cell_type": "code",
   "execution_count": null,
   "metadata": {},
   "outputs": [],
   "source": [
    "import numpy as np\n",
    "import pandas as pd\n",
    "import re, subprocess\n",
    "from tqdm import tqdm\n",
    "from plotnine import *\n",
    "from rpy2.robjects import r, pandas2ri"
   ]
  },
  {
   "cell_type": "code",
   "execution_count": null,
   "metadata": {},
   "outputs": [],
   "source": [
    "def load_nominal_eqtl(filename, gene_id):\n",
    "    with subprocess.Popen(['tabix', '-h', filename, gene_id], stdout=subprocess.PIPE) as p:\n",
    "        df = pd.read_csv(p.stdout, sep='\\t')\n",
    "        \n",
    "    return df\n",
    "\n",
    "\n",
    "def to_gtex_snp(snp_id):\n",
    "    return re.sub(':', '_', snp_id) + '_b38'\n",
    "\n",
    "\n",
    "def gtex_pvalues(top_eqtl_df, gtex_fn):\n",
    "    for x in tqdm(top_eqtl_df.itertuples()):\n",
    "        df = load_nominal_eqtl(gtex_fn, x.gene_id)\n",
    "        dfn = df[df['variant_id'].str.startswith(to_gtex_snp(x.variant_id))]\n",
    "        #display(dfn)\n",
    "        if len(dfn) == 1:\n",
    "            y = next(dfn.itertuples())\n",
    "            yield ({'gene_id': x.gene_id} | \n",
    "                   {'libd_'+z[0]:z[1] for z in x._asdict().items() if z[0] not in {'Index', 'gene_id'}} | \n",
    "                   {'gtex_'+z[0]:z[1] for z in y._asdict().items() if z[0] not in {'Index', '_1'}})        "
   ]
  },
  {
   "cell_type": "markdown",
   "metadata": {},
   "source": [
    "# Load eQTL data"
   ]
  },
  {
   "cell_type": "markdown",
   "metadata": {},
   "source": [
    "### GTEx"
   ]
  },
  {
   "cell_type": "code",
   "execution_count": 3,
   "metadata": {},
   "outputs": [],
   "source": [
    "gtex_fn = '/ceph/projects/v4_phase3_paper/inputs/gtex_v8/caudate_eqtl/tabix/_m/'+\\\n",
    "'GTEx_Analysis_v8_QTLs_GTEx_Analysis_v8_eQTL_all_associations_Brain_Caudate_basal_ganglia.allpairs.txt.gz'\n",
    "\n",
    "gtex_sig_eqtl = pd.read_csv('/ceph/projects/v4_phase3_paper/inputs/gtex_v8/all_eqtl/caudate/_m/'+\\\n",
    "                            'GTEx_Analysis_v8_eQTL/Brain_Caudate_basal_ganglia.v8.signif_variant_gene_pairs.txt.gz',\n",
    "                            sep='\\t')"
   ]
  },
  {
   "cell_type": "markdown",
   "metadata": {},
   "source": [
    "### LIBD"
   ]
  },
  {
   "cell_type": "code",
   "execution_count": 4,
   "metadata": {},
   "outputs": [],
   "source": [
    "libd_eqtl_fn = '/ceph/projects/v4_phase3_paper/analysis/eqtl_analysis/ea_only/genes/'+\\\n",
    "'expression_gct/prepare_expression/annotate_outputs/_m/Brainseq_LIBD.signifpairs.txt.gz'\n",
    "libd_eqtl_df = pd.read_csv(libd_eqtl_fn, sep='\\t')\n",
    "top_eqtl_df = libd_eqtl_df.sort_values('pval_nominal').groupby('gene_id').first().reset_index()"
   ]
  },
  {
   "cell_type": "markdown",
   "metadata": {},
   "source": [
    "# Find GTEx match for top eQTL per eGene"
   ]
  },
  {
   "cell_type": "code",
   "execution_count": null,
   "metadata": {},
   "outputs": [],
   "source": [
    "df = pd.DataFrame(gtex_pvalues(top_eqtl_df, gtex_fn))\n",
    "df.to_csv('libd_top_eqtls_replicated_in_gtex.tsv', sep='\\t')\n",
    "print(df.shape)\n",
    "df.head(2)"
   ]
  },
  {
   "cell_type": "code",
   "execution_count": null,
   "metadata": {},
   "outputs": [],
   "source": [
    "pandas2ri.activate()\n",
    "r_df = pandas2ri.py2rpy_pandasdataframe(df)\n",
    "r.assign('df', r_df)\n",
    "r('''library(qvalue)''')"
   ]
  },
  {
   "cell_type": "markdown",
   "metadata": {},
   "source": [
    "# π1 statistic and p-value histogram"
   ]
  },
  {
   "cell_type": "code",
   "execution_count": null,
   "metadata": {},
   "outputs": [],
   "source": [
    "pi1 = r('''1 - pi0est(df$gtex_pval_nominal)$pi0''')[0]\n",
    "pi1"
   ]
  },
  {
   "cell_type": "code",
   "execution_count": null,
   "metadata": {},
   "outputs": [],
   "source": [
    "p = (ggplot(df, aes(x='gtex_pval_nominal'))\n",
    "     + geom_histogram(bins=30)\n",
    "     + ggtitle('Replication of caudate eQTLs in GTEx caudate\\n\\nπ1=%.2f' % (pi1))\n",
    "     + ylab('Shared eQTLs') + xlab('Nominal P-value') + theme_bw(base_size=15)\n",
    "     + theme(panel_grid=element_blank(), axis_title=element_text(face=\"bold\"))\n",
    ")\n",
    "display(p)"
   ]
  },
  {
   "cell_type": "code",
   "execution_count": null,
   "metadata": {},
   "outputs": [],
   "source": [
    "p.save('replication_of_LIBD_caudate_eQTLs_in_GTEx_caudate.pdf')"
   ]
  },
  {
   "cell_type": "markdown",
   "metadata": {},
   "source": [
    "# Fraction of eQTLs with concordant directionality in the top π1 fraction of shared eQTLs"
   ]
  },
  {
   "cell_type": "code",
   "execution_count": null,
   "metadata": {},
   "outputs": [],
   "source": [
    "dfd = df.sort_values('gtex_pval_nominal').head(int(pi1 * len(df)))\n",
    "fraction_same_directionality = np.sum(np.sign(dfd['gtex_slope']) == np.sign(dfd['libd_slope'])) / len(dfd)\n",
    "fraction_same_directionality\n",
    "print(f'Shared eQTLs: {len(df)}')\n",
    "print(f'Top π1 shared eQTLs significant in GTEx: {len(dfd)}')\n",
    "print(f'Fraction of top π1 shared eQTLs with concordant directionality: {fraction_same_directionality}')"
   ]
  },
  {
   "cell_type": "markdown",
   "metadata": {},
   "source": [
    "# Fraction of eQTLs with concordant directionality in the shared eQTLs that are statistically significant in GTEx"
   ]
  },
  {
   "cell_type": "code",
   "execution_count": null,
   "metadata": {},
   "outputs": [],
   "source": [
    "dfs = df.merge(gtex_sig_eqtl[['gene_id', 'variant_id']], left_on=['gene_id', 'gtex_variant_id'], right_on=['gene_id', 'variant_id'])\n",
    "print(f'Shared eQTLs: {len(df)}')\n",
    "print(f'Shared eQTLs significant in GTEx: {len(dfs)}')\n",
    "f = np.sum(np.sign(dfs['gtex_slope']) == np.sign(dfs['libd_slope'])) / len(dfs)\n",
    "print(f'Fraction of Shared eQTLs significant in GTEx with concordant directionality: {f}')"
   ]
  }
 ],
 "metadata": {
  "kernelspec": {
   "display_name": "Python 3",
   "language": "python",
   "name": "python3"
  },
  "language_info": {
   "codemirror_mode": {
    "name": "ipython",
    "version": 3
   },
   "file_extension": ".py",
   "mimetype": "text/x-python",
   "name": "python",
   "nbconvert_exporter": "python",
   "pygments_lexer": "ipython3",
   "version": "3.9.1"
  }
 },
 "nbformat": 4,
 "nbformat_minor": 5
}
