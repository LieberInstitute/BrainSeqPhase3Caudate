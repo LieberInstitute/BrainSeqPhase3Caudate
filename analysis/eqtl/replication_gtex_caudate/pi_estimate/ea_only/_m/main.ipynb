{
 "cells": [
  {
   "cell_type": "markdown",
   "metadata": {},
   "source": [
    "# eQTL replication in GTEx\n",
    "\n",
    "We use the same approach the GTEx 2020 paper used to evaluate eQTL replication in external dataset.\n",
    "\n",
    "* For each eGene, we pick the top variant and form an (eGene, eVariant) pair.\n",
    "* We then query this (eGene, eVariant) pair in GTEx caudate eQTL dataset and get its nominal p-value. \n",
    "* We use the obtained p-values to calculate the π1 statistic ans generate p-value histograms (Storey, qvalue R package).\n",
    "* We calculate the fraction of eqtls with concordant directionality:\n",
    "    * among the top   π1 * n_eqtls\n",
    "    * among the gtex-significant eqtls"
   ]
  },
  {
   "cell_type": "code",
   "execution_count": 1,
   "metadata": {
    "execution": {
     "iopub.execute_input": "2021-08-17T16:07:16.742124Z",
     "iopub.status.busy": "2021-08-17T16:07:16.741227Z",
     "iopub.status.idle": "2021-08-17T16:07:18.842479Z",
     "shell.execute_reply": "2021-08-17T16:07:18.841606Z"
    }
   },
   "outputs": [],
   "source": [
    "import numpy as np\n",
    "import pandas as pd\n",
    "import re, subprocess\n",
    "from tqdm import tqdm\n",
    "from plotnine import *\n",
    "from rpy2.robjects import r, pandas2ri"
   ]
  },
  {
   "cell_type": "code",
   "execution_count": 2,
   "metadata": {
    "execution": {
     "iopub.execute_input": "2021-08-17T16:07:18.853863Z",
     "iopub.status.busy": "2021-08-17T16:07:18.853090Z",
     "iopub.status.idle": "2021-08-17T16:07:18.854893Z",
     "shell.execute_reply": "2021-08-17T16:07:18.855616Z"
    }
   },
   "outputs": [],
   "source": [
    "def load_nominal_eqtl(filename, gene_id):\n",
    "    with subprocess.Popen(['tabix', '-h', filename, gene_id], stdout=subprocess.PIPE) as p:\n",
    "        df = pd.read_csv(p.stdout, sep='\\t')\n",
    "        \n",
    "    return df\n",
    "\n",
    "\n",
    "def to_gtex_snp(snp_id):\n",
    "    return re.sub(':', '_', snp_id) + '_b38'\n",
    "\n",
    "\n",
    "def gtex_pvalues(top_eqtl_df, gtex_fn):\n",
    "    for x in tqdm(top_eqtl_df.itertuples()):\n",
    "        df = load_nominal_eqtl(gtex_fn, x.gene_id)\n",
    "        dfn = df[df['variant_id'].str.startswith(to_gtex_snp(x.variant_id))]\n",
    "        #display(dfn)\n",
    "        if len(dfn) == 1:\n",
    "            y = next(dfn.itertuples())\n",
    "            yield ({'gene_id': x.gene_id} | \n",
    "                   {'libd_'+z[0]:z[1] for z in x._asdict().items() if z[0] not in {'Index', 'gene_id'}} | \n",
    "                   {'gtex_'+z[0]:z[1] for z in y._asdict().items() if z[0] not in {'Index', '_1'}})        "
   ]
  },
  {
   "cell_type": "markdown",
   "metadata": {},
   "source": [
    "# Load eQTL data"
   ]
  },
  {
   "cell_type": "markdown",
   "metadata": {},
   "source": [
    "### GTEx"
   ]
  },
  {
   "cell_type": "code",
   "execution_count": 3,
   "metadata": {
    "execution": {
     "iopub.execute_input": "2021-08-17T16:07:18.860981Z",
     "iopub.status.busy": "2021-08-17T16:07:18.860221Z",
     "iopub.status.idle": "2021-08-17T16:07:21.110082Z",
     "shell.execute_reply": "2021-08-17T16:07:21.109310Z"
    }
   },
   "outputs": [],
   "source": [
    "gtex_fn = '/ceph/projects/v4_phase3_paper/inputs/gtex_v8/caudate_eqtl/tabix/_m/'+\\\n",
    "'GTEx_Analysis_v8_QTLs_GTEx_Analysis_v8_eQTL_all_associations_Brain_Caudate_basal_ganglia.allpairs.txt.gz'\n",
    "\n",
    "gtex_sig_eqtl = pd.read_csv('/ceph/projects/v4_phase3_paper/inputs/gtex_v8/all_eqtl/caudate/_m/'+\\\n",
    "                            'GTEx_Analysis_v8_eQTL/Brain_Caudate_basal_ganglia.v8.signif_variant_gene_pairs.txt.gz',\n",
    "                            sep='\\t')"
   ]
  },
  {
   "cell_type": "markdown",
   "metadata": {},
   "source": [
    "### LIBD"
   ]
  },
  {
   "cell_type": "code",
   "execution_count": 4,
   "metadata": {
    "execution": {
     "iopub.execute_input": "2021-08-17T16:07:21.117974Z",
     "iopub.status.busy": "2021-08-17T16:07:21.117203Z",
     "iopub.status.idle": "2021-08-17T16:07:26.100557Z",
     "shell.execute_reply": "2021-08-17T16:07:26.099834Z"
    }
   },
   "outputs": [],
   "source": [
    "libd_eqtl_fn = '/ceph/projects/v4_phase3_paper/analysis/eqtl_analysis/ea_only/genes/'+\\\n",
    "'expression_gct/prepare_expression/annotate_outputs/_m/Brainseq_LIBD.signifpairs.txt.gz'\n",
    "libd_eqtl_df = pd.read_csv(libd_eqtl_fn, sep='\\t')\n",
    "top_eqtl_df = libd_eqtl_df.sort_values('pval_nominal').groupby('gene_id').first().reset_index()"
   ]
  },
  {
   "cell_type": "markdown",
   "metadata": {},
   "source": [
    "# Find GTEx match for top eQTL per eGene"
   ]
  },
  {
   "cell_type": "code",
   "execution_count": 5,
   "metadata": {
    "execution": {
     "iopub.execute_input": "2021-08-17T16:07:26.110904Z",
     "iopub.status.busy": "2021-08-17T16:07:26.109270Z",
     "iopub.status.idle": "2021-08-17T16:25:03.085997Z",
     "shell.execute_reply": "2021-08-17T16:25:03.085099Z"
    }
   },
   "outputs": [
    {
     "name": "stderr",
     "output_type": "stream",
     "text": [
      "10094it [17:36,  9.55it/s]\n"
     ]
    },
    {
     "name": "stdout",
     "output_type": "stream",
     "text": [
      "(8333, 20)\n"
     ]
    },
    {
     "data": {
      "text/html": [
       "<div>\n",
       "<style scoped>\n",
       "    .dataframe tbody tr th:only-of-type {\n",
       "        vertical-align: middle;\n",
       "    }\n",
       "\n",
       "    .dataframe tbody tr th {\n",
       "        vertical-align: top;\n",
       "    }\n",
       "\n",
       "    .dataframe thead th {\n",
       "        text-align: right;\n",
       "    }\n",
       "</style>\n",
       "<table border=\"1\" class=\"dataframe\">\n",
       "  <thead>\n",
       "    <tr style=\"text-align: right;\">\n",
       "      <th></th>\n",
       "      <th>gene_id</th>\n",
       "      <th>libd_variant_id</th>\n",
       "      <th>libd_tss_distance</th>\n",
       "      <th>libd_ma_samples</th>\n",
       "      <th>libd_ma_count</th>\n",
       "      <th>libd_maf</th>\n",
       "      <th>libd_pval_nominal</th>\n",
       "      <th>libd_slope</th>\n",
       "      <th>libd_slope_se</th>\n",
       "      <th>libd_pval_nominal_threshold</th>\n",
       "      <th>libd_min_pval_nominal</th>\n",
       "      <th>libd_pval_beta</th>\n",
       "      <th>gtex_variant_id</th>\n",
       "      <th>gtex_tss_distance</th>\n",
       "      <th>gtex_ma_samples</th>\n",
       "      <th>gtex_ma_count</th>\n",
       "      <th>gtex_maf</th>\n",
       "      <th>gtex_pval_nominal</th>\n",
       "      <th>gtex_slope</th>\n",
       "      <th>gtex_slope_se</th>\n",
       "    </tr>\n",
       "  </thead>\n",
       "  <tbody>\n",
       "    <tr>\n",
       "      <th>0</th>\n",
       "      <td>ENSG00000000460.16</td>\n",
       "      <td>chr1:169862549:CTCTT:C</td>\n",
       "      <td>200542</td>\n",
       "      <td>116</td>\n",
       "      <td>132</td>\n",
       "      <td>0.283262</td>\n",
       "      <td>1.185710e-09</td>\n",
       "      <td>-0.338561</td>\n",
       "      <td>0.053000</td>\n",
       "      <td>0.000540</td>\n",
       "      <td>1.185710e-09</td>\n",
       "      <td>0.000002</td>\n",
       "      <td>chr1_169862549_CTCTT_C_b38</td>\n",
       "      <td>200542</td>\n",
       "      <td>90</td>\n",
       "      <td>104</td>\n",
       "      <td>0.268041</td>\n",
       "      <td>1.877520e-10</td>\n",
       "      <td>-0.447000</td>\n",
       "      <td>0.065474</td>\n",
       "    </tr>\n",
       "    <tr>\n",
       "      <th>1</th>\n",
       "      <td>ENSG00000000971.15</td>\n",
       "      <td>chr1:196414986:T:G</td>\n",
       "      <td>-236892</td>\n",
       "      <td>118</td>\n",
       "      <td>139</td>\n",
       "      <td>0.298283</td>\n",
       "      <td>3.155740e-05</td>\n",
       "      <td>0.244392</td>\n",
       "      <td>0.057359</td>\n",
       "      <td>0.000815</td>\n",
       "      <td>3.155740e-05</td>\n",
       "      <td>0.008311</td>\n",
       "      <td>chr1_196414986_T_G_b38</td>\n",
       "      <td>-236892</td>\n",
       "      <td>102</td>\n",
       "      <td>119</td>\n",
       "      <td>0.306701</td>\n",
       "      <td>8.354010e-02</td>\n",
       "      <td>0.077804</td>\n",
       "      <td>0.044669</td>\n",
       "    </tr>\n",
       "  </tbody>\n",
       "</table>\n",
       "</div>"
      ],
      "text/plain": [
       "              gene_id         libd_variant_id  libd_tss_distance  \\\n",
       "0  ENSG00000000460.16  chr1:169862549:CTCTT:C             200542   \n",
       "1  ENSG00000000971.15      chr1:196414986:T:G            -236892   \n",
       "\n",
       "   libd_ma_samples  libd_ma_count  libd_maf  libd_pval_nominal  libd_slope  \\\n",
       "0              116            132  0.283262       1.185710e-09   -0.338561   \n",
       "1              118            139  0.298283       3.155740e-05    0.244392   \n",
       "\n",
       "   libd_slope_se  libd_pval_nominal_threshold  libd_min_pval_nominal  \\\n",
       "0       0.053000                     0.000540           1.185710e-09   \n",
       "1       0.057359                     0.000815           3.155740e-05   \n",
       "\n",
       "   libd_pval_beta             gtex_variant_id  gtex_tss_distance  \\\n",
       "0        0.000002  chr1_169862549_CTCTT_C_b38             200542   \n",
       "1        0.008311      chr1_196414986_T_G_b38            -236892   \n",
       "\n",
       "   gtex_ma_samples  gtex_ma_count  gtex_maf  gtex_pval_nominal  gtex_slope  \\\n",
       "0               90            104  0.268041       1.877520e-10   -0.447000   \n",
       "1              102            119  0.306701       8.354010e-02    0.077804   \n",
       "\n",
       "   gtex_slope_se  \n",
       "0       0.065474  \n",
       "1       0.044669  "
      ]
     },
     "execution_count": 1,
     "metadata": {},
     "output_type": "execute_result"
    }
   ],
   "source": [
    "df = pd.DataFrame(gtex_pvalues(top_eqtl_df, gtex_fn))\n",
    "df.to_csv('libd_top_eqtls_replicated_in_gtex.tsv', sep='\\t')\n",
    "print(df.shape)\n",
    "df.head(2)"
   ]
  },
  {
   "cell_type": "code",
   "execution_count": 6,
   "metadata": {
    "execution": {
     "iopub.execute_input": "2021-08-17T16:25:03.098388Z",
     "iopub.status.busy": "2021-08-17T16:25:03.097411Z",
     "iopub.status.idle": "2021-08-17T16:25:04.911470Z",
     "shell.execute_reply": "2021-08-17T16:25:04.911996Z"
    }
   },
   "outputs": [
    {
     "data": {
      "text/html": [
       "\n",
       "        <span>StrVector with 9 elements.</span>\n",
       "        <table>\n",
       "        <tbody>\n",
       "          <tr>\n",
       "          \n",
       "            <td>\n",
       "            'qvalue'\n",
       "            </td>\n",
       "          \n",
       "            <td>\n",
       "            'tools'\n",
       "            </td>\n",
       "          \n",
       "            <td>\n",
       "            'stats'\n",
       "            </td>\n",
       "          \n",
       "            <td>\n",
       "            ...\n",
       "            </td>\n",
       "          \n",
       "            <td>\n",
       "            'datasets'\n",
       "            </td>\n",
       "          \n",
       "            <td>\n",
       "            'methods'\n",
       "            </td>\n",
       "          \n",
       "            <td>\n",
       "            'base'\n",
       "            </td>\n",
       "          \n",
       "          </tr>\n",
       "        </tbody>\n",
       "        </table>\n",
       "        "
      ],
      "text/plain": [
       "<rpy2.robjects.vectors.StrVector object at 0x7fe86b9dfb00> [RTYPES.STRSXP]\n",
       "R classes: ('character',)\n",
       "['qvalue', 'tools', 'stats', 'graphics', ..., 'utils', 'datasets', 'methods', 'base']"
      ]
     },
     "execution_count": 1,
     "metadata": {},
     "output_type": "execute_result"
    }
   ],
   "source": [
    "pandas2ri.activate()\n",
    "r_df = pandas2ri.py2rpy_pandasdataframe(df)\n",
    "r.assign('df', r_df)\n",
    "r('''library(qvalue)''')"
   ]
  },
  {
   "cell_type": "markdown",
   "metadata": {},
   "source": [
    "# π1 statistic and p-value histogram"
   ]
  },
  {
   "cell_type": "code",
   "execution_count": 7,
   "metadata": {
    "execution": {
     "iopub.execute_input": "2021-08-17T16:25:04.917559Z",
     "iopub.status.busy": "2021-08-17T16:25:04.916924Z",
     "iopub.status.idle": "2021-08-17T16:25:04.931541Z",
     "shell.execute_reply": "2021-08-17T16:25:04.930714Z"
    }
   },
   "outputs": [
    {
     "data": {
      "text/plain": [
       "0.7619760874570489"
      ]
     },
     "execution_count": 1,
     "metadata": {},
     "output_type": "execute_result"
    }
   ],
   "source": [
    "pi1 = r('''1 - pi0est(df$gtex_pval_nominal)$pi0''')[0]\n",
    "pi1"
   ]
  },
  {
   "cell_type": "code",
   "execution_count": 8,
   "metadata": {
    "execution": {
     "iopub.execute_input": "2021-08-17T16:25:04.946652Z",
     "iopub.status.busy": "2021-08-17T16:25:04.939315Z",
     "iopub.status.idle": "2021-08-17T16:25:05.589767Z",
     "shell.execute_reply": "2021-08-17T16:25:05.590310Z"
    }
   },
   "outputs": [
    {
     "data": {
      "image/png": "[encoded data removed]",
      "text/plain": [
       "<Figure size 640x480 with 1 Axes>"
      ]
     },
     "metadata": {},
     "output_type": "display_data"
    },
    {
     "data": {
      "text/plain": [
       "<ggplot: (8789721529594)>"
      ]
     },
     "metadata": {},
     "output_type": "display_data"
    }
   ],
   "source": [
    "p = (ggplot(df, aes(x='gtex_pval_nominal'))\n",
    "     + geom_histogram(bins=30)\n",
    "     + ggtitle('Replication of caudate eQTLs in GTEx caudate\\n\\nπ1=%.2f' % (pi1))\n",
    "     + ylab('Shared eQTLs') + xlab('Nominal P-value') + theme_bw(base_size=15)\n",
    "     + theme(panel_grid=element_blank(), axis_title=element_text(face=\"bold\"))\n",
    ")\n",
    "display(p)"
   ]
  },
  {
   "cell_type": "code",
   "execution_count": 9,
   "metadata": {
    "execution": {
     "iopub.execute_input": "2021-08-17T16:25:05.712404Z",
     "iopub.status.busy": "2021-08-17T16:25:05.711757Z",
     "iopub.status.idle": "2021-08-17T16:25:06.334055Z",
     "shell.execute_reply": "2021-08-17T16:25:06.333372Z"
    }
   },
   "outputs": [
    {
     "name": "stderr",
     "output_type": "stream",
     "text": [
      "/home/jbenja13/.local/lib/python3.9/site-packages/plotnine/ggplot.py:727: PlotnineWarning: Saving 6.4 x 4.8 in image.\n",
      "/home/jbenja13/.local/lib/python3.9/site-packages/plotnine/ggplot.py:730: PlotnineWarning: Filename: replication_of_LIBD_caudate_eQTLs_in_GTEx_caudate.pdf\n"
     ]
    }
   ],
   "source": [
    "p.save('replication_of_LIBD_caudate_eQTLs_in_GTEx_caudate.pdf')"
   ]
  },
  {
   "cell_type": "markdown",
   "metadata": {},
   "source": [
    "# Fraction of eQTLs with concordant directionality in the top π1 fraction of shared eQTLs"
   ]
  },
  {
   "cell_type": "code",
   "execution_count": 10,
   "metadata": {
    "execution": {
     "iopub.execute_input": "2021-08-17T16:25:06.340870Z",
     "iopub.status.busy": "2021-08-17T16:25:06.339930Z",
     "iopub.status.idle": "2021-08-17T16:25:06.349814Z",
     "shell.execute_reply": "2021-08-17T16:25:06.349236Z"
    }
   },
   "outputs": [
    {
     "name": "stdout",
     "output_type": "stream",
     "text": [
      "Shared eQTLs: 8333\n",
      "Top π1 shared eQTLs significant in GTEx: 6349\n",
      "Fraction of top π1 shared eQTLs with concordant directionality: 0.9673964403843125\n"
     ]
    }
   ],
   "source": [
    "dfd = df.sort_values('gtex_pval_nominal').head(int(pi1 * len(df)))\n",
    "fraction_same_directionality = np.sum(np.sign(dfd['gtex_slope']) == np.sign(dfd['libd_slope'])) / len(dfd)\n",
    "fraction_same_directionality\n",
    "print(f'Shared eQTLs: {len(df)}')\n",
    "print(f'Top π1 shared eQTLs significant in GTEx: {len(dfd)}')\n",
    "print(f'Fraction of top π1 shared eQTLs with concordant directionality: {fraction_same_directionality}')"
   ]
  },
  {
   "cell_type": "markdown",
   "metadata": {},
   "source": [
    "# Fraction of eQTLs with concordant directionality in the shared eQTLs that are statistically significant in GTEx"
   ]
  },
  {
   "cell_type": "code",
   "execution_count": 11,
   "metadata": {
    "execution": {
     "iopub.execute_input": "2021-08-17T16:25:06.356656Z",
     "iopub.status.busy": "2021-08-17T16:25:06.356009Z",
     "iopub.status.idle": "2021-08-17T16:25:06.994247Z",
     "shell.execute_reply": "2021-08-17T16:25:06.993442Z"
    }
   },
   "outputs": [
    {
     "name": "stdout",
     "output_type": "stream",
     "text": [
      "Shared eQTLs: 8333\n",
      "Shared eQTLs significant in GTEx: 3134\n",
      "Fraction of Shared eQTLs significant in GTEx with concordant directionality: 0.9926611359285259\n"
     ]
    }
   ],
   "source": [
    "dfs = df.merge(gtex_sig_eqtl[['gene_id', 'variant_id']], left_on=['gene_id', 'gtex_variant_id'], right_on=['gene_id', 'variant_id'])\n",
    "print(f'Shared eQTLs: {len(df)}')\n",
    "print(f'Shared eQTLs significant in GTEx: {len(dfs)}')\n",
    "f = np.sum(np.sign(dfs['gtex_slope']) == np.sign(dfs['libd_slope'])) / len(dfs)\n",
    "print(f'Fraction of Shared eQTLs significant in GTEx with concordant directionality: {f}')"
   ]
  }
 ],
 "metadata": {
  "kernelspec": {
   "display_name": "Python 3",
   "language": "python",
   "name": "python3"
  },
  "language_info": {
   "codemirror_mode": {
    "name": "ipython",
    "version": 3
   },
   "file_extension": ".py",
   "mimetype": "text/x-python",
   "name": "python",
   "nbconvert_exporter": "python",
   "pygments_lexer": "ipython3",
   "version": "3.9.1"
  }
 },
 "nbformat": 4,
 "nbformat_minor": 5
}
