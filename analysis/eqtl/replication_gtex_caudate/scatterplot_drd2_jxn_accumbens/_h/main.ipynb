{
 "cells": [
  {
   "cell_type": "markdown",
   "metadata": {},
   "source": [
    "# SNP overlap analysis for j5-7 between BrainSeq caudate and GTEx accumbens eQTLs"
   ]
  },
  {
   "cell_type": "code",
   "execution_count": null,
   "metadata": {},
   "outputs": [],
   "source": [
    "library(tidyverse)\n",
    "library(ggpubr)"
   ]
  },
  {
   "cell_type": "code",
   "execution_count": null,
   "metadata": {},
   "outputs": [],
   "source": [
    "save_ggplots <- function(fn, p, w, h){\n",
    "    for(ext in c('.pdf', '.png', '.svg')){\n",
    "        ggsave(paste0(fn, ext), plot=p, width=w, height=h)\n",
    "    }\n",
    "}"
   ]
  },
  {
   "cell_type": "markdown",
   "metadata": {},
   "source": [
    "## Load eQTLs"
   ]
  },
  {
   "cell_type": "code",
   "execution_count": null,
   "metadata": {},
   "outputs": [],
   "source": [
    "cname = c(\"gene_id\", \"variant_id\", \"tss_distance\", \"ma_samples\", \"ma_count\",\n",
    "          \"maf\", \"pval_nominal\", \"slope\", \"slope_se\")\n",
    "## Junction 5-7\n",
    "cmd = paste0('zcat /ceph/projects/v4_phase3_paper/analysis/eqtl_analysis/all/junctions/',\n",
    "             'expression_gct/prepare_expression/fastqtl_nominal/_m/Brainseq_LIBD.allpairs.txt.gz',\n",
    "             '| grep \"chr11:113412884-113415420(-)\"')\n",
    "caudate = data.table::fread(cmd=cmd, header=FALSE, col.names=cname)\n",
    "dim(caudate)\n",
    "## Junction 5-7 GTEx accumbens\n",
    "cmd = paste0('zcat /ceph/projects/v4_phase3_paper/analysis/eqtl_analysis/gtex_accumbens/',\n",
    "             'junctions/prepare_expression/fastqtl_nominal/_m/GTEx_accumbens.allpairs.txt.gz',\n",
    "             '| grep \"chr11_113412884_113415420\"')\n",
    "gtex_accumbens = data.table::fread(cmd=cmd, header=FALSE, col.names=cname)\n",
    "dim(gtex_accumbens)\n",
    "## Junction 5-6 GTEx accumbens\n",
    "cmd = paste0('zcat /ceph/projects/v4_phase3_paper/analysis/eqtl_analysis/gtex_accumbens/',\n",
    "             'junctions/prepare_expression/fastqtl_nominal/_m/GTEx_accumbens.allpairs.txt.gz',\n",
    "             '| grep \"chr11_113414462_113415420\"')\n",
    "gtex_accumbens_j56 = data.table::fread(cmd=cmd, header=FALSE, col.names=cname)\n",
    "dim(gtex_accumbens_j56)"
   ]
  },
  {
   "cell_type": "code",
   "execution_count": null,
   "metadata": {},
   "outputs": [],
   "source": [
    "df = caudate %>% mutate(variant_id=paste0(gsub(':', '_', variant_id), '_b38')) %>%\n",
    "    inner_join(gtex_accumbens, by=c('variant_id'), suffix=c(\"_LIBD\", \"_GTEx\"))\n",
    "#df.to_csv('j57_and_j56_eqtls.tsv', sep='\\t')\n",
    "df %>% head(2)"
   ]
  },
  {
   "cell_type": "code",
   "execution_count": null,
   "metadata": {},
   "outputs": [],
   "source": [
    "title = paste0(\"eQTLs for DRD2 junctions 5-7 in LIBD caudate and GTEx accumbens\\n(n=\",dim(df)[1],\" SNPs)\")\n",
    "\n",
    "sca = df %>% ggscatter(x=\"pval_nominal_LIBD\", y=\"pval_nominal_GTEx\", alpha=0.4, \n",
    "                 ggtheme=theme_pubclean(base_size=20), \n",
    "                 xlab=\"nominal p-value: LIBD caudate\",\n",
    "                 ylab=\"nominal p-value: GTEx accumbens\") +\n",
    "    yscale(\"log10\", .format=TRUE) + xscale(\"log10\", .format=TRUE) +\n",
    "    font(\"xy.title\", face=\"bold\") +\n",
    "    ggtitle(title) + theme(plot.title = element_text(hjust = 0.5, face=\"bold\"))\n",
    "print(sca)\n",
    "save_ggplots(\"eQTL_scatterplot_j57_LIBD_caudate_GTEx_accumbens\", sca, 12, 10)"
   ]
  },
  {
   "cell_type": "code",
   "execution_count": null,
   "metadata": {},
   "outputs": [],
   "source": [
    "df2 = gtex_accumbens %>% inner_join(gtex_accumbens_j56, by=c('variant_id'), suffix=c(\"_j57\", \"_j56\"))\n",
    "#df.to_csv('j57_and_j56_eqtls.tsv', sep='\\t')\n",
    "df2 %>% head(2)"
   ]
  },
  {
   "cell_type": "code",
   "execution_count": null,
   "metadata": {},
   "outputs": [],
   "source": [
    "title = paste0(\"eQTLs for DRD2 junctions 5-7 and 5-6 in GTEx accumbens\\n(n=\",dim(df)[1],\" SNPs)\")\n",
    "\n",
    "sca = df2 %>% ggscatter(x=\"pval_nominal_j57\", y=\"pval_nominal_j56\", alpha=0.4, \n",
    "                 ggtheme=theme_pubclean(base_size=20), \n",
    "                 xlab=\"nominal p-value: junction 5-7\",\n",
    "                 ylab=\"nominal p-value: junction 5-6\") +\n",
    "    yscale(\"log10\", .format=TRUE) + xscale(\"log10\", .format=TRUE) +\n",
    "    font(\"xy.title\", face=\"bold\") +\n",
    "    ggtitle(title) + theme(plot.title = element_text(hjust = 0.5, face=\"bold\"))\n",
    "print(sca)\n",
    "save_ggplots(\"eQTL_scatterplot_j57_j56_GTEx_accumbens\", sca, 12, 10)"
   ]
  },
  {
   "cell_type": "markdown",
   "metadata": {},
   "source": [
    "## Session Info"
   ]
  },
  {
   "cell_type": "code",
   "execution_count": null,
   "metadata": {},
   "outputs": [],
   "source": [
    "Sys.time()\n",
    "proc.time()\n",
    "options(width = 120)\n",
    "sessioninfo::session_info()"
   ]
  }
 ],
 "metadata": {
  "kernelspec": {
   "display_name": "R",
   "language": "R",
   "name": "ir"
  },
  "language_info": {
   "codemirror_mode": "r",
   "file_extension": ".r",
   "mimetype": "text/x-r-source",
   "name": "R",
   "pygments_lexer": "r",
   "version": "4.0.3"
  }
 },
 "nbformat": 4,
 "nbformat_minor": 4
}
