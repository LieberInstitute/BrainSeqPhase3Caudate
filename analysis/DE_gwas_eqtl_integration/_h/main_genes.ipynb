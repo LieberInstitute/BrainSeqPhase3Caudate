{
 "cells": [
  {
   "cell_type": "markdown",
   "metadata": {},
   "source": [
    "# eQTL boxplot: Enrichment and Overlap of PGC2+CLOZUK\n",
    "\n",
    "This is script ported from python to fix unknown plotting error."
   ]
  },
  {
   "cell_type": "code",
   "execution_count": null,
   "metadata": {},
   "outputs": [],
   "source": [
    "suppressPackageStartupMessages({\n",
    "    library(tidyverse)\n",
    "    library(ggpubr)\n",
    "})"
   ]
  },
  {
   "cell_type": "markdown",
   "metadata": {},
   "source": [
    "## Functions"
   ]
  },
  {
   "cell_type": "code",
   "execution_count": null,
   "metadata": {},
   "outputs": [],
   "source": [
    "feature = \"genes\""
   ]
  },
  {
   "cell_type": "markdown",
   "metadata": {},
   "source": [
    "### Cached functions"
   ]
  },
  {
   "cell_type": "code",
   "execution_count": null,
   "metadata": {},
   "outputs": [],
   "source": [
    "get_de_df <- function(){\n",
    "    de_file = paste0(\"../../differential_expression/_m/\", feature, \n",
    "                     \"/diffExpr_szVctl_full.txt\")\n",
    "    return(data.table::fread(de_file))\n",
    "}\n",
    "memDE <- memoise::memoise(get_de_df)\n",
    "\n",
    "get_eqtl_df <- function(){\n",
    "    eGenes_file = paste0('../../eqtl/caudate/summary_table/_m/',\n",
    "                        'Brainseq_LIBD_caudate_4features.signifpairs.txt.gz')\n",
    "    eGenes = data.table::fread(eGenes_file) %>% \n",
    "        filter(Type == feature_map(feature)) %>%\n",
    "        arrange(pval_nominal)\n",
    "    return(eGenes)\n",
    "}\n",
    "memEQTL <- memoise::memoise(get_eqtl_df)\n",
    "\n",
    "get_pheno_df <- function(){\n",
    "    phenotype_file = paste0('/ceph/projects/v4_phase3_paper/inputs/',\n",
    "                            'phenotypes/_m/merged_phenotypes.csv')\n",
    "    return(data.table::fread(phenotype_file))\n",
    "}\n",
    "memPHENO <- memoise::memoise(get_pheno_df)\n",
    "\n",
    "get_residualized_df <- function(){\n",
    "    expr_file = paste0(\"../../differential_expression/_m/\", feature, \n",
    "                       \"/residualized_expression.tsv\")\n",
    "    return(data.table::fread(expr_file) %>% column_to_rownames(\"V1\"))\n",
    "}\n",
    "memRES <- memoise::memoise(get_residualized_df)\n",
    "\n",
    "get_genotypes <- function(){\n",
    "    traw_file = paste0(\"/ceph/projects/brainseq/genotype/download/topmed/convert2plink/\",\n",
    "                      \"filter_maf_01/a_transpose/_m/LIBD_Brain_TopMed.traw\")\n",
    "    traw = data.table::fread(traw_file) %>% rename_with(~ gsub('\\\\_.*', '', .x))\n",
    "    return(traw)\n",
    "}\n",
    "memSNPs <- memoise::memoise(get_genotypes)\n",
    "\n",
    "get_gwas_snps <- function(){\n",
    "    gwas_snp_file = paste0('/ceph/projects/v4_phase3_paper/inputs/sz_gwas/',\n",
    "                          'pgc2_clozuk/map_phase3/_m/libd_hg38_pgc2sz_snps.tsv')\n",
    "    gwas_df = data.table::fread(gwas_snp_file) %>% arrange(P)\n",
    "    return(gwas_df)\n",
    "}\n",
    "memGWAS <- memoise::memoise(get_gwas_snps)\n",
    "\n",
    "get_integration_df <- function(){\n",
    "    return(inner_join(memGWAS(), memEQTL(), \n",
    "                      by=c(\"our_snp_id\"=\"variant_id\"), \n",
    "                      suffix=c(\"_PGC2\", \"_eQTL\")) %>%\n",
    "            inner_join(memDE(), by=c(\"gene_id\"=\"V1\")) %>% \n",
    "            mutate(agree_direction=sign(OR -1) * sign(slope) * sign(t) * ifelse(pgc2_a1_same_as_our_counted, 1, -1)))\n",
    "}\n",
    "memMERGE <- memoise::memoise(get_integration_df)\n",
    "\n",
    "get_snp_df <- function(variant_id, gene_id){\n",
    "    zz = get_geno_annot() %>% filter(SNP == variant_id)\n",
    "    xx = get_snps_df() %>% filter(SNP == variant_id) %>% \n",
    "        column_to_rownames(\"SNP\") %>% t %>% as.data.frame %>% \n",
    "        rownames_to_column(\"BrNum\") %>% mutate(COUNTED=zz$COUNTED, ALT=zz$ALT) %>% \n",
    "        rename(\"SNP\"=all_of(variant_id))\n",
    "    yy = memRES()[gene_id, ] %>% t %>% as.data.frame %>% \n",
    "        rownames_to_column(\"RNum\") %>% inner_join(memPHENO(), by=\"RNum\")\n",
    "    ## Annotated SNPs\n",
    "    letters = c()\n",
    "    for(ii in seq_along(xx$COUNTED)){\n",
    "        a0 = xx$COUNTED[ii]; a1 = xx$ALT[ii]; number = xx$SNP[ii]\n",
    "        letters <- append(letters, letter_snp(number, a0, a1))\n",
    "    }\n",
    "    xx = xx %>% mutate(LETTER=letters, ID=paste(SNP, LETTER, sep=\"\\n\"))\n",
    "    df = inner_join(xx, yy, by=\"BrNum\") %>% mutate_if(is.character, as.factor)\n",
    "    return(df)\n",
    "}\n",
    "memDF <- memoise::memoise(get_snp_df)"
   ]
  },
  {
   "cell_type": "markdown",
   "metadata": {},
   "source": [
    "### Simple functions"
   ]
  },
  {
   "cell_type": "code",
   "execution_count": null,
   "metadata": {},
   "outputs": [],
   "source": [
    "feature_map <- function(feature){\n",
    "    return(list(\"genes\"=\"Gene\", \"transcripts\"= \"Transcript\", \n",
    "                \"exons\"= \"Exon\", \"junctions\"= \"Junction\")[[feature]])\n",
    "}\n",
    "\n",
    "get_geno_annot <- function(){\n",
    "    return(memSNPs() %>% select(CHR, SNP, POS, COUNTED, ALT))\n",
    "}\n",
    "\n",
    "get_snps_df <- function(){\n",
    "    return(memSNPs() %>% select(\"SNP\", starts_with(\"Br\")))\n",
    "}\n",
    "\n",
    "letter_snp <- function(number, a0, a1){\n",
    "    if(is.na(number)){ return(NA) }\n",
    "    if( length(a0) == 1 & length(a1) == 1){\n",
    "        seps = \"\"; collapse=\"\"\n",
    "    } else {\n",
    "        seps = \" \"; collapse=NULL\n",
    "    }\n",
    "    return(paste(paste0(rep(a0, number), collapse = collapse), \n",
    "                 paste0(rep(a1, (2-number)), collapse = collapse), sep=seps))\n",
    "}\n",
    "\n",
    "save_ggplots <- function(fn, p, w, h){\n",
    "    for(ext in c('.pdf', '.png', '.svg')){\n",
    "        ggsave(paste0(fn, ext), plot=p, width=w, height=h)\n",
    "    }\n",
    "}\n",
    "\n",
    "get_biomart_df <- function(){\n",
    "    biomart = data.table::fread(\"../_h/biomart.csv\")\n",
    "}\n",
    "memMART <- memoise::memoise(get_biomart_df)\n",
    "\n",
    "get_gene_symbol <- function(gene_id){\n",
    "    ensemblID = gsub(\"\\\\..*\", \"\", gene_id)\n",
    "    geneid = memMART() %>% filter(ensembl_gene_id == gsub(\"\\\\..*\", \"\", gene_id))\n",
    "    if(dim(geneid)[1] == 0){\n",
    "        return(\"\")\n",
    "    } else {\n",
    "        return(geneid$external_gene_name)\n",
    "    }\n",
    "}\n",
    "\n",
    "plot_simple_eqtl <- function(fn, gene_id, variant_id, eqtl_annot){\n",
    "    bxp = memDF(variant_id, gene_id) %>%\n",
    "        ggboxplot(x=\"ID\", y=gene_id, fill=\"red\", add=\"jitter\", xlab=\"\",\n",
    "                  ylab=\"Residualized Expression\", outlier.shape=NA,\n",
    "                  add.params=list(alpha=0.5), alpha=0.4,\n",
    "                  ggtheme=theme_pubr(base_size=20, border=TRUE)) +\n",
    "        font(\"xy.title\", face=\"bold\") + \n",
    "        ggtitle(paste(get_gene_symbol(gene_id), gene_id, eqtl_annot, sep='\\n')) +\n",
    "        theme(plot.title = element_text(hjust = 0.5, face=\"bold\"))\n",
    "    print(bxp)\n",
    "    save_ggplots(fn, bxp, 7, 7)\n",
    "}"
   ]
  },
  {
   "cell_type": "markdown",
   "metadata": {},
   "source": [
    "### GWAS plots"
   ]
  },
  {
   "cell_type": "code",
   "execution_count": null,
   "metadata": {},
   "outputs": [],
   "source": [
    "get_risk_allele <- function(OR, A1, A2){\n",
    "    ra = ifelse(OR > 1, A1, A2)\n",
    "    return(ra)\n",
    "}\n",
    "\n",
    "get_df <- function(){\n",
    "    return(memEQTL() %>% inner_join(memGWAS(), by=\"variant_id\"))\n",
    "}\n",
    "\n",
    "get_gwas_ordered_snp_df <- function(variant_id, gene_id, pgc2_a1_same_as_our_counted, OR){\n",
    "    df = memDF(variant_id, gene_id)\n",
    "    if(!pgc2_a1_same_as_our_counted){ # Fix bug with matching alleles!\n",
    "        if(OR < 1){ df = df %>% mutate(SNP = 2-SNP, ID=paste(SNP, LETTER, sep=\"\\n\")) }\n",
    "    } else {\n",
    "        if(OR > 1){ df = df %>% mutate(SNP = 2-SNP, ID=paste(SNP, LETTER, sep=\"\\n\")) }\n",
    "    }\n",
    "    return(df)\n",
    "}\n",
    "\n",
    "plot_gwas_eqtl_pheno <- function(fn, gene_id, variant_id, pgc2_a1_same_as_our_counted, OR, title){\n",
    "    bxp = get_gwas_ordered_snp_df(variant_id, gene_id, pgc2_a1_same_as_our_counted, OR) %>%\n",
    "        mutate_if(is.character, as.factor) %>% filter(Dx %in% c(\"CTL\", \"SZ\"), Age > 17) %>%\n",
    "        ggboxplot(x=\"ID\", y=gene_id, fill=\"Dx\", color=\"Dx\", add=\"jitter\", xlab=variant_id,\n",
    "                  ylab=\"Residualized Expression\", outlier.shape=NA,\n",
    "                  add.params=list(alpha=0.5), alpha=0.4, legend=\"bottom\",\n",
    "                  ggtheme=theme_pubr(base_size=20, border=TRUE)) +\n",
    "        font(\"xy.title\", face=\"bold\") + ggtitle(title) +\n",
    "        theme(plot.title = element_text(hjust = 0.5, face=\"bold\"))\n",
    "    print(bxp)\n",
    "    save_ggplots(fn, bxp, 7, 9)\n",
    "}"
   ]
  },
  {
   "cell_type": "markdown",
   "metadata": {},
   "source": [
    "## Integration analysis"
   ]
  },
  {
   "cell_type": "code",
   "execution_count": null,
   "metadata": {},
   "outputs": [],
   "source": [
    "dir.create(feature)"
   ]
  },
  {
   "cell_type": "markdown",
   "metadata": {},
   "source": [
    "### Enrichment"
   ]
  },
  {
   "cell_type": "markdown",
   "metadata": {},
   "source": [
    "#### Integrate DEG with PGC2+CLOZUK SNPs"
   ]
  },
  {
   "cell_type": "code",
   "execution_count": null,
   "metadata": {},
   "outputs": [],
   "source": [
    "dft = memMERGE() %>% mutate(agree_direction=ifelse(agree_direction == 1, \"Yes\", ifelse(agree_direction == -1, \"No\", 0)))\n",
    "dim(dft)"
   ]
  },
  {
   "cell_type": "code",
   "execution_count": null,
   "metadata": {},
   "outputs": [],
   "source": [
    "table(dft$agree_direction)"
   ]
  },
  {
   "cell_type": "code",
   "execution_count": null,
   "metadata": {},
   "outputs": [],
   "source": [
    "table = matrix(c(sum((dft$P<5e-8)  & (dft$adj.P.Val < 0.05)), \n",
    "                 sum((dft$P>=5e-8) & (dft$adj.P.Val < 0.05)), \n",
    "                 sum((dft$P<5e-8)  & (dft$adj.P.Val >= 0.05)), \n",
    "                 sum((dft$P>=5e-8) & (dft$adj.P.Val >= 0.05))),\n",
    "               nrow=2)\n",
    "print(table)\n",
    "fisher.test(table)"
   ]
  },
  {
   "cell_type": "code",
   "execution_count": null,
   "metadata": {},
   "outputs": [],
   "source": [
    "dft2 = dft %>% filter(P <= 5e-8, `adj.P.Val` < 0.05) %>%\n",
    "    mutate(eqtl_gwas_dir=sign(OR -1) * sign(slope) * ifelse(pgc2_a1_same_as_our_counted, 1, -1), \n",
    "           de_dir=sign(t), eqtl_slope=sign(OR -1)*sign(slope)*ifelse(pgc2_a1_same_as_our_counted, 1, -1)) %>% \n",
    "    #rowwise() %>% mutate(risk_allele=get_risk_allele(our_snp_id)) %>%\n",
    "    select(gene_id, Symbol, our_snp_id, rsid, A1, A2, OR, P, pval_nominal, adj.P.Val, logFC, \n",
    "           t, eqtl_slope, de_dir, eqtl_gwas_dir, agree_direction, pgc2_a1_same_as_our_counted) %>% \n",
    "    rename(\"variant_id\"=\"our_snp_id\") %>% mutate_all(list(~na_if(.,\"\"))) %>% \n",
    "    mutate(Symbol = coalesce(Symbol,gene_id))\n",
    "dft2 %>% data.table::fwrite(paste0(feature, \"/integration_by_symbol.txt\"), sep='\\t')\n",
    "dim(dft2)"
   ]
  },
  {
   "cell_type": "code",
   "execution_count": null,
   "metadata": {},
   "outputs": [],
   "source": [
    "df = dft2 %>% group_by(gene_id) %>% slice(1) %>% arrange(P) \n",
    "table(df$agree_direction)"
   ]
  },
  {
   "cell_type": "code",
   "execution_count": null,
   "metadata": {},
   "outputs": [],
   "source": [
    "df"
   ]
  },
  {
   "cell_type": "markdown",
   "metadata": {},
   "source": [
    "### Plot with PGC2 risk allele"
   ]
  },
  {
   "cell_type": "code",
   "execution_count": null,
   "metadata": {},
   "outputs": [],
   "source": [
    "for(num in seq_along(df$gene_id)){\n",
    "    variant_id = df$variant_id[num]\n",
    "    gene_id = df$gene_id[num]\n",
    "    gene_name = df$Symbol[num]\n",
    "    pgc2_a1_same_as_our_counted = df$pgc2_a1_same_as_our_counted[num]\n",
    "    OR = df$OR[num]; A1 = df$A1[num]; A2 = df$A2[num]\n",
    "    fn = paste0(feature, \"/eqtl_gwas_\", gsub(\"\\\\.\", \"_\", gene_name))\n",
    "    de_annot = paste('DE adj.P.Val:', signif(df$adj.P.Val[num], 2))\n",
    "    eqtl_annot = paste(\"eQTL nominal p-value:\", signif(df$pval_nominal[num], 2))\n",
    "    gwas_annot = paste(\"SZ GWAS pvalue:\", signif(df$P[num], 2))\n",
    "    risk_annot = paste(\"SZ risk allele:\", get_risk_allele(OR, A1, A2))\n",
    "    title = paste(get_gene_symbol(gene_id), gene_id, gwas_annot, \n",
    "                  risk_annot, eqtl_annot, de_annot, sep='\\n')\n",
    "    plot_gwas_eqtl_pheno(fn, gene_id, variant_id, pgc2_a1_same_as_our_counted, OR, title)\n",
    "    #print(title)\n",
    "}"
   ]
  },
  {
   "cell_type": "markdown",
   "metadata": {},
   "source": [
    "## Session Info"
   ]
  },
  {
   "cell_type": "code",
   "execution_count": null,
   "metadata": {},
   "outputs": [],
   "source": [
    "Sys.time()\n",
    "proc.time()\n",
    "options(width = 120)\n",
    "sessioninfo::session_info()"
   ]
  }
 ],
 "metadata": {
  "kernelspec": {
   "display_name": "R",
   "language": "R",
   "name": "ir"
  },
  "language_info": {
   "codemirror_mode": "r",
   "file_extension": ".r",
   "mimetype": "text/x-r-source",
   "name": "R",
   "pygments_lexer": "r",
   "version": "4.0.3"
  }
 },
 "nbformat": 4,
 "nbformat_minor": 4
}
