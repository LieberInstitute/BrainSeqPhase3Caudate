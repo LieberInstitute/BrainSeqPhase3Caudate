{
 "cells": [
  {
   "cell_type": "markdown",
   "metadata": {},
   "source": [
    "# Generate supplemental data of all significant integration analysis"
   ]
  },
  {
   "cell_type": "code",
   "execution_count": null,
   "metadata": {},
   "outputs": [],
   "source": [
    "import pandas as pd"
   ]
  },
  {
   "cell_type": "code",
   "execution_count": null,
   "metadata": {},
   "outputs": [],
   "source": [
    "genes = pd.read_csv('../../_m/genes/integration_by_symbol.txt', sep='\\t').rename(columns={'gene': 'Feature_ID'})\n",
    "genes['Feature_Type'] = 'Gene'\n",
    "genes.head()"
   ]
  },
  {
   "cell_type": "code",
   "execution_count": null,
   "metadata": {},
   "outputs": [],
   "source": [
    "trans = pd.read_csv('../../_m/transcripts/integration_by_symbol.txt', sep='\\t').rename(columns={'gene': 'Feature_ID', 'gene_name': 'Symbol'})\n",
    "trans['Feature_Type'] = 'Transcript'\n",
    "trans.head()"
   ]
  },
  {
   "cell_type": "code",
   "execution_count": null,
   "metadata": {},
   "outputs": [],
   "source": [
    "exons = pd.read_csv('../../_m/exons/integration_by_symbol.txt', sep='\\t').rename(columns={'gene': 'Feature_ID'})\n",
    "exons['Feature_Type'] = 'Exon'\n",
    "exons.head()"
   ]
  },
  {
   "cell_type": "code",
   "execution_count": null,
   "metadata": {},
   "outputs": [],
   "source": [
    "juncs = pd.read_csv('../../_m/junctions/integration_by_symbol.txt', sep='\\t').rename(columns={'gene': 'Feature_ID'})\n",
    "juncs['Feature_Type'] = 'Junction'\n",
    "juncs.head()"
   ]
  },
  {
   "cell_type": "code",
   "execution_count": null,
   "metadata": {},
   "outputs": [],
   "source": [
    "df = pd.concat([genes, trans, exons, juncs], axis=0, sort=False)\n",
    "print(df.shape)\n",
    "df.head(2)"
   ]
  },
  {
   "cell_type": "code",
   "execution_count": null,
   "metadata": {},
   "outputs": [],
   "source": [
    "df.to_csv('BrainSeq_Phase3_Caudate_GWAS_DE_eQTL_Integration.txt.gz', index=False, header=True, sep='\\t')"
   ]
  }
 ],
 "metadata": {
  "kernelspec": {
   "display_name": "Python 3",
   "language": "python",
   "name": "python3"
  },
  "language_info": {
   "codemirror_mode": {
    "name": "ipython",
    "version": 3
   },
   "file_extension": ".py",
   "mimetype": "text/x-python",
   "name": "python",
   "nbconvert_exporter": "python",
   "pygments_lexer": "ipython3",
   "version": "3.9.1"
  }
 },
 "nbformat": 4,
 "nbformat_minor": 4
}
