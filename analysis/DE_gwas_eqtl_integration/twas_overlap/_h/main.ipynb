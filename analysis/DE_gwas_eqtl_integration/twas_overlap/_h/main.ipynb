{
 "cells": [
  {
   "cell_type": "markdown",
   "metadata": {},
   "source": [
    "# Examine integration results for TWAS associations"
   ]
  },
  {
   "cell_type": "code",
   "execution_count": null,
   "metadata": {},
   "outputs": [],
   "source": [
    "import pandas as pd"
   ]
  },
  {
   "cell_type": "code",
   "execution_count": null,
   "metadata": {},
   "outputs": [],
   "source": [
    "df = pd.read_csv(\"../../manuscript_supp_data/_m/BrainSeq_Phase3_Caudate_GWAS_DE_eQTL_Integration.txt.gz\", sep='\\t')\n",
    "df = df[(df[\"Feature_Type\"] == \"Gene\")].copy()\n",
    "df[\"ensemblID\"] = df.gene_id.str.replace(\"\\\\..*\", \"\", regex=True)\n",
    "df = df.groupby(\"gene_id\").first().reset_index()\n",
    "df.head()"
   ]
  },
  {
   "cell_type": "code",
   "execution_count": null,
   "metadata": {},
   "outputs": [],
   "source": [
    "twas_df = pd.read_csv(\"../../../twas/feature_comparison/manuscript_supp_data/_m/BrainSeq_Phase3_Caudate_TWAS_associations_allFeatures.txt.gz\", sep='\\t')\n",
    "twas_df = twas_df[(twas_df[\"Type\"] == \"Gene\") & (twas_df[\"FDR\"] < 0.05)].copy()\n",
    "twas_df.head()"
   ]
  },
  {
   "cell_type": "code",
   "execution_count": null,
   "metadata": {},
   "outputs": [],
   "source": [
    "len(set(df.ensemblID) & set(twas_df.ensemblID))"
   ]
  },
  {
   "cell_type": "code",
   "execution_count": null,
   "metadata": {},
   "outputs": [],
   "source": [
    "df[(df[\"ensemblID\"].isin(list(set(df.ensemblID) & set(twas_df.ensemblID))))]"
   ]
  },
  {
   "cell_type": "code",
   "execution_count": null,
   "metadata": {},
   "outputs": [],
   "source": []
  }
 ],
 "metadata": {
  "kernelspec": {
   "display_name": "Python 3",
   "language": "python",
   "name": "python3"
  },
  "language_info": {
   "codemirror_mode": {
    "name": "ipython",
    "version": 3
   },
   "file_extension": ".py",
   "mimetype": "text/x-python",
   "name": "python",
   "nbconvert_exporter": "python",
   "pygments_lexer": "ipython3",
   "version": "3.9.1"
  }
 },
 "nbformat": 4,
 "nbformat_minor": 4
}
