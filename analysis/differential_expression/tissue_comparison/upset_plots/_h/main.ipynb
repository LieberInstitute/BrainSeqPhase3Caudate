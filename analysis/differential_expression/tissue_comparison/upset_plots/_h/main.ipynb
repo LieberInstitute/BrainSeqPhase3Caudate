{
 "cells": [
  {
   "cell_type": "markdown",
   "metadata": {},
   "source": [
    "# Tissue comparison for differential expression analysis"
   ]
  },
  {
   "cell_type": "code",
   "execution_count": 1,
   "metadata": {},
   "outputs": [],
   "source": [
    "import functools\n",
    "import numpy as np\n",
    "import pandas as pd\n",
    "from plotnine import *\n",
    "from gtfparse import read_gtf\n",
    "from warnings import filterwarnings\n",
    "from matplotlib.cbook import mplDeprecation\n",
    "filterwarnings('ignore', category=mplDeprecation)\n",
    "filterwarnings('ignore', category=UserWarning, module='plotnine.*')\n",
    "filterwarnings('ignore', category=DeprecationWarning, module='plotnine.*')"
   ]
  },
  {
   "cell_type": "code",
   "execution_count": 2,
   "metadata": {},
   "outputs": [],
   "source": [
    "config = {\n",
    "    'caudate': '../../../_m/genes/diffExpr_szVctl_full.txt',\n",
    "    'dlpfc': '/ceph/projects/v4_phase3_paper/inputs/public_data/_m/phase2/dlpfc_diffExpr_szVctl_full.txt',\n",
    "    'hippo': '/ceph/projects/v4_phase3_paper/inputs/public_data/_m/phase2/hippo_diffExpr_szVctl_full.txt',\n",
    "    'cmc_sva': '/ceph/projects/v4_phase3_paper/inputs/public_data/_m/cmc/CMC_MSSM-Penn-Pitt_DLPFC_mRNA_'+\\\n",
    "    'IlluminaHiSeq2500_gene-adjustedSVA-differentialExpression-includeAncestry-DxSCZ-DE.tsv',\n",
    "    'cmc': '/ceph/projects/v4_phase3_paper/inputs/public_data/_m/cmc/CMC_MSSM-Penn-Pitt_DLPFC_mRNA_'+\\\n",
    "    'IlluminaHiSeq2500_gene-adjustedNoSVA-differentialExpression-includeAncestry-DxSCZ-DE.tsv'\n",
    "}"
   ]
  },
  {
   "cell_type": "code",
   "execution_count": 3,
   "metadata": {},
   "outputs": [],
   "source": [
    "@functools.lru_cache()\n",
    "def get_gtf(gtf_file):\n",
    "    return read_gtf(gtf_file)\n",
    "\n",
    "\n",
    "@functools.lru_cache()\n",
    "def get_cmc(SVA=True):\n",
    "    if SVA:\n",
    "        cmc_dlpfc = pd.read_csv(config[\"cmc_sva\"], sep='\\t')\\\n",
    "                      .rename(columns={'MAPPED_genes': 'Symbol', \"genes\": \"ensemblID\"})\n",
    "    else:\n",
    "        cmc_dlpfc = pd.read_csv(config[\"cmc\"], sep='\\t')\\\n",
    "                      .rename(columns={'MAPPED_genes': \"Symbol\", \"genes\": \"ensemblID\"})\n",
    "    cmc_dlpfc['Dir'] = np.sign(cmc_dlpfc['t'])\n",
    "    cmc_dlpfc[\"Feature\"] = cmc_dlpfc.ensemblID\n",
    "    return cmc_dlpfc[[\"Feature\", \"ensemblID\", 'adj.P.Val', 't', 'Dir', \"Symbol\"]]\n",
    "\n",
    "\n",
    "@functools.lru_cache()\n",
    "def get_deg(filename):\n",
    "    dft = pd.read_csv(filename, sep='\\t', index_col=0)\n",
    "    dft['Feature'] = dft.index\n",
    "    dft['Dir'] = np.sign(dft['t'])\n",
    "    if 'gene_id' in dft.columns:\n",
    "        dft['ensemblID'] = dft.gene_id.str.replace('\\\\..*', '', regex=True)\n",
    "    elif 'ensembl_gene_id' in dft.columns:\n",
    "        dft.rename(columns={'ensembl_gene_id': 'ensemblID'}, inplace=True)\n",
    "    return dft[['Feature', 'ensemblID', 'adj.P.Val', 'logFC', 't', 'Dir']]\n",
    "\n",
    "\n",
    "@functools.lru_cache()\n",
    "def get_deg_sig(filename):\n",
    "    dft = get_deg(filename)\n",
    "    return dft[(dft['adj.P.Val'] < 0.05)]\n",
    "\n",
    "\n",
    "@functools.lru_cache()\n",
    "def merge_dataframes(tissue1, tissue2):\n",
    "    return get_deg(config[tissue1]).merge(get_deg(config[tissue2]), \n",
    "                                          on='Feature', \n",
    "                                          suffixes=['_%s' % tissue1, '_%s' % tissue2])\n",
    "\n",
    "\n",
    "@functools.lru_cache()\n",
    "def merge_dataframes_sig(tissue1, tissue2):\n",
    "    return get_deg_sig(config[tissue1]).merge(get_deg_sig(config[tissue2]), \n",
    "                                              on='Feature', \n",
    "                                              suffixes=['_%s' % tissue1, '_%s' % tissue2])"
   ]
  },
  {
   "cell_type": "code",
   "execution_count": 4,
   "metadata": {},
   "outputs": [],
   "source": [
    "def tissue_annotation(tissue):\n",
    "    return {'dlpfc': 'DLPFC', 'hippo': 'Hippocampus',\n",
    "            'caudate': 'Caudate', 'cmc': \"CMC DLPFC\"}[tissue]\n",
    "\n",
    "\n",
    "def save_plot(p, fn, width=7, height=7):\n",
    "    '''Save plot as svg, png, and pdf with specific label and dimension.'''\n",
    "    for ext in ['.svg', '.png', '.pdf']:\n",
    "        p.save(fn+ext, width=width, height=height)\n",
    "        \n",
    "        \n",
    "def gene_annotation(gtf_file, feature):\n",
    "    gtf0 = get_gtf(gtf_file)\n",
    "    gtf = gtf0[gtf0[\"feature\"] == feature]\n",
    "    return gtf[[\"gene_id\", \"gene_name\", \"transcript_id\", \"exon_id\", \n",
    "                \"gene_type\", \"seqname\", \"start\", \"end\", \"strand\"]]"
   ]
  },
  {
   "cell_type": "markdown",
   "metadata": {},
   "source": [
    "## BrainSeq Comparison"
   ]
  },
  {
   "cell_type": "code",
   "execution_count": 5,
   "metadata": {},
   "outputs": [
    {
     "data": {
      "text/plain": [
       "Dir\n",
       "-1.0    12061\n",
       " 1.0    10897\n",
       "dtype: int64"
      ]
     },
     "execution_count": 5,
     "metadata": {},
     "output_type": "execute_result"
    }
   ],
   "source": [
    "caudate = get_deg(config['caudate'])\n",
    "caudate.groupby('Dir').size()"
   ]
  },
  {
   "cell_type": "code",
   "execution_count": 6,
   "metadata": {},
   "outputs": [
    {
     "name": "stderr",
     "output_type": "stream",
     "text": [
      "INFO:numexpr.utils:Note: NumExpr detected 64 cores but \"NUMEXPR_MAX_THREADS\" not set, so enforcing safe limit of 8.\n",
      "INFO:numexpr.utils:NumExpr defaulting to 8 threads.\n"
     ]
    },
    {
     "data": {
      "text/plain": [
       "(2701, 6)"
      ]
     },
     "execution_count": 6,
     "metadata": {},
     "output_type": "execute_result"
    }
   ],
   "source": [
    "caudate[(caudate['adj.P.Val'] < 0.05)].shape"
   ]
  },
  {
   "cell_type": "code",
   "execution_count": 7,
   "metadata": {},
   "outputs": [
    {
     "data": {
      "text/plain": [
       "Dir\n",
       "-1.0    13207\n",
       " 1.0    11445\n",
       "dtype: int64"
      ]
     },
     "execution_count": 7,
     "metadata": {},
     "output_type": "execute_result"
    }
   ],
   "source": [
    "dlpfc = get_deg(config['dlpfc'])\n",
    "dlpfc.groupby('Dir').size()"
   ]
  },
  {
   "cell_type": "code",
   "execution_count": 8,
   "metadata": {},
   "outputs": [
    {
     "data": {
      "text/plain": [
       "(245, 6)"
      ]
     },
     "execution_count": 8,
     "metadata": {},
     "output_type": "execute_result"
    }
   ],
   "source": [
    "dlpfc[(dlpfc['adj.P.Val'] < 0.05)].shape"
   ]
  },
  {
   "cell_type": "code",
   "execution_count": 9,
   "metadata": {},
   "outputs": [
    {
     "data": {
      "text/plain": [
       "Dir\n",
       "-1.0    12852\n",
       " 1.0    11800\n",
       "dtype: int64"
      ]
     },
     "execution_count": 9,
     "metadata": {},
     "output_type": "execute_result"
    }
   ],
   "source": [
    "hippo = get_deg(config['hippo'])\n",
    "hippo.groupby('Dir').size()"
   ]
  },
  {
   "cell_type": "code",
   "execution_count": 10,
   "metadata": {},
   "outputs": [
    {
     "data": {
      "text/plain": [
       "(48, 6)"
      ]
     },
     "execution_count": 10,
     "metadata": {},
     "output_type": "execute_result"
    }
   ],
   "source": [
    "hippo[(hippo['adj.P.Val'] < 0.05)].shape"
   ]
  },
  {
   "cell_type": "markdown",
   "metadata": {},
   "source": [
    "### Upset Plot"
   ]
  },
  {
   "cell_type": "code",
   "execution_count": 11,
   "metadata": {},
   "outputs": [],
   "source": [
    "phase2_dlpfc = dlpfc[(dlpfc['adj.P.Val'] < 0.05)].copy()\n",
    "phase2_dlpfc['DLPFC'] = 1\n",
    "phase2_dlpfc = phase2_dlpfc[['ensemblID', 'DLPFC']]\n",
    "\n",
    "phase2_hippo = hippo[(hippo['adj.P.Val'] < 0.05)].copy()\n",
    "phase2_hippo['Hippocampus'] = 1\n",
    "phase2_hippo = phase2_hippo[['ensemblID', 'Hippocampus']]\n",
    "\n",
    "phase3_caudate = caudate[(caudate['adj.P.Val'] < 0.05)].copy()\n",
    "phase3_caudate['Caudate'] = 1\n",
    "phase3_caudate = phase3_caudate[['ensemblID', 'Caudate']]"
   ]
  },
  {
   "cell_type": "code",
   "execution_count": 12,
   "metadata": {},
   "outputs": [
    {
     "name": "stdout",
     "output_type": "stream",
     "text": [
      "(2929, 2) (2929, 2) (2929, 2)\n"
     ]
    }
   ],
   "source": [
    "geneList = pd.merge(phase3_caudate[['ensemblID']], \n",
    "                    phase2_dlpfc[['ensemblID']], \n",
    "                    on=['ensemblID'], how='outer')\\\n",
    "             .merge(phase2_hippo[['ensemblID']], \n",
    "                    on=['ensemblID'], how='outer')\\\n",
    "             .groupby(['ensemblID']).first().reset_index()\n",
    "## Caudate\n",
    "newC = pd.merge(geneList, phase3_caudate, on=['ensemblID'], \n",
    "                how='outer').fillna(0)\n",
    "newC['Caudate'] = newC['Caudate'].astype('int')\n",
    "## DLPFC\n",
    "newD1 = pd.merge(geneList, phase2_dlpfc, on=['ensemblID'], \n",
    "                 how='outer').fillna(0)\n",
    "newD1['DLPFC'] = newD1['DLPFC'].astype('int')\n",
    "## Hippocampus\n",
    "newH = pd.merge(geneList, phase2_hippo, on=['ensemblID'], \n",
    "                how='outer').fillna(0)\n",
    "newH['Hippocampus'] = newH['Hippocampus'].astype('int')\n",
    "\n",
    "print(newC.shape, newH.shape, newD1.shape)"
   ]
  },
  {
   "cell_type": "code",
   "execution_count": 13,
   "metadata": {},
   "outputs": [
    {
     "data": {
      "text/html": [
       "<div>\n",
       "<style scoped>\n",
       "    .dataframe tbody tr th:only-of-type {\n",
       "        vertical-align: middle;\n",
       "    }\n",
       "\n",
       "    .dataframe tbody tr th {\n",
       "        vertical-align: top;\n",
       "    }\n",
       "\n",
       "    .dataframe thead th {\n",
       "        text-align: right;\n",
       "    }\n",
       "</style>\n",
       "<table border=\"1\" class=\"dataframe\">\n",
       "  <thead>\n",
       "    <tr style=\"text-align: right;\">\n",
       "      <th></th>\n",
       "      <th>Caudate</th>\n",
       "      <th>DLPFC</th>\n",
       "      <th>Hippocampus</th>\n",
       "    </tr>\n",
       "    <tr>\n",
       "      <th>ensemblID</th>\n",
       "      <th></th>\n",
       "      <th></th>\n",
       "      <th></th>\n",
       "    </tr>\n",
       "  </thead>\n",
       "  <tbody>\n",
       "    <tr>\n",
       "      <th>ENSG00000001084</th>\n",
       "      <td>1</td>\n",
       "      <td>0</td>\n",
       "      <td>0</td>\n",
       "    </tr>\n",
       "    <tr>\n",
       "      <th>ENSG00000001497</th>\n",
       "      <td>1</td>\n",
       "      <td>0</td>\n",
       "      <td>0</td>\n",
       "    </tr>\n",
       "  </tbody>\n",
       "</table>\n",
       "</div>"
      ],
      "text/plain": [
       "                 Caudate  DLPFC  Hippocampus\n",
       "ensemblID                                   \n",
       "ENSG00000001084        1      0            0\n",
       "ENSG00000001497        1      0            0"
      ]
     },
     "execution_count": 13,
     "metadata": {},
     "output_type": "execute_result"
    }
   ],
   "source": [
    "df = pd.concat([newC.set_index(['ensemblID']), \n",
    "                newD1.set_index(['ensemblID']), \n",
    "                newH.set_index(['ensemblID'])], \n",
    "               axis=1, join='outer')\n",
    "df.head(2)"
   ]
  },
  {
   "cell_type": "code",
   "execution_count": 14,
   "metadata": {},
   "outputs": [],
   "source": [
    "%load_ext rpy2.ipython"
   ]
  },
  {
   "cell_type": "code",
   "execution_count": 15,
   "metadata": {},
   "outputs": [
    {
     "name": "stderr",
     "output_type": "stream",
     "text": [
      "WARNING:rpy2.rinterface_lib.callbacks:R[write to console]: Loading required package: grid\n",
      "\n",
      "WARNING:rpy2.rinterface_lib.callbacks:R[write to console]: ========================================\n",
      "ComplexHeatmap version 2.6.2\n",
      "Bioconductor page: http://bioconductor.org/packages/ComplexHeatmap/\n",
      "Github page: https://github.com/jokergoo/ComplexHeatmap\n",
      "Documentation: http://jokergoo.github.io/ComplexHeatmap-reference\n",
      "\n",
      "If you use it in published research, please cite:\n",
      "Gu, Z. Complex heatmaps reveal patterns and correlations in multidimensional \n",
      "  genomic data. Bioinformatics 2016.\n",
      "\n",
      "This message can be suppressed by:\n",
      "  suppressPackageStartupMessages(library(ComplexHeatmap))\n",
      "========================================\n",
      "\n",
      "\n"
     ]
    }
   ],
   "source": [
    "%%R\n",
    "#library(UpSetR)\n",
    "#upset(df, order.by=\"freq\", text.scale=c(3, 2.5, 2.4, 2.25, 2.6, 2.6), point.size=3.6, line.size=1.4)\n",
    "library(ComplexHeatmap)\n",
    "subset_pvalue <- function(filename, fdr_cutoff){\n",
    "    df <- subset(read.delim(filename, row.names=1, stringsAsFactors = F), \n",
    "                 adj.P.Val < fdr_cutoff)\n",
    "    if('gene_id' %in% colnames(df)){\n",
    "        df$ensemblID <- gsub('\\\\..*', '', df$gene_id)\n",
    "    } else if('ensembl_gene_id' %in% colnames(df)){\n",
    "        df <- dplyr::rename(df, ensemblID=ensembl_gene_id)\n",
    "    }\n",
    "    return(df$ensemblID)\n",
    "}\n",
    "\n",
    "caudate = subset_pvalue('../../../_m/genes/diffExpr_szVctl_full.txt', 0.05)\n",
    "dlpfc = subset_pvalue('/ceph/projects/v4_phase3_paper/inputs/public_data/_m/phase2/dlpfc_diffExpr_szVctl_full.txt', 0.05)\n",
    "hippo = subset_pvalue('/ceph/projects/v4_phase3_paper/inputs/public_data/_m/phase2/hippo_diffExpr_szVctl_full.txt', 0.05)\n",
    "\n",
    "lt = list(Caudate = caudate,\n",
    "          DLPFC = dlpfc,\n",
    "          Hippocampus = hippo)\n",
    "\n",
    "m = make_comb_mat(lt)\n",
    "cbb_palette <- c(\"#000000\", \"#E69F00\", \"#56B4E9\", \"#009E73\", \n",
    "                 \"#F0E442\", \"#0072B2\", \"#D55E00\", \"#CC79A7\")"
   ]
  },
  {
   "cell_type": "code",
   "execution_count": 16,
   "metadata": {},
   "outputs": [
    {
     "name": "stdout",
     "output_type": "stream",
     "text": [
      "png \n",
      "  2 \n"
     ]
    }
   ],
   "source": [
    "%%R\n",
    "right_annot = upset_right_annotation(\n",
    "    m, ylim = c(0, 3000),\n",
    "    gp = gpar(fill = \"black\"),\n",
    "    annotation_name_side = \"top\",\n",
    "    axis_param = list(side = \"top\"))\n",
    "\n",
    "top_annot = upset_top_annotation(\n",
    "    m, height=unit(7, \"cm\"), \n",
    "    ylim = c(0, 3000),\n",
    "    gp=gpar(fill=cbb_palette[comb_degree(m)]),\n",
    "    annotation_name_rot = 90)\n",
    "\n",
    "pdf('BrainSeq_dx_tissue_upsetR_DEgenes.pdf', width=8, height=4)\n",
    "ht = draw(UpSet(m, pt_size=unit(4, \"mm\"), lwd=3, \n",
    "                comb_col=cbb_palette[comb_degree(m)], \n",
    "                set_order = c(\"Caudate\", \"DLPFC\", \"Hippocampus\"), \n",
    "                comb_order = order(-comb_size(m)), \n",
    "                row_names_gp = gpar(fontsize = 14, fontface='bold'),\n",
    "                right_annotation = right_annot, \n",
    "                top_annotation = top_annot))\n",
    "od = column_order(ht)\n",
    "cs = comb_size(m)\n",
    "decorate_annotation(\"intersection_size\", {\n",
    "    grid.text(cs[od], x = seq_along(cs), y = unit(cs[od], \"native\") + \n",
    "              unit(6, \"pt\"), \n",
    "        default.units = \"native\", just = \"bottom\", gp = gpar(fontsize = 11))\n",
    "})\n",
    "dev.off()\n",
    "\n",
    "svg('BrainSeq_dx_tissue_upsetR_DEgenes.svg', width=8, height=4)\n",
    "ht = draw(UpSet(m, pt_size=unit(4, \"mm\"), lwd=3, \n",
    "                comb_col=cbb_palette[comb_degree(m)], \n",
    "                set_order = c(\"Caudate\", \"DLPFC\", \"Hippocampus\"), \n",
    "                comb_order = order(-comb_size(m)), \n",
    "                row_names_gp = gpar(fontsize = 14, fontface='bold'),\n",
    "                right_annotation = right_annot, \n",
    "                top_annotation = top_annot))\n",
    "od = column_order(ht)\n",
    "cs = comb_size(m)\n",
    "decorate_annotation(\"intersection_size\", {\n",
    "    grid.text(cs[od], x = seq_along(cs), y = unit(cs[od], \"native\") + \n",
    "              unit(6, \"pt\"), \n",
    "        default.units = \"native\", just = \"bottom\", gp = gpar(fontsize = 11))\n",
    "})\n",
    "dev.off()"
   ]
  },
  {
   "cell_type": "code",
   "execution_count": 17,
   "metadata": {},
   "outputs": [
    {
     "name": "stdout",
     "output_type": "stream",
     "text": [
      "png \n",
      "  2 \n"
     ]
    }
   ],
   "source": [
    "%%R\n",
    "right_ha = rowAnnotation(\n",
    "    \"Intersection\\nsize\" = anno_barplot(comb_size(m), border=F,\n",
    "                                        ylim = c(0, 3000), \n",
    "                                        gp=gpar(fill=cbb_palette[comb_degree(m)]),\n",
    "                                        width = unit(7, \"cm\")))\n",
    "top_ha = HeatmapAnnotation(\n",
    "    \"Set size\" = anno_barplot(set_size(m), border=F,\n",
    "                              ylim = c(0, 3000),\n",
    "                              gp = gpar(fill = \"black\"), \n",
    "                              height = unit(2, \"cm\")), \n",
    "    gap = unit(2, \"mm\"), annotation_name_side = \"left\", \n",
    "    annotation_name_rot = 90)\n",
    "\n",
    "\n",
    "pdf(\"BrainSeq_dx_tissue_upsetR_DEgenes_transpose.pdf\", width=5, height=10)\n",
    "ht = draw(UpSet(t(m), pt_size=unit(5, \"mm\"), lwd=3,\n",
    "                comb_order = order(-comb_size(m)), \n",
    "                comb_col=cbb_palette[comb_degree(m)], \n",
    "                set_order = c(\"Caudate\", \"DLPFC\", \"Hippocampus\"), \n",
    "                column_names_gp = gpar(fontsize = 16, fontface='bold'),\n",
    "                right_annotation = right_ha, top_annotation=top_ha))\n",
    "\n",
    "od = rev(row_order(ht))\n",
    "cs = comb_size(m)\n",
    "decorate_annotation(\"Intersection\\nsize\", {\n",
    "    grid.text(cs[od], y = seq_along(cs), x = unit(cs[od], \"native\") + \n",
    "              unit(6, \"pt\"), \n",
    "        default.units = \"native\", just = \"left\", gp = gpar(fontsize = 11))\n",
    "})\n",
    "dev.off()\n",
    "\n",
    "svg(\"BrainSeq_dx_tissue_upsetR_DEgenes_transpose.svg\", width=5, height=10)\n",
    "ht = draw(UpSet(t(m), pt_size=unit(5, \"mm\"), lwd=3,\n",
    "                comb_order = order(-comb_size(m)), \n",
    "                comb_col=cbb_palette[comb_degree(m)], \n",
    "                set_order = c(\"Caudate\", \"DLPFC\", \"Hippocampus\"), \n",
    "                column_names_gp = gpar(fontsize = 16, fontface='bold'),\n",
    "                right_annotation = right_ha, top_annotation=top_ha))\n",
    "\n",
    "od = rev(row_order(ht))\n",
    "cs = comb_size(m)\n",
    "decorate_annotation(\"Intersection\\nsize\", {\n",
    "    grid.text(cs[od], y = seq_along(cs), x = unit(cs[od], \"native\") + \n",
    "              unit(6, \"pt\"), \n",
    "        default.units = \"native\", just = \"left\", gp = gpar(fontsize = 11))\n",
    "})\n",
    "dev.off()"
   ]
  },
  {
   "cell_type": "code",
   "execution_count": 18,
   "metadata": {},
   "outputs": [
    {
     "name": "stderr",
     "output_type": "stream",
     "text": [
      "INFO:root:Extracted GTF attributes: ['gene_id', 'gene_type', 'gene_status', 'gene_name', 'level', 'havana_gene', 'transcript_id', 'transcript_type', 'transcript_status', 'transcript_name', 'transcript_support_level', 'tag', 'havana_transcript', 'exon_number', 'exon_id', 'ont', 'protein_id', 'ccdsid']\n"
     ]
    },
    {
     "data": {
      "text/html": [
       "<div>\n",
       "<style scoped>\n",
       "    .dataframe tbody tr th:only-of-type {\n",
       "        vertical-align: middle;\n",
       "    }\n",
       "\n",
       "    .dataframe tbody tr th {\n",
       "        vertical-align: top;\n",
       "    }\n",
       "\n",
       "    .dataframe thead th {\n",
       "        text-align: right;\n",
       "    }\n",
       "</style>\n",
       "<table border=\"1\" class=\"dataframe\">\n",
       "  <thead>\n",
       "    <tr style=\"text-align: right;\">\n",
       "      <th></th>\n",
       "      <th>gene_id</th>\n",
       "      <th>gene_name</th>\n",
       "      <th>transcript_id</th>\n",
       "      <th>exon_id</th>\n",
       "      <th>gene_type</th>\n",
       "      <th>seqname</th>\n",
       "      <th>start</th>\n",
       "      <th>end</th>\n",
       "      <th>strand</th>\n",
       "    </tr>\n",
       "  </thead>\n",
       "  <tbody>\n",
       "    <tr>\n",
       "      <th>0</th>\n",
       "      <td>ENSG00000223972.5</td>\n",
       "      <td>DDX11L1</td>\n",
       "      <td></td>\n",
       "      <td></td>\n",
       "      <td>transcribed_unprocessed_pseudogene</td>\n",
       "      <td>chr1</td>\n",
       "      <td>11869</td>\n",
       "      <td>14409</td>\n",
       "      <td>+</td>\n",
       "    </tr>\n",
       "    <tr>\n",
       "      <th>12</th>\n",
       "      <td>ENSG00000227232.5</td>\n",
       "      <td>WASH7P</td>\n",
       "      <td></td>\n",
       "      <td></td>\n",
       "      <td>unprocessed_pseudogene</td>\n",
       "      <td>chr1</td>\n",
       "      <td>14404</td>\n",
       "      <td>29570</td>\n",
       "      <td>-</td>\n",
       "    </tr>\n",
       "  </tbody>\n",
       "</table>\n",
       "</div>"
      ],
      "text/plain": [
       "              gene_id gene_name transcript_id exon_id  \\\n",
       "0   ENSG00000223972.5   DDX11L1                         \n",
       "12  ENSG00000227232.5    WASH7P                         \n",
       "\n",
       "                             gene_type seqname  start    end strand  \n",
       "0   transcribed_unprocessed_pseudogene    chr1  11869  14409      +  \n",
       "12              unprocessed_pseudogene    chr1  14404  29570      -  "
      ]
     },
     "execution_count": 18,
     "metadata": {},
     "output_type": "execute_result"
    }
   ],
   "source": [
    "gtf_file = '/ceph/genome/human/gencode25/gtf.CHR/_m/gencode.v25.annotation.gtf'\n",
    "gtf_annot = gene_annotation(gtf_file, 'gene')\n",
    "gtf_annot.head(2)"
   ]
  },
  {
   "cell_type": "code",
   "execution_count": 19,
   "metadata": {},
   "outputs": [
    {
     "data": {
      "text/html": [
       "<div>\n",
       "<style scoped>\n",
       "    .dataframe tbody tr th:only-of-type {\n",
       "        vertical-align: middle;\n",
       "    }\n",
       "\n",
       "    .dataframe tbody tr th {\n",
       "        vertical-align: top;\n",
       "    }\n",
       "\n",
       "    .dataframe thead th {\n",
       "        text-align: right;\n",
       "    }\n",
       "</style>\n",
       "<table border=\"1\" class=\"dataframe\">\n",
       "  <thead>\n",
       "    <tr style=\"text-align: right;\">\n",
       "      <th></th>\n",
       "      <th>Feature</th>\n",
       "      <th>ensemblID</th>\n",
       "      <th>adj.P.Val</th>\n",
       "      <th>logFC</th>\n",
       "      <th>t</th>\n",
       "      <th>Dir</th>\n",
       "      <th>gene_id</th>\n",
       "      <th>gene_name</th>\n",
       "      <th>seqname</th>\n",
       "    </tr>\n",
       "  </thead>\n",
       "  <tbody>\n",
       "    <tr>\n",
       "      <th>699321</th>\n",
       "      <td>ENSG00000248587.7</td>\n",
       "      <td>ENSG00000248587</td>\n",
       "      <td>1.387742e-26</td>\n",
       "      <td>0.801502</td>\n",
       "      <td>12.696887</td>\n",
       "      <td>1.0</td>\n",
       "      <td>ENSG00000248587.7</td>\n",
       "      <td>GDNF-AS1</td>\n",
       "      <td>chr5</td>\n",
       "    </tr>\n",
       "    <tr>\n",
       "      <th>2481489</th>\n",
       "      <td>ENSG00000138944.7</td>\n",
       "      <td>ENSG00000138944</td>\n",
       "      <td>1.707516e-24</td>\n",
       "      <td>0.563733</td>\n",
       "      <td>12.073351</td>\n",
       "      <td>1.0</td>\n",
       "      <td>ENSG00000138944.7</td>\n",
       "      <td>KIAA1644</td>\n",
       "      <td>chr22</td>\n",
       "    </tr>\n",
       "    <tr>\n",
       "      <th>2362233</th>\n",
       "      <td>ENSG00000185052.11</td>\n",
       "      <td>ENSG00000185052</td>\n",
       "      <td>3.972599e-21</td>\n",
       "      <td>0.291763</td>\n",
       "      <td>11.122852</td>\n",
       "      <td>1.0</td>\n",
       "      <td>ENSG00000185052.11</td>\n",
       "      <td>SLC24A3</td>\n",
       "      <td>chr20</td>\n",
       "    </tr>\n",
       "    <tr>\n",
       "      <th>1705114</th>\n",
       "      <td>ENSG00000140015.19</td>\n",
       "      <td>ENSG00000140015</td>\n",
       "      <td>6.716497e-18</td>\n",
       "      <td>0.515655</td>\n",
       "      <td>10.185331</td>\n",
       "      <td>1.0</td>\n",
       "      <td>ENSG00000140015.19</td>\n",
       "      <td>KCNH5</td>\n",
       "      <td>chr14</td>\n",
       "    </tr>\n",
       "    <tr>\n",
       "      <th>2551916</th>\n",
       "      <td>ENSG00000171004.17</td>\n",
       "      <td>ENSG00000171004</td>\n",
       "      <td>3.196203e-16</td>\n",
       "      <td>0.302105</td>\n",
       "      <td>9.670025</td>\n",
       "      <td>1.0</td>\n",
       "      <td>ENSG00000171004.17</td>\n",
       "      <td>HS6ST2</td>\n",
       "      <td>chrX</td>\n",
       "    </tr>\n",
       "  </tbody>\n",
       "</table>\n",
       "</div>"
      ],
      "text/plain": [
       "                    Feature        ensemblID     adj.P.Val     logFC  \\\n",
       "699321    ENSG00000248587.7  ENSG00000248587  1.387742e-26  0.801502   \n",
       "2481489   ENSG00000138944.7  ENSG00000138944  1.707516e-24  0.563733   \n",
       "2362233  ENSG00000185052.11  ENSG00000185052  3.972599e-21  0.291763   \n",
       "1705114  ENSG00000140015.19  ENSG00000140015  6.716497e-18  0.515655   \n",
       "2551916  ENSG00000171004.17  ENSG00000171004  3.196203e-16  0.302105   \n",
       "\n",
       "                 t  Dir             gene_id gene_name seqname  \n",
       "699321   12.696887  1.0   ENSG00000248587.7  GDNF-AS1    chr5  \n",
       "2481489  12.073351  1.0   ENSG00000138944.7  KIAA1644   chr22  \n",
       "2362233  11.122852  1.0  ENSG00000185052.11   SLC24A3   chr20  \n",
       "1705114  10.185331  1.0  ENSG00000140015.19     KCNH5   chr14  \n",
       "2551916   9.670025  1.0  ENSG00000171004.17    HS6ST2    chrX  "
      ]
     },
     "execution_count": 19,
     "metadata": {},
     "output_type": "execute_result"
    }
   ],
   "source": [
    "dft = caudate.merge(gtf_annot[['gene_id', 'gene_name', 'seqname']], \n",
    "                    left_index=True, right_on='gene_id')\n",
    "dft.head()"
   ]
  },
  {
   "cell_type": "code",
   "execution_count": 20,
   "metadata": {},
   "outputs": [
    {
     "data": {
      "text/html": [
       "<div>\n",
       "<style scoped>\n",
       "    .dataframe tbody tr th:only-of-type {\n",
       "        vertical-align: middle;\n",
       "    }\n",
       "\n",
       "    .dataframe tbody tr th {\n",
       "        vertical-align: top;\n",
       "    }\n",
       "\n",
       "    .dataframe thead th {\n",
       "        text-align: right;\n",
       "    }\n",
       "</style>\n",
       "<table border=\"1\" class=\"dataframe\">\n",
       "  <thead>\n",
       "    <tr style=\"text-align: right;\">\n",
       "      <th></th>\n",
       "      <th>gene_id</th>\n",
       "      <th>ensemblID</th>\n",
       "      <th>seqname</th>\n",
       "      <th>gene_name</th>\n",
       "      <th>Dir</th>\n",
       "    </tr>\n",
       "  </thead>\n",
       "  <tbody>\n",
       "  </tbody>\n",
       "</table>\n",
       "</div>"
      ],
      "text/plain": [
       "Empty DataFrame\n",
       "Columns: [gene_id, ensemblID, seqname, gene_name, Dir]\n",
       "Index: []"
      ]
     },
     "execution_count": 20,
     "metadata": {},
     "output_type": "execute_result"
    }
   ],
   "source": [
    "shared_df = dft.loc[:, ['gene_id', 'ensemblID', 'seqname', 'gene_name', 'Dir']]\\\n",
    "        .merge(pd.DataFrame({'ensemblID': list(set(phase2_dlpfc['ensemblID']) & \n",
    "                                               set(phase2_hippo['ensemblID']) & \n",
    "                                               set(phase3_caudate['ensemblID']))}), \n",
    "               on='ensemblID')\n",
    "#shared_df.to_csv('BrainSeq_shared_degs_annotation.txt', sep='\\t', index=False, header=True)\n",
    "shared_df.head()"
   ]
  },
  {
   "cell_type": "code",
   "execution_count": 21,
   "metadata": {},
   "outputs": [],
   "source": [
    "gtf_annot['ensemblID'] = gtf_annot.gene_id.str.replace(\"\\\\..*\", \"\", regex=True)\n",
    "gtf_annot[['gene_id', 'ensemblID', 'gene_name', 'seqname', 'gene_type']]\\\n",
    "    .merge(df, left_on='ensemblID', right_index=True)\\\n",
    "    .to_csv('brainseq_deg_across_tissues_comparison.csv', index=False)"
   ]
  },
  {
   "cell_type": "markdown",
   "metadata": {},
   "source": [
    "## CMC Comparison"
   ]
  },
  {
   "cell_type": "markdown",
   "metadata": {},
   "source": [
    "### Adjusted SVA"
   ]
  },
  {
   "cell_type": "code",
   "execution_count": 22,
   "metadata": {},
   "outputs": [
    {
     "data": {
      "text/plain": [
       "Dir\n",
       "-1.0    8898\n",
       " 1.0    7525\n",
       "dtype: int64"
      ]
     },
     "execution_count": 22,
     "metadata": {},
     "output_type": "execute_result"
    }
   ],
   "source": [
    "cmc = get_cmc(SVA=True)\n",
    "cmc.groupby('Dir').size()"
   ]
  },
  {
   "cell_type": "code",
   "execution_count": 23,
   "metadata": {},
   "outputs": [
    {
     "data": {
      "text/plain": [
       "(419, 6)"
      ]
     },
     "execution_count": 23,
     "metadata": {},
     "output_type": "execute_result"
    }
   ],
   "source": [
    "cmc[(cmc['adj.P.Val'] < 0.05)].shape"
   ]
  },
  {
   "cell_type": "markdown",
   "metadata": {},
   "source": [
    "### No adjusted SVA"
   ]
  },
  {
   "cell_type": "code",
   "execution_count": 24,
   "metadata": {},
   "outputs": [
    {
     "data": {
      "text/plain": [
       "Dir\n",
       "-1.0    8759\n",
       " 1.0    7664\n",
       "dtype: int64"
      ]
     },
     "execution_count": 24,
     "metadata": {},
     "output_type": "execute_result"
    }
   ],
   "source": [
    "cmc_dlpfc2 = get_cmc(False)\n",
    "cmc_dlpfc2.groupby('Dir').size()"
   ]
  },
  {
   "cell_type": "code",
   "execution_count": 25,
   "metadata": {},
   "outputs": [
    {
     "data": {
      "text/plain": [
       "(573, 6)"
      ]
     },
     "execution_count": 25,
     "metadata": {},
     "output_type": "execute_result"
    }
   ],
   "source": [
    "cmc_dlpfc2[(cmc_dlpfc2['adj.P.Val'] < 0.05)].shape"
   ]
  },
  {
   "cell_type": "markdown",
   "metadata": {},
   "source": [
    "### Upset Plot"
   ]
  },
  {
   "cell_type": "code",
   "execution_count": 26,
   "metadata": {},
   "outputs": [
    {
     "name": "stdout",
     "output_type": "stream",
     "text": [
      "(3418, 2) (3418, 2) (3418, 2)\n"
     ]
    }
   ],
   "source": [
    "cmc_dlpfc = cmc[(cmc['adj.P.Val'] < 0.05)].copy()\n",
    "cmc_dlpfc['CMC DLPFC'] = 1\n",
    "cmc_dlpfc = cmc_dlpfc[['ensemblID', 'CMC DLPFC']]\n",
    "\n",
    "cmc_noSva = cmc_dlpfc2[(cmc_dlpfc2['adj.P.Val'] < 0.05)].copy()\n",
    "cmc_noSva['CMC DLPFC (no SVA)'] = 1\n",
    "cmc_noSva = cmc_noSva[['ensemblID', 'CMC DLPFC (no SVA)']]\n",
    "\n",
    "geneList = pd.merge(phase3_caudate[['ensemblID']], \n",
    "                    cmc_dlpfc[['ensemblID']], \n",
    "                    on=['ensemblID'], how='outer')\\\n",
    "             .merge(cmc_noSva[['ensemblID']], \n",
    "                    on=['ensemblID'], how='outer')\\\n",
    "             .groupby(['ensemblID']).first().reset_index()\n",
    "## Caudate\n",
    "newC = pd.merge(geneList, phase3_caudate, on=['ensemblID'], \n",
    "                how='outer').fillna(0)\n",
    "newC['Caudate'] = newC['Caudate'].astype('int')\n",
    "## CMC DLPFC\n",
    "newD2 = pd.merge(geneList, cmc_dlpfc, on=['ensemblID'], \n",
    "                 how='outer').fillna(0)\n",
    "newD2['CMC DLPFC'] = newD2['CMC DLPFC'].astype('int')\n",
    "## Hippocampus\n",
    "newD3 = pd.merge(geneList, cmc_noSva, on=['ensemblID'], \n",
    "                how='outer').fillna(0)\n",
    "newD3['CMC DLPFC (no SVA)'] = newD3['CMC DLPFC (no SVA)'].astype('int')\n",
    "\n",
    "print(newC.shape, newD2.shape, newD3.shape)"
   ]
  },
  {
   "cell_type": "code",
   "execution_count": 27,
   "metadata": {},
   "outputs": [
    {
     "data": {
      "text/html": [
       "<div>\n",
       "<style scoped>\n",
       "    .dataframe tbody tr th:only-of-type {\n",
       "        vertical-align: middle;\n",
       "    }\n",
       "\n",
       "    .dataframe tbody tr th {\n",
       "        vertical-align: top;\n",
       "    }\n",
       "\n",
       "    .dataframe thead th {\n",
       "        text-align: right;\n",
       "    }\n",
       "</style>\n",
       "<table border=\"1\" class=\"dataframe\">\n",
       "  <thead>\n",
       "    <tr style=\"text-align: right;\">\n",
       "      <th></th>\n",
       "      <th>Caudate</th>\n",
       "      <th>CMC DLPFC</th>\n",
       "      <th>CMC DLPFC (no SVA)</th>\n",
       "    </tr>\n",
       "    <tr>\n",
       "      <th>ensemblID</th>\n",
       "      <th></th>\n",
       "      <th></th>\n",
       "      <th></th>\n",
       "    </tr>\n",
       "  </thead>\n",
       "  <tbody>\n",
       "    <tr>\n",
       "      <th>ENSG00000001084</th>\n",
       "      <td>1</td>\n",
       "      <td>0</td>\n",
       "      <td>0</td>\n",
       "    </tr>\n",
       "    <tr>\n",
       "      <th>ENSG00000001497</th>\n",
       "      <td>1</td>\n",
       "      <td>0</td>\n",
       "      <td>0</td>\n",
       "    </tr>\n",
       "  </tbody>\n",
       "</table>\n",
       "</div>"
      ],
      "text/plain": [
       "                 Caudate  CMC DLPFC  CMC DLPFC (no SVA)\n",
       "ensemblID                                              \n",
       "ENSG00000001084        1          0                   0\n",
       "ENSG00000001497        1          0                   0"
      ]
     },
     "execution_count": 27,
     "metadata": {},
     "output_type": "execute_result"
    }
   ],
   "source": [
    "df = pd.concat([newC.set_index(['ensemblID']), \n",
    "                newD2.set_index(['ensemblID']), \n",
    "                newD3.set_index(['ensemblID'])], \n",
    "               axis=1, join='outer')\n",
    "df.head(2)"
   ]
  },
  {
   "cell_type": "code",
   "execution_count": 28,
   "metadata": {},
   "outputs": [
    {
     "name": "stderr",
     "output_type": "stream",
     "text": [
      "WARNING:rpy2.rinterface_lib.callbacks:R[write to console]: \n",
      "Attaching package: 'dplyr'\n",
      "\n",
      "\n",
      "WARNING:rpy2.rinterface_lib.callbacks:R[write to console]: The following objects are masked from 'package:stats':\n",
      "\n",
      "    filter, lag\n",
      "\n",
      "\n",
      "WARNING:rpy2.rinterface_lib.callbacks:R[write to console]: The following objects are masked from 'package:base':\n",
      "\n",
      "    intersect, setdiff, setequal, union\n",
      "\n",
      "\n"
     ]
    }
   ],
   "source": [
    "%%R\n",
    "library(dplyr)\n",
    "subset_cmc <- function(filename, fdr_cutoff){\n",
    "    df <- data.table::fread(filename) %>% filter(`adj.P.Val` < 0.05) %>%\n",
    "        mutate(ensemblID=genes)\n",
    "    return(df$ensemblID)\n",
    "}\n",
    "\n",
    "caudate = subset_pvalue('../../../_m/genes/diffExpr_szVctl_full.txt', 0.05)\n",
    "cmc_dlpfc = subset_cmc(paste0(\"/ceph/projects/v4_phase3_paper/inputs/public_data/_m/cmc/CMC_MSSM-Penn-Pitt_DLPFC_mRNA_\",\n",
    "                              \"IlluminaHiSeq2500_gene-adjustedSVA-differentialExpression-includeAncestry-DxSCZ-DE.tsv\"),\n",
    "                       0.05)\n",
    "cmc_noSVA = subset_cmc(paste0(\"/ceph/projects/v4_phase3_paper/inputs/public_data/_m/cmc/CMC_MSSM-Penn-Pitt_DLPFC_mRNA_\",\n",
    "                              \"IlluminaHiSeq2500_gene-adjustedNoSVA-differentialExpression-includeAncestry-DxSCZ-DE.tsv\"),\n",
    "                       0.05)\n",
    "        \n",
    "lt = list(Caudate = caudate,\n",
    "          `CMC DLPFC` = cmc_dlpfc,\n",
    "          `CMC DLPFC (no SVA)` = cmc_noSVA)\n",
    "\n",
    "m = make_comb_mat(lt)\n",
    "cbb_palette <- c(\"#000000\", \"#E69F00\", \"#56B4E9\", \"#009E73\", \n",
    "                 \"#F0E442\", \"#0072B2\", \"#D55E00\", \"#CC79A7\")"
   ]
  },
  {
   "cell_type": "code",
   "execution_count": 29,
   "metadata": {},
   "outputs": [
    {
     "name": "stdout",
     "output_type": "stream",
     "text": [
      "png \n",
      "  2 \n"
     ]
    }
   ],
   "source": [
    "%%R\n",
    "right_annot = upset_right_annotation(\n",
    "    m, ylim = c(0, 3000),\n",
    "    gp = gpar(fill = \"black\"),\n",
    "    annotation_name_side = \"top\",\n",
    "    axis_param = list(side = \"top\"))\n",
    "\n",
    "top_annot = upset_top_annotation(\n",
    "    m, height=unit(7, \"cm\"), \n",
    "    ylim = c(0, 3000),\n",
    "    gp=gpar(fill=cbb_palette[comb_degree(m)]),\n",
    "    annotation_name_rot = 90)\n",
    "\n",
    "pdf('CMC_dx_tissue_upsetR_DEgenes.pdf', width=8, height=4)\n",
    "ht = draw(UpSet(m, pt_size=unit(4, \"mm\"), lwd=3, \n",
    "                comb_col=cbb_palette[comb_degree(m)], \n",
    "                set_order = c(\"Caudate\", \"CMC DLPFC\", \"CMC DLPFC (no SVA)\"), \n",
    "                comb_order = order(-comb_size(m)), \n",
    "                row_names_gp = gpar(fontsize = 14, fontface='bold'),\n",
    "                right_annotation = right_annot, \n",
    "                top_annotation = top_annot))\n",
    "od = column_order(ht)\n",
    "cs = comb_size(m)\n",
    "decorate_annotation(\"intersection_size\", {\n",
    "    grid.text(cs[od], x = seq_along(cs), y = unit(cs[od], \"native\") + \n",
    "              unit(6, \"pt\"), \n",
    "        default.units = \"native\", just = \"bottom\", gp = gpar(fontsize = 11))\n",
    "})\n",
    "dev.off()\n",
    "\n",
    "svg('CMC_dx_tissue_upsetR_DEgenes.svg', width=8, height=4)\n",
    "ht = draw(UpSet(m, pt_size=unit(4, \"mm\"), lwd=3, \n",
    "                comb_col=cbb_palette[comb_degree(m)], \n",
    "                set_order = c(\"Caudate\", \"CMC DLPFC\", \"CMC DLPFC (no SVA)\"), \n",
    "                comb_order = order(-comb_size(m)), \n",
    "                row_names_gp = gpar(fontsize = 14, fontface='bold'),\n",
    "                right_annotation = right_annot, \n",
    "                top_annotation = top_annot))\n",
    "od = column_order(ht)\n",
    "cs = comb_size(m)\n",
    "decorate_annotation(\"intersection_size\", {\n",
    "    grid.text(cs[od], x = seq_along(cs), y = unit(cs[od], \"native\") + \n",
    "              unit(6, \"pt\"), \n",
    "        default.units = \"native\", just = \"bottom\", gp = gpar(fontsize = 11))\n",
    "})\n",
    "dev.off()"
   ]
  },
  {
   "cell_type": "code",
   "execution_count": 17,
   "metadata": {},
   "outputs": [
    {
     "name": "stdout",
     "output_type": "stream",
     "text": [
      "png \n",
      "  2 \n"
     ]
    }
   ],
   "source": [
    "%%R\n",
    "right_ha = rowAnnotation(\n",
    "    \"Intersection\\nsize\" = anno_barplot(comb_size(m), border=F,\n",
    "                                        ylim = c(0, 3000), \n",
    "                                        gp=gpar(fill=cbb_palette[comb_degree(m)]),\n",
    "                                        width = unit(7, \"cm\")))\n",
    "top_ha = HeatmapAnnotation(\n",
    "    \"Set size\" = anno_barplot(set_size(m), border=F,\n",
    "                              ylim = c(0, 3000),\n",
    "                              gp = gpar(fill = \"black\"), \n",
    "                              height = unit(2, \"cm\")), \n",
    "    gap = unit(2, \"mm\"), annotation_name_side = \"left\", \n",
    "    annotation_name_rot = 90)\n",
    "\n",
    "\n",
    "pdf(\"CMC_dx_tissue_upsetR_DEgenes_transpose.pdf\", width=5, height=10)\n",
    "ht = draw(UpSet(t(m), pt_size=unit(5, \"mm\"), lwd=3,\n",
    "                comb_order = order(-comb_size(m)), \n",
    "                comb_col=cbb_palette[comb_degree(m)], \n",
    "                set_order = c(\"Caudate\", \"CMC DLPFC\", \"CMC DLPFC (no SVA)\"), \n",
    "                column_names_gp = gpar(fontsize = 16, fontface='bold'),\n",
    "                right_annotation = right_ha, top_annotation=top_ha))\n",
    "\n",
    "od = rev(row_order(ht))\n",
    "cs = comb_size(m)\n",
    "decorate_annotation(\"Intersection\\nsize\", {\n",
    "    grid.text(cs[od], y = seq_along(cs), x = unit(cs[od], \"native\") + \n",
    "              unit(6, \"pt\"), \n",
    "        default.units = \"native\", just = \"left\", gp = gpar(fontsize = 11))\n",
    "})\n",
    "dev.off()\n",
    "\n",
    "svg(\"CMC_dx_tissue_upsetR_DEgenes_transpose.svg\", width=5, height=10)\n",
    "ht = draw(UpSet(t(m), pt_size=unit(5, \"mm\"), lwd=3,\n",
    "                comb_order = order(-comb_size(m)), \n",
    "                comb_col=cbb_palette[comb_degree(m)], \n",
    "                set_order = c(\"Caudate\", \"CMC DLPFC\", \"CMC DLPFC (no SVA)\"), \n",
    "                column_names_gp = gpar(fontsize = 16, fontface='bold'),\n",
    "                right_annotation = right_ha, top_annotation=top_ha))\n",
    "\n",
    "od = rev(row_order(ht))\n",
    "cs = comb_size(m)\n",
    "decorate_annotation(\"Intersection\\nsize\", {\n",
    "    grid.text(cs[od], y = seq_along(cs), x = unit(cs[od], \"native\") + \n",
    "              unit(6, \"pt\"), \n",
    "        default.units = \"native\", just = \"left\", gp = gpar(fontsize = 11))\n",
    "})\n",
    "dev.off()"
   ]
  },
  {
   "cell_type": "code",
   "execution_count": null,
   "metadata": {},
   "outputs": [],
   "source": []
  }
 ],
 "metadata": {
  "kernelspec": {
   "display_name": "Python 3",
   "language": "python",
   "name": "python3"
  },
  "language_info": {
   "codemirror_mode": {
    "name": "ipython",
    "version": 3
   },
   "file_extension": ".py",
   "mimetype": "text/x-python",
   "name": "python",
   "nbconvert_exporter": "python",
   "pygments_lexer": "ipython3",
   "version": "3.9.1"
  }
 },
 "nbformat": 4,
 "nbformat_minor": 4
}
