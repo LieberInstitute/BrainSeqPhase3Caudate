{
 "cells": [
  {
   "cell_type": "markdown",
   "metadata": {},
   "source": [
    "# Generate circlized plot for schizophrenia analysis DEG results"
   ]
  },
  {
   "cell_type": "code",
   "execution_count": null,
   "metadata": {},
   "outputs": [],
   "source": [
    "library(biomaRt)\n",
    "library(circlize)\n",
    "library(tidyverse)\n",
    "library(ComplexHeatmap)"
   ]
  },
  {
   "cell_type": "markdown",
   "metadata": {},
   "source": [
    "## Prepare data"
   ]
  },
  {
   "cell_type": "markdown",
   "metadata": {},
   "source": [
    "### Get gene annotation"
   ]
  },
  {
   "cell_type": "code",
   "execution_count": null,
   "metadata": {},
   "outputs": [],
   "source": [
    "ensembl = useEnsembl(biomart=\"ensembl\", dataset=\"hsapiens_gene_ensembl\")\n",
    "biomart = getBM(attributes=c('ensembl_gene_id', 'chromosome_name', \n",
    "                             'start_position', 'end_position'), mart=ensembl)\n",
    "biomart %>% head(2)"
   ]
  },
  {
   "cell_type": "markdown",
   "metadata": {},
   "source": [
    "### Get logFC for differential expression analysis"
   ]
  },
  {
   "cell_type": "code",
   "execution_count": null,
   "metadata": {},
   "outputs": [],
   "source": [
    "deg = data.table::fread(\"../../_m/genes/diffExpr_szVctl_full.txt\") %>%\n",
    "    select(gencodeID, ensemblID, Symbol, logFC, \"adj.P.Val\")\n",
    "deg %>% head(2)"
   ]
  },
  {
   "cell_type": "markdown",
   "metadata": {},
   "source": [
    "### Merge data and select regions"
   ]
  },
  {
   "cell_type": "code",
   "execution_count": null,
   "metadata": {},
   "outputs": [],
   "source": [
    "bed = deg %>% \n",
    "    inner_join(biomart, by=c(\"ensemblID\"=\"ensembl_gene_id\")) %>%\n",
    "    select(chromosome_name, start_position, end_position, logFC, \"adj.P.Val\") %>%\n",
    "    mutate(chromosome_name=paste0('chr', chromosome_name))\n",
    "\n",
    "bed_sz = bed %>% filter(logFC > 0, adj.P.Val < 0.05)\n",
    "bed_ctl = bed %>% filter(logFC < 0, adj.P.Val < 0.05)\n",
    "bed_nonsig = bed %>% filter(adj.P.Val > 0.05)"
   ]
  },
  {
   "cell_type": "markdown",
   "metadata": {},
   "source": [
    "## Circos Plot"
   ]
  },
  {
   "cell_type": "code",
   "execution_count": null,
   "metadata": {},
   "outputs": [],
   "source": [
    "plot_circos <- function(bed_list, colors, tissue_name){\n",
    "    lgd_points = Legend(at=c(\"Upregulated in SZ\", \"Downregulated in SZ\"), \n",
    "                        type=\"points\", legend_gp=gpar(col = c(\"red\", \"blue\")), \n",
    "                        title_position=\"topleft\", title=\"DE Analysis\", \n",
    "                        background=\"#FFFFFF\")\n",
    "    circos.clear() # clear plot if there is any\n",
    "    circos.par(\"start.degree\" = 0) # rotate 90 degrees\n",
    "    # initialize with ideogram\n",
    "    # use hg38, default is hg19\n",
    "    circos.initializeWithIdeogram(species=\"hg38\") \n",
    "    # add logFC as a genomic track\n",
    "    circos.genomicTrack(bed_list, track.height=inches_h(1),\n",
    "                        text(0, 0, tissue_name, cex = 1.5),\n",
    "                        panel.fun = function(region, value, ...) {\n",
    "                            i = getI(...)\n",
    "                            circos.genomicPoints(region, value, pch = 16, \n",
    "                                                 cex = 0.6, col = colors[i], ...)\n",
    "    })\n",
    "    draw(lgd_points, x=unit(5, \"mm\"), y=unit(5, \"mm\"), just=c(\"left\", \"bottom\"))\n",
    "}"
   ]
  },
  {
   "cell_type": "code",
   "execution_count": null,
   "metadata": {},
   "outputs": [],
   "source": [
    "tissue = 'Caudate Nucleus'\n",
    "tissue_name = gsub(\" \", \"_\", tissue)"
   ]
  },
  {
   "cell_type": "code",
   "execution_count": null,
   "metadata": {},
   "outputs": [],
   "source": [
    "plot_circos(list(bed_sz, bed_ctl), c(\"red\", \"blue\"), tissue)"
   ]
  },
  {
   "cell_type": "code",
   "execution_count": null,
   "metadata": {},
   "outputs": [],
   "source": [
    "png(filename = paste0(\"significant_circos_plot_\", tissue_name, \".png\"))\n",
    "plot_circos(list(bed_sz, bed_ctl), c(\"red\", \"blue\"), tissue)\n",
    "dev.off()\n",
    "\n",
    "pdf(file = paste0(\"significant_circos_plot_\", tissue_name, \".pdf\"))\n",
    "plot_circos(list(bed_sz, bed_ctl), c(\"red\", \"blue\"), tissue)\n",
    "dev.off()\n",
    "\n",
    "svg(filename = paste0(\"significant_circos_plot_\", tissue_name, \".svg\"))\n",
    "plot_circos(list(bed_sz, bed_ctl), c(\"red\", \"blue\"), tissue)\n",
    "dev.off()"
   ]
  },
  {
   "cell_type": "code",
   "execution_count": null,
   "metadata": {},
   "outputs": [],
   "source": [
    "plot_circos(list(bed_nonsig, bed_sz, bed_ctl), \n",
    "            c(\"gray\", \"red\", \"blue\"), tissue)"
   ]
  },
  {
   "cell_type": "code",
   "execution_count": null,
   "metadata": {},
   "outputs": [],
   "source": [
    "png(filename = paste0(\"allGenes_circos_plot_\", tissue_name, \".png\"))\n",
    "plot_circos(list(bed_nonsig, bed_sz, bed_ctl), \n",
    "            c('gray', 'red', 'blue'), tissue)\n",
    "dev.off()\n",
    "\n",
    "pdf(file = paste0(\"allGenes_circos_plot_\", tissue_name, \".pdf\"))\n",
    "plot_circos(list(bed_nonsig, bed_sz, bed_ctl), \n",
    "            c('gray', 'red', 'blue'), tissue)\n",
    "dev.off()\n",
    "\n",
    "svg(filename = paste0(\"allGenes_circos_plot_\", tissue_name, \".svg\"))\n",
    "plot_circos(list(bed_nonsig, bed_sz, bed_ctl), \n",
    "            c('gray', 'red', 'blue'), tissue)\n",
    "dev.off()"
   ]
  },
  {
   "cell_type": "markdown",
   "metadata": {},
   "source": [
    "## Repreducibility Information"
   ]
  },
  {
   "cell_type": "code",
   "execution_count": null,
   "metadata": {},
   "outputs": [],
   "source": [
    "Sys.time()\n",
    "proc.time()\n",
    "options(width = 120)\n",
    "sessioninfo::session_info()"
   ]
  }
 ],
 "metadata": {
  "kernelspec": {
   "display_name": "R",
   "language": "R",
   "name": "ir"
  },
  "language_info": {
   "codemirror_mode": "r",
   "file_extension": ".r",
   "mimetype": "text/x-r-source",
   "name": "R",
   "pygments_lexer": "r",
   "version": "4.0.3"
  }
 },
 "nbformat": 4,
 "nbformat_minor": 4
}
