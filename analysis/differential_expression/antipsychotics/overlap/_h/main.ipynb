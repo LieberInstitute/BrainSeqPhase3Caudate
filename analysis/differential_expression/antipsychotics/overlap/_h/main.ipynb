{
 "cells": [
  {
   "cell_type": "markdown",
   "metadata": {},
   "source": [
    "# Examining the overlap between antipsychotics analysis with main DE analysis"
   ]
  },
  {
   "cell_type": "code",
   "execution_count": null,
   "metadata": {},
   "outputs": [],
   "source": [
    "import pandas as pd\n",
    "import matplotlib.pyplot as plt\n",
    "from matplotlib_venn import venn2,venn3"
   ]
  },
  {
   "cell_type": "markdown",
   "metadata": {},
   "source": [
    "## Load DE genes results"
   ]
  },
  {
   "cell_type": "code",
   "execution_count": null,
   "metadata": {},
   "outputs": [],
   "source": [
    "ap = pd.read_csv(\"../../_m/genes/diffExpr_sz_APVctl_full.txt\", sep='\\t', index_col=0)\n",
    "noap = pd.read_csv(\"../../_m/genes/diffExpr_sz_noAPVctl_full.txt\", sep='\\t', index_col=0)\n",
    "degs = pd.read_csv(\"../../../_m/genes/diffExpr_szVctl_full.txt\", sep='\\t', index_col=0)"
   ]
  },
  {
   "cell_type": "markdown",
   "metadata": {},
   "source": [
    "### FDR 5% comparison"
   ]
  },
  {
   "cell_type": "code",
   "execution_count": null,
   "metadata": {},
   "outputs": [],
   "source": [
    "def get_degs(df, fdr):\n",
    "    return df[(df[\"adj.P.Val\"] < fdr)]"
   ]
  },
  {
   "cell_type": "code",
   "execution_count": null,
   "metadata": {},
   "outputs": [],
   "source": [
    "len(set(get_degs(ap, 0.05).index) & set(get_degs(noap, 0.05).index))"
   ]
  },
  {
   "cell_type": "code",
   "execution_count": null,
   "metadata": {},
   "outputs": [],
   "source": [
    "len(set(get_degs(ap, 0.05).index) & set(get_degs(noap, 0.05).index)) / len(set(get_degs(noap, 0.05).index))"
   ]
  },
  {
   "cell_type": "code",
   "execution_count": null,
   "metadata": {},
   "outputs": [],
   "source": [
    "len(set(get_degs(ap, 0.05).index) & set(get_degs(degs, 0.05).index))"
   ]
  },
  {
   "cell_type": "code",
   "execution_count": null,
   "metadata": {},
   "outputs": [],
   "source": [
    "len(set(get_degs(ap, 0.05).index) & set(get_degs(degs, 0.05).index)) / len(set(get_degs(ap, 0.05).index))"
   ]
  },
  {
   "cell_type": "code",
   "execution_count": null,
   "metadata": {},
   "outputs": [],
   "source": [
    "len(set(get_degs(noap, 0.05).index) & set(get_degs(degs, 0.05).index))"
   ]
  },
  {
   "cell_type": "code",
   "execution_count": null,
   "metadata": {},
   "outputs": [],
   "source": [
    "len(set(get_degs(noap, 0.05).index) & set(get_degs(degs, 0.05).index)) / len(set(get_degs(noap, 0.05).index))"
   ]
  },
  {
   "cell_type": "markdown",
   "metadata": {},
   "source": [
    "## Plot venn diagrams"
   ]
  },
  {
   "cell_type": "code",
   "execution_count": null,
   "metadata": {},
   "outputs": [],
   "source": [
    "plt.rcParams.update({'font.size': 22, 'font.weight': 'bold'})"
   ]
  },
  {
   "cell_type": "code",
   "execution_count": null,
   "metadata": {},
   "outputs": [],
   "source": [
    "def get_deg_df(feature):\n",
    "    ap = pd.read_csv(\"../../_m/%s/diffExpr_sz_APVctl_full.txt\" % feature, \n",
    "                     sep='\\t', index_col=0)\n",
    "    noap = pd.read_csv(\"../../_m/%s/diffExpr_sz_noAPVctl_full.txt\" % feature, \n",
    "                       sep='\\t', index_col=0)\n",
    "    degs = pd.read_csv(\"../../../_m/%s/diffExpr_szVctl_full.txt\" % feature, \n",
    "                       sep='\\t', index_col=0)\n",
    "    return ap[(ap['adj.P.Val'] <= 0.05)], noap[(noap['adj.P.Val'] <= 0.05)], degs[(degs['adj.P.Val'] <= 0.05)]\n",
    "\n",
    "\n",
    "def plot_pairwise_venn(feature, ANTI=\"Yes\"):\n",
    "    aa, nn, df2 = get_deg_df(feature)\n",
    "    label2 = \"SZ\"\n",
    "    if ANTI == \"Yes\":\n",
    "        label = \"AP\"\n",
    "        fn = \"venn_SZ_vs_AP_%s\" % feature\n",
    "        df1 = aa\n",
    "    elif ANTI == \"No\":\n",
    "        label = \"No AP\"\n",
    "        fn = \"venn_SZ_vs_noAP_%s\" % feature\n",
    "        df1 = nn\n",
    "    else:\n",
    "        label = \"AP\"\n",
    "        label2 = \"No AP\"\n",
    "        df1 = aa; df2 = nn\n",
    "        fn = \"venn_AP_vs_noAP_%s\" % feature\n",
    "    plt.figure(figsize=(8,8))\n",
    "    v = venn2([set(df1.index), set(df2.index)], \n",
    "              set_labels = (label, label2))\n",
    "    v.get_patch_by_id('10').set_color('red')\n",
    "    v.get_patch_by_id('10').set_alpha(0.75)\n",
    "    v.get_patch_by_id('01').set_color('blue')\n",
    "    v.get_patch_by_id('01').set_alpha(0.75)\n",
    "    try:\n",
    "        v.get_patch_by_id('11').set_color('purple')\n",
    "        v.get_patch_by_id('11').set_alpha(0.75)\n",
    "    except AttributeError:\n",
    "        print(\"There is no overlap!\")\n",
    "    plt.savefig('%s.png' % fn)\n",
    "    plt.savefig('%s.pdf' % fn)\n",
    "    \n",
    "\n",
    "def plot_venn3(feature):\n",
    "    aa, nn, dd = get_deg_df(feature)\n",
    "    plt.figure(figsize=(10,10))\n",
    "    v = venn3([set(aa.index), set(nn.index), set(dd.index)], \n",
    "              set_labels = ('AP', \"No AP\", 'SZ'))\n",
    "    plt.savefig('venn_antipsychotics_%s.png' % (feature))\n",
    "    plt.savefig('venn_antipsychotics_%s.pdf' % (feature))"
   ]
  },
  {
   "cell_type": "markdown",
   "metadata": {},
   "source": [
    "### Plot overlaps"
   ]
  },
  {
   "cell_type": "code",
   "execution_count": null,
   "metadata": {},
   "outputs": [],
   "source": [
    "for feature in [\"genes\", \"transcripts\", \"exons\", \"junctions\"]:\n",
    "    plot_pairwise_venn(feature, \"Yes\")\n",
    "    plot_pairwise_venn(feature, \"No\")\n",
    "    plot_pairwise_venn(feature, \"Both\")\n",
    "    plot_venn3(feature)"
   ]
  },
  {
   "cell_type": "code",
   "execution_count": null,
   "metadata": {},
   "outputs": [],
   "source": []
  }
 ],
 "metadata": {
  "kernelspec": {
   "display_name": "Python 3 (ipykernel)",
   "language": "python",
   "name": "python3"
  },
  "language_info": {
   "codemirror_mode": {
    "name": "ipython",
    "version": 3
   },
   "file_extension": ".py",
   "mimetype": "text/x-python",
   "name": "python",
   "nbconvert_exporter": "python",
   "pygments_lexer": "ipython3",
   "version": "3.9.7"
  }
 },
 "nbformat": 4,
 "nbformat_minor": 4
}
