{
 "cells": [
  {
   "cell_type": "markdown",
   "metadata": {},
   "source": [
    "# Examining the overlap between antipsychotics analysis with main DE analysis"
   ]
  },
  {
   "cell_type": "code",
   "execution_count": null,
   "metadata": {},
   "outputs": [],
   "source": [
    "import pandas as pd\n",
    "import matplotlib.pyplot as plt\n",
    "from matplotlib_venn import venn2,venn3"
   ]
  },
  {
   "cell_type": "markdown",
   "metadata": {},
   "source": [
    "## Load data"
   ]
  },
  {
   "cell_type": "markdown",
   "metadata": {
    "tags": []
   },
   "source": [
    "### Load DE genes results: BrainSEQ caudate"
   ]
  },
  {
   "cell_type": "code",
   "execution_count": null,
   "metadata": {},
   "outputs": [],
   "source": [
    "def get_degs(df, fdr):\n",
    "    return df[(df[\"adj.P.Val\"] < fdr)]\n",
    "\n",
    "\n",
    "ap = get_degs(pd.read_csv(\"../../../_m/genes/diffExpr_sz_APVctl_full.txt\", sep='\\t', index_col=0), 0.05)\n",
    "noap = get_degs(pd.read_csv(\"../../../_m/genes/diffExpr_sz_noAPVctl_full.txt\", sep='\\t', index_col=0), 0.05)\n",
    "degs = get_degs(pd.read_csv(\"../../../../_m/genes/diffExpr_szVctl_full.txt\", sep='\\t', index_col=0), 0.05)"
   ]
  },
  {
   "cell_type": "markdown",
   "metadata": {},
   "source": [
    "### Load animal study results"
   ]
  },
  {
   "cell_type": "code",
   "execution_count": null,
   "metadata": {},
   "outputs": [],
   "source": [
    "def mouse2human():\n",
    "    fn = \"/ceph/users/jbenja13/projects/aanri/racial_diff/input/celltypes/_h/cell_type/mouse2human_gene.txt\"\n",
    "    return pd.read_csv(fn, sep='\\t')\n",
    "\n",
    "chong_2002 = pd.read_csv(\"../../_m/Chong2002_rat.csv\")\n",
    "kim_2018 = pd.read_csv(\"../../_m/Kim2018_mice.csv\")\\\n",
    "             .merge(mouse2human(), left_on=\"Gene symbol\", right_on=\"Symbol_mouse\")\n",
    "kim_2018 = kim_2018[(kim_2018[\"Tissue\"] == \"Striatum\")].copy()\n",
    "korostynski_2013 = pd.read_csv(\"../../_m/Korostynski2013_mice.csv\")\\\n",
    "                     .merge(mouse2human(), left_on=\"Gene_symbol\", right_on=\"Symbol_mouse\")\n",
    "korostynski_2013 = korostynski_2013[(korostynski_2013[\"ANOVA_drug_FDR\"] < 0.05)]\\\n",
    "        .groupby(\"Gene_symbol\").first().reset_index().sort_values(\"ANOVA_drug_FDR\")"
   ]
  },
  {
   "cell_type": "markdown",
   "metadata": {},
   "source": [
    "## Study overlap"
   ]
  },
  {
   "cell_type": "markdown",
   "metadata": {},
   "source": [
    "### Percentage of overlap"
   ]
  },
  {
   "cell_type": "markdown",
   "metadata": {
    "tags": []
   },
   "source": [
    "#### SZ vs control"
   ]
  },
  {
   "cell_type": "code",
   "execution_count": null,
   "metadata": {},
   "outputs": [],
   "source": [
    "a = len(set(degs.Symbol) & set(chong_2002.loc[:, \"Gene Name (Human)\"]))\n",
    "b = a / len(set(chong_2002.loc[:, \"Gene Name (Human)\"]))\n",
    "c = a / len(set(degs.Symbol))\n",
    "print(\"Chong 2002 total DE: %d\\n\" % len(set(chong_2002.loc[:, \"Gene Name (Human)\"])))\n",
    "print(\"Overlap with Chong 2002 (#): %d\\nPercent Overlap (Chong): %.1f%%\\nPercent Overlap (BrainSEQ): %.1f%%\" % (a, b*100, c*100))"
   ]
  },
  {
   "cell_type": "code",
   "execution_count": null,
   "metadata": {},
   "outputs": [],
   "source": [
    "a = len(set(degs.Symbol) & set(korostynski_2013.Symbol_human))\n",
    "b = a / len(set(korostynski_2013.Symbol_human))\n",
    "c = a / len(set(degs.Symbol))\n",
    "print(\"Korostynski 2013 total DE: %d\\n\" % len(set(korostynski_2013.Symbol_human)))\n",
    "print(\"Overlap with Korostynski 2013 (#): %d\\nPercent Overlap (Korostynski): %.1f%%\\nPercent Overlap (BrainSEQ): %.1f%%\" % (a, b*100, c*100))"
   ]
  },
  {
   "cell_type": "code",
   "execution_count": null,
   "metadata": {},
   "outputs": [],
   "source": [
    "a = len(set(degs.Symbol) & set(kim_2018.Symbol_human))\n",
    "b = a / len(set(kim_2018.Symbol_human))\n",
    "c = a / len(set(degs.Symbol))\n",
    "print(\"Kim 2018 total DE: %d\\n\" % len(set(kim_2018.Symbol_human)))\n",
    "print(\"Overlap with Kim 2018 (#): %d\\nPercent Overlap (Kim): %.1f%%\\nPercent Overlap (BrainSEQ): %.1f%%\" % (a, b*100, c*100))"
   ]
  },
  {
   "cell_type": "markdown",
   "metadata": {
    "tags": []
   },
   "source": [
    "#### SZ AP vs control"
   ]
  },
  {
   "cell_type": "code",
   "execution_count": null,
   "metadata": {},
   "outputs": [],
   "source": [
    "a = len(set(ap.Symbol) & set(chong_2002.loc[:, \"Gene Name (Human)\"]))\n",
    "b = a / len(set(chong_2002.loc[:, \"Gene Name (Human)\"]))\n",
    "c = a / len(set(ap.Symbol))\n",
    "print(\"Chong 2002 total DE: %d\\n\" % len(set(chong_2002.loc[:, \"Gene Name (Human)\"])))\n",
    "print(\"Overlap with Chong 2002 (#): %d\\nPercent Overlap (Chong): %.1f%%\\nPercent Overlap (BrainSEQ): %.1f%%\" % (a, b*100, c*100))"
   ]
  },
  {
   "cell_type": "code",
   "execution_count": null,
   "metadata": {},
   "outputs": [],
   "source": [
    "a = len(set(ap.Symbol) & set(korostynski_2013.Symbol_human))\n",
    "b = a / len(set(korostynski_2013.Symbol_human))\n",
    "c = a / len(set(ap.Symbol))\n",
    "print(\"Korostynski 2013 total DE: %d\\n\" % len(set(korostynski_2013.Symbol_human)))\n",
    "print(\"Overlap with Korostynski 2013 (#): %d\\nPercent Overlap (Korostynski): %.1f%%\\nPercent Overlap (BrainSEQ): %.1f%%\" % (a, b*100, c*100))"
   ]
  },
  {
   "cell_type": "code",
   "execution_count": null,
   "metadata": {},
   "outputs": [],
   "source": [
    "a = len(set(ap.Symbol) & set(kim_2018.Symbol_human))\n",
    "b = a / len(set(kim_2018.Symbol_human))\n",
    "c = a / len(set(ap.Symbol))\n",
    "print(\"Kim 2018 total DE: %d\\n\" % len(set(kim_2018.Symbol_human)))\n",
    "print(\"Overlap with Kim 2018 (#): %d\\nPercent Overlap (Kim): %.1f%%\\nPercent Overlap (BrainSEQ): %.1f%%\" % (a, b*100, c*100))"
   ]
  },
  {
   "cell_type": "markdown",
   "metadata": {
    "tags": []
   },
   "source": [
    "#### SZ noAP vs control"
   ]
  },
  {
   "cell_type": "code",
   "execution_count": null,
   "metadata": {},
   "outputs": [],
   "source": [
    "a = len(set(noap.Symbol) & set(chong_2002.loc[:, \"Gene Name (Human)\"]))\n",
    "b = a / len(set(chong_2002.loc[:, \"Gene Name (Human)\"]))\n",
    "c = a / len(set(noap.Symbol))\n",
    "print(\"Chong 2002 total DE: %d\\n\" % len(set(chong_2002.loc[:, \"Gene Name (Human)\"])))\n",
    "print(\"Overlap with Chong 2002 (#): %d\\nPercent Overlap (Chong): %.1f%%\\nPercent Overlap (BrainSEQ): %.1f%%\" % (a, b*100, c*100))"
   ]
  },
  {
   "cell_type": "code",
   "execution_count": null,
   "metadata": {},
   "outputs": [],
   "source": [
    "a = len(set(noap.Symbol) & set(korostynski_2013.Symbol_human))\n",
    "b = a / len(set(korostynski_2013.Symbol_human))\n",
    "c = a / len(set(noap.Symbol))\n",
    "print(\"Korostynski 2013 total DE: %d\\n\" % len(set(korostynski_2013.Symbol_human)))\n",
    "print(\"Overlap with Korostynski 2013 (#): %d\\nPercent Overlap (Korostynski): %.1f%%\\nPercent Overlap (BrainSEQ): %.1f%%\" % (a, b*100, c*100))"
   ]
  },
  {
   "cell_type": "code",
   "execution_count": null,
   "metadata": {},
   "outputs": [],
   "source": [
    "a = len(set(noap.Symbol) & set(kim_2018.Symbol_human))\n",
    "b = a / len(set(kim_2018.Symbol_human))\n",
    "c = a / len(set(noap.Symbol))\n",
    "print(\"Kim 2018 total DE: %d\\n\" % len(set(kim_2018.Symbol_human)))\n",
    "print(\"Overlap with Kim 2018 (#): %d\\nPercent Overlap (Kim): %.1f%%\\nPercent Overlap (BrainSEQ): %.1f%%\" % (a, b*100, c*100))"
   ]
  },
  {
   "cell_type": "markdown",
   "metadata": {
    "tags": []
   },
   "source": [
    "### Plot venn diagrams"
   ]
  },
  {
   "cell_type": "code",
   "execution_count": null,
   "metadata": {},
   "outputs": [],
   "source": [
    "plt.rcParams.update({'font.size': 22, 'font.weight': 'bold'})"
   ]
  },
  {
   "cell_type": "code",
   "execution_count": null,
   "metadata": {},
   "outputs": [],
   "source": [
    "def plot_pairwise_venn(gene_names, dfx, label1, label2):\n",
    "    fn = \"venn_%s_%s\" % (label1.replace(\" \", \"_\"), label2.replace(\" \", \"_\"))\n",
    "    plt.figure(figsize=(8,8))\n",
    "    v = venn2([gene_names, set(dfx.Symbol)], \n",
    "              set_labels = (label1, \"BrainSEQ (%s)\"%label2))\n",
    "    v.get_patch_by_id('10').set_color('red')\n",
    "    v.get_patch_by_id('10').set_alpha(0.75)\n",
    "    v.get_patch_by_id('01').set_color('blue')\n",
    "    v.get_patch_by_id('01').set_alpha(0.75)\n",
    "    try:\n",
    "        v.get_patch_by_id('11').set_color('purple')\n",
    "        v.get_patch_by_id('11').set_alpha(0.75)\n",
    "    except AttributeError:\n",
    "        print(\"There is no overlap!\")\n",
    "    plt.savefig('%s.png' % fn)\n",
    "    plt.savefig('%s.pdf' % fn)"
   ]
  },
  {
   "cell_type": "markdown",
   "metadata": {
    "tags": []
   },
   "source": [
    "#### SZ vs control"
   ]
  },
  {
   "cell_type": "code",
   "execution_count": null,
   "metadata": {},
   "outputs": [],
   "source": [
    "plot_pairwise_venn(set(chong_2002.loc[:, \"Gene Name (Human)\"]), degs, \"Chong 2002\", \"SZ\")\n",
    "plot_pairwise_venn(set(korostynski_2013.Symbol_human), degs, \"Korostynski 2013\", \"SZ\")\n",
    "plot_pairwise_venn(set(kim_2018.Symbol_human), degs, \"Kim 2018\", \"SZ\")"
   ]
  },
  {
   "cell_type": "markdown",
   "metadata": {
    "tags": []
   },
   "source": [
    "#### SZ AP vs control"
   ]
  },
  {
   "cell_type": "code",
   "execution_count": null,
   "metadata": {},
   "outputs": [],
   "source": [
    "plot_pairwise_venn(set(chong_2002.loc[:, \"Gene Name (Human)\"]), ap, \"Chong 2002\", \"SZ AP\")\n",
    "plot_pairwise_venn(set(korostynski_2013.Symbol_human), ap, \"Korostynski 2013\", \"SZ AP\")\n",
    "plot_pairwise_venn(set(kim_2018.Symbol_human), ap, \"Kim 2018\", \"SZ AP\")"
   ]
  },
  {
   "cell_type": "markdown",
   "metadata": {
    "tags": []
   },
   "source": [
    "#### SZ AP vs control"
   ]
  },
  {
   "cell_type": "code",
   "execution_count": null,
   "metadata": {},
   "outputs": [],
   "source": [
    "plot_pairwise_venn(set(chong_2002.loc[:, \"Gene Name (Human)\"]), noap, \"Chong 2002\", \"SZ noAP\")\n",
    "plot_pairwise_venn(set(korostynski_2013.Symbol_human), noap, \"Korostynski 2013\", \"SZ noAP\")\n",
    "plot_pairwise_venn(set(kim_2018.Symbol_human), noap, \"Kim 2018\", \"SZ noAP\")"
   ]
  },
  {
   "cell_type": "code",
   "execution_count": null,
   "metadata": {},
   "outputs": [],
   "source": []
  }
 ],
 "metadata": {
  "kernelspec": {
   "display_name": "Python 3 (ipykernel)",
   "language": "python",
   "name": "python3"
  },
  "language_info": {
   "codemirror_mode": {
    "name": "ipython",
    "version": 3
   },
   "file_extension": ".py",
   "mimetype": "text/x-python",
   "name": "python",
   "nbconvert_exporter": "python",
   "pygments_lexer": "ipython3",
   "version": "3.9.7"
  }
 },
 "nbformat": 4,
 "nbformat_minor": 4
}
