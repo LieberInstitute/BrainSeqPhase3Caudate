{
 "cells": [
  {
   "cell_type": "markdown",
   "metadata": {},
   "source": [
    "# Generate boxplots for DRD2 expression"
   ]
  },
  {
   "cell_type": "code",
   "execution_count": null,
   "metadata": {},
   "outputs": [],
   "source": [
    "library(tidyverse)\n",
    "library(ggpubr)"
   ]
  },
  {
   "cell_type": "markdown",
   "metadata": {},
   "source": [
    "## Functions"
   ]
  },
  {
   "cell_type": "markdown",
   "metadata": {},
   "source": [
    "### Cached functions"
   ]
  },
  {
   "cell_type": "code",
   "execution_count": null,
   "metadata": {},
   "outputs": [],
   "source": [
    "get_pheno <- function(){\n",
    "    df = data.table::fread(\"/ceph/projects/v4_phase3_paper/inputs/phenotypes/_m/caudate_phenotypes.csv\") %>%\n",
    "        select(RNum, BrNum, Dx, Sex, Race, Age)\n",
    "    return(df)\n",
    "}\n",
    "memPHENO <- memoise::memoise(get_pheno)\n",
    "\n",
    "get_drd2_features <- function(feature){\n",
    "    filepath = paste0(\"../../_m/\", feature, \"/diffExpr_szVctl_full.txt\")\n",
    "    cmd = paste(\"cat <(head -1\",filepath,\") <(grep -iw drd2\", filepath, \")\")\n",
    "    df = data.table::fread(cmd=cmd) %>% rename(\"Feature\"=\"V1\") %>%\n",
    "        select(\"Feature\", \"logFC\", \"adj.P.Val\")\n",
    "    return(df)\n",
    "}\n",
    "memDRD2 <- memoise::memoise(get_drd2_features)\n",
    "\n",
    "get_exon_id <- function(){\n",
    "    exon_file = \"/ceph/projects/v3_phase3_paper/analysis/dopamine/exons/_m/exons.csv\"\n",
    "    exon_annotation = data.table::fread(exon_file) %>% \n",
    "        select(brainseq_exon_id, exon_id, exon_number, gene_id, gene_name) %>% \n",
    "        filter(gene_name == \"DRD2\")\n",
    "    return(exon_annotation)\n",
    "}\n",
    "memEXONS <- memoise::memoise(get_exon_id)\n",
    "\n",
    "get_resdf <- function(feature){\n",
    "    filename = paste0(\"../../_m/\", feature, \"/residualized_expression.tsv\")\n",
    "    df = data.table::fread(filename) %>% filter(V1 %in% memDRD2(feature)$Feature) %>%\n",
    "        tibble::column_to_rownames(\"V1\") %>% t %>% as.data.frame %>%\n",
    "        tibble::rownames_to_column(\"RNum\")\n",
    "    return(df)\n",
    "}\n",
    "memRES <- memoise::memoise(get_resdf)\n",
    "\n",
    "merge_data <- function(feature){\n",
    "    df = inner_join(memPHENO(), memRES(feature), by=\"RNum\") %>% \n",
    "        select(-c(\"BrNum\", \"Sex\", \"Race\", \"Age\")) %>% \n",
    "        pivot_longer(!c(\"RNum\", \"Dx\"), names_to=\"Feature\", values_to=\"Residualized\") %>% \n",
    "        inner_join(memDRD2(feature), by=\"Feature\")\n",
    "    return(df)\n",
    "}\n",
    "memDF <- memoise::memoise(merge_data)"
   ]
  },
  {
   "cell_type": "markdown",
   "metadata": {},
   "source": [
    "### Simple functions"
   ]
  },
  {
   "cell_type": "code",
   "execution_count": null,
   "metadata": {},
   "outputs": [],
   "source": [
    "save_ggplots <- function(p, fn, w, h){\n",
    "    for(ext in c('.pdf', '.png', '.svg')){\n",
    "        ggsave(paste0(fn, ext), plot=p, width=w, height=h)\n",
    "    }\n",
    "}\n",
    "\n",
    "annotate_drd2_exons <- function(){\n",
    "    bs_exon_id = c('e667152', 'e667153', 'e667154', 'e667155', 'e667156', \n",
    "                   'e667157', 'e667158', 'e667159', 'e667164')\n",
    "    annot = c('DRD2 exon 1S', 'DRD2 exon 2', 'DRD2 exon 3', 'DRD2 exon 4', \n",
    "              'DRD2 exon 5', 'DRD2 exon 7', 'DRD2 exon 8', 'DRD2 exon 1L', \n",
    "              'DRD2 exon 6')\n",
    "    df = memEXONS() %>% select(brainseq_exon_id, exon_id) %>% \n",
    "        filter(brainseq_exon_id %in% bs_exon_id) %>% distinct() %>% \n",
    "        group_by(brainseq_exon_id) %>% slice(1) %>% as.data.frame %>% \n",
    "        mutate(\"DRD2_ID\"=annot)\n",
    "    return(df)\n",
    "}\n",
    "\n",
    "annotate_drd2_junctions <- function(){\n",
    "    feature_id = c(\"chr11:113424683-113475075(-)\", \"chr11:113418137-113424366(-)\", \n",
    "                   \"chr11:113417000-113418026(-)\", \"chr11:113415612-113416862(-)\", \n",
    "                   \"chr11:113414462-113415420(-)\", \"chr11:113412884-113415420(-)\", \n",
    "                   \"chr11:113412884-113414374(-)\", \"chr11:113410921-113412555(-)\")\n",
    "    drd2_id = c(\"DRD2 junction 1-2\", \"DRD2 junction 2-3\", \"DRD2 junction 3-4\", \n",
    "                \"DRD2 junction 4-5\", \"DRD2 junction 5-6\", \"DRD2 junction 5-7\", \n",
    "                \"DRD2 junction 6-7\", \"DRD2 junction 7-8\")\n",
    "    return(data.frame(\"Feature\"=feature_id, \"DRD2_ID\"=drd2_id))\n",
    "}"
   ]
  },
  {
   "cell_type": "markdown",
   "metadata": {},
   "source": [
    "## Generate annotated boxplots"
   ]
  },
  {
   "cell_type": "markdown",
   "metadata": {},
   "source": [
    "### Genes"
   ]
  },
  {
   "cell_type": "code",
   "execution_count": null,
   "metadata": {},
   "outputs": [],
   "source": [
    "feature = \"genes\"\n",
    "\n",
    "bxp = memDF(feature) %>% \n",
    "    mutate(ID=paste0(\"DRD2\\n\", Feature, \"\\nLogFC: \", round(logFC, 2), \" and FDR: \", \n",
    "                     formatC(`adj.P.Val`, format = \"e\", digits = 1))) %>% \n",
    "    mutate_if(is.character, as.factor) %>% \n",
    "    ggboxplot(x=\"Dx\", y=\"Residualized\", fill=\"Dx\", facet.by=\"ID\", palette=\"npg\", \n",
    "              add=\"jitter\", ggtheme=theme_pubr(base_size=20, border=TRUE), xlab=\"Diagnosis\",\n",
    "              panel.labs.font=list(face='bold'), ylab=\"Residualized Expression\", \n",
    "              add.params=list(alpha=0.5), outlier.shape=NA, ylim=c(-5, 5), \n",
    "              legend=\"None\") +\n",
    "    font(\"xy.title\", face=\"bold\")\n",
    "save_ggplots(bxp, \"drd2_gene_boxplot\", 7, 6)\n",
    "bxp"
   ]
  },
  {
   "cell_type": "markdown",
   "metadata": {},
   "source": [
    "## Transcripts"
   ]
  },
  {
   "cell_type": "code",
   "execution_count": null,
   "metadata": {},
   "outputs": [],
   "source": [
    "feature = \"transcripts\"\n",
    "\n",
    "bxp = memDF(feature) %>% filter(Feature %in% c(\"ENST00000362072.7\", \"ENST00000346454.7\")) %>%\n",
    "    mutate(DRD2_ID=ifelse(Feature == \"ENST00000362072.7\", \"DRD2 Long\", \"DRD2 Short\")) %>% \n",
    "    mutate(ID=paste0(DRD2_ID, \"\\n\", Feature, \"\\nLogFC: \", round(logFC, 2), \" and FDR: \", \n",
    "                     formatC(`adj.P.Val`, format = \"e\", digits = 1))) %>%\n",
    "    mutate_if(is.character, as.factor) %>% \n",
    "    ggboxplot(x=\"Dx\", y=\"Residualized\", fill=\"Dx\", facet.by=\"ID\", palette=\"npg\", \n",
    "              add=\"jitter\", ggtheme=theme_pubr(base_size=20, border=TRUE), \n",
    "              xlab=\"Diagnosis\", legend=\"None\", ylim=c(-5, 5), outlier.shape=NA, \n",
    "              panel.labs.font=list(face='bold'), ylab=\"Residualized Expression\", \n",
    "              add.params=list(alpha=0.5)) +\n",
    "    font(\"xy.title\", face=\"bold\")\n",
    "save_ggplots(bxp, \"drd2_transcripts_boxplot\", 9, 6)\n",
    "bxp"
   ]
  },
  {
   "cell_type": "code",
   "execution_count": null,
   "metadata": {},
   "outputs": [],
   "source": [
    "dir.create(feature)\n",
    "for(feature_id in c(\"ENST00000362072.7\", \"ENST00000346454.7\")){\n",
    "    drd2_id = ifelse(feature_id == \"ENST00000362072.7\", \"DRD2 Long\", \"DRD2 Short\")\n",
    "    bxp = memDF(feature) %>% filter(Feature == feature_id) %>% mutate(DRD2_ID=drd2_id) %>% \n",
    "        mutate(ID=paste0(DRD2_ID, \"\\n\", Feature, \"\\nLogFC: \", round(logFC, 2), \" and FDR: \", \n",
    "                         formatC(`adj.P.Val`, format = \"e\", digits = 1))) %>%\n",
    "        mutate_if(is.character, as.factor) %>% \n",
    "        ggboxplot(x=\"Dx\", y=\"Residualized\", fill=\"Dx\", facet.by=\"ID\", palette=\"npg\", \n",
    "                  add=\"jitter\", ggtheme=theme_pubr(base_size=20, border=TRUE), \n",
    "                  xlab=\"Diagnosis\", outlier.shape=NA, ylim=c(-5, 5), legend=\"None\",\n",
    "                  panel.labs.font=list(face='bold'), ylab=\"Residualized Expression\", \n",
    "                  add.params=list(alpha=0.5)) +\n",
    "        font(\"xy.title\", face=\"bold\")\n",
    "    save_ggplots(bxp, paste0(feature,\"/drd2_transcripts_boxplot_\", gsub(\" \", \"_\", drd2_id)), 7, 6)\n",
    "}"
   ]
  },
  {
   "cell_type": "markdown",
   "metadata": {},
   "source": [
    "## Exons"
   ]
  },
  {
   "cell_type": "code",
   "execution_count": null,
   "metadata": {},
   "outputs": [],
   "source": [
    "feature = \"exons\"\n",
    "\n",
    "bxp = memDF(feature) %>% inner_join(annotate_drd2_exons(), by=c(\"Feature\"=\"brainseq_exon_id\")) %>%\n",
    "    mutate(ID=paste0(DRD2_ID, \"\\n\", exon_id, \"\\nLogFC: \", round(logFC, 2), \" and FDR: \", \n",
    "                     formatC(`adj.P.Val`, format = \"e\", digits = 1))) %>%\n",
    "    mutate_if(is.character, as.factor) %>% \n",
    "    ggboxplot(x=\"Dx\", y=\"Residualized\", fill=\"Dx\", facet.by=\"ID\", palette=\"npg\", \n",
    "              add=\"jitter\", ggtheme=theme_pubr(base_size=20, border=TRUE), \n",
    "              xlab=\"Diagnosis\", outlier.shape=NA, ylim=c(-5, 5), legend=\"None\",\n",
    "              panel.labs.font=list(face='bold'), ylab=\"Residualized Expression\", \n",
    "              add.params=list(alpha=0.5)) +\n",
    "    font(\"xy.title\", face=\"bold\")\n",
    "save_ggplots(bxp, \"drd2_exons_boxplot\", 15, 15)\n",
    "bxp"
   ]
  },
  {
   "cell_type": "code",
   "execution_count": null,
   "metadata": {},
   "outputs": [],
   "source": [
    "dir.create(feature)\n",
    "for(feature_id in annotate_drd2_exons()$brainseq_exon_id){\n",
    "    drd2_id = filter(annotate_drd2_exons(), brainseq_exon_id == feature_id)$DRD2_ID\n",
    "    bxp = memDF(feature) %>% filter(Feature == feature_id) %>% \n",
    "        inner_join(annotate_drd2_exons(), by=c(\"Feature\"=\"brainseq_exon_id\")) %>% \n",
    "        mutate(ID=paste0(DRD2_ID, \"\\n\", exon_id, \"\\nLogFC: \", round(logFC, 2), \" and FDR: \", \n",
    "                         formatC(`adj.P.Val`, format = \"e\", digits = 1))) %>%\n",
    "        mutate_if(is.character, as.factor) %>% \n",
    "        ggboxplot(x=\"Dx\", y=\"Residualized\", fill=\"Dx\", facet.by=\"ID\", palette=\"npg\", \n",
    "                  add=\"jitter\", ggtheme=theme_pubr(base_size=20, border=TRUE), \n",
    "                  xlab=\"Diagnosis\", outlier.shape=NA, ylim=c(-5, 5), legend=\"None\",\n",
    "                  panel.labs.font=list(face='bold'), ylab=\"Residualized Expression\", \n",
    "                  add.params=list(alpha=0.5)) +\n",
    "        font(\"xy.title\", face=\"bold\")\n",
    "    save_ggplots(bxp, paste0(feature,\"/drd2_exons_boxplot_\", gsub(\" \", \"_\", drd2_id)), 7, 6)\n",
    "}"
   ]
  },
  {
   "cell_type": "markdown",
   "metadata": {},
   "source": [
    "## Junctions"
   ]
  },
  {
   "cell_type": "code",
   "execution_count": null,
   "metadata": {},
   "outputs": [],
   "source": [
    "feature = \"junctions\"\n",
    "\n",
    "bxp = memDF(feature) %>% inner_join(annotate_drd2_junctions(), by=c(\"Feature\")) %>%\n",
    "    mutate(ID=paste0(DRD2_ID, \"\\n\", Feature, \"\\nLogFC: \", round(logFC, 2), \" and FDR: \", \n",
    "                     formatC(`adj.P.Val`, format = \"e\", digits = 1))) %>%\n",
    "    mutate_if(is.character, as.factor) %>% \n",
    "    ggboxplot(x=\"Dx\", y=\"Residualized\", fill=\"Dx\", facet.by=\"ID\", palette=\"npg\", \n",
    "              add=\"jitter\", ggtheme=theme_pubr(base_size=20, border=TRUE), \n",
    "              xlab=\"Diagnosis\", outlier.shape=NA, ylim=c(-5, 5), legend=\"None\",\n",
    "              panel.labs.font=list(face='bold'), ylab=\"Residualized Expression\", \n",
    "              add.params=list(alpha=0.5), ncol=4) +\n",
    "    font(\"xy.title\", face=\"bold\")\n",
    "save_ggplots(bxp, \"drd2_junctions_boxplot\", 16, 10)\n",
    "bxp"
   ]
  },
  {
   "cell_type": "code",
   "execution_count": null,
   "metadata": {},
   "outputs": [],
   "source": [
    "dir.create(feature)\n",
    "for(feature_id in annotate_drd2_junctions()$Feature){\n",
    "    drd2_id = filter(annotate_drd2_junctions(), Feature == feature_id)$DRD2_ID\n",
    "    bxp = memDF(feature) %>% filter(Feature == feature_id) %>% \n",
    "        inner_join(annotate_drd2_junctions(), by=c(\"Feature\")) %>% \n",
    "        mutate(ID=paste0(DRD2_ID, \"\\n\", Feature, \"\\nLogFC: \", round(logFC, 2), \" and FDR: \", \n",
    "                         formatC(`adj.P.Val`, format = \"e\", digits = 1))) %>%\n",
    "        mutate_if(is.character, as.factor) %>% \n",
    "        ggboxplot(x=\"Dx\", y=\"Residualized\", fill=\"Dx\", facet.by=\"ID\", palette=\"npg\", \n",
    "                  add=\"jitter\", ggtheme=theme_pubr(base_size=20, border=TRUE), \n",
    "                  xlab=\"Diagnosis\", outlier.shape=NA, ylim=c(-5, 5), legend=\"None\",\n",
    "                  panel.labs.font=list(face='bold'), ylab=\"Residualized Expression\", \n",
    "                  add.params=list(alpha=0.5)) +\n",
    "        font(\"xy.title\", face=\"bold\")\n",
    "    save_ggplots(bxp, paste0(feature, \"/drd2_junctions_boxplot_\", \n",
    "                             gsub(\"-\", \"_\", gsub(\" \", \"_\", drd2_id))), 7, 6)\n",
    "}"
   ]
  },
  {
   "cell_type": "markdown",
   "metadata": {},
   "source": [
    "## Session Info"
   ]
  },
  {
   "cell_type": "code",
   "execution_count": null,
   "metadata": {},
   "outputs": [],
   "source": [
    "Sys.time()\n",
    "proc.time()\n",
    "options(width = 120)\n",
    "sessioninfo::session_info()"
   ]
  }
 ],
 "metadata": {
  "kernelspec": {
   "display_name": "R",
   "language": "R",
   "name": "ir"
  },
  "language_info": {
   "codemirror_mode": "r",
   "file_extension": ".r",
   "mimetype": "text/x-r-source",
   "name": "R",
   "pygments_lexer": "r",
   "version": "4.0.3"
  }
 },
 "nbformat": 4,
 "nbformat_minor": 4
}
